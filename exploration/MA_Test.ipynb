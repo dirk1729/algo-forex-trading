{
 "cells": [
  {
   "cell_type": "code",
   "execution_count": 64,
   "id": "a4fd04d1-c31c-4f2f-ad98-e5bc061d4464",
   "metadata": {},
   "outputs": [],
   "source": [
    "import sys\n",
    "sys.path.append(\"../\")\n",
    "import pandas as pd\n",
    "import plotly.graph_objects as go\n",
    "import datetime as dt\n",
    "from plotting import CandlePlot"
   ]
  },
  {
   "cell_type": "code",
   "execution_count": 65,
   "id": "8720e75f",
   "metadata": {},
   "outputs": [],
   "source": [
    "from infrastructure.instrument_collection import instrumentCollection as ic"
   ]
  },
  {
   "cell_type": "code",
   "execution_count": 66,
   "id": "6a9ee60d-307b-4457-9fe0-f973c274fa9a",
   "metadata": {},
   "outputs": [],
   "source": [
    "pair = \"GBP_JPY\"\n",
    "granularity = \"H4\"\n",
    "df = pd.read_pickle(f\"../data/{pair}_{granularity}.pkl\")\n",
    "MA_LIST = [10, 20, 50, 100, 200]"
   ]
  },
  {
   "cell_type": "code",
   "execution_count": 67,
   "id": "f13d62fa",
   "metadata": {},
   "outputs": [
    {
     "data": {
      "text/plain": [
       "Index(['time', 'volume', 'mid_o', 'mid_h', 'mid_l', 'mid_c', 'bid_o', 'bid_h',\n",
       "       'bid_l', 'bid_c', 'ask_o', 'ask_h', 'ask_l', 'ask_c'],\n",
       "      dtype='object')"
      ]
     },
     "execution_count": 67,
     "metadata": {},
     "output_type": "execute_result"
    }
   ],
   "source": [
    "df.columns"
   ]
  },
  {
   "cell_type": "code",
   "execution_count": 68,
   "id": "0fd65896",
   "metadata": {},
   "outputs": [],
   "source": [
    "df_ma = df[['time', 'mid_o', 'mid_h', 'mid_l', 'mid_c']].copy()"
   ]
  },
  {
   "cell_type": "code",
   "execution_count": 69,
   "id": "e4bfb4e6",
   "metadata": {},
   "outputs": [
    {
     "data": {
      "text/html": [
       "<div>\n",
       "<style scoped>\n",
       "    .dataframe tbody tr th:only-of-type {\n",
       "        vertical-align: middle;\n",
       "    }\n",
       "\n",
       "    .dataframe tbody tr th {\n",
       "        vertical-align: top;\n",
       "    }\n",
       "\n",
       "    .dataframe thead th {\n",
       "        text-align: right;\n",
       "    }\n",
       "</style>\n",
       "<table border=\"1\" class=\"dataframe\">\n",
       "  <thead>\n",
       "    <tr style=\"text-align: right;\">\n",
       "      <th></th>\n",
       "      <th>time</th>\n",
       "      <th>mid_o</th>\n",
       "      <th>mid_h</th>\n",
       "      <th>mid_l</th>\n",
       "      <th>mid_c</th>\n",
       "    </tr>\n",
       "  </thead>\n",
       "  <tbody>\n",
       "    <tr>\n",
       "      <th>0</th>\n",
       "      <td>2022-12-15 22:00:00+00:00</td>\n",
       "      <td>167.898</td>\n",
       "      <td>168.012</td>\n",
       "      <td>167.501</td>\n",
       "      <td>167.592</td>\n",
       "    </tr>\n",
       "    <tr>\n",
       "      <th>1</th>\n",
       "      <td>2022-12-16 02:00:00+00:00</td>\n",
       "      <td>167.591</td>\n",
       "      <td>167.740</td>\n",
       "      <td>167.388</td>\n",
       "      <td>167.651</td>\n",
       "    </tr>\n",
       "    <tr>\n",
       "      <th>2</th>\n",
       "      <td>2022-12-16 06:00:00+00:00</td>\n",
       "      <td>167.650</td>\n",
       "      <td>167.698</td>\n",
       "      <td>166.127</td>\n",
       "      <td>166.608</td>\n",
       "    </tr>\n",
       "    <tr>\n",
       "      <th>3</th>\n",
       "      <td>2022-12-16 10:00:00+00:00</td>\n",
       "      <td>166.608</td>\n",
       "      <td>167.374</td>\n",
       "      <td>166.452</td>\n",
       "      <td>167.040</td>\n",
       "    </tr>\n",
       "    <tr>\n",
       "      <th>4</th>\n",
       "      <td>2022-12-16 14:00:00+00:00</td>\n",
       "      <td>167.046</td>\n",
       "      <td>167.452</td>\n",
       "      <td>165.990</td>\n",
       "      <td>166.169</td>\n",
       "    </tr>\n",
       "  </tbody>\n",
       "</table>\n",
       "</div>"
      ],
      "text/plain": [
       "                       time    mid_o    mid_h    mid_l    mid_c\n",
       "0 2022-12-15 22:00:00+00:00  167.898  168.012  167.501  167.592\n",
       "1 2022-12-16 02:00:00+00:00  167.591  167.740  167.388  167.651\n",
       "2 2022-12-16 06:00:00+00:00  167.650  167.698  166.127  166.608\n",
       "3 2022-12-16 10:00:00+00:00  166.608  167.374  166.452  167.040\n",
       "4 2022-12-16 14:00:00+00:00  167.046  167.452  165.990  166.169"
      ]
     },
     "execution_count": 69,
     "metadata": {},
     "output_type": "execute_result"
    }
   ],
   "source": [
    "df_ma.head()"
   ]
  },
  {
   "cell_type": "code",
   "execution_count": 70,
   "id": "f27b2a0b",
   "metadata": {},
   "outputs": [],
   "source": [
    "for ma in MA_LIST: \n",
    "    df_ma[f'MA_{ma}'] = df_ma.mid_c.rolling(window=ma).mean()\n",
    "df_ma.dropna(inplace=True)\n",
    "df_ma.reset_index(inplace=True, drop=True)"
   ]
  },
  {
   "cell_type": "code",
   "execution_count": 71,
   "id": "5fc3abd9",
   "metadata": {},
   "outputs": [
    {
     "data": {
      "text/html": [
       "<div>\n",
       "<style scoped>\n",
       "    .dataframe tbody tr th:only-of-type {\n",
       "        vertical-align: middle;\n",
       "    }\n",
       "\n",
       "    .dataframe tbody tr th {\n",
       "        vertical-align: top;\n",
       "    }\n",
       "\n",
       "    .dataframe thead th {\n",
       "        text-align: right;\n",
       "    }\n",
       "</style>\n",
       "<table border=\"1\" class=\"dataframe\">\n",
       "  <thead>\n",
       "    <tr style=\"text-align: right;\">\n",
       "      <th></th>\n",
       "      <th>time</th>\n",
       "      <th>mid_o</th>\n",
       "      <th>mid_h</th>\n",
       "      <th>mid_l</th>\n",
       "      <th>mid_c</th>\n",
       "      <th>MA_10</th>\n",
       "      <th>MA_20</th>\n",
       "      <th>MA_50</th>\n",
       "      <th>MA_100</th>\n",
       "      <th>MA_200</th>\n",
       "    </tr>\n",
       "  </thead>\n",
       "  <tbody>\n",
       "    <tr>\n",
       "      <th>0</th>\n",
       "      <td>2023-02-02 02:00:00+00:00</td>\n",
       "      <td>159.192</td>\n",
       "      <td>159.374</td>\n",
       "      <td>159.123</td>\n",
       "      <td>159.351</td>\n",
       "      <td>159.7945</td>\n",
       "      <td>160.34145</td>\n",
       "      <td>160.62340</td>\n",
       "      <td>159.64164</td>\n",
       "      <td>160.049875</td>\n",
       "    </tr>\n",
       "    <tr>\n",
       "      <th>1</th>\n",
       "      <td>2023-02-02 06:00:00+00:00</td>\n",
       "      <td>159.345</td>\n",
       "      <td>159.622</td>\n",
       "      <td>158.988</td>\n",
       "      <td>159.152</td>\n",
       "      <td>159.6616</td>\n",
       "      <td>160.22995</td>\n",
       "      <td>160.59536</td>\n",
       "      <td>159.62700</td>\n",
       "      <td>160.007675</td>\n",
       "    </tr>\n",
       "    <tr>\n",
       "      <th>2</th>\n",
       "      <td>2023-02-02 10:00:00+00:00</td>\n",
       "      <td>159.152</td>\n",
       "      <td>159.375</td>\n",
       "      <td>157.552</td>\n",
       "      <td>157.976</td>\n",
       "      <td>159.4318</td>\n",
       "      <td>160.09325</td>\n",
       "      <td>160.53076</td>\n",
       "      <td>159.60027</td>\n",
       "      <td>159.959300</td>\n",
       "    </tr>\n",
       "    <tr>\n",
       "      <th>3</th>\n",
       "      <td>2023-02-02 14:00:00+00:00</td>\n",
       "      <td>157.976</td>\n",
       "      <td>158.082</td>\n",
       "      <td>157.208</td>\n",
       "      <td>157.321</td>\n",
       "      <td>159.1575</td>\n",
       "      <td>159.90580</td>\n",
       "      <td>160.45558</td>\n",
       "      <td>159.56480</td>\n",
       "      <td>159.912865</td>\n",
       "    </tr>\n",
       "    <tr>\n",
       "      <th>4</th>\n",
       "      <td>2023-02-02 18:00:00+00:00</td>\n",
       "      <td>157.324</td>\n",
       "      <td>157.582</td>\n",
       "      <td>157.187</td>\n",
       "      <td>157.351</td>\n",
       "      <td>158.8466</td>\n",
       "      <td>159.72115</td>\n",
       "      <td>160.38026</td>\n",
       "      <td>159.52887</td>\n",
       "      <td>159.864420</td>\n",
       "    </tr>\n",
       "  </tbody>\n",
       "</table>\n",
       "</div>"
      ],
      "text/plain": [
       "                       time    mid_o    mid_h    mid_l    mid_c     MA_10  \\\n",
       "0 2023-02-02 02:00:00+00:00  159.192  159.374  159.123  159.351  159.7945   \n",
       "1 2023-02-02 06:00:00+00:00  159.345  159.622  158.988  159.152  159.6616   \n",
       "2 2023-02-02 10:00:00+00:00  159.152  159.375  157.552  157.976  159.4318   \n",
       "3 2023-02-02 14:00:00+00:00  157.976  158.082  157.208  157.321  159.1575   \n",
       "4 2023-02-02 18:00:00+00:00  157.324  157.582  157.187  157.351  158.8466   \n",
       "\n",
       "       MA_20      MA_50     MA_100      MA_200  \n",
       "0  160.34145  160.62340  159.64164  160.049875  \n",
       "1  160.22995  160.59536  159.62700  160.007675  \n",
       "2  160.09325  160.53076  159.60027  159.959300  \n",
       "3  159.90580  160.45558  159.56480  159.912865  \n",
       "4  159.72115  160.38026  159.52887  159.864420  "
      ]
     },
     "execution_count": 71,
     "metadata": {},
     "output_type": "execute_result"
    }
   ],
   "source": [
    "df_ma.head()"
   ]
  },
  {
   "cell_type": "code",
   "execution_count": 72,
   "id": "a32f2dff",
   "metadata": {},
   "outputs": [],
   "source": [
    "df_plot = df_ma.iloc[:500]"
   ]
  },
  {
   "cell_type": "code",
   "execution_count": 73,
   "id": "c9ed1e16",
   "metadata": {},
   "outputs": [],
   "source": [
    "cp = CandlePlot(df_plot)"
   ]
  },
  {
   "cell_type": "code",
   "execution_count": 74,
   "id": "c7c5a796",
   "metadata": {},
   "outputs": [
    {
     "data": {
      "application/vnd.plotly.v1+json": {
       "config": {
        "plotlyServerURL": "https://plot.ly"
       },
       "data": [
        {
         "close": {
          "bdata": "rBxaZDvrY0C+nxov3eRjQKwcWmQ7v2NAg8DKoUWqY0CsHFpkO6tjQMdLN4lBqGNAtMh2vp+iY0BSuB6F661jQLpJDAIrs2NAwcqhRbbHY0D4U+Olm8RjQMUgsHJo6WNAyXa+nxrfY0D8qfHSTdpjQHsUrkfh9mNASOF6FK7vY0B1kxgEVu5jQGZmZmZm7mNAF9nO91PrY0BWDi2yncdjQAAAAAAAwGNA8KfGSze5Y0CF61G4Hr1jQDVeukkMwmNAcT0K16PAY0BEi2zn+8VjQEJg5dAi02NAwcqhRbbTY0AhsHJokdVjQO58PzVe2mNAGQRWDi3aY0D6fmq8dNtjQMHKoUW232NADi2yne/nY0AxCKwcWuxjQGIQWDm07GNAdZMYBFbmY0DLoUW2881jQMP1KFyPymNAoBov3STOY0DJdr6fGs9jQLByaJHt1GNAnu+nxkvnY0Ce76fGS/djQC/dJAaBDWRAI9v5fmocZEDHSzeJQRhkQNEi2/l+CmRAEoPAyqEFZECF61G4Hh1kQPLSTWIQMGRAF9nO91M/ZEBvEoPAykFkQPp+arx0K2RAH4XrUbg2ZEDufD81XipkQIcW2c73G2RAAiuHFtkmZEBmZmZmZi5kQGiR7Xw/JWRA001iEFgpZEDHSzeJQSxkQGZmZmZmHmRAi2zn+6kdZEAnMQisHBJkQKAaL90kHmRAsp3vp8YfZEDb+X5qvCBkQLbz/dR4JWRAqvHSTWIsZEA1XrpJDDJkQIcW2c73M2RAnu+nxksvZEAK16NwPSpkQD81XrpJLGRAGQRWDi0yZEBg5dAi2zVkQEa28/3UMGRAiUFg5dAyZEDByqFFtldkQOf7qfHSZWRARrbz/dRwZEA3iUFg5XBkQP7UeOkmaWRATDeJQWBlZEC28/3UeF1kQOOlm8QgXGRAoBov3SRWZEAdWmQ7309kQAwCK4cWUWRADi2yne9TZEDHSzeJQUhkQC/dJAaBWWRA1XjpJjE4ZED8qfHSTTpkQDvfT42XPmRALbKd76c6ZEAAAAAAAFBkQMP1KFyPUmRA1XjpJjFgZEBQjZduEl9kQOxRuB6FW2RAN4lBYOVYZEBg5dAi22lkQMUgsHJocWRAnu+nxkuHZEBEi2zn+4lkQBKDwMqhhWRAhxbZzveDZEAIrBxaZKNkQKwcWmQ7t2RA30+Nl26KZECBlUOLbHdkQH9qvHSTgGRAqvHSTWKIZEDLoUW2831kQH9qvHSTYGRAGQRWDi1uZEDD9Shcj3pkQMl2vp8ad2RAmpmZmZl5ZEDb+X5qvGxkQN0kBoGVb2RAi2zn+6ltZEAGgZVDi2xkQKAaL90kbmRAqvHSTWJwZECgGi/dJGZkQBBYObTIZmRAyXa+nxpvZEB7FK5H4XJkQGiR7Xw/bWRAUrgehettZEBKDAIrh3ZkQFg5tMh2ZmRATDeJQWB1ZEAfhetRuG5kQLKd76fGd2RAke18PzV2ZEA730+Nl2ZkQEjhehSuY2RAtvP91HhFZEB7FK5H4UZkQFK4HoXrTWRAqMZLN4lZZEBiEFg5tFhkQFK4HoXrQWRA30+Nl25KZEBoke18P1VkQBkEVg4tSmRAw/UoXI9GZEAMAiuHFjVkQBBYObTIQmRAWDm0yHZOZED+1HjpJklkQFyPwvUoRGRA5/up8dJdZEAX2c73U39kQHE9CtejeGRAK4cW2c5PZEAK16NwPVJkQOOlm8QgSGRAtvP91HhRZEB3vp8aLz1kQJ7vp8ZLC2RARrbz/dQ4ZEDl0CLb+UpkQG8Sg8DKQWRAQmDl0CJXZEAGgZVDi2RkQIPAyqFFbmRAhxbZzvdrZEBg5dAi22VkQKJFtvP9bGRATmIQWDl0ZEBcj8L1KHhkQAAAAAAACGRATDeJQWDtY0D6fmq8dBtkQGIQWDm0IGRAx0s3iUEMZEB/arx0kxBkQESLbOf78WNAQmDl0CIzZEB/arx0k0BkQBkEVg4tMmRA+FPjpZs0ZEDy0k1iEDhkQLgehetREGRAVg4tsp0fZEAxCKwcWhRkQGZmZmZmNmRAdZMYBFYSZEA5tMh2vvtjQHnpJjEIHGRAK4cW2c4vZEArhxbZzidkQOOlm8QgIGRAexSuR+EaZEA730+NlzZkQMdLN4lBQGRAWmQ7308tZEBYObTIdjpkQC2yne+nPmRAaJHtfD9BZEBcj8L1KFRkQPYoXI/CXWRARIts5/tJZEB9PzVeuilkQM3MzMzMHGRAexSuR+EiZEDpJjEIrDRkQM3MzMzMLGRAarx0kxgkZEC8dJMYBBpkQDVeukkMCmRAmG4Sg8D6Y0ACK4cW2eZjQLpJDAIr32NAqMZLN4n5Y0AdWmQ73/tjQKabxCCw/mNAEFg5tMj+Y0BWDi2ynRdkQLgehetRKGRA6SYxCKw0ZEBg5dAi2zVkQNV46SYxIGRAZDvfT40bZEAGgZVDiyRkQDEIrBxaHGRAWmQ73081ZEDwp8ZLNzFkQDm0yHa+P2RAuB6F61FMZEBvEoPAylVkQBKDwMqhbWRAN4lBYOVoZECiRbbz/XRkQNejcD0KZ2RA5dAi2/lmZEAAAAAAAHhkQG3n+6nximRAMzMzMzN/ZEAxCKwcWoxkQAIrhxbZpmRAfT81XrqRZEDfT42XbqJkQDeJQWDlnGRAvHSTGAR+ZEBU46WbxHhkQCUGgZVDd2RAWmQ73099ZEDufD81XpJkQOxRuB6Fm2RAdZMYBFaGZEBoke18P41kQH9qvHSTkGRAAAAAAACYZEAEVg4tsrlkQAAAAAAAuGRAWDm0yHaOZEDFILByaJVkQHe+nxovhWRAppvEILCKZEAfhetRuIJkQIts5/upcWRAnMQgsHJoZEDfT42XbnJkQBfZzvdTZ2RAWDm0yHZmZEB9PzVeunlkQIts5/upcWRAukkMAit/ZEAIrBxaZHtkQAIrhxbZemRAL90kBoF9ZEB1kxgEVn5kQEa28/3UgGRAJQaBlUODZEBCYOXQIoNkQFTjpZvElGRAWDm0yHaSZECF61G4HoVkQMuhRbbzlWRASgwCK4euZED0/dR46a5kQL6fGi/drGRA16NwPQqvZED4U+Olm7BkQCUGgZVDr2RAvHSTGAS+ZECkcD0K18NkQGiR7Xw/xWRAwcqhRbbLZEC8dJMYBMZkQPT91HjpsmRAN4lBYOXIZEBI4XoUrsdkQGQ730+Ny2RAtMh2vp/OZECPwvUoXNdkQDVeukkMwmRA7FG4HoW7ZEBU46WbxMBkQJzEILBywGRAPzVeuknEZECoxks3ibVkQKabxCCwwmRAEFg5tMi+ZEBg5dAi28FkQBfZzvdTu2RAvp8aL93MZEAZBFYOLbpkQFyPwvUozGRAnMQgsHLEZEBKDAIrh85kQBsv3SQGyWRAlkOLbOfPZEBWDi2yndtkQP7UeOkm2WRAkxgEVg7VZECkcD0K19NkQDMzMzMz02RANV66SQzaZEAAAAAAAPhkQPYoXI/C5WRAUrgehev1ZED0/dR46fJkQBkEVg4t8mRAN4lBYOXwZEDRItv5fvJkQPp+arx052RAuB6F61HgZEC28/3UeOFkQM3MzMzM3GRAg8DKoUXOZEBOYhBYObxkQPhT46WbvGRAnu+nxkvXZEAxCKwcWtxkQClcj8L12GRALbKd76fiZEBeukkMAudkQNV46SYx8GRA001iEFjxZEArhxbZzvNkQHsUrkfh+mRAAAAAAAD0ZEAv3SQGgelkQBSuR+F6zGRAWDm0yHa+ZEBeukkMAr9kQLx0kxgEvmRAukkMAiu/ZEAGgZVDi9RkQAwCK4cW1WRAEFg5tMjaZED2KFyPwtVkQFTjpZvE0GRAEoPAyqHZZEBYObTIdt5kQMUgsHJo1WRAjZduEoPgZED2KFyPwu1kQPp+arx062RAppvEILACZUA9CtejcBllQNV46SYxOGVAtMh2vp9eZUCcxCCwcmRlQE5iEFg5dGVA+n5qvHR7ZUBkO99PjWdlQEoMAiuHdmVAAAAAAAB4ZUDwp8ZLN3llQEoMAiuHdmVA7nw/NV6CZUCcxCCwcnBlQHe+nxovbWVAtvP91HhJZUDFILByaEllQP7UeOkmSWVAfT81Xro9ZUAGgZVDizxlQJ7vp8ZLJ2VAg8DKoUU+ZUAK16NwPSplQGZmZmZmJmVAWDm0yHYqZUDFILByaCFlQOxRuB6FJ2VAyXa+nxoPZUDfT42XbhplQL6fGi/dGGVAHVpkO98bZUD6fmq8dCNlQGq8dJMYNGVAL90kBoFJZUCoxks3iUllQMuhRbbzTWVAj8L1KFxPZUCDwMqhRVJlQH0/NV66WWVAjZduEoNIZUAOLbKd709lQB1aZDvfT2VA/tR46SZJZUBGtvP91EhlQIXrUbgeRWVAtMh2vp9SZUA9CtejcFVlQPYoXI/CVWVA9ihcj8JVZUBWDi2ynVdlQHsUrkfhSmVATDeJQWAxZUAEVg4tsjVlQCGwcmiRLWVAFK5H4XosZUAOLbKd7zNlQArXo3A9DmVAke18PzUGZUAOLbKd7wtlQM3MzMzMDGVAmpmZmZkRZUDNzMzMzBxlQARWDi2yGWVATDeJQWAdZUDl0CLb+R5lQKjGSzeJJWVArBxaZDszZUDdJAaBlT9lQMl2vp8aP2VA9ihcj8JRZUAUrkfhelBlQO58PzVeSmVAexSuR+FKZUDdJAaBlUNlQK5H4XoUSmVA001iEFhRZUDpJjEIrEhlQPp+arx0S2VAEoPAyqFNZUAK16NwPUplQI2XbhKDYGVA6SYxCKx8ZUDn+6nx0n1lQG3n+6nxcmVARrbz/dR0ZUD6fmq8dGtlQKabxCCwemVA/tR46SZ5ZUBkO99PjYNlQCcxCKwcemVA+FPjpZt0ZUACK4cW2W5lQAisHFpkj2VAokW28/14ZUD8qfHSTXZlQCPb+X5qdGVA2/l+arx0ZUBWDi2ynW9lQFCNl24Sj2VAiUFg5dCCZUCyne+nxotlQJhuEoPAimVAMQisHFqEZUAMAiuHFnVlQM3MzMzMfGVAXI/C9SiEZUA1XrpJDIJlQKRwPQrXg2VAhxbZzveDZUDpJjEIrIRlQBSuR+F6gGVAbef7qfGKZUDRItv5fo5lQBfZzvdTi2VA46WbxCCIZUBU46WbxJBlQOf7qfHSjWVASOF6FK6HZUDZzvdT45FlQAisHFpki2VAH4XrUbiKZUCoxks3iZFlQGIQWDm0qGVABoGVQ4uwZUBOYhBYObRlQBsv3SQGuWVASOF6FK6vZUDy0k1iEKhlQFYOLbKdo2VA9P3UeOmuZUC4HoXrUbBlQFg5tMh2qmVAzczMzMysZUCsHFpkO69lQA==",
          "dtype": "f8"
         },
         "decreasing": {
          "fillcolor": "#CC2E3C",
          "line": {
           "color": "#FF3A4C"
          }
         },
         "high": {
          "bdata": "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",
          "dtype": "f8"
         },
         "increasing": {
          "fillcolor": "#24A06B",
          "line": {
           "color": "#2EC886"
          }
         },
         "line": {
          "width": 1
         },
         "low": {
          "bdata": "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",
          "dtype": "f8"
         },
         "opacity": 1,
         "open": {
          "bdata": "oBov3STmY0DXo3A9CutjQL6fGi/d5GNArBxaZDu/Y0DufD81XqpjQLTIdr6fqmNAXI/C9SioY0Cmm8QgsKJjQNnO91PjrWNAQmDl0CKzY0DByqFFtsdjQIPAyqFF6mNAtvP91HjpY0DJdr6fGt9jQPyp8dJN2mNAiUFg5dD2Y0BI4XoUru9jQJZDi2zn72NAZmZmZmbuY0AzMzMzM+tjQEjhehSux2NA8tJNYhDAY0DTTWIQWLljQEa28/3UvGNArkfhehTCY0B/arx0k8BjQNnO91PjxWNAMzMzMzPTY0DP91PjpdNjQPp+arx002NA/Knx0k3aY0AK16NwPdpjQAisHFpk22NASOF6FK7fY0AOLbKd7+djQPT91Hjp7mNAzczMzMzsY0CDwMqhReZjQFK4HoXrzWNAw/UoXI/KY0AK16NwPc5jQMl2vp8az2NAsHJoke3UY0CPwvUoXOdjQBfZzvdT92NAIbByaJENZEAGgZVDixxkQEjhehSuF2RA7nw/NV4KZEDn+6nx0gVkQIXrUbgeHWRA46WbxCAwZECPwvUoXD9kQBfZzvdTQ2RAz/dT46UrZECYbhKDwDZkQPyp8dJNKmRAlkOLbOcbZED0/dR46SZkQAwCK4cWLWRA8KfGSzclZED+1HjpJilkQE5iEFg5LGRAWDm0yHYeZEAEVg4tsh1kQNEi2/l+FmRAoBov3SQeZEA5tMh2vh9kQL6fGi/dIGRAxSCwcmglZECcxCCwcixkQD81XrpJMGRAarx0kxg0ZECe76fGSy9kQIPAyqFFKmRAPzVeukksZED8qfHSTTJkQHE9CtejNGRAvp8aL90wZECJQWDl0DJkQLKd76fGV2RA9ihcj8JlZEC+nxov3XBkQJZDi2znb2RADAIrhxZpZEDFILByaGVkQEw3iUFgXWRA46WbxCBcZEC8dJMYBFZkQLKd76fGT2RAkxgEVg5RZECkcD0K11NkQNV46SYxSGRA001iEFhZZEDVeOkmMThkQGDl0CLbOWRAtMh2vp8+ZEC0yHa+nzpkQAAAAAAAUGRAtMh2vp9SZEDVeOkmMWBkQDeJQWDlZGRAXI/C9ShcZEDNzMzMzFhkQGDl0CLbaWRAtvP91HhxZECBlUOLbIdkQIPAyqFFhmRABFYOLbKFZEB56SYxCIRkQAisHFpko2RAQmDl0CK3ZEBYObTIdopkQE5iEFg5dGRAcT0K16OAZECcxCCwcohkQMuhRbbzfWRAnMQgsHJgZECgGi/dJG5kQHNoke18e2RA5dAi2/l2ZEC28/3UeHlkQOkmMQisbGRAObTIdr5vZECLbOf7qW1kQMP1KFyPbmRANV66SQxuZECcxCCwcnBkQLx0kxgEZmRAH4XrUbhmZEC6SQwCK29kQClcj8L1dGRAkxgEVg5tZEDLoUW2821kQN9PjZdudmRA0SLb+X5mZEBaZDvfT3VkQBkEVg4tbmRAHVpkO993ZECgGi/dJHZkQBBYObTIZmRA3SQGgZVjZEC28/3UeEVkQLpJDAIrR2RA2c73U+NNZEC28/3UeFlkQM3MzMzMWGRAYOXQIttBZEDfT42XbkpkQEoMAiuHUmRAGQRWDi1KZEBKDAIrh0ZkQAwCK4cWNWRAAiuHFtlCZEBYObTIdk5kQARWDi2ySWRAXI/C9ShEZEDZzvdT411kQBfZzvdTf2RABoGVQ4t4ZEArhxbZzk9kQEjhehSuS2RA46WbxCBIZEBaZDvfT1FkQIXrUbgePWRAF9nO91MLZEA3iUFg5ThkQEw3iUFgSWRAfT81XrpBZED0/dR46VZkQBSuR+F6ZGRA/Knx0k1uZECWQ4ts52tkQESLbOf7ZWRAKVyPwvVsZEBOYhBYOXRkQNV46SYxeGRAObTIdr4HZEBMN4lBYO1jQIlBYOXQHmRAYhBYObQgZEA/NV66SQxkQBSuR+F6EGRARIts5/vxY0AzMzMzMzNkQBBYObTIPmRAJzEIrBwyZEDNzMzMzDRkQAAAAAAAOGRAqvHSTWIQZEBkO99PjR9kQIXrUbgeIWRAZmZmZmY2ZED8qfHSTRJkQLKd76fG+2NAhxbZzvcbZEAdWmQ73y9kQOf7qfHSJWRAAAAAAAAgZED0/dR46RpkQDvfT42XNmRAnMQgsHJAZEBMN4lBYC1kQH0/NV66OWRAEFg5tMg+ZEBoke18P0FkQFyPwvUoVGRAfT81XrpdZEAnMQisHEpkQPCnxks3KWRAzczMzMwcZEDXo3A9CiNkQNv5fmq8NGRAzczMzMwsZEBcj8L1KCRkQKRwPQrXF2RAJzEIrBwKZECYbhKDwPpjQPT91Hjp5mNAukkMAivfY0C28/3UePljQNEi2/l+9mNAH4XrUbj+Y0ACK4cW2f5jQHNoke18F2RAXI/C9SgoZEBiEFg5tDRkQIGVQ4tsM2RAarx0kxggZEBWDi2ynRtkQBSuR+F6JGRAMQisHFocZEBoke18PzVkQMuhRbbzMWRApHA9Ctc/ZEAxCKwcWkxkQARWDi2yVWRAEoPAyqFtZEA3iUFg5WhkQOf7qfHScWRA16NwPQpnZEDl0CLb+WZkQKrx0k1ieGRAppvEILCKZECsHFpkO39kQPp+arx0i2RA9P3UeOmmZEB9PzVeupFkQESLbOf7oWRAsHJoke2cZEC8dJMYBH5kQClcj8L1jGRAQmDl0CJ3ZEBoke18P31kQJHtfD81kmRAObTIdr6bZECDwMqhRYZkQN0kBoGVi2RAcT0K16OQZEAAAAAAAJhkQH0/NV66uWRAAAAAAAC4ZEBKDAIrh45kQFg5tMh2kmRAhetRuB6FZEAQWDm0yIpkQJhuEoPAgmRAqMZLN4lxZECcxCCwcmhkQHWTGARWcmRAnu+nxktnZEBmZmZmZmZkQOf7qfHSeWRAYOXQIttxZEAzMzMzM39kQNNNYhBYfWRAbef7qfF6ZEAv3SQGgX1kQArXo3A9fmRAN4lBYOWAZECe76fGS4NkQNnO91PjhWRAzczMzMyUZEDRItv5fpJkQJMYBFYOhWRAy6FFtvOVZEBYObTIdq5kQFg5tMh2rmRAvp8aL92sZEDXo3A9Cq9kQNv5fmq8sGRAukkMAiuvZEC8dJMYBL5kQFTjpZvExGRAd76fGi/FZEDByqFFtstkQG8Sg8DKxWRAAiuHFtmyZED+1HjpJslkQKabxCCwxmRAZDvfT43LZEC0yHa+n85kQAisHFpk12RArkfhehTCZEDsUbgehbtkQOOlm8QgwGRAnMQgsHLAZEA/NV66ScRkQCGwcmiRtWRAppvEILDCZECmm8QgsL5kQBSuR+F6xGRACKwcWmS7ZEA3iUFg5cxkQArXo3A9umRAuB6F61HMZECcxCCwcsRkQHnpJjEIzGRAGy/dJAbJZEAdWmQ7389kQM/3U+Ol22RA8KfGSzfZZECTGARWDtVkQIXrUbge1WRAMzMzMzPTZEBEi2zn+9lkQPLSTWIQ+GRAEoPAyqHlZEDLoUW28/VkQOxRuB6F82RAke18PzXyZECTGARWDvFkQHWTGARW8mRAc2iR7XznZECcxCCwcuBkQFyPwvUo4GRA6SYxCKzcZECDwMqhRc5kQFyPwvUovGRAFK5H4Xq8ZECsHFpkO9dkQK5H4XoU2mRAN4lBYOXYZEC0yHa+n+JkQNejcD0K52RAx0s3iUHwZEDTTWIQWPFkQMUgsHJo9WRAbef7qfH6ZEBqvHSTGPRkQCGwcmiR6WRAsHJoke3MZEBYObTIdr5kQDEIrBxawGRAvHSTGAS+ZECsHFpkO79kQPhT46Wb1GRAWmQ730/VZECYbhKDwNpkQIts5/up0WRAVOOlm8TQZEASg8DKodlkQEoMAiuH3mRAmpmZmZnVZECNl24Sg+BkQOF6FK5H5WRA+n5qvHTrZECmm8QgsAJlQGiR7Xw/GWVATmIQWDk4ZUC0yHa+n15lQClcj8L1YGVATmIQWDl0ZUDsUbgehXtlQFYOLbKdZ2VAWDm0yHZ2ZUAAAAAAAHhlQDMzMzMze2VAO99PjZd2ZUB1kxgEVoJlQHE9CtejcGVAaJHtfD9tZUDFILByaEllQArXo3A9RmVAkxgEVg5JZUAEVg4tsj1lQAaBlUOLPGVACKwcWmQnZUCDwMqhRT5lQGZmZmZmJmVA30+Nl24mZUDfT42XbiplQEw3iUFgIWVAc2iR7XwnZUC6SQwCKw9lQIPAyqFFGmVAvp8aL90YZUAdWmQ73xtlQOxRuB6FI2VAPzVeukk0ZUCamZmZmUllQK5H4XoUTmVAy6FFtvNNZUCe76fGS09lQArXo3A9UmVAmpmZmZlZZUD4U+Olm0hlQAisHFpkT2VAHVpkO99PZUD+1HjpJkllQEa28/3USGVAokW28/1EZUDD9Shcj1JlQOOlm8QgVGVA5/up8dJVZUDZzvdT41VlQHNoke18V2VAO99PjZdKZUBMN4lBYDFlQNnO91PjMWVAPQrXo3AtZUAUrkfheixlQAAAAAAANGVAdZMYBFYOZUCR7Xw/NQZlQBkEVg4tCmVAVOOlm8QMZUAEVg4tshFlQL6fGi/dHGVAqMZLN4kZZUBoke18Px1lQFTjpZvEIGVABFYOLbIlZUCsHFpkOzNlQN0kBoGVP2VA5dAi2/k+ZUDLoUW281FlQDMzMzMzT2VAZmZmZmZKZUCJQWDl0EplQGQ730+NQ2VANV66SQxKZUDFILByaFFlQJqZmZmZSWVA+n5qvHRLZUD2KFyPwk1lQKAaL90kSmVABoGVQ4tgZUBU46WbxHxlQDeJQWDlfGVAbef7qfFyZUDNzMzMzHRlQAisHFpka2VAppvEILB6ZUDwp8ZLN3llQMHKoUW2g2VAJzEIrBx6ZUD4U+Olm3RlQPT91HjpbmVAj8L1KFyPZUApXI/C9XhlQFYOLbKdd2VAFK5H4Xp0ZUDb+X5qvHRlQFYOLbKdb2VAQmDl0CKPZUCmm8QgsIJlQGIQWDm0jGVAiUFg5dCKZUC4HoXrUYRlQIXrUbgedWVA2/l+arx8ZUBcj8L1KIRlQLbz/dR4gWVApHA9CteDZUAOLbKd74NlQNv5fmq8hGVAFK5H4XqAZUD0/dR46YplQFyPwvUojGVAMzMzMzOLZUDy0k1iEIhlQGIQWDm0kGVAvHSTGASOZUBWDi2ynYdlQA4tsp3vk2VAF9nO91OLZUCmm8QgsIplQLbz/dR4kWVAYhBYObSoZUBiEFg5tLBlQG8Sg8DKsWVAhetRuB65ZUBWDi2yna9lQHnpJjEIqGVAZDvfT42jZUBt5/up8a5lQI2XbhKDsGVA30+Nl26qZUDNzMzMzKxlQA==",
          "dtype": "f8"
         },
         "type": "candlestick",
         "x": [
          "s23-02-02 02:00",
          "s23-02-02 06:00",
          "s23-02-02 10:00",
          "s23-02-02 14:00",
          "s23-02-02 18:00",
          "s23-02-02 22:00",
          "s23-02-03 02:00",
          "s23-02-03 06:00",
          "s23-02-03 10:00",
          "s23-02-03 14:00",
          "s23-02-03 18:00",
          "s23-02-05 22:00",
          "s23-02-06 02:00",
          "s23-02-06 06:00",
          "s23-02-06 10:00",
          "s23-02-06 14:00",
          "s23-02-06 18:00",
          "s23-02-06 22:00",
          "s23-02-07 02:00",
          "s23-02-07 06:00",
          "s23-02-07 10:00",
          "s23-02-07 14:00",
          "s23-02-07 18:00",
          "s23-02-07 22:00",
          "s23-02-08 02:00",
          "s23-02-08 06:00",
          "s23-02-08 10:00",
          "s23-02-08 14:00",
          "s23-02-08 18:00",
          "s23-02-08 22:00",
          "s23-02-09 02:00",
          "s23-02-09 06:00",
          "s23-02-09 10:00",
          "s23-02-09 14:00",
          "s23-02-09 18:00",
          "s23-02-09 22:00",
          "s23-02-10 02:00",
          "s23-02-10 06:00",
          "s23-02-10 10:00",
          "s23-02-10 14:00",
          "s23-02-10 18:00",
          "s23-02-12 22:00",
          "s23-02-13 02:00",
          "s23-02-13 06:00",
          "s23-02-13 10:00",
          "s23-02-13 14:00",
          "s23-02-13 18:00",
          "s23-02-13 22:00",
          "s23-02-14 02:00",
          "s23-02-14 06:00",
          "s23-02-14 10:00",
          "s23-02-14 14:00",
          "s23-02-14 18:00",
          "s23-02-14 22:00",
          "s23-02-15 02:00",
          "s23-02-15 06:00",
          "s23-02-15 10:00",
          "s23-02-15 14:00",
          "s23-02-15 18:00",
          "s23-02-15 22:00",
          "s23-02-16 02:00",
          "s23-02-16 06:00",
          "s23-02-16 10:00",
          "s23-02-16 14:00",
          "s23-02-16 18:00",
          "s23-02-16 22:00",
          "s23-02-17 02:00",
          "s23-02-17 06:00",
          "s23-02-17 10:00",
          "s23-02-17 14:00",
          "s23-02-17 18:00",
          "s23-02-19 22:00",
          "s23-02-20 02:00",
          "s23-02-20 06:00",
          "s23-02-20 10:00",
          "s23-02-20 14:00",
          "s23-02-20 18:00",
          "s23-02-20 22:00",
          "s23-02-21 02:00",
          "s23-02-21 06:00",
          "s23-02-21 10:00",
          "s23-02-21 14:00",
          "s23-02-21 18:00",
          "s23-02-21 22:00",
          "s23-02-22 02:00",
          "s23-02-22 06:00",
          "s23-02-22 10:00",
          "s23-02-22 14:00",
          "s23-02-22 18:00",
          "s23-02-22 22:00",
          "s23-02-23 02:00",
          "s23-02-23 06:00",
          "s23-02-23 10:00",
          "s23-02-23 14:00",
          "s23-02-23 18:00",
          "s23-02-23 22:00",
          "s23-02-24 02:00",
          "s23-02-24 06:00",
          "s23-02-24 10:00",
          "s23-02-24 14:00",
          "s23-02-24 18:00",
          "s23-02-26 22:00",
          "s23-02-27 02:00",
          "s23-02-27 06:00",
          "s23-02-27 10:00",
          "s23-02-27 14:00",
          "s23-02-27 18:00",
          "s23-02-27 22:00",
          "s23-02-28 02:00",
          "s23-02-28 06:00",
          "s23-02-28 10:00",
          "s23-02-28 14:00",
          "s23-02-28 18:00",
          "s23-02-28 22:00",
          "s23-03-01 02:00",
          "s23-03-01 06:00",
          "s23-03-01 10:00",
          "s23-03-01 14:00",
          "s23-03-01 18:00",
          "s23-03-01 22:00",
          "s23-03-02 02:00",
          "s23-03-02 06:00",
          "s23-03-02 10:00",
          "s23-03-02 14:00",
          "s23-03-02 18:00",
          "s23-03-02 22:00",
          "s23-03-03 02:00",
          "s23-03-03 06:00",
          "s23-03-03 10:00",
          "s23-03-03 14:00",
          "s23-03-03 18:00",
          "s23-03-05 22:00",
          "s23-03-06 02:00",
          "s23-03-06 06:00",
          "s23-03-06 10:00",
          "s23-03-06 14:00",
          "s23-03-06 18:00",
          "s23-03-06 22:00",
          "s23-03-07 02:00",
          "s23-03-07 06:00",
          "s23-03-07 10:00",
          "s23-03-07 14:00",
          "s23-03-07 18:00",
          "s23-03-07 22:00",
          "s23-03-08 02:00",
          "s23-03-08 06:00",
          "s23-03-08 10:00",
          "s23-03-08 14:00",
          "s23-03-08 18:00",
          "s23-03-08 22:00",
          "s23-03-09 02:00",
          "s23-03-09 06:00",
          "s23-03-09 10:00",
          "s23-03-09 14:00",
          "s23-03-09 18:00",
          "s23-03-09 22:00",
          "s23-03-10 02:00",
          "s23-03-10 06:00",
          "s23-03-10 10:00",
          "s23-03-10 14:00",
          "s23-03-10 18:00",
          "s23-03-12 21:00",
          "s23-03-13 01:00",
          "s23-03-13 05:00",
          "s23-03-13 09:00",
          "s23-03-13 13:00",
          "s23-03-13 17:00",
          "s23-03-13 21:00",
          "s23-03-14 01:00",
          "s23-03-14 05:00",
          "s23-03-14 09:00",
          "s23-03-14 13:00",
          "s23-03-14 17:00",
          "s23-03-14 21:00",
          "s23-03-15 01:00",
          "s23-03-15 05:00",
          "s23-03-15 09:00",
          "s23-03-15 13:00",
          "s23-03-15 17:00",
          "s23-03-15 21:00",
          "s23-03-16 01:00",
          "s23-03-16 05:00",
          "s23-03-16 09:00",
          "s23-03-16 13:00",
          "s23-03-16 17:00",
          "s23-03-16 21:00",
          "s23-03-17 01:00",
          "s23-03-17 05:00",
          "s23-03-17 09:00",
          "s23-03-17 13:00",
          "s23-03-17 17:00",
          "s23-03-19 21:00",
          "s23-03-20 01:00",
          "s23-03-20 05:00",
          "s23-03-20 09:00",
          "s23-03-20 13:00",
          "s23-03-20 17:00",
          "s23-03-20 21:00",
          "s23-03-21 01:00",
          "s23-03-21 05:00",
          "s23-03-21 09:00",
          "s23-03-21 13:00",
          "s23-03-21 17:00",
          "s23-03-21 21:00",
          "s23-03-22 01:00",
          "s23-03-22 05:00",
          "s23-03-22 09:00",
          "s23-03-22 13:00",
          "s23-03-22 17:00",
          "s23-03-22 21:00",
          "s23-03-23 01:00",
          "s23-03-23 05:00",
          "s23-03-23 09:00",
          "s23-03-23 13:00",
          "s23-03-23 17:00",
          "s23-03-23 21:00",
          "s23-03-24 01:00",
          "s23-03-24 05:00",
          "s23-03-24 09:00",
          "s23-03-24 13:00",
          "s23-03-24 17:00",
          "s23-03-26 21:00",
          "s23-03-27 01:00",
          "s23-03-27 05:00",
          "s23-03-27 09:00",
          "s23-03-27 13:00",
          "s23-03-27 17:00",
          "s23-03-27 21:00",
          "s23-03-28 01:00",
          "s23-03-28 05:00",
          "s23-03-28 09:00",
          "s23-03-28 13:00",
          "s23-03-28 17:00",
          "s23-03-28 21:00",
          "s23-03-29 01:00",
          "s23-03-29 05:00",
          "s23-03-29 09:00",
          "s23-03-29 13:00",
          "s23-03-29 17:00",
          "s23-03-29 21:00",
          "s23-03-30 01:00",
          "s23-03-30 05:00",
          "s23-03-30 09:00",
          "s23-03-30 13:00",
          "s23-03-30 17:00",
          "s23-03-30 21:00",
          "s23-03-31 01:00",
          "s23-03-31 05:00",
          "s23-03-31 09:00",
          "s23-03-31 13:00",
          "s23-03-31 17:00",
          "s23-04-02 21:00",
          "s23-04-03 01:00",
          "s23-04-03 05:00",
          "s23-04-03 09:00",
          "s23-04-03 13:00",
          "s23-04-03 17:00",
          "s23-04-03 21:00",
          "s23-04-04 01:00",
          "s23-04-04 05:00",
          "s23-04-04 09:00",
          "s23-04-04 13:00",
          "s23-04-04 17:00",
          "s23-04-04 21:00",
          "s23-04-05 01:00",
          "s23-04-05 05:00",
          "s23-04-05 09:00",
          "s23-04-05 13:00",
          "s23-04-05 17:00",
          "s23-04-05 21:00",
          "s23-04-06 01:00",
          "s23-04-06 05:00",
          "s23-04-06 09:00",
          "s23-04-06 13:00",
          "s23-04-06 17:00",
          "s23-04-06 21:00",
          "s23-04-07 01:00",
          "s23-04-07 05:00",
          "s23-04-07 09:00",
          "s23-04-07 13:00",
          "s23-04-07 17:00",
          "s23-04-09 21:00",
          "s23-04-10 01:00",
          "s23-04-10 05:00",
          "s23-04-10 09:00",
          "s23-04-10 13:00",
          "s23-04-10 17:00",
          "s23-04-10 21:00",
          "s23-04-11 01:00",
          "s23-04-11 05:00",
          "s23-04-11 09:00",
          "s23-04-11 13:00",
          "s23-04-11 17:00",
          "s23-04-11 21:00",
          "s23-04-12 01:00",
          "s23-04-12 05:00",
          "s23-04-12 09:00",
          "s23-04-12 13:00",
          "s23-04-12 17:00",
          "s23-04-12 21:00",
          "s23-04-13 01:00",
          "s23-04-13 05:00",
          "s23-04-13 09:00",
          "s23-04-13 13:00",
          "s23-04-13 17:00",
          "s23-04-13 21:00",
          "s23-04-14 01:00",
          "s23-04-14 05:00",
          "s23-04-14 09:00",
          "s23-04-14 13:00",
          "s23-04-14 17:00",
          "s23-04-16 21:00",
          "s23-04-17 01:00",
          "s23-04-17 05:00",
          "s23-04-17 09:00",
          "s23-04-17 13:00",
          "s23-04-17 17:00",
          "s23-04-17 21:00",
          "s23-04-18 01:00",
          "s23-04-18 05:00",
          "s23-04-18 09:00",
          "s23-04-18 13:00",
          "s23-04-18 17:00",
          "s23-04-18 21:00",
          "s23-04-19 01:00",
          "s23-04-19 05:00",
          "s23-04-19 09:00",
          "s23-04-19 13:00",
          "s23-04-19 17:00",
          "s23-04-19 21:00",
          "s23-04-20 01:00",
          "s23-04-20 05:00",
          "s23-04-20 09:00",
          "s23-04-20 13:00",
          "s23-04-20 17:00",
          "s23-04-20 21:00",
          "s23-04-21 01:00",
          "s23-04-21 05:00",
          "s23-04-21 09:00",
          "s23-04-21 13:00",
          "s23-04-21 17:00",
          "s23-04-23 21:00",
          "s23-04-24 01:00",
          "s23-04-24 05:00",
          "s23-04-24 09:00",
          "s23-04-24 13:00",
          "s23-04-24 17:00",
          "s23-04-24 21:00",
          "s23-04-25 01:00",
          "s23-04-25 05:00",
          "s23-04-25 09:00",
          "s23-04-25 13:00",
          "s23-04-25 17:00",
          "s23-04-25 21:00",
          "s23-04-26 01:00",
          "s23-04-26 05:00",
          "s23-04-26 09:00",
          "s23-04-26 13:00",
          "s23-04-26 17:00",
          "s23-04-26 21:00",
          "s23-04-27 01:00",
          "s23-04-27 05:00",
          "s23-04-27 09:00",
          "s23-04-27 13:00",
          "s23-04-27 17:00",
          "s23-04-27 21:00",
          "s23-04-28 01:00",
          "s23-04-28 05:00",
          "s23-04-28 09:00",
          "s23-04-28 13:00",
          "s23-04-28 17:00",
          "s23-04-30 21:00",
          "s23-05-01 01:00",
          "s23-05-01 05:00",
          "s23-05-01 09:00",
          "s23-05-01 13:00",
          "s23-05-01 17:00",
          "s23-05-01 21:00",
          "s23-05-02 01:00",
          "s23-05-02 05:00",
          "s23-05-02 09:00",
          "s23-05-02 13:00",
          "s23-05-02 17:00",
          "s23-05-02 21:00",
          "s23-05-03 01:00",
          "s23-05-03 05:00",
          "s23-05-03 09:00",
          "s23-05-03 13:00",
          "s23-05-03 17:00",
          "s23-05-03 21:00",
          "s23-05-04 01:00",
          "s23-05-04 05:00",
          "s23-05-04 09:00",
          "s23-05-04 13:00",
          "s23-05-04 17:00",
          "s23-05-04 21:00",
          "s23-05-05 01:00",
          "s23-05-05 05:00",
          "s23-05-05 09:00",
          "s23-05-05 13:00",
          "s23-05-05 17:00",
          "s23-05-07 21:00",
          "s23-05-08 01:00",
          "s23-05-08 05:00",
          "s23-05-08 09:00",
          "s23-05-08 13:00",
          "s23-05-08 17:00",
          "s23-05-08 21:00",
          "s23-05-09 01:00",
          "s23-05-09 05:00",
          "s23-05-09 09:00",
          "s23-05-09 13:00",
          "s23-05-09 17:00",
          "s23-05-09 21:00",
          "s23-05-10 01:00",
          "s23-05-10 05:00",
          "s23-05-10 09:00",
          "s23-05-10 13:00",
          "s23-05-10 17:00",
          "s23-05-10 21:00",
          "s23-05-11 01:00",
          "s23-05-11 05:00",
          "s23-05-11 09:00",
          "s23-05-11 13:00",
          "s23-05-11 17:00",
          "s23-05-11 21:00",
          "s23-05-12 01:00",
          "s23-05-12 05:00",
          "s23-05-12 09:00",
          "s23-05-12 13:00",
          "s23-05-12 17:00",
          "s23-05-14 21:00",
          "s23-05-15 01:00",
          "s23-05-15 05:00",
          "s23-05-15 09:00",
          "s23-05-15 13:00",
          "s23-05-15 17:00",
          "s23-05-15 21:00",
          "s23-05-16 01:00",
          "s23-05-16 05:00",
          "s23-05-16 09:00",
          "s23-05-16 13:00",
          "s23-05-16 17:00",
          "s23-05-16 21:00",
          "s23-05-17 01:00",
          "s23-05-17 05:00",
          "s23-05-17 09:00",
          "s23-05-17 13:00",
          "s23-05-17 17:00",
          "s23-05-17 21:00",
          "s23-05-18 01:00",
          "s23-05-18 05:00",
          "s23-05-18 09:00",
          "s23-05-18 13:00",
          "s23-05-18 17:00",
          "s23-05-18 21:00",
          "s23-05-19 01:00",
          "s23-05-19 05:00",
          "s23-05-19 09:00",
          "s23-05-19 13:00",
          "s23-05-19 17:00",
          "s23-05-21 21:00",
          "s23-05-22 01:00",
          "s23-05-22 05:00",
          "s23-05-22 09:00",
          "s23-05-22 13:00",
          "s23-05-22 17:00",
          "s23-05-22 21:00",
          "s23-05-23 01:00",
          "s23-05-23 05:00",
          "s23-05-23 09:00",
          "s23-05-23 13:00",
          "s23-05-23 17:00",
          "s23-05-23 21:00",
          "s23-05-24 01:00",
          "s23-05-24 05:00",
          "s23-05-24 09:00",
          "s23-05-24 13:00",
          "s23-05-24 17:00",
          "s23-05-24 21:00",
          "s23-05-25 01:00",
          "s23-05-25 05:00",
          "s23-05-25 09:00",
          "s23-05-25 13:00",
          "s23-05-25 17:00",
          "s23-05-25 21:00",
          "s23-05-26 01:00",
          "s23-05-26 05:00",
          "s23-05-26 09:00",
          "s23-05-26 13:00",
          "s23-05-26 17:00",
          "s23-05-28 21:00",
          "s23-05-29 01:00",
          "s23-05-29 05:00",
          "s23-05-29 09:00",
          "s23-05-29 13:00",
          "s23-05-29 17:00",
          "s23-05-29 21:00",
          "s23-05-30 01:00",
          "s23-05-30 05:00"
         ]
        },
        {
         "line": {
          "shape": "spline",
          "width": 2
         },
         "name": "MA_10",
         "type": "scatter",
         "x": [
          "s23-02-02 02:00",
          "s23-02-02 06:00",
          "s23-02-02 10:00",
          "s23-02-02 14:00",
          "s23-02-02 18:00",
          "s23-02-02 22:00",
          "s23-02-03 02:00",
          "s23-02-03 06:00",
          "s23-02-03 10:00",
          "s23-02-03 14:00",
          "s23-02-03 18:00",
          "s23-02-05 22:00",
          "s23-02-06 02:00",
          "s23-02-06 06:00",
          "s23-02-06 10:00",
          "s23-02-06 14:00",
          "s23-02-06 18:00",
          "s23-02-06 22:00",
          "s23-02-07 02:00",
          "s23-02-07 06:00",
          "s23-02-07 10:00",
          "s23-02-07 14:00",
          "s23-02-07 18:00",
          "s23-02-07 22:00",
          "s23-02-08 02:00",
          "s23-02-08 06:00",
          "s23-02-08 10:00",
          "s23-02-08 14:00",
          "s23-02-08 18:00",
          "s23-02-08 22:00",
          "s23-02-09 02:00",
          "s23-02-09 06:00",
          "s23-02-09 10:00",
          "s23-02-09 14:00",
          "s23-02-09 18:00",
          "s23-02-09 22:00",
          "s23-02-10 02:00",
          "s23-02-10 06:00",
          "s23-02-10 10:00",
          "s23-02-10 14:00",
          "s23-02-10 18:00",
          "s23-02-12 22:00",
          "s23-02-13 02:00",
          "s23-02-13 06:00",
          "s23-02-13 10:00",
          "s23-02-13 14:00",
          "s23-02-13 18:00",
          "s23-02-13 22:00",
          "s23-02-14 02:00",
          "s23-02-14 06:00",
          "s23-02-14 10:00",
          "s23-02-14 14:00",
          "s23-02-14 18:00",
          "s23-02-14 22:00",
          "s23-02-15 02:00",
          "s23-02-15 06:00",
          "s23-02-15 10:00",
          "s23-02-15 14:00",
          "s23-02-15 18:00",
          "s23-02-15 22:00",
          "s23-02-16 02:00",
          "s23-02-16 06:00",
          "s23-02-16 10:00",
          "s23-02-16 14:00",
          "s23-02-16 18:00",
          "s23-02-16 22:00",
          "s23-02-17 02:00",
          "s23-02-17 06:00",
          "s23-02-17 10:00",
          "s23-02-17 14:00",
          "s23-02-17 18:00",
          "s23-02-19 22:00",
          "s23-02-20 02:00",
          "s23-02-20 06:00",
          "s23-02-20 10:00",
          "s23-02-20 14:00",
          "s23-02-20 18:00",
          "s23-02-20 22:00",
          "s23-02-21 02:00",
          "s23-02-21 06:00",
          "s23-02-21 10:00",
          "s23-02-21 14:00",
          "s23-02-21 18:00",
          "s23-02-21 22:00",
          "s23-02-22 02:00",
          "s23-02-22 06:00",
          "s23-02-22 10:00",
          "s23-02-22 14:00",
          "s23-02-22 18:00",
          "s23-02-22 22:00",
          "s23-02-23 02:00",
          "s23-02-23 06:00",
          "s23-02-23 10:00",
          "s23-02-23 14:00",
          "s23-02-23 18:00",
          "s23-02-23 22:00",
          "s23-02-24 02:00",
          "s23-02-24 06:00",
          "s23-02-24 10:00",
          "s23-02-24 14:00",
          "s23-02-24 18:00",
          "s23-02-26 22:00",
          "s23-02-27 02:00",
          "s23-02-27 06:00",
          "s23-02-27 10:00",
          "s23-02-27 14:00",
          "s23-02-27 18:00",
          "s23-02-27 22:00",
          "s23-02-28 02:00",
          "s23-02-28 06:00",
          "s23-02-28 10:00",
          "s23-02-28 14:00",
          "s23-02-28 18:00",
          "s23-02-28 22:00",
          "s23-03-01 02:00",
          "s23-03-01 06:00",
          "s23-03-01 10:00",
          "s23-03-01 14:00",
          "s23-03-01 18:00",
          "s23-03-01 22:00",
          "s23-03-02 02:00",
          "s23-03-02 06:00",
          "s23-03-02 10:00",
          "s23-03-02 14:00",
          "s23-03-02 18:00",
          "s23-03-02 22:00",
          "s23-03-03 02:00",
          "s23-03-03 06:00",
          "s23-03-03 10:00",
          "s23-03-03 14:00",
          "s23-03-03 18:00",
          "s23-03-05 22:00",
          "s23-03-06 02:00",
          "s23-03-06 06:00",
          "s23-03-06 10:00",
          "s23-03-06 14:00",
          "s23-03-06 18:00",
          "s23-03-06 22:00",
          "s23-03-07 02:00",
          "s23-03-07 06:00",
          "s23-03-07 10:00",
          "s23-03-07 14:00",
          "s23-03-07 18:00",
          "s23-03-07 22:00",
          "s23-03-08 02:00",
          "s23-03-08 06:00",
          "s23-03-08 10:00",
          "s23-03-08 14:00",
          "s23-03-08 18:00",
          "s23-03-08 22:00",
          "s23-03-09 02:00",
          "s23-03-09 06:00",
          "s23-03-09 10:00",
          "s23-03-09 14:00",
          "s23-03-09 18:00",
          "s23-03-09 22:00",
          "s23-03-10 02:00",
          "s23-03-10 06:00",
          "s23-03-10 10:00",
          "s23-03-10 14:00",
          "s23-03-10 18:00",
          "s23-03-12 21:00",
          "s23-03-13 01:00",
          "s23-03-13 05:00",
          "s23-03-13 09:00",
          "s23-03-13 13:00",
          "s23-03-13 17:00",
          "s23-03-13 21:00",
          "s23-03-14 01:00",
          "s23-03-14 05:00",
          "s23-03-14 09:00",
          "s23-03-14 13:00",
          "s23-03-14 17:00",
          "s23-03-14 21:00",
          "s23-03-15 01:00",
          "s23-03-15 05:00",
          "s23-03-15 09:00",
          "s23-03-15 13:00",
          "s23-03-15 17:00",
          "s23-03-15 21:00",
          "s23-03-16 01:00",
          "s23-03-16 05:00",
          "s23-03-16 09:00",
          "s23-03-16 13:00",
          "s23-03-16 17:00",
          "s23-03-16 21:00",
          "s23-03-17 01:00",
          "s23-03-17 05:00",
          "s23-03-17 09:00",
          "s23-03-17 13:00",
          "s23-03-17 17:00",
          "s23-03-19 21:00",
          "s23-03-20 01:00",
          "s23-03-20 05:00",
          "s23-03-20 09:00",
          "s23-03-20 13:00",
          "s23-03-20 17:00",
          "s23-03-20 21:00",
          "s23-03-21 01:00",
          "s23-03-21 05:00",
          "s23-03-21 09:00",
          "s23-03-21 13:00",
          "s23-03-21 17:00",
          "s23-03-21 21:00",
          "s23-03-22 01:00",
          "s23-03-22 05:00",
          "s23-03-22 09:00",
          "s23-03-22 13:00",
          "s23-03-22 17:00",
          "s23-03-22 21:00",
          "s23-03-23 01:00",
          "s23-03-23 05:00",
          "s23-03-23 09:00",
          "s23-03-23 13:00",
          "s23-03-23 17:00",
          "s23-03-23 21:00",
          "s23-03-24 01:00",
          "s23-03-24 05:00",
          "s23-03-24 09:00",
          "s23-03-24 13:00",
          "s23-03-24 17:00",
          "s23-03-26 21:00",
          "s23-03-27 01:00",
          "s23-03-27 05:00",
          "s23-03-27 09:00",
          "s23-03-27 13:00",
          "s23-03-27 17:00",
          "s23-03-27 21:00",
          "s23-03-28 01:00",
          "s23-03-28 05:00",
          "s23-03-28 09:00",
          "s23-03-28 13:00",
          "s23-03-28 17:00",
          "s23-03-28 21:00",
          "s23-03-29 01:00",
          "s23-03-29 05:00",
          "s23-03-29 09:00",
          "s23-03-29 13:00",
          "s23-03-29 17:00",
          "s23-03-29 21:00",
          "s23-03-30 01:00",
          "s23-03-30 05:00",
          "s23-03-30 09:00",
          "s23-03-30 13:00",
          "s23-03-30 17:00",
          "s23-03-30 21:00",
          "s23-03-31 01:00",
          "s23-03-31 05:00",
          "s23-03-31 09:00",
          "s23-03-31 13:00",
          "s23-03-31 17:00",
          "s23-04-02 21:00",
          "s23-04-03 01:00",
          "s23-04-03 05:00",
          "s23-04-03 09:00",
          "s23-04-03 13:00",
          "s23-04-03 17:00",
          "s23-04-03 21:00",
          "s23-04-04 01:00",
          "s23-04-04 05:00",
          "s23-04-04 09:00",
          "s23-04-04 13:00",
          "s23-04-04 17:00",
          "s23-04-04 21:00",
          "s23-04-05 01:00",
          "s23-04-05 05:00",
          "s23-04-05 09:00",
          "s23-04-05 13:00",
          "s23-04-05 17:00",
          "s23-04-05 21:00",
          "s23-04-06 01:00",
          "s23-04-06 05:00",
          "s23-04-06 09:00",
          "s23-04-06 13:00",
          "s23-04-06 17:00",
          "s23-04-06 21:00",
          "s23-04-07 01:00",
          "s23-04-07 05:00",
          "s23-04-07 09:00",
          "s23-04-07 13:00",
          "s23-04-07 17:00",
          "s23-04-09 21:00",
          "s23-04-10 01:00",
          "s23-04-10 05:00",
          "s23-04-10 09:00",
          "s23-04-10 13:00",
          "s23-04-10 17:00",
          "s23-04-10 21:00",
          "s23-04-11 01:00",
          "s23-04-11 05:00",
          "s23-04-11 09:00",
          "s23-04-11 13:00",
          "s23-04-11 17:00",
          "s23-04-11 21:00",
          "s23-04-12 01:00",
          "s23-04-12 05:00",
          "s23-04-12 09:00",
          "s23-04-12 13:00",
          "s23-04-12 17:00",
          "s23-04-12 21:00",
          "s23-04-13 01:00",
          "s23-04-13 05:00",
          "s23-04-13 09:00",
          "s23-04-13 13:00",
          "s23-04-13 17:00",
          "s23-04-13 21:00",
          "s23-04-14 01:00",
          "s23-04-14 05:00",
          "s23-04-14 09:00",
          "s23-04-14 13:00",
          "s23-04-14 17:00",
          "s23-04-16 21:00",
          "s23-04-17 01:00",
          "s23-04-17 05:00",
          "s23-04-17 09:00",
          "s23-04-17 13:00",
          "s23-04-17 17:00",
          "s23-04-17 21:00",
          "s23-04-18 01:00",
          "s23-04-18 05:00",
          "s23-04-18 09:00",
          "s23-04-18 13:00",
          "s23-04-18 17:00",
          "s23-04-18 21:00",
          "s23-04-19 01:00",
          "s23-04-19 05:00",
          "s23-04-19 09:00",
          "s23-04-19 13:00",
          "s23-04-19 17:00",
          "s23-04-19 21:00",
          "s23-04-20 01:00",
          "s23-04-20 05:00",
          "s23-04-20 09:00",
          "s23-04-20 13:00",
          "s23-04-20 17:00",
          "s23-04-20 21:00",
          "s23-04-21 01:00",
          "s23-04-21 05:00",
          "s23-04-21 09:00",
          "s23-04-21 13:00",
          "s23-04-21 17:00",
          "s23-04-23 21:00",
          "s23-04-24 01:00",
          "s23-04-24 05:00",
          "s23-04-24 09:00",
          "s23-04-24 13:00",
          "s23-04-24 17:00",
          "s23-04-24 21:00",
          "s23-04-25 01:00",
          "s23-04-25 05:00",
          "s23-04-25 09:00",
          "s23-04-25 13:00",
          "s23-04-25 17:00",
          "s23-04-25 21:00",
          "s23-04-26 01:00",
          "s23-04-26 05:00",
          "s23-04-26 09:00",
          "s23-04-26 13:00",
          "s23-04-26 17:00",
          "s23-04-26 21:00",
          "s23-04-27 01:00",
          "s23-04-27 05:00",
          "s23-04-27 09:00",
          "s23-04-27 13:00",
          "s23-04-27 17:00",
          "s23-04-27 21:00",
          "s23-04-28 01:00",
          "s23-04-28 05:00",
          "s23-04-28 09:00",
          "s23-04-28 13:00",
          "s23-04-28 17:00",
          "s23-04-30 21:00",
          "s23-05-01 01:00",
          "s23-05-01 05:00",
          "s23-05-01 09:00",
          "s23-05-01 13:00",
          "s23-05-01 17:00",
          "s23-05-01 21:00",
          "s23-05-02 01:00",
          "s23-05-02 05:00",
          "s23-05-02 09:00",
          "s23-05-02 13:00",
          "s23-05-02 17:00",
          "s23-05-02 21:00",
          "s23-05-03 01:00",
          "s23-05-03 05:00",
          "s23-05-03 09:00",
          "s23-05-03 13:00",
          "s23-05-03 17:00",
          "s23-05-03 21:00",
          "s23-05-04 01:00",
          "s23-05-04 05:00",
          "s23-05-04 09:00",
          "s23-05-04 13:00",
          "s23-05-04 17:00",
          "s23-05-04 21:00",
          "s23-05-05 01:00",
          "s23-05-05 05:00",
          "s23-05-05 09:00",
          "s23-05-05 13:00",
          "s23-05-05 17:00",
          "s23-05-07 21:00",
          "s23-05-08 01:00",
          "s23-05-08 05:00",
          "s23-05-08 09:00",
          "s23-05-08 13:00",
          "s23-05-08 17:00",
          "s23-05-08 21:00",
          "s23-05-09 01:00",
          "s23-05-09 05:00",
          "s23-05-09 09:00",
          "s23-05-09 13:00",
          "s23-05-09 17:00",
          "s23-05-09 21:00",
          "s23-05-10 01:00",
          "s23-05-10 05:00",
          "s23-05-10 09:00",
          "s23-05-10 13:00",
          "s23-05-10 17:00",
          "s23-05-10 21:00",
          "s23-05-11 01:00",
          "s23-05-11 05:00",
          "s23-05-11 09:00",
          "s23-05-11 13:00",
          "s23-05-11 17:00",
          "s23-05-11 21:00",
          "s23-05-12 01:00",
          "s23-05-12 05:00",
          "s23-05-12 09:00",
          "s23-05-12 13:00",
          "s23-05-12 17:00",
          "s23-05-14 21:00",
          "s23-05-15 01:00",
          "s23-05-15 05:00",
          "s23-05-15 09:00",
          "s23-05-15 13:00",
          "s23-05-15 17:00",
          "s23-05-15 21:00",
          "s23-05-16 01:00",
          "s23-05-16 05:00",
          "s23-05-16 09:00",
          "s23-05-16 13:00",
          "s23-05-16 17:00",
          "s23-05-16 21:00",
          "s23-05-17 01:00",
          "s23-05-17 05:00",
          "s23-05-17 09:00",
          "s23-05-17 13:00",
          "s23-05-17 17:00",
          "s23-05-17 21:00",
          "s23-05-18 01:00",
          "s23-05-18 05:00",
          "s23-05-18 09:00",
          "s23-05-18 13:00",
          "s23-05-18 17:00",
          "s23-05-18 21:00",
          "s23-05-19 01:00",
          "s23-05-19 05:00",
          "s23-05-19 09:00",
          "s23-05-19 13:00",
          "s23-05-19 17:00",
          "s23-05-21 21:00",
          "s23-05-22 01:00",
          "s23-05-22 05:00",
          "s23-05-22 09:00",
          "s23-05-22 13:00",
          "s23-05-22 17:00",
          "s23-05-22 21:00",
          "s23-05-23 01:00",
          "s23-05-23 05:00",
          "s23-05-23 09:00",
          "s23-05-23 13:00",
          "s23-05-23 17:00",
          "s23-05-23 21:00",
          "s23-05-24 01:00",
          "s23-05-24 05:00",
          "s23-05-24 09:00",
          "s23-05-24 13:00",
          "s23-05-24 17:00",
          "s23-05-24 21:00",
          "s23-05-25 01:00",
          "s23-05-25 05:00",
          "s23-05-25 09:00",
          "s23-05-25 13:00",
          "s23-05-25 17:00",
          "s23-05-25 21:00",
          "s23-05-26 01:00",
          "s23-05-26 05:00",
          "s23-05-26 09:00",
          "s23-05-26 13:00",
          "s23-05-26 17:00",
          "s23-05-28 21:00",
          "s23-05-29 01:00",
          "s23-05-29 05:00",
          "s23-05-29 09:00",
          "s23-05-29 13:00",
          "s23-05-29 17:00",
          "s23-05-29 21:00",
          "s23-05-30 01:00",
          "s23-05-30 05:00"
         ],
         "y": {
          "bdata": "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",
          "dtype": "f8"
         }
        },
        {
         "line": {
          "shape": "spline",
          "width": 2
         },
         "name": "MA_20",
         "type": "scatter",
         "x": [
          "s23-02-02 02:00",
          "s23-02-02 06:00",
          "s23-02-02 10:00",
          "s23-02-02 14:00",
          "s23-02-02 18:00",
          "s23-02-02 22:00",
          "s23-02-03 02:00",
          "s23-02-03 06:00",
          "s23-02-03 10:00",
          "s23-02-03 14:00",
          "s23-02-03 18:00",
          "s23-02-05 22:00",
          "s23-02-06 02:00",
          "s23-02-06 06:00",
          "s23-02-06 10:00",
          "s23-02-06 14:00",
          "s23-02-06 18:00",
          "s23-02-06 22:00",
          "s23-02-07 02:00",
          "s23-02-07 06:00",
          "s23-02-07 10:00",
          "s23-02-07 14:00",
          "s23-02-07 18:00",
          "s23-02-07 22:00",
          "s23-02-08 02:00",
          "s23-02-08 06:00",
          "s23-02-08 10:00",
          "s23-02-08 14:00",
          "s23-02-08 18:00",
          "s23-02-08 22:00",
          "s23-02-09 02:00",
          "s23-02-09 06:00",
          "s23-02-09 10:00",
          "s23-02-09 14:00",
          "s23-02-09 18:00",
          "s23-02-09 22:00",
          "s23-02-10 02:00",
          "s23-02-10 06:00",
          "s23-02-10 10:00",
          "s23-02-10 14:00",
          "s23-02-10 18:00",
          "s23-02-12 22:00",
          "s23-02-13 02:00",
          "s23-02-13 06:00",
          "s23-02-13 10:00",
          "s23-02-13 14:00",
          "s23-02-13 18:00",
          "s23-02-13 22:00",
          "s23-02-14 02:00",
          "s23-02-14 06:00",
          "s23-02-14 10:00",
          "s23-02-14 14:00",
          "s23-02-14 18:00",
          "s23-02-14 22:00",
          "s23-02-15 02:00",
          "s23-02-15 06:00",
          "s23-02-15 10:00",
          "s23-02-15 14:00",
          "s23-02-15 18:00",
          "s23-02-15 22:00",
          "s23-02-16 02:00",
          "s23-02-16 06:00",
          "s23-02-16 10:00",
          "s23-02-16 14:00",
          "s23-02-16 18:00",
          "s23-02-16 22:00",
          "s23-02-17 02:00",
          "s23-02-17 06:00",
          "s23-02-17 10:00",
          "s23-02-17 14:00",
          "s23-02-17 18:00",
          "s23-02-19 22:00",
          "s23-02-20 02:00",
          "s23-02-20 06:00",
          "s23-02-20 10:00",
          "s23-02-20 14:00",
          "s23-02-20 18:00",
          "s23-02-20 22:00",
          "s23-02-21 02:00",
          "s23-02-21 06:00",
          "s23-02-21 10:00",
          "s23-02-21 14:00",
          "s23-02-21 18:00",
          "s23-02-21 22:00",
          "s23-02-22 02:00",
          "s23-02-22 06:00",
          "s23-02-22 10:00",
          "s23-02-22 14:00",
          "s23-02-22 18:00",
          "s23-02-22 22:00",
          "s23-02-23 02:00",
          "s23-02-23 06:00",
          "s23-02-23 10:00",
          "s23-02-23 14:00",
          "s23-02-23 18:00",
          "s23-02-23 22:00",
          "s23-02-24 02:00",
          "s23-02-24 06:00",
          "s23-02-24 10:00",
          "s23-02-24 14:00",
          "s23-02-24 18:00",
          "s23-02-26 22:00",
          "s23-02-27 02:00",
          "s23-02-27 06:00",
          "s23-02-27 10:00",
          "s23-02-27 14:00",
          "s23-02-27 18:00",
          "s23-02-27 22:00",
          "s23-02-28 02:00",
          "s23-02-28 06:00",
          "s23-02-28 10:00",
          "s23-02-28 14:00",
          "s23-02-28 18:00",
          "s23-02-28 22:00",
          "s23-03-01 02:00",
          "s23-03-01 06:00",
          "s23-03-01 10:00",
          "s23-03-01 14:00",
          "s23-03-01 18:00",
          "s23-03-01 22:00",
          "s23-03-02 02:00",
          "s23-03-02 06:00",
          "s23-03-02 10:00",
          "s23-03-02 14:00",
          "s23-03-02 18:00",
          "s23-03-02 22:00",
          "s23-03-03 02:00",
          "s23-03-03 06:00",
          "s23-03-03 10:00",
          "s23-03-03 14:00",
          "s23-03-03 18:00",
          "s23-03-05 22:00",
          "s23-03-06 02:00",
          "s23-03-06 06:00",
          "s23-03-06 10:00",
          "s23-03-06 14:00",
          "s23-03-06 18:00",
          "s23-03-06 22:00",
          "s23-03-07 02:00",
          "s23-03-07 06:00",
          "s23-03-07 10:00",
          "s23-03-07 14:00",
          "s23-03-07 18:00",
          "s23-03-07 22:00",
          "s23-03-08 02:00",
          "s23-03-08 06:00",
          "s23-03-08 10:00",
          "s23-03-08 14:00",
          "s23-03-08 18:00",
          "s23-03-08 22:00",
          "s23-03-09 02:00",
          "s23-03-09 06:00",
          "s23-03-09 10:00",
          "s23-03-09 14:00",
          "s23-03-09 18:00",
          "s23-03-09 22:00",
          "s23-03-10 02:00",
          "s23-03-10 06:00",
          "s23-03-10 10:00",
          "s23-03-10 14:00",
          "s23-03-10 18:00",
          "s23-03-12 21:00",
          "s23-03-13 01:00",
          "s23-03-13 05:00",
          "s23-03-13 09:00",
          "s23-03-13 13:00",
          "s23-03-13 17:00",
          "s23-03-13 21:00",
          "s23-03-14 01:00",
          "s23-03-14 05:00",
          "s23-03-14 09:00",
          "s23-03-14 13:00",
          "s23-03-14 17:00",
          "s23-03-14 21:00",
          "s23-03-15 01:00",
          "s23-03-15 05:00",
          "s23-03-15 09:00",
          "s23-03-15 13:00",
          "s23-03-15 17:00",
          "s23-03-15 21:00",
          "s23-03-16 01:00",
          "s23-03-16 05:00",
          "s23-03-16 09:00",
          "s23-03-16 13:00",
          "s23-03-16 17:00",
          "s23-03-16 21:00",
          "s23-03-17 01:00",
          "s23-03-17 05:00",
          "s23-03-17 09:00",
          "s23-03-17 13:00",
          "s23-03-17 17:00",
          "s23-03-19 21:00",
          "s23-03-20 01:00",
          "s23-03-20 05:00",
          "s23-03-20 09:00",
          "s23-03-20 13:00",
          "s23-03-20 17:00",
          "s23-03-20 21:00",
          "s23-03-21 01:00",
          "s23-03-21 05:00",
          "s23-03-21 09:00",
          "s23-03-21 13:00",
          "s23-03-21 17:00",
          "s23-03-21 21:00",
          "s23-03-22 01:00",
          "s23-03-22 05:00",
          "s23-03-22 09:00",
          "s23-03-22 13:00",
          "s23-03-22 17:00",
          "s23-03-22 21:00",
          "s23-03-23 01:00",
          "s23-03-23 05:00",
          "s23-03-23 09:00",
          "s23-03-23 13:00",
          "s23-03-23 17:00",
          "s23-03-23 21:00",
          "s23-03-24 01:00",
          "s23-03-24 05:00",
          "s23-03-24 09:00",
          "s23-03-24 13:00",
          "s23-03-24 17:00",
          "s23-03-26 21:00",
          "s23-03-27 01:00",
          "s23-03-27 05:00",
          "s23-03-27 09:00",
          "s23-03-27 13:00",
          "s23-03-27 17:00",
          "s23-03-27 21:00",
          "s23-03-28 01:00",
          "s23-03-28 05:00",
          "s23-03-28 09:00",
          "s23-03-28 13:00",
          "s23-03-28 17:00",
          "s23-03-28 21:00",
          "s23-03-29 01:00",
          "s23-03-29 05:00",
          "s23-03-29 09:00",
          "s23-03-29 13:00",
          "s23-03-29 17:00",
          "s23-03-29 21:00",
          "s23-03-30 01:00",
          "s23-03-30 05:00",
          "s23-03-30 09:00",
          "s23-03-30 13:00",
          "s23-03-30 17:00",
          "s23-03-30 21:00",
          "s23-03-31 01:00",
          "s23-03-31 05:00",
          "s23-03-31 09:00",
          "s23-03-31 13:00",
          "s23-03-31 17:00",
          "s23-04-02 21:00",
          "s23-04-03 01:00",
          "s23-04-03 05:00",
          "s23-04-03 09:00",
          "s23-04-03 13:00",
          "s23-04-03 17:00",
          "s23-04-03 21:00",
          "s23-04-04 01:00",
          "s23-04-04 05:00",
          "s23-04-04 09:00",
          "s23-04-04 13:00",
          "s23-04-04 17:00",
          "s23-04-04 21:00",
          "s23-04-05 01:00",
          "s23-04-05 05:00",
          "s23-04-05 09:00",
          "s23-04-05 13:00",
          "s23-04-05 17:00",
          "s23-04-05 21:00",
          "s23-04-06 01:00",
          "s23-04-06 05:00",
          "s23-04-06 09:00",
          "s23-04-06 13:00",
          "s23-04-06 17:00",
          "s23-04-06 21:00",
          "s23-04-07 01:00",
          "s23-04-07 05:00",
          "s23-04-07 09:00",
          "s23-04-07 13:00",
          "s23-04-07 17:00",
          "s23-04-09 21:00",
          "s23-04-10 01:00",
          "s23-04-10 05:00",
          "s23-04-10 09:00",
          "s23-04-10 13:00",
          "s23-04-10 17:00",
          "s23-04-10 21:00",
          "s23-04-11 01:00",
          "s23-04-11 05:00",
          "s23-04-11 09:00",
          "s23-04-11 13:00",
          "s23-04-11 17:00",
          "s23-04-11 21:00",
          "s23-04-12 01:00",
          "s23-04-12 05:00",
          "s23-04-12 09:00",
          "s23-04-12 13:00",
          "s23-04-12 17:00",
          "s23-04-12 21:00",
          "s23-04-13 01:00",
          "s23-04-13 05:00",
          "s23-04-13 09:00",
          "s23-04-13 13:00",
          "s23-04-13 17:00",
          "s23-04-13 21:00",
          "s23-04-14 01:00",
          "s23-04-14 05:00",
          "s23-04-14 09:00",
          "s23-04-14 13:00",
          "s23-04-14 17:00",
          "s23-04-16 21:00",
          "s23-04-17 01:00",
          "s23-04-17 05:00",
          "s23-04-17 09:00",
          "s23-04-17 13:00",
          "s23-04-17 17:00",
          "s23-04-17 21:00",
          "s23-04-18 01:00",
          "s23-04-18 05:00",
          "s23-04-18 09:00",
          "s23-04-18 13:00",
          "s23-04-18 17:00",
          "s23-04-18 21:00",
          "s23-04-19 01:00",
          "s23-04-19 05:00",
          "s23-04-19 09:00",
          "s23-04-19 13:00",
          "s23-04-19 17:00",
          "s23-04-19 21:00",
          "s23-04-20 01:00",
          "s23-04-20 05:00",
          "s23-04-20 09:00",
          "s23-04-20 13:00",
          "s23-04-20 17:00",
          "s23-04-20 21:00",
          "s23-04-21 01:00",
          "s23-04-21 05:00",
          "s23-04-21 09:00",
          "s23-04-21 13:00",
          "s23-04-21 17:00",
          "s23-04-23 21:00",
          "s23-04-24 01:00",
          "s23-04-24 05:00",
          "s23-04-24 09:00",
          "s23-04-24 13:00",
          "s23-04-24 17:00",
          "s23-04-24 21:00",
          "s23-04-25 01:00",
          "s23-04-25 05:00",
          "s23-04-25 09:00",
          "s23-04-25 13:00",
          "s23-04-25 17:00",
          "s23-04-25 21:00",
          "s23-04-26 01:00",
          "s23-04-26 05:00",
          "s23-04-26 09:00",
          "s23-04-26 13:00",
          "s23-04-26 17:00",
          "s23-04-26 21:00",
          "s23-04-27 01:00",
          "s23-04-27 05:00",
          "s23-04-27 09:00",
          "s23-04-27 13:00",
          "s23-04-27 17:00",
          "s23-04-27 21:00",
          "s23-04-28 01:00",
          "s23-04-28 05:00",
          "s23-04-28 09:00",
          "s23-04-28 13:00",
          "s23-04-28 17:00",
          "s23-04-30 21:00",
          "s23-05-01 01:00",
          "s23-05-01 05:00",
          "s23-05-01 09:00",
          "s23-05-01 13:00",
          "s23-05-01 17:00",
          "s23-05-01 21:00",
          "s23-05-02 01:00",
          "s23-05-02 05:00",
          "s23-05-02 09:00",
          "s23-05-02 13:00",
          "s23-05-02 17:00",
          "s23-05-02 21:00",
          "s23-05-03 01:00",
          "s23-05-03 05:00",
          "s23-05-03 09:00",
          "s23-05-03 13:00",
          "s23-05-03 17:00",
          "s23-05-03 21:00",
          "s23-05-04 01:00",
          "s23-05-04 05:00",
          "s23-05-04 09:00",
          "s23-05-04 13:00",
          "s23-05-04 17:00",
          "s23-05-04 21:00",
          "s23-05-05 01:00",
          "s23-05-05 05:00",
          "s23-05-05 09:00",
          "s23-05-05 13:00",
          "s23-05-05 17:00",
          "s23-05-07 21:00",
          "s23-05-08 01:00",
          "s23-05-08 05:00",
          "s23-05-08 09:00",
          "s23-05-08 13:00",
          "s23-05-08 17:00",
          "s23-05-08 21:00",
          "s23-05-09 01:00",
          "s23-05-09 05:00",
          "s23-05-09 09:00",
          "s23-05-09 13:00",
          "s23-05-09 17:00",
          "s23-05-09 21:00",
          "s23-05-10 01:00",
          "s23-05-10 05:00",
          "s23-05-10 09:00",
          "s23-05-10 13:00",
          "s23-05-10 17:00",
          "s23-05-10 21:00",
          "s23-05-11 01:00",
          "s23-05-11 05:00",
          "s23-05-11 09:00",
          "s23-05-11 13:00",
          "s23-05-11 17:00",
          "s23-05-11 21:00",
          "s23-05-12 01:00",
          "s23-05-12 05:00",
          "s23-05-12 09:00",
          "s23-05-12 13:00",
          "s23-05-12 17:00",
          "s23-05-14 21:00",
          "s23-05-15 01:00",
          "s23-05-15 05:00",
          "s23-05-15 09:00",
          "s23-05-15 13:00",
          "s23-05-15 17:00",
          "s23-05-15 21:00",
          "s23-05-16 01:00",
          "s23-05-16 05:00",
          "s23-05-16 09:00",
          "s23-05-16 13:00",
          "s23-05-16 17:00",
          "s23-05-16 21:00",
          "s23-05-17 01:00",
          "s23-05-17 05:00",
          "s23-05-17 09:00",
          "s23-05-17 13:00",
          "s23-05-17 17:00",
          "s23-05-17 21:00",
          "s23-05-18 01:00",
          "s23-05-18 05:00",
          "s23-05-18 09:00",
          "s23-05-18 13:00",
          "s23-05-18 17:00",
          "s23-05-18 21:00",
          "s23-05-19 01:00",
          "s23-05-19 05:00",
          "s23-05-19 09:00",
          "s23-05-19 13:00",
          "s23-05-19 17:00",
          "s23-05-21 21:00",
          "s23-05-22 01:00",
          "s23-05-22 05:00",
          "s23-05-22 09:00",
          "s23-05-22 13:00",
          "s23-05-22 17:00",
          "s23-05-22 21:00",
          "s23-05-23 01:00",
          "s23-05-23 05:00",
          "s23-05-23 09:00",
          "s23-05-23 13:00",
          "s23-05-23 17:00",
          "s23-05-23 21:00",
          "s23-05-24 01:00",
          "s23-05-24 05:00",
          "s23-05-24 09:00",
          "s23-05-24 13:00",
          "s23-05-24 17:00",
          "s23-05-24 21:00",
          "s23-05-25 01:00",
          "s23-05-25 05:00",
          "s23-05-25 09:00",
          "s23-05-25 13:00",
          "s23-05-25 17:00",
          "s23-05-25 21:00",
          "s23-05-26 01:00",
          "s23-05-26 05:00",
          "s23-05-26 09:00",
          "s23-05-26 13:00",
          "s23-05-26 17:00",
          "s23-05-28 21:00",
          "s23-05-29 01:00",
          "s23-05-29 05:00",
          "s23-05-29 09:00",
          "s23-05-29 13:00",
          "s23-05-29 17:00",
          "s23-05-29 21:00",
          "s23-05-30 01:00",
          "s23-05-30 05:00"
         ],
         "y": {
          "bdata": "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",
          "dtype": "f8"
         }
        },
        {
         "line": {
          "shape": "spline",
          "width": 2
         },
         "name": "MA_50",
         "type": "scatter",
         "x": [
          "s23-02-02 02:00",
          "s23-02-02 06:00",
          "s23-02-02 10:00",
          "s23-02-02 14:00",
          "s23-02-02 18:00",
          "s23-02-02 22:00",
          "s23-02-03 02:00",
          "s23-02-03 06:00",
          "s23-02-03 10:00",
          "s23-02-03 14:00",
          "s23-02-03 18:00",
          "s23-02-05 22:00",
          "s23-02-06 02:00",
          "s23-02-06 06:00",
          "s23-02-06 10:00",
          "s23-02-06 14:00",
          "s23-02-06 18:00",
          "s23-02-06 22:00",
          "s23-02-07 02:00",
          "s23-02-07 06:00",
          "s23-02-07 10:00",
          "s23-02-07 14:00",
          "s23-02-07 18:00",
          "s23-02-07 22:00",
          "s23-02-08 02:00",
          "s23-02-08 06:00",
          "s23-02-08 10:00",
          "s23-02-08 14:00",
          "s23-02-08 18:00",
          "s23-02-08 22:00",
          "s23-02-09 02:00",
          "s23-02-09 06:00",
          "s23-02-09 10:00",
          "s23-02-09 14:00",
          "s23-02-09 18:00",
          "s23-02-09 22:00",
          "s23-02-10 02:00",
          "s23-02-10 06:00",
          "s23-02-10 10:00",
          "s23-02-10 14:00",
          "s23-02-10 18:00",
          "s23-02-12 22:00",
          "s23-02-13 02:00",
          "s23-02-13 06:00",
          "s23-02-13 10:00",
          "s23-02-13 14:00",
          "s23-02-13 18:00",
          "s23-02-13 22:00",
          "s23-02-14 02:00",
          "s23-02-14 06:00",
          "s23-02-14 10:00",
          "s23-02-14 14:00",
          "s23-02-14 18:00",
          "s23-02-14 22:00",
          "s23-02-15 02:00",
          "s23-02-15 06:00",
          "s23-02-15 10:00",
          "s23-02-15 14:00",
          "s23-02-15 18:00",
          "s23-02-15 22:00",
          "s23-02-16 02:00",
          "s23-02-16 06:00",
          "s23-02-16 10:00",
          "s23-02-16 14:00",
          "s23-02-16 18:00",
          "s23-02-16 22:00",
          "s23-02-17 02:00",
          "s23-02-17 06:00",
          "s23-02-17 10:00",
          "s23-02-17 14:00",
          "s23-02-17 18:00",
          "s23-02-19 22:00",
          "s23-02-20 02:00",
          "s23-02-20 06:00",
          "s23-02-20 10:00",
          "s23-02-20 14:00",
          "s23-02-20 18:00",
          "s23-02-20 22:00",
          "s23-02-21 02:00",
          "s23-02-21 06:00",
          "s23-02-21 10:00",
          "s23-02-21 14:00",
          "s23-02-21 18:00",
          "s23-02-21 22:00",
          "s23-02-22 02:00",
          "s23-02-22 06:00",
          "s23-02-22 10:00",
          "s23-02-22 14:00",
          "s23-02-22 18:00",
          "s23-02-22 22:00",
          "s23-02-23 02:00",
          "s23-02-23 06:00",
          "s23-02-23 10:00",
          "s23-02-23 14:00",
          "s23-02-23 18:00",
          "s23-02-23 22:00",
          "s23-02-24 02:00",
          "s23-02-24 06:00",
          "s23-02-24 10:00",
          "s23-02-24 14:00",
          "s23-02-24 18:00",
          "s23-02-26 22:00",
          "s23-02-27 02:00",
          "s23-02-27 06:00",
          "s23-02-27 10:00",
          "s23-02-27 14:00",
          "s23-02-27 18:00",
          "s23-02-27 22:00",
          "s23-02-28 02:00",
          "s23-02-28 06:00",
          "s23-02-28 10:00",
          "s23-02-28 14:00",
          "s23-02-28 18:00",
          "s23-02-28 22:00",
          "s23-03-01 02:00",
          "s23-03-01 06:00",
          "s23-03-01 10:00",
          "s23-03-01 14:00",
          "s23-03-01 18:00",
          "s23-03-01 22:00",
          "s23-03-02 02:00",
          "s23-03-02 06:00",
          "s23-03-02 10:00",
          "s23-03-02 14:00",
          "s23-03-02 18:00",
          "s23-03-02 22:00",
          "s23-03-03 02:00",
          "s23-03-03 06:00",
          "s23-03-03 10:00",
          "s23-03-03 14:00",
          "s23-03-03 18:00",
          "s23-03-05 22:00",
          "s23-03-06 02:00",
          "s23-03-06 06:00",
          "s23-03-06 10:00",
          "s23-03-06 14:00",
          "s23-03-06 18:00",
          "s23-03-06 22:00",
          "s23-03-07 02:00",
          "s23-03-07 06:00",
          "s23-03-07 10:00",
          "s23-03-07 14:00",
          "s23-03-07 18:00",
          "s23-03-07 22:00",
          "s23-03-08 02:00",
          "s23-03-08 06:00",
          "s23-03-08 10:00",
          "s23-03-08 14:00",
          "s23-03-08 18:00",
          "s23-03-08 22:00",
          "s23-03-09 02:00",
          "s23-03-09 06:00",
          "s23-03-09 10:00",
          "s23-03-09 14:00",
          "s23-03-09 18:00",
          "s23-03-09 22:00",
          "s23-03-10 02:00",
          "s23-03-10 06:00",
          "s23-03-10 10:00",
          "s23-03-10 14:00",
          "s23-03-10 18:00",
          "s23-03-12 21:00",
          "s23-03-13 01:00",
          "s23-03-13 05:00",
          "s23-03-13 09:00",
          "s23-03-13 13:00",
          "s23-03-13 17:00",
          "s23-03-13 21:00",
          "s23-03-14 01:00",
          "s23-03-14 05:00",
          "s23-03-14 09:00",
          "s23-03-14 13:00",
          "s23-03-14 17:00",
          "s23-03-14 21:00",
          "s23-03-15 01:00",
          "s23-03-15 05:00",
          "s23-03-15 09:00",
          "s23-03-15 13:00",
          "s23-03-15 17:00",
          "s23-03-15 21:00",
          "s23-03-16 01:00",
          "s23-03-16 05:00",
          "s23-03-16 09:00",
          "s23-03-16 13:00",
          "s23-03-16 17:00",
          "s23-03-16 21:00",
          "s23-03-17 01:00",
          "s23-03-17 05:00",
          "s23-03-17 09:00",
          "s23-03-17 13:00",
          "s23-03-17 17:00",
          "s23-03-19 21:00",
          "s23-03-20 01:00",
          "s23-03-20 05:00",
          "s23-03-20 09:00",
          "s23-03-20 13:00",
          "s23-03-20 17:00",
          "s23-03-20 21:00",
          "s23-03-21 01:00",
          "s23-03-21 05:00",
          "s23-03-21 09:00",
          "s23-03-21 13:00",
          "s23-03-21 17:00",
          "s23-03-21 21:00",
          "s23-03-22 01:00",
          "s23-03-22 05:00",
          "s23-03-22 09:00",
          "s23-03-22 13:00",
          "s23-03-22 17:00",
          "s23-03-22 21:00",
          "s23-03-23 01:00",
          "s23-03-23 05:00",
          "s23-03-23 09:00",
          "s23-03-23 13:00",
          "s23-03-23 17:00",
          "s23-03-23 21:00",
          "s23-03-24 01:00",
          "s23-03-24 05:00",
          "s23-03-24 09:00",
          "s23-03-24 13:00",
          "s23-03-24 17:00",
          "s23-03-26 21:00",
          "s23-03-27 01:00",
          "s23-03-27 05:00",
          "s23-03-27 09:00",
          "s23-03-27 13:00",
          "s23-03-27 17:00",
          "s23-03-27 21:00",
          "s23-03-28 01:00",
          "s23-03-28 05:00",
          "s23-03-28 09:00",
          "s23-03-28 13:00",
          "s23-03-28 17:00",
          "s23-03-28 21:00",
          "s23-03-29 01:00",
          "s23-03-29 05:00",
          "s23-03-29 09:00",
          "s23-03-29 13:00",
          "s23-03-29 17:00",
          "s23-03-29 21:00",
          "s23-03-30 01:00",
          "s23-03-30 05:00",
          "s23-03-30 09:00",
          "s23-03-30 13:00",
          "s23-03-30 17:00",
          "s23-03-30 21:00",
          "s23-03-31 01:00",
          "s23-03-31 05:00",
          "s23-03-31 09:00",
          "s23-03-31 13:00",
          "s23-03-31 17:00",
          "s23-04-02 21:00",
          "s23-04-03 01:00",
          "s23-04-03 05:00",
          "s23-04-03 09:00",
          "s23-04-03 13:00",
          "s23-04-03 17:00",
          "s23-04-03 21:00",
          "s23-04-04 01:00",
          "s23-04-04 05:00",
          "s23-04-04 09:00",
          "s23-04-04 13:00",
          "s23-04-04 17:00",
          "s23-04-04 21:00",
          "s23-04-05 01:00",
          "s23-04-05 05:00",
          "s23-04-05 09:00",
          "s23-04-05 13:00",
          "s23-04-05 17:00",
          "s23-04-05 21:00",
          "s23-04-06 01:00",
          "s23-04-06 05:00",
          "s23-04-06 09:00",
          "s23-04-06 13:00",
          "s23-04-06 17:00",
          "s23-04-06 21:00",
          "s23-04-07 01:00",
          "s23-04-07 05:00",
          "s23-04-07 09:00",
          "s23-04-07 13:00",
          "s23-04-07 17:00",
          "s23-04-09 21:00",
          "s23-04-10 01:00",
          "s23-04-10 05:00",
          "s23-04-10 09:00",
          "s23-04-10 13:00",
          "s23-04-10 17:00",
          "s23-04-10 21:00",
          "s23-04-11 01:00",
          "s23-04-11 05:00",
          "s23-04-11 09:00",
          "s23-04-11 13:00",
          "s23-04-11 17:00",
          "s23-04-11 21:00",
          "s23-04-12 01:00",
          "s23-04-12 05:00",
          "s23-04-12 09:00",
          "s23-04-12 13:00",
          "s23-04-12 17:00",
          "s23-04-12 21:00",
          "s23-04-13 01:00",
          "s23-04-13 05:00",
          "s23-04-13 09:00",
          "s23-04-13 13:00",
          "s23-04-13 17:00",
          "s23-04-13 21:00",
          "s23-04-14 01:00",
          "s23-04-14 05:00",
          "s23-04-14 09:00",
          "s23-04-14 13:00",
          "s23-04-14 17:00",
          "s23-04-16 21:00",
          "s23-04-17 01:00",
          "s23-04-17 05:00",
          "s23-04-17 09:00",
          "s23-04-17 13:00",
          "s23-04-17 17:00",
          "s23-04-17 21:00",
          "s23-04-18 01:00",
          "s23-04-18 05:00",
          "s23-04-18 09:00",
          "s23-04-18 13:00",
          "s23-04-18 17:00",
          "s23-04-18 21:00",
          "s23-04-19 01:00",
          "s23-04-19 05:00",
          "s23-04-19 09:00",
          "s23-04-19 13:00",
          "s23-04-19 17:00",
          "s23-04-19 21:00",
          "s23-04-20 01:00",
          "s23-04-20 05:00",
          "s23-04-20 09:00",
          "s23-04-20 13:00",
          "s23-04-20 17:00",
          "s23-04-20 21:00",
          "s23-04-21 01:00",
          "s23-04-21 05:00",
          "s23-04-21 09:00",
          "s23-04-21 13:00",
          "s23-04-21 17:00",
          "s23-04-23 21:00",
          "s23-04-24 01:00",
          "s23-04-24 05:00",
          "s23-04-24 09:00",
          "s23-04-24 13:00",
          "s23-04-24 17:00",
          "s23-04-24 21:00",
          "s23-04-25 01:00",
          "s23-04-25 05:00",
          "s23-04-25 09:00",
          "s23-04-25 13:00",
          "s23-04-25 17:00",
          "s23-04-25 21:00",
          "s23-04-26 01:00",
          "s23-04-26 05:00",
          "s23-04-26 09:00",
          "s23-04-26 13:00",
          "s23-04-26 17:00",
          "s23-04-26 21:00",
          "s23-04-27 01:00",
          "s23-04-27 05:00",
          "s23-04-27 09:00",
          "s23-04-27 13:00",
          "s23-04-27 17:00",
          "s23-04-27 21:00",
          "s23-04-28 01:00",
          "s23-04-28 05:00",
          "s23-04-28 09:00",
          "s23-04-28 13:00",
          "s23-04-28 17:00",
          "s23-04-30 21:00",
          "s23-05-01 01:00",
          "s23-05-01 05:00",
          "s23-05-01 09:00",
          "s23-05-01 13:00",
          "s23-05-01 17:00",
          "s23-05-01 21:00",
          "s23-05-02 01:00",
          "s23-05-02 05:00",
          "s23-05-02 09:00",
          "s23-05-02 13:00",
          "s23-05-02 17:00",
          "s23-05-02 21:00",
          "s23-05-03 01:00",
          "s23-05-03 05:00",
          "s23-05-03 09:00",
          "s23-05-03 13:00",
          "s23-05-03 17:00",
          "s23-05-03 21:00",
          "s23-05-04 01:00",
          "s23-05-04 05:00",
          "s23-05-04 09:00",
          "s23-05-04 13:00",
          "s23-05-04 17:00",
          "s23-05-04 21:00",
          "s23-05-05 01:00",
          "s23-05-05 05:00",
          "s23-05-05 09:00",
          "s23-05-05 13:00",
          "s23-05-05 17:00",
          "s23-05-07 21:00",
          "s23-05-08 01:00",
          "s23-05-08 05:00",
          "s23-05-08 09:00",
          "s23-05-08 13:00",
          "s23-05-08 17:00",
          "s23-05-08 21:00",
          "s23-05-09 01:00",
          "s23-05-09 05:00",
          "s23-05-09 09:00",
          "s23-05-09 13:00",
          "s23-05-09 17:00",
          "s23-05-09 21:00",
          "s23-05-10 01:00",
          "s23-05-10 05:00",
          "s23-05-10 09:00",
          "s23-05-10 13:00",
          "s23-05-10 17:00",
          "s23-05-10 21:00",
          "s23-05-11 01:00",
          "s23-05-11 05:00",
          "s23-05-11 09:00",
          "s23-05-11 13:00",
          "s23-05-11 17:00",
          "s23-05-11 21:00",
          "s23-05-12 01:00",
          "s23-05-12 05:00",
          "s23-05-12 09:00",
          "s23-05-12 13:00",
          "s23-05-12 17:00",
          "s23-05-14 21:00",
          "s23-05-15 01:00",
          "s23-05-15 05:00",
          "s23-05-15 09:00",
          "s23-05-15 13:00",
          "s23-05-15 17:00",
          "s23-05-15 21:00",
          "s23-05-16 01:00",
          "s23-05-16 05:00",
          "s23-05-16 09:00",
          "s23-05-16 13:00",
          "s23-05-16 17:00",
          "s23-05-16 21:00",
          "s23-05-17 01:00",
          "s23-05-17 05:00",
          "s23-05-17 09:00",
          "s23-05-17 13:00",
          "s23-05-17 17:00",
          "s23-05-17 21:00",
          "s23-05-18 01:00",
          "s23-05-18 05:00",
          "s23-05-18 09:00",
          "s23-05-18 13:00",
          "s23-05-18 17:00",
          "s23-05-18 21:00",
          "s23-05-19 01:00",
          "s23-05-19 05:00",
          "s23-05-19 09:00",
          "s23-05-19 13:00",
          "s23-05-19 17:00",
          "s23-05-21 21:00",
          "s23-05-22 01:00",
          "s23-05-22 05:00",
          "s23-05-22 09:00",
          "s23-05-22 13:00",
          "s23-05-22 17:00",
          "s23-05-22 21:00",
          "s23-05-23 01:00",
          "s23-05-23 05:00",
          "s23-05-23 09:00",
          "s23-05-23 13:00",
          "s23-05-23 17:00",
          "s23-05-23 21:00",
          "s23-05-24 01:00",
          "s23-05-24 05:00",
          "s23-05-24 09:00",
          "s23-05-24 13:00",
          "s23-05-24 17:00",
          "s23-05-24 21:00",
          "s23-05-25 01:00",
          "s23-05-25 05:00",
          "s23-05-25 09:00",
          "s23-05-25 13:00",
          "s23-05-25 17:00",
          "s23-05-25 21:00",
          "s23-05-26 01:00",
          "s23-05-26 05:00",
          "s23-05-26 09:00",
          "s23-05-26 13:00",
          "s23-05-26 17:00",
          "s23-05-28 21:00",
          "s23-05-29 01:00",
          "s23-05-29 05:00",
          "s23-05-29 09:00",
          "s23-05-29 13:00",
          "s23-05-29 17:00",
          "s23-05-29 21:00",
          "s23-05-30 01:00",
          "s23-05-30 05:00"
         ],
         "y": {
          "bdata": "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",
          "dtype": "f8"
         }
        },
        {
         "line": {
          "shape": "spline",
          "width": 2
         },
         "name": "MA_100",
         "type": "scatter",
         "x": [
          "s23-02-02 02:00",
          "s23-02-02 06:00",
          "s23-02-02 10:00",
          "s23-02-02 14:00",
          "s23-02-02 18:00",
          "s23-02-02 22:00",
          "s23-02-03 02:00",
          "s23-02-03 06:00",
          "s23-02-03 10:00",
          "s23-02-03 14:00",
          "s23-02-03 18:00",
          "s23-02-05 22:00",
          "s23-02-06 02:00",
          "s23-02-06 06:00",
          "s23-02-06 10:00",
          "s23-02-06 14:00",
          "s23-02-06 18:00",
          "s23-02-06 22:00",
          "s23-02-07 02:00",
          "s23-02-07 06:00",
          "s23-02-07 10:00",
          "s23-02-07 14:00",
          "s23-02-07 18:00",
          "s23-02-07 22:00",
          "s23-02-08 02:00",
          "s23-02-08 06:00",
          "s23-02-08 10:00",
          "s23-02-08 14:00",
          "s23-02-08 18:00",
          "s23-02-08 22:00",
          "s23-02-09 02:00",
          "s23-02-09 06:00",
          "s23-02-09 10:00",
          "s23-02-09 14:00",
          "s23-02-09 18:00",
          "s23-02-09 22:00",
          "s23-02-10 02:00",
          "s23-02-10 06:00",
          "s23-02-10 10:00",
          "s23-02-10 14:00",
          "s23-02-10 18:00",
          "s23-02-12 22:00",
          "s23-02-13 02:00",
          "s23-02-13 06:00",
          "s23-02-13 10:00",
          "s23-02-13 14:00",
          "s23-02-13 18:00",
          "s23-02-13 22:00",
          "s23-02-14 02:00",
          "s23-02-14 06:00",
          "s23-02-14 10:00",
          "s23-02-14 14:00",
          "s23-02-14 18:00",
          "s23-02-14 22:00",
          "s23-02-15 02:00",
          "s23-02-15 06:00",
          "s23-02-15 10:00",
          "s23-02-15 14:00",
          "s23-02-15 18:00",
          "s23-02-15 22:00",
          "s23-02-16 02:00",
          "s23-02-16 06:00",
          "s23-02-16 10:00",
          "s23-02-16 14:00",
          "s23-02-16 18:00",
          "s23-02-16 22:00",
          "s23-02-17 02:00",
          "s23-02-17 06:00",
          "s23-02-17 10:00",
          "s23-02-17 14:00",
          "s23-02-17 18:00",
          "s23-02-19 22:00",
          "s23-02-20 02:00",
          "s23-02-20 06:00",
          "s23-02-20 10:00",
          "s23-02-20 14:00",
          "s23-02-20 18:00",
          "s23-02-20 22:00",
          "s23-02-21 02:00",
          "s23-02-21 06:00",
          "s23-02-21 10:00",
          "s23-02-21 14:00",
          "s23-02-21 18:00",
          "s23-02-21 22:00",
          "s23-02-22 02:00",
          "s23-02-22 06:00",
          "s23-02-22 10:00",
          "s23-02-22 14:00",
          "s23-02-22 18:00",
          "s23-02-22 22:00",
          "s23-02-23 02:00",
          "s23-02-23 06:00",
          "s23-02-23 10:00",
          "s23-02-23 14:00",
          "s23-02-23 18:00",
          "s23-02-23 22:00",
          "s23-02-24 02:00",
          "s23-02-24 06:00",
          "s23-02-24 10:00",
          "s23-02-24 14:00",
          "s23-02-24 18:00",
          "s23-02-26 22:00",
          "s23-02-27 02:00",
          "s23-02-27 06:00",
          "s23-02-27 10:00",
          "s23-02-27 14:00",
          "s23-02-27 18:00",
          "s23-02-27 22:00",
          "s23-02-28 02:00",
          "s23-02-28 06:00",
          "s23-02-28 10:00",
          "s23-02-28 14:00",
          "s23-02-28 18:00",
          "s23-02-28 22:00",
          "s23-03-01 02:00",
          "s23-03-01 06:00",
          "s23-03-01 10:00",
          "s23-03-01 14:00",
          "s23-03-01 18:00",
          "s23-03-01 22:00",
          "s23-03-02 02:00",
          "s23-03-02 06:00",
          "s23-03-02 10:00",
          "s23-03-02 14:00",
          "s23-03-02 18:00",
          "s23-03-02 22:00",
          "s23-03-03 02:00",
          "s23-03-03 06:00",
          "s23-03-03 10:00",
          "s23-03-03 14:00",
          "s23-03-03 18:00",
          "s23-03-05 22:00",
          "s23-03-06 02:00",
          "s23-03-06 06:00",
          "s23-03-06 10:00",
          "s23-03-06 14:00",
          "s23-03-06 18:00",
          "s23-03-06 22:00",
          "s23-03-07 02:00",
          "s23-03-07 06:00",
          "s23-03-07 10:00",
          "s23-03-07 14:00",
          "s23-03-07 18:00",
          "s23-03-07 22:00",
          "s23-03-08 02:00",
          "s23-03-08 06:00",
          "s23-03-08 10:00",
          "s23-03-08 14:00",
          "s23-03-08 18:00",
          "s23-03-08 22:00",
          "s23-03-09 02:00",
          "s23-03-09 06:00",
          "s23-03-09 10:00",
          "s23-03-09 14:00",
          "s23-03-09 18:00",
          "s23-03-09 22:00",
          "s23-03-10 02:00",
          "s23-03-10 06:00",
          "s23-03-10 10:00",
          "s23-03-10 14:00",
          "s23-03-10 18:00",
          "s23-03-12 21:00",
          "s23-03-13 01:00",
          "s23-03-13 05:00",
          "s23-03-13 09:00",
          "s23-03-13 13:00",
          "s23-03-13 17:00",
          "s23-03-13 21:00",
          "s23-03-14 01:00",
          "s23-03-14 05:00",
          "s23-03-14 09:00",
          "s23-03-14 13:00",
          "s23-03-14 17:00",
          "s23-03-14 21:00",
          "s23-03-15 01:00",
          "s23-03-15 05:00",
          "s23-03-15 09:00",
          "s23-03-15 13:00",
          "s23-03-15 17:00",
          "s23-03-15 21:00",
          "s23-03-16 01:00",
          "s23-03-16 05:00",
          "s23-03-16 09:00",
          "s23-03-16 13:00",
          "s23-03-16 17:00",
          "s23-03-16 21:00",
          "s23-03-17 01:00",
          "s23-03-17 05:00",
          "s23-03-17 09:00",
          "s23-03-17 13:00",
          "s23-03-17 17:00",
          "s23-03-19 21:00",
          "s23-03-20 01:00",
          "s23-03-20 05:00",
          "s23-03-20 09:00",
          "s23-03-20 13:00",
          "s23-03-20 17:00",
          "s23-03-20 21:00",
          "s23-03-21 01:00",
          "s23-03-21 05:00",
          "s23-03-21 09:00",
          "s23-03-21 13:00",
          "s23-03-21 17:00",
          "s23-03-21 21:00",
          "s23-03-22 01:00",
          "s23-03-22 05:00",
          "s23-03-22 09:00",
          "s23-03-22 13:00",
          "s23-03-22 17:00",
          "s23-03-22 21:00",
          "s23-03-23 01:00",
          "s23-03-23 05:00",
          "s23-03-23 09:00",
          "s23-03-23 13:00",
          "s23-03-23 17:00",
          "s23-03-23 21:00",
          "s23-03-24 01:00",
          "s23-03-24 05:00",
          "s23-03-24 09:00",
          "s23-03-24 13:00",
          "s23-03-24 17:00",
          "s23-03-26 21:00",
          "s23-03-27 01:00",
          "s23-03-27 05:00",
          "s23-03-27 09:00",
          "s23-03-27 13:00",
          "s23-03-27 17:00",
          "s23-03-27 21:00",
          "s23-03-28 01:00",
          "s23-03-28 05:00",
          "s23-03-28 09:00",
          "s23-03-28 13:00",
          "s23-03-28 17:00",
          "s23-03-28 21:00",
          "s23-03-29 01:00",
          "s23-03-29 05:00",
          "s23-03-29 09:00",
          "s23-03-29 13:00",
          "s23-03-29 17:00",
          "s23-03-29 21:00",
          "s23-03-30 01:00",
          "s23-03-30 05:00",
          "s23-03-30 09:00",
          "s23-03-30 13:00",
          "s23-03-30 17:00",
          "s23-03-30 21:00",
          "s23-03-31 01:00",
          "s23-03-31 05:00",
          "s23-03-31 09:00",
          "s23-03-31 13:00",
          "s23-03-31 17:00",
          "s23-04-02 21:00",
          "s23-04-03 01:00",
          "s23-04-03 05:00",
          "s23-04-03 09:00",
          "s23-04-03 13:00",
          "s23-04-03 17:00",
          "s23-04-03 21:00",
          "s23-04-04 01:00",
          "s23-04-04 05:00",
          "s23-04-04 09:00",
          "s23-04-04 13:00",
          "s23-04-04 17:00",
          "s23-04-04 21:00",
          "s23-04-05 01:00",
          "s23-04-05 05:00",
          "s23-04-05 09:00",
          "s23-04-05 13:00",
          "s23-04-05 17:00",
          "s23-04-05 21:00",
          "s23-04-06 01:00",
          "s23-04-06 05:00",
          "s23-04-06 09:00",
          "s23-04-06 13:00",
          "s23-04-06 17:00",
          "s23-04-06 21:00",
          "s23-04-07 01:00",
          "s23-04-07 05:00",
          "s23-04-07 09:00",
          "s23-04-07 13:00",
          "s23-04-07 17:00",
          "s23-04-09 21:00",
          "s23-04-10 01:00",
          "s23-04-10 05:00",
          "s23-04-10 09:00",
          "s23-04-10 13:00",
          "s23-04-10 17:00",
          "s23-04-10 21:00",
          "s23-04-11 01:00",
          "s23-04-11 05:00",
          "s23-04-11 09:00",
          "s23-04-11 13:00",
          "s23-04-11 17:00",
          "s23-04-11 21:00",
          "s23-04-12 01:00",
          "s23-04-12 05:00",
          "s23-04-12 09:00",
          "s23-04-12 13:00",
          "s23-04-12 17:00",
          "s23-04-12 21:00",
          "s23-04-13 01:00",
          "s23-04-13 05:00",
          "s23-04-13 09:00",
          "s23-04-13 13:00",
          "s23-04-13 17:00",
          "s23-04-13 21:00",
          "s23-04-14 01:00",
          "s23-04-14 05:00",
          "s23-04-14 09:00",
          "s23-04-14 13:00",
          "s23-04-14 17:00",
          "s23-04-16 21:00",
          "s23-04-17 01:00",
          "s23-04-17 05:00",
          "s23-04-17 09:00",
          "s23-04-17 13:00",
          "s23-04-17 17:00",
          "s23-04-17 21:00",
          "s23-04-18 01:00",
          "s23-04-18 05:00",
          "s23-04-18 09:00",
          "s23-04-18 13:00",
          "s23-04-18 17:00",
          "s23-04-18 21:00",
          "s23-04-19 01:00",
          "s23-04-19 05:00",
          "s23-04-19 09:00",
          "s23-04-19 13:00",
          "s23-04-19 17:00",
          "s23-04-19 21:00",
          "s23-04-20 01:00",
          "s23-04-20 05:00",
          "s23-04-20 09:00",
          "s23-04-20 13:00",
          "s23-04-20 17:00",
          "s23-04-20 21:00",
          "s23-04-21 01:00",
          "s23-04-21 05:00",
          "s23-04-21 09:00",
          "s23-04-21 13:00",
          "s23-04-21 17:00",
          "s23-04-23 21:00",
          "s23-04-24 01:00",
          "s23-04-24 05:00",
          "s23-04-24 09:00",
          "s23-04-24 13:00",
          "s23-04-24 17:00",
          "s23-04-24 21:00",
          "s23-04-25 01:00",
          "s23-04-25 05:00",
          "s23-04-25 09:00",
          "s23-04-25 13:00",
          "s23-04-25 17:00",
          "s23-04-25 21:00",
          "s23-04-26 01:00",
          "s23-04-26 05:00",
          "s23-04-26 09:00",
          "s23-04-26 13:00",
          "s23-04-26 17:00",
          "s23-04-26 21:00",
          "s23-04-27 01:00",
          "s23-04-27 05:00",
          "s23-04-27 09:00",
          "s23-04-27 13:00",
          "s23-04-27 17:00",
          "s23-04-27 21:00",
          "s23-04-28 01:00",
          "s23-04-28 05:00",
          "s23-04-28 09:00",
          "s23-04-28 13:00",
          "s23-04-28 17:00",
          "s23-04-30 21:00",
          "s23-05-01 01:00",
          "s23-05-01 05:00",
          "s23-05-01 09:00",
          "s23-05-01 13:00",
          "s23-05-01 17:00",
          "s23-05-01 21:00",
          "s23-05-02 01:00",
          "s23-05-02 05:00",
          "s23-05-02 09:00",
          "s23-05-02 13:00",
          "s23-05-02 17:00",
          "s23-05-02 21:00",
          "s23-05-03 01:00",
          "s23-05-03 05:00",
          "s23-05-03 09:00",
          "s23-05-03 13:00",
          "s23-05-03 17:00",
          "s23-05-03 21:00",
          "s23-05-04 01:00",
          "s23-05-04 05:00",
          "s23-05-04 09:00",
          "s23-05-04 13:00",
          "s23-05-04 17:00",
          "s23-05-04 21:00",
          "s23-05-05 01:00",
          "s23-05-05 05:00",
          "s23-05-05 09:00",
          "s23-05-05 13:00",
          "s23-05-05 17:00",
          "s23-05-07 21:00",
          "s23-05-08 01:00",
          "s23-05-08 05:00",
          "s23-05-08 09:00",
          "s23-05-08 13:00",
          "s23-05-08 17:00",
          "s23-05-08 21:00",
          "s23-05-09 01:00",
          "s23-05-09 05:00",
          "s23-05-09 09:00",
          "s23-05-09 13:00",
          "s23-05-09 17:00",
          "s23-05-09 21:00",
          "s23-05-10 01:00",
          "s23-05-10 05:00",
          "s23-05-10 09:00",
          "s23-05-10 13:00",
          "s23-05-10 17:00",
          "s23-05-10 21:00",
          "s23-05-11 01:00",
          "s23-05-11 05:00",
          "s23-05-11 09:00",
          "s23-05-11 13:00",
          "s23-05-11 17:00",
          "s23-05-11 21:00",
          "s23-05-12 01:00",
          "s23-05-12 05:00",
          "s23-05-12 09:00",
          "s23-05-12 13:00",
          "s23-05-12 17:00",
          "s23-05-14 21:00",
          "s23-05-15 01:00",
          "s23-05-15 05:00",
          "s23-05-15 09:00",
          "s23-05-15 13:00",
          "s23-05-15 17:00",
          "s23-05-15 21:00",
          "s23-05-16 01:00",
          "s23-05-16 05:00",
          "s23-05-16 09:00",
          "s23-05-16 13:00",
          "s23-05-16 17:00",
          "s23-05-16 21:00",
          "s23-05-17 01:00",
          "s23-05-17 05:00",
          "s23-05-17 09:00",
          "s23-05-17 13:00",
          "s23-05-17 17:00",
          "s23-05-17 21:00",
          "s23-05-18 01:00",
          "s23-05-18 05:00",
          "s23-05-18 09:00",
          "s23-05-18 13:00",
          "s23-05-18 17:00",
          "s23-05-18 21:00",
          "s23-05-19 01:00",
          "s23-05-19 05:00",
          "s23-05-19 09:00",
          "s23-05-19 13:00",
          "s23-05-19 17:00",
          "s23-05-21 21:00",
          "s23-05-22 01:00",
          "s23-05-22 05:00",
          "s23-05-22 09:00",
          "s23-05-22 13:00",
          "s23-05-22 17:00",
          "s23-05-22 21:00",
          "s23-05-23 01:00",
          "s23-05-23 05:00",
          "s23-05-23 09:00",
          "s23-05-23 13:00",
          "s23-05-23 17:00",
          "s23-05-23 21:00",
          "s23-05-24 01:00",
          "s23-05-24 05:00",
          "s23-05-24 09:00",
          "s23-05-24 13:00",
          "s23-05-24 17:00",
          "s23-05-24 21:00",
          "s23-05-25 01:00",
          "s23-05-25 05:00",
          "s23-05-25 09:00",
          "s23-05-25 13:00",
          "s23-05-25 17:00",
          "s23-05-25 21:00",
          "s23-05-26 01:00",
          "s23-05-26 05:00",
          "s23-05-26 09:00",
          "s23-05-26 13:00",
          "s23-05-26 17:00",
          "s23-05-28 21:00",
          "s23-05-29 01:00",
          "s23-05-29 05:00",
          "s23-05-29 09:00",
          "s23-05-29 13:00",
          "s23-05-29 17:00",
          "s23-05-29 21:00",
          "s23-05-30 01:00",
          "s23-05-30 05:00"
         ],
         "y": {
          "bdata": "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",
          "dtype": "f8"
         }
        },
        {
         "line": {
          "shape": "spline",
          "width": 2
         },
         "name": "MA_200",
         "type": "scatter",
         "x": [
          "s23-02-02 02:00",
          "s23-02-02 06:00",
          "s23-02-02 10:00",
          "s23-02-02 14:00",
          "s23-02-02 18:00",
          "s23-02-02 22:00",
          "s23-02-03 02:00",
          "s23-02-03 06:00",
          "s23-02-03 10:00",
          "s23-02-03 14:00",
          "s23-02-03 18:00",
          "s23-02-05 22:00",
          "s23-02-06 02:00",
          "s23-02-06 06:00",
          "s23-02-06 10:00",
          "s23-02-06 14:00",
          "s23-02-06 18:00",
          "s23-02-06 22:00",
          "s23-02-07 02:00",
          "s23-02-07 06:00",
          "s23-02-07 10:00",
          "s23-02-07 14:00",
          "s23-02-07 18:00",
          "s23-02-07 22:00",
          "s23-02-08 02:00",
          "s23-02-08 06:00",
          "s23-02-08 10:00",
          "s23-02-08 14:00",
          "s23-02-08 18:00",
          "s23-02-08 22:00",
          "s23-02-09 02:00",
          "s23-02-09 06:00",
          "s23-02-09 10:00",
          "s23-02-09 14:00",
          "s23-02-09 18:00",
          "s23-02-09 22:00",
          "s23-02-10 02:00",
          "s23-02-10 06:00",
          "s23-02-10 10:00",
          "s23-02-10 14:00",
          "s23-02-10 18:00",
          "s23-02-12 22:00",
          "s23-02-13 02:00",
          "s23-02-13 06:00",
          "s23-02-13 10:00",
          "s23-02-13 14:00",
          "s23-02-13 18:00",
          "s23-02-13 22:00",
          "s23-02-14 02:00",
          "s23-02-14 06:00",
          "s23-02-14 10:00",
          "s23-02-14 14:00",
          "s23-02-14 18:00",
          "s23-02-14 22:00",
          "s23-02-15 02:00",
          "s23-02-15 06:00",
          "s23-02-15 10:00",
          "s23-02-15 14:00",
          "s23-02-15 18:00",
          "s23-02-15 22:00",
          "s23-02-16 02:00",
          "s23-02-16 06:00",
          "s23-02-16 10:00",
          "s23-02-16 14:00",
          "s23-02-16 18:00",
          "s23-02-16 22:00",
          "s23-02-17 02:00",
          "s23-02-17 06:00",
          "s23-02-17 10:00",
          "s23-02-17 14:00",
          "s23-02-17 18:00",
          "s23-02-19 22:00",
          "s23-02-20 02:00",
          "s23-02-20 06:00",
          "s23-02-20 10:00",
          "s23-02-20 14:00",
          "s23-02-20 18:00",
          "s23-02-20 22:00",
          "s23-02-21 02:00",
          "s23-02-21 06:00",
          "s23-02-21 10:00",
          "s23-02-21 14:00",
          "s23-02-21 18:00",
          "s23-02-21 22:00",
          "s23-02-22 02:00",
          "s23-02-22 06:00",
          "s23-02-22 10:00",
          "s23-02-22 14:00",
          "s23-02-22 18:00",
          "s23-02-22 22:00",
          "s23-02-23 02:00",
          "s23-02-23 06:00",
          "s23-02-23 10:00",
          "s23-02-23 14:00",
          "s23-02-23 18:00",
          "s23-02-23 22:00",
          "s23-02-24 02:00",
          "s23-02-24 06:00",
          "s23-02-24 10:00",
          "s23-02-24 14:00",
          "s23-02-24 18:00",
          "s23-02-26 22:00",
          "s23-02-27 02:00",
          "s23-02-27 06:00",
          "s23-02-27 10:00",
          "s23-02-27 14:00",
          "s23-02-27 18:00",
          "s23-02-27 22:00",
          "s23-02-28 02:00",
          "s23-02-28 06:00",
          "s23-02-28 10:00",
          "s23-02-28 14:00",
          "s23-02-28 18:00",
          "s23-02-28 22:00",
          "s23-03-01 02:00",
          "s23-03-01 06:00",
          "s23-03-01 10:00",
          "s23-03-01 14:00",
          "s23-03-01 18:00",
          "s23-03-01 22:00",
          "s23-03-02 02:00",
          "s23-03-02 06:00",
          "s23-03-02 10:00",
          "s23-03-02 14:00",
          "s23-03-02 18:00",
          "s23-03-02 22:00",
          "s23-03-03 02:00",
          "s23-03-03 06:00",
          "s23-03-03 10:00",
          "s23-03-03 14:00",
          "s23-03-03 18:00",
          "s23-03-05 22:00",
          "s23-03-06 02:00",
          "s23-03-06 06:00",
          "s23-03-06 10:00",
          "s23-03-06 14:00",
          "s23-03-06 18:00",
          "s23-03-06 22:00",
          "s23-03-07 02:00",
          "s23-03-07 06:00",
          "s23-03-07 10:00",
          "s23-03-07 14:00",
          "s23-03-07 18:00",
          "s23-03-07 22:00",
          "s23-03-08 02:00",
          "s23-03-08 06:00",
          "s23-03-08 10:00",
          "s23-03-08 14:00",
          "s23-03-08 18:00",
          "s23-03-08 22:00",
          "s23-03-09 02:00",
          "s23-03-09 06:00",
          "s23-03-09 10:00",
          "s23-03-09 14:00",
          "s23-03-09 18:00",
          "s23-03-09 22:00",
          "s23-03-10 02:00",
          "s23-03-10 06:00",
          "s23-03-10 10:00",
          "s23-03-10 14:00",
          "s23-03-10 18:00",
          "s23-03-12 21:00",
          "s23-03-13 01:00",
          "s23-03-13 05:00",
          "s23-03-13 09:00",
          "s23-03-13 13:00",
          "s23-03-13 17:00",
          "s23-03-13 21:00",
          "s23-03-14 01:00",
          "s23-03-14 05:00",
          "s23-03-14 09:00",
          "s23-03-14 13:00",
          "s23-03-14 17:00",
          "s23-03-14 21:00",
          "s23-03-15 01:00",
          "s23-03-15 05:00",
          "s23-03-15 09:00",
          "s23-03-15 13:00",
          "s23-03-15 17:00",
          "s23-03-15 21:00",
          "s23-03-16 01:00",
          "s23-03-16 05:00",
          "s23-03-16 09:00",
          "s23-03-16 13:00",
          "s23-03-16 17:00",
          "s23-03-16 21:00",
          "s23-03-17 01:00",
          "s23-03-17 05:00",
          "s23-03-17 09:00",
          "s23-03-17 13:00",
          "s23-03-17 17:00",
          "s23-03-19 21:00",
          "s23-03-20 01:00",
          "s23-03-20 05:00",
          "s23-03-20 09:00",
          "s23-03-20 13:00",
          "s23-03-20 17:00",
          "s23-03-20 21:00",
          "s23-03-21 01:00",
          "s23-03-21 05:00",
          "s23-03-21 09:00",
          "s23-03-21 13:00",
          "s23-03-21 17:00",
          "s23-03-21 21:00",
          "s23-03-22 01:00",
          "s23-03-22 05:00",
          "s23-03-22 09:00",
          "s23-03-22 13:00",
          "s23-03-22 17:00",
          "s23-03-22 21:00",
          "s23-03-23 01:00",
          "s23-03-23 05:00",
          "s23-03-23 09:00",
          "s23-03-23 13:00",
          "s23-03-23 17:00",
          "s23-03-23 21:00",
          "s23-03-24 01:00",
          "s23-03-24 05:00",
          "s23-03-24 09:00",
          "s23-03-24 13:00",
          "s23-03-24 17:00",
          "s23-03-26 21:00",
          "s23-03-27 01:00",
          "s23-03-27 05:00",
          "s23-03-27 09:00",
          "s23-03-27 13:00",
          "s23-03-27 17:00",
          "s23-03-27 21:00",
          "s23-03-28 01:00",
          "s23-03-28 05:00",
          "s23-03-28 09:00",
          "s23-03-28 13:00",
          "s23-03-28 17:00",
          "s23-03-28 21:00",
          "s23-03-29 01:00",
          "s23-03-29 05:00",
          "s23-03-29 09:00",
          "s23-03-29 13:00",
          "s23-03-29 17:00",
          "s23-03-29 21:00",
          "s23-03-30 01:00",
          "s23-03-30 05:00",
          "s23-03-30 09:00",
          "s23-03-30 13:00",
          "s23-03-30 17:00",
          "s23-03-30 21:00",
          "s23-03-31 01:00",
          "s23-03-31 05:00",
          "s23-03-31 09:00",
          "s23-03-31 13:00",
          "s23-03-31 17:00",
          "s23-04-02 21:00",
          "s23-04-03 01:00",
          "s23-04-03 05:00",
          "s23-04-03 09:00",
          "s23-04-03 13:00",
          "s23-04-03 17:00",
          "s23-04-03 21:00",
          "s23-04-04 01:00",
          "s23-04-04 05:00",
          "s23-04-04 09:00",
          "s23-04-04 13:00",
          "s23-04-04 17:00",
          "s23-04-04 21:00",
          "s23-04-05 01:00",
          "s23-04-05 05:00",
          "s23-04-05 09:00",
          "s23-04-05 13:00",
          "s23-04-05 17:00",
          "s23-04-05 21:00",
          "s23-04-06 01:00",
          "s23-04-06 05:00",
          "s23-04-06 09:00",
          "s23-04-06 13:00",
          "s23-04-06 17:00",
          "s23-04-06 21:00",
          "s23-04-07 01:00",
          "s23-04-07 05:00",
          "s23-04-07 09:00",
          "s23-04-07 13:00",
          "s23-04-07 17:00",
          "s23-04-09 21:00",
          "s23-04-10 01:00",
          "s23-04-10 05:00",
          "s23-04-10 09:00",
          "s23-04-10 13:00",
          "s23-04-10 17:00",
          "s23-04-10 21:00",
          "s23-04-11 01:00",
          "s23-04-11 05:00",
          "s23-04-11 09:00",
          "s23-04-11 13:00",
          "s23-04-11 17:00",
          "s23-04-11 21:00",
          "s23-04-12 01:00",
          "s23-04-12 05:00",
          "s23-04-12 09:00",
          "s23-04-12 13:00",
          "s23-04-12 17:00",
          "s23-04-12 21:00",
          "s23-04-13 01:00",
          "s23-04-13 05:00",
          "s23-04-13 09:00",
          "s23-04-13 13:00",
          "s23-04-13 17:00",
          "s23-04-13 21:00",
          "s23-04-14 01:00",
          "s23-04-14 05:00",
          "s23-04-14 09:00",
          "s23-04-14 13:00",
          "s23-04-14 17:00",
          "s23-04-16 21:00",
          "s23-04-17 01:00",
          "s23-04-17 05:00",
          "s23-04-17 09:00",
          "s23-04-17 13:00",
          "s23-04-17 17:00",
          "s23-04-17 21:00",
          "s23-04-18 01:00",
          "s23-04-18 05:00",
          "s23-04-18 09:00",
          "s23-04-18 13:00",
          "s23-04-18 17:00",
          "s23-04-18 21:00",
          "s23-04-19 01:00",
          "s23-04-19 05:00",
          "s23-04-19 09:00",
          "s23-04-19 13:00",
          "s23-04-19 17:00",
          "s23-04-19 21:00",
          "s23-04-20 01:00",
          "s23-04-20 05:00",
          "s23-04-20 09:00",
          "s23-04-20 13:00",
          "s23-04-20 17:00",
          "s23-04-20 21:00",
          "s23-04-21 01:00",
          "s23-04-21 05:00",
          "s23-04-21 09:00",
          "s23-04-21 13:00",
          "s23-04-21 17:00",
          "s23-04-23 21:00",
          "s23-04-24 01:00",
          "s23-04-24 05:00",
          "s23-04-24 09:00",
          "s23-04-24 13:00",
          "s23-04-24 17:00",
          "s23-04-24 21:00",
          "s23-04-25 01:00",
          "s23-04-25 05:00",
          "s23-04-25 09:00",
          "s23-04-25 13:00",
          "s23-04-25 17:00",
          "s23-04-25 21:00",
          "s23-04-26 01:00",
          "s23-04-26 05:00",
          "s23-04-26 09:00",
          "s23-04-26 13:00",
          "s23-04-26 17:00",
          "s23-04-26 21:00",
          "s23-04-27 01:00",
          "s23-04-27 05:00",
          "s23-04-27 09:00",
          "s23-04-27 13:00",
          "s23-04-27 17:00",
          "s23-04-27 21:00",
          "s23-04-28 01:00",
          "s23-04-28 05:00",
          "s23-04-28 09:00",
          "s23-04-28 13:00",
          "s23-04-28 17:00",
          "s23-04-30 21:00",
          "s23-05-01 01:00",
          "s23-05-01 05:00",
          "s23-05-01 09:00",
          "s23-05-01 13:00",
          "s23-05-01 17:00",
          "s23-05-01 21:00",
          "s23-05-02 01:00",
          "s23-05-02 05:00",
          "s23-05-02 09:00",
          "s23-05-02 13:00",
          "s23-05-02 17:00",
          "s23-05-02 21:00",
          "s23-05-03 01:00",
          "s23-05-03 05:00",
          "s23-05-03 09:00",
          "s23-05-03 13:00",
          "s23-05-03 17:00",
          "s23-05-03 21:00",
          "s23-05-04 01:00",
          "s23-05-04 05:00",
          "s23-05-04 09:00",
          "s23-05-04 13:00",
          "s23-05-04 17:00",
          "s23-05-04 21:00",
          "s23-05-05 01:00",
          "s23-05-05 05:00",
          "s23-05-05 09:00",
          "s23-05-05 13:00",
          "s23-05-05 17:00",
          "s23-05-07 21:00",
          "s23-05-08 01:00",
          "s23-05-08 05:00",
          "s23-05-08 09:00",
          "s23-05-08 13:00",
          "s23-05-08 17:00",
          "s23-05-08 21:00",
          "s23-05-09 01:00",
          "s23-05-09 05:00",
          "s23-05-09 09:00",
          "s23-05-09 13:00",
          "s23-05-09 17:00",
          "s23-05-09 21:00",
          "s23-05-10 01:00",
          "s23-05-10 05:00",
          "s23-05-10 09:00",
          "s23-05-10 13:00",
          "s23-05-10 17:00",
          "s23-05-10 21:00",
          "s23-05-11 01:00",
          "s23-05-11 05:00",
          "s23-05-11 09:00",
          "s23-05-11 13:00",
          "s23-05-11 17:00",
          "s23-05-11 21:00",
          "s23-05-12 01:00",
          "s23-05-12 05:00",
          "s23-05-12 09:00",
          "s23-05-12 13:00",
          "s23-05-12 17:00",
          "s23-05-14 21:00",
          "s23-05-15 01:00",
          "s23-05-15 05:00",
          "s23-05-15 09:00",
          "s23-05-15 13:00",
          "s23-05-15 17:00",
          "s23-05-15 21:00",
          "s23-05-16 01:00",
          "s23-05-16 05:00",
          "s23-05-16 09:00",
          "s23-05-16 13:00",
          "s23-05-16 17:00",
          "s23-05-16 21:00",
          "s23-05-17 01:00",
          "s23-05-17 05:00",
          "s23-05-17 09:00",
          "s23-05-17 13:00",
          "s23-05-17 17:00",
          "s23-05-17 21:00",
          "s23-05-18 01:00",
          "s23-05-18 05:00",
          "s23-05-18 09:00",
          "s23-05-18 13:00",
          "s23-05-18 17:00",
          "s23-05-18 21:00",
          "s23-05-19 01:00",
          "s23-05-19 05:00",
          "s23-05-19 09:00",
          "s23-05-19 13:00",
          "s23-05-19 17:00",
          "s23-05-21 21:00",
          "s23-05-22 01:00",
          "s23-05-22 05:00",
          "s23-05-22 09:00",
          "s23-05-22 13:00",
          "s23-05-22 17:00",
          "s23-05-22 21:00",
          "s23-05-23 01:00",
          "s23-05-23 05:00",
          "s23-05-23 09:00",
          "s23-05-23 13:00",
          "s23-05-23 17:00",
          "s23-05-23 21:00",
          "s23-05-24 01:00",
          "s23-05-24 05:00",
          "s23-05-24 09:00",
          "s23-05-24 13:00",
          "s23-05-24 17:00",
          "s23-05-24 21:00",
          "s23-05-25 01:00",
          "s23-05-25 05:00",
          "s23-05-25 09:00",
          "s23-05-25 13:00",
          "s23-05-25 17:00",
          "s23-05-25 21:00",
          "s23-05-26 01:00",
          "s23-05-26 05:00",
          "s23-05-26 09:00",
          "s23-05-26 13:00",
          "s23-05-26 17:00",
          "s23-05-28 21:00",
          "s23-05-29 01:00",
          "s23-05-29 05:00",
          "s23-05-29 09:00",
          "s23-05-29 13:00",
          "s23-05-29 17:00",
          "s23-05-29 21:00",
          "s23-05-30 01:00",
          "s23-05-30 05:00"
         ],
         "y": {
          "bdata": "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",
          "dtype": "f8"
         }
        }
       ],
       "layout": {
        "font": {
         "color": "#e1e1e1",
         "size": 8
        },
        "height": 400,
        "margin": {
         "b": 10,
         "l": 10,
         "r": 10,
         "t": 10
        },
        "paper_bgcolor": "#2c303c",
        "plot_bgcolor": "#2c303c",
        "template": {
         "data": {
          "bar": [
           {
            "error_x": {
             "color": "#2a3f5f"
            },
            "error_y": {
             "color": "#2a3f5f"
            },
            "marker": {
             "line": {
              "color": "#E5ECF6",
              "width": 0.5
             },
             "pattern": {
              "fillmode": "overlay",
              "size": 10,
              "solidity": 0.2
             }
            },
            "type": "bar"
           }
          ],
          "barpolar": [
           {
            "marker": {
             "line": {
              "color": "#E5ECF6",
              "width": 0.5
             },
             "pattern": {
              "fillmode": "overlay",
              "size": 10,
              "solidity": 0.2
             }
            },
            "type": "barpolar"
           }
          ],
          "carpet": [
           {
            "aaxis": {
             "endlinecolor": "#2a3f5f",
             "gridcolor": "white",
             "linecolor": "white",
             "minorgridcolor": "white",
             "startlinecolor": "#2a3f5f"
            },
            "baxis": {
             "endlinecolor": "#2a3f5f",
             "gridcolor": "white",
             "linecolor": "white",
             "minorgridcolor": "white",
             "startlinecolor": "#2a3f5f"
            },
            "type": "carpet"
           }
          ],
          "choropleth": [
           {
            "colorbar": {
             "outlinewidth": 0,
             "ticks": ""
            },
            "type": "choropleth"
           }
          ],
          "contour": [
           {
            "colorbar": {
             "outlinewidth": 0,
             "ticks": ""
            },
            "colorscale": [
             [
              0,
              "#0d0887"
             ],
             [
              0.1111111111111111,
              "#46039f"
             ],
             [
              0.2222222222222222,
              "#7201a8"
             ],
             [
              0.3333333333333333,
              "#9c179e"
             ],
             [
              0.4444444444444444,
              "#bd3786"
             ],
             [
              0.5555555555555556,
              "#d8576b"
             ],
             [
              0.6666666666666666,
              "#ed7953"
             ],
             [
              0.7777777777777778,
              "#fb9f3a"
             ],
             [
              0.8888888888888888,
              "#fdca26"
             ],
             [
              1,
              "#f0f921"
             ]
            ],
            "type": "contour"
           }
          ],
          "contourcarpet": [
           {
            "colorbar": {
             "outlinewidth": 0,
             "ticks": ""
            },
            "type": "contourcarpet"
           }
          ],
          "heatmap": [
           {
            "colorbar": {
             "outlinewidth": 0,
             "ticks": ""
            },
            "colorscale": [
             [
              0,
              "#0d0887"
             ],
             [
              0.1111111111111111,
              "#46039f"
             ],
             [
              0.2222222222222222,
              "#7201a8"
             ],
             [
              0.3333333333333333,
              "#9c179e"
             ],
             [
              0.4444444444444444,
              "#bd3786"
             ],
             [
              0.5555555555555556,
              "#d8576b"
             ],
             [
              0.6666666666666666,
              "#ed7953"
             ],
             [
              0.7777777777777778,
              "#fb9f3a"
             ],
             [
              0.8888888888888888,
              "#fdca26"
             ],
             [
              1,
              "#f0f921"
             ]
            ],
            "type": "heatmap"
           }
          ],
          "histogram": [
           {
            "marker": {
             "pattern": {
              "fillmode": "overlay",
              "size": 10,
              "solidity": 0.2
             }
            },
            "type": "histogram"
           }
          ],
          "histogram2d": [
           {
            "colorbar": {
             "outlinewidth": 0,
             "ticks": ""
            },
            "colorscale": [
             [
              0,
              "#0d0887"
             ],
             [
              0.1111111111111111,
              "#46039f"
             ],
             [
              0.2222222222222222,
              "#7201a8"
             ],
             [
              0.3333333333333333,
              "#9c179e"
             ],
             [
              0.4444444444444444,
              "#bd3786"
             ],
             [
              0.5555555555555556,
              "#d8576b"
             ],
             [
              0.6666666666666666,
              "#ed7953"
             ],
             [
              0.7777777777777778,
              "#fb9f3a"
             ],
             [
              0.8888888888888888,
              "#fdca26"
             ],
             [
              1,
              "#f0f921"
             ]
            ],
            "type": "histogram2d"
           }
          ],
          "histogram2dcontour": [
           {
            "colorbar": {
             "outlinewidth": 0,
             "ticks": ""
            },
            "colorscale": [
             [
              0,
              "#0d0887"
             ],
             [
              0.1111111111111111,
              "#46039f"
             ],
             [
              0.2222222222222222,
              "#7201a8"
             ],
             [
              0.3333333333333333,
              "#9c179e"
             ],
             [
              0.4444444444444444,
              "#bd3786"
             ],
             [
              0.5555555555555556,
              "#d8576b"
             ],
             [
              0.6666666666666666,
              "#ed7953"
             ],
             [
              0.7777777777777778,
              "#fb9f3a"
             ],
             [
              0.8888888888888888,
              "#fdca26"
             ],
             [
              1,
              "#f0f921"
             ]
            ],
            "type": "histogram2dcontour"
           }
          ],
          "mesh3d": [
           {
            "colorbar": {
             "outlinewidth": 0,
             "ticks": ""
            },
            "type": "mesh3d"
           }
          ],
          "parcoords": [
           {
            "line": {
             "colorbar": {
              "outlinewidth": 0,
              "ticks": ""
             }
            },
            "type": "parcoords"
           }
          ],
          "pie": [
           {
            "automargin": true,
            "type": "pie"
           }
          ],
          "scatter": [
           {
            "fillpattern": {
             "fillmode": "overlay",
             "size": 10,
             "solidity": 0.2
            },
            "type": "scatter"
           }
          ],
          "scatter3d": [
           {
            "line": {
             "colorbar": {
              "outlinewidth": 0,
              "ticks": ""
             }
            },
            "marker": {
             "colorbar": {
              "outlinewidth": 0,
              "ticks": ""
             }
            },
            "type": "scatter3d"
           }
          ],
          "scattercarpet": [
           {
            "marker": {
             "colorbar": {
              "outlinewidth": 0,
              "ticks": ""
             }
            },
            "type": "scattercarpet"
           }
          ],
          "scattergeo": [
           {
            "marker": {
             "colorbar": {
              "outlinewidth": 0,
              "ticks": ""
             }
            },
            "type": "scattergeo"
           }
          ],
          "scattergl": [
           {
            "marker": {
             "colorbar": {
              "outlinewidth": 0,
              "ticks": ""
             }
            },
            "type": "scattergl"
           }
          ],
          "scattermap": [
           {
            "marker": {
             "colorbar": {
              "outlinewidth": 0,
              "ticks": ""
             }
            },
            "type": "scattermap"
           }
          ],
          "scattermapbox": [
           {
            "marker": {
             "colorbar": {
              "outlinewidth": 0,
              "ticks": ""
             }
            },
            "type": "scattermapbox"
           }
          ],
          "scatterpolar": [
           {
            "marker": {
             "colorbar": {
              "outlinewidth": 0,
              "ticks": ""
             }
            },
            "type": "scatterpolar"
           }
          ],
          "scatterpolargl": [
           {
            "marker": {
             "colorbar": {
              "outlinewidth": 0,
              "ticks": ""
             }
            },
            "type": "scatterpolargl"
           }
          ],
          "scatterternary": [
           {
            "marker": {
             "colorbar": {
              "outlinewidth": 0,
              "ticks": ""
             }
            },
            "type": "scatterternary"
           }
          ],
          "surface": [
           {
            "colorbar": {
             "outlinewidth": 0,
             "ticks": ""
            },
            "colorscale": [
             [
              0,
              "#0d0887"
             ],
             [
              0.1111111111111111,
              "#46039f"
             ],
             [
              0.2222222222222222,
              "#7201a8"
             ],
             [
              0.3333333333333333,
              "#9c179e"
             ],
             [
              0.4444444444444444,
              "#bd3786"
             ],
             [
              0.5555555555555556,
              "#d8576b"
             ],
             [
              0.6666666666666666,
              "#ed7953"
             ],
             [
              0.7777777777777778,
              "#fb9f3a"
             ],
             [
              0.8888888888888888,
              "#fdca26"
             ],
             [
              1,
              "#f0f921"
             ]
            ],
            "type": "surface"
           }
          ],
          "table": [
           {
            "cells": {
             "fill": {
              "color": "#EBF0F8"
             },
             "line": {
              "color": "white"
             }
            },
            "header": {
             "fill": {
              "color": "#C8D4E3"
             },
             "line": {
              "color": "white"
             }
            },
            "type": "table"
           }
          ]
         },
         "layout": {
          "annotationdefaults": {
           "arrowcolor": "#2a3f5f",
           "arrowhead": 0,
           "arrowwidth": 1
          },
          "autotypenumbers": "strict",
          "coloraxis": {
           "colorbar": {
            "outlinewidth": 0,
            "ticks": ""
           }
          },
          "colorscale": {
           "diverging": [
            [
             0,
             "#8e0152"
            ],
            [
             0.1,
             "#c51b7d"
            ],
            [
             0.2,
             "#de77ae"
            ],
            [
             0.3,
             "#f1b6da"
            ],
            [
             0.4,
             "#fde0ef"
            ],
            [
             0.5,
             "#f7f7f7"
            ],
            [
             0.6,
             "#e6f5d0"
            ],
            [
             0.7,
             "#b8e186"
            ],
            [
             0.8,
             "#7fbc41"
            ],
            [
             0.9,
             "#4d9221"
            ],
            [
             1,
             "#276419"
            ]
           ],
           "sequential": [
            [
             0,
             "#0d0887"
            ],
            [
             0.1111111111111111,
             "#46039f"
            ],
            [
             0.2222222222222222,
             "#7201a8"
            ],
            [
             0.3333333333333333,
             "#9c179e"
            ],
            [
             0.4444444444444444,
             "#bd3786"
            ],
            [
             0.5555555555555556,
             "#d8576b"
            ],
            [
             0.6666666666666666,
             "#ed7953"
            ],
            [
             0.7777777777777778,
             "#fb9f3a"
            ],
            [
             0.8888888888888888,
             "#fdca26"
            ],
            [
             1,
             "#f0f921"
            ]
           ],
           "sequentialminus": [
            [
             0,
             "#0d0887"
            ],
            [
             0.1111111111111111,
             "#46039f"
            ],
            [
             0.2222222222222222,
             "#7201a8"
            ],
            [
             0.3333333333333333,
             "#9c179e"
            ],
            [
             0.4444444444444444,
             "#bd3786"
            ],
            [
             0.5555555555555556,
             "#d8576b"
            ],
            [
             0.6666666666666666,
             "#ed7953"
            ],
            [
             0.7777777777777778,
             "#fb9f3a"
            ],
            [
             0.8888888888888888,
             "#fdca26"
            ],
            [
             1,
             "#f0f921"
            ]
           ]
          },
          "colorway": [
           "#636efa",
           "#EF553B",
           "#00cc96",
           "#ab63fa",
           "#FFA15A",
           "#19d3f3",
           "#FF6692",
           "#B6E880",
           "#FF97FF",
           "#FECB52"
          ],
          "font": {
           "color": "#2a3f5f"
          },
          "geo": {
           "bgcolor": "white",
           "lakecolor": "white",
           "landcolor": "#E5ECF6",
           "showlakes": true,
           "showland": true,
           "subunitcolor": "white"
          },
          "hoverlabel": {
           "align": "left"
          },
          "hovermode": "closest",
          "mapbox": {
           "style": "light"
          },
          "paper_bgcolor": "white",
          "plot_bgcolor": "#E5ECF6",
          "polar": {
           "angularaxis": {
            "gridcolor": "white",
            "linecolor": "white",
            "ticks": ""
           },
           "bgcolor": "#E5ECF6",
           "radialaxis": {
            "gridcolor": "white",
            "linecolor": "white",
            "ticks": ""
           }
          },
          "scene": {
           "xaxis": {
            "backgroundcolor": "#E5ECF6",
            "gridcolor": "white",
            "gridwidth": 2,
            "linecolor": "white",
            "showbackground": true,
            "ticks": "",
            "zerolinecolor": "white"
           },
           "yaxis": {
            "backgroundcolor": "#E5ECF6",
            "gridcolor": "white",
            "gridwidth": 2,
            "linecolor": "white",
            "showbackground": true,
            "ticks": "",
            "zerolinecolor": "white"
           },
           "zaxis": {
            "backgroundcolor": "#E5ECF6",
            "gridcolor": "white",
            "gridwidth": 2,
            "linecolor": "white",
            "showbackground": true,
            "ticks": "",
            "zerolinecolor": "white"
           }
          },
          "shapedefaults": {
           "line": {
            "color": "#2a3f5f"
           }
          },
          "ternary": {
           "aaxis": {
            "gridcolor": "white",
            "linecolor": "white",
            "ticks": ""
           },
           "baxis": {
            "gridcolor": "white",
            "linecolor": "white",
            "ticks": ""
           },
           "bgcolor": "#E5ECF6",
           "caxis": {
            "gridcolor": "white",
            "linecolor": "white",
            "ticks": ""
           }
          },
          "title": {
           "x": 0.05
          },
          "xaxis": {
           "automargin": true,
           "gridcolor": "white",
           "linecolor": "white",
           "ticks": "",
           "title": {
            "standoff": 15
           },
           "zerolinecolor": "white",
           "zerolinewidth": 2
          },
          "yaxis": {
           "automargin": true,
           "gridcolor": "white",
           "linecolor": "white",
           "ticks": "",
           "title": {
            "standoff": 15
           },
           "zerolinecolor": "white",
           "zerolinewidth": 2
          }
         }
        },
        "width": 900,
        "xaxis": {
         "gridcolor": "#1f292f",
         "nticks": 5,
         "rangeslider": {
          "visible": false
         }
        },
        "yaxis": {
         "gridcolor": "#1f292f"
        }
       }
      }
     },
     "metadata": {},
     "output_type": "display_data"
    }
   ],
   "source": [
    "traces = [ f\"MA_{x}\" for x in MA_LIST ]\n",
    "\n",
    "cp.show_plot(line_traces=traces)"
   ]
  },
  {
   "cell_type": "code",
   "execution_count": 75,
   "id": "eb0b19a5",
   "metadata": {},
   "outputs": [],
   "source": [
    "MA_S = \"MA_50\"\n",
    "MA_L = \"MA_200\"\n",
    "BUY = 1\n",
    "SELL = -1\n",
    "NONE = 0"
   ]
  },
  {
   "cell_type": "code",
   "execution_count": 76,
   "id": "7a52bdfe",
   "metadata": {},
   "outputs": [],
   "source": [
    "df_an = df_ma[['time', 'mid_o', 'mid_h', 'mid_l', 'mid_c', MA_S, MA_L]].copy()"
   ]
  },
  {
   "cell_type": "code",
   "execution_count": 77,
   "id": "e2f09ae1",
   "metadata": {},
   "outputs": [
    {
     "data": {
      "text/html": [
       "<div>\n",
       "<style scoped>\n",
       "    .dataframe tbody tr th:only-of-type {\n",
       "        vertical-align: middle;\n",
       "    }\n",
       "\n",
       "    .dataframe tbody tr th {\n",
       "        vertical-align: top;\n",
       "    }\n",
       "\n",
       "    .dataframe thead th {\n",
       "        text-align: right;\n",
       "    }\n",
       "</style>\n",
       "<table border=\"1\" class=\"dataframe\">\n",
       "  <thead>\n",
       "    <tr style=\"text-align: right;\">\n",
       "      <th></th>\n",
       "      <th>time</th>\n",
       "      <th>mid_o</th>\n",
       "      <th>mid_h</th>\n",
       "      <th>mid_l</th>\n",
       "      <th>mid_c</th>\n",
       "      <th>MA_50</th>\n",
       "      <th>MA_200</th>\n",
       "    </tr>\n",
       "  </thead>\n",
       "  <tbody>\n",
       "    <tr>\n",
       "      <th>0</th>\n",
       "      <td>2023-02-02 02:00:00+00:00</td>\n",
       "      <td>159.192</td>\n",
       "      <td>159.374</td>\n",
       "      <td>159.123</td>\n",
       "      <td>159.351</td>\n",
       "      <td>160.62340</td>\n",
       "      <td>160.049875</td>\n",
       "    </tr>\n",
       "    <tr>\n",
       "      <th>1</th>\n",
       "      <td>2023-02-02 06:00:00+00:00</td>\n",
       "      <td>159.345</td>\n",
       "      <td>159.622</td>\n",
       "      <td>158.988</td>\n",
       "      <td>159.152</td>\n",
       "      <td>160.59536</td>\n",
       "      <td>160.007675</td>\n",
       "    </tr>\n",
       "    <tr>\n",
       "      <th>2</th>\n",
       "      <td>2023-02-02 10:00:00+00:00</td>\n",
       "      <td>159.152</td>\n",
       "      <td>159.375</td>\n",
       "      <td>157.552</td>\n",
       "      <td>157.976</td>\n",
       "      <td>160.53076</td>\n",
       "      <td>159.959300</td>\n",
       "    </tr>\n",
       "    <tr>\n",
       "      <th>3</th>\n",
       "      <td>2023-02-02 14:00:00+00:00</td>\n",
       "      <td>157.976</td>\n",
       "      <td>158.082</td>\n",
       "      <td>157.208</td>\n",
       "      <td>157.321</td>\n",
       "      <td>160.45558</td>\n",
       "      <td>159.912865</td>\n",
       "    </tr>\n",
       "    <tr>\n",
       "      <th>4</th>\n",
       "      <td>2023-02-02 18:00:00+00:00</td>\n",
       "      <td>157.324</td>\n",
       "      <td>157.582</td>\n",
       "      <td>157.187</td>\n",
       "      <td>157.351</td>\n",
       "      <td>160.38026</td>\n",
       "      <td>159.864420</td>\n",
       "    </tr>\n",
       "    <tr>\n",
       "      <th>5</th>\n",
       "      <td>2023-02-02 22:00:00+00:00</td>\n",
       "      <td>157.332</td>\n",
       "      <td>157.402</td>\n",
       "      <td>156.974</td>\n",
       "      <td>157.258</td>\n",
       "      <td>160.29354</td>\n",
       "      <td>159.819865</td>\n",
       "    </tr>\n",
       "    <tr>\n",
       "      <th>6</th>\n",
       "      <td>2023-02-03 02:00:00+00:00</td>\n",
       "      <td>157.255</td>\n",
       "      <td>157.262</td>\n",
       "      <td>156.829</td>\n",
       "      <td>157.082</td>\n",
       "      <td>160.19978</td>\n",
       "      <td>159.775585</td>\n",
       "    </tr>\n",
       "    <tr>\n",
       "      <th>7</th>\n",
       "      <td>2023-02-03 06:00:00+00:00</td>\n",
       "      <td>157.084</td>\n",
       "      <td>157.510</td>\n",
       "      <td>156.734</td>\n",
       "      <td>157.435</td>\n",
       "      <td>160.12100</td>\n",
       "      <td>159.734140</td>\n",
       "    </tr>\n",
       "    <tr>\n",
       "      <th>8</th>\n",
       "      <td>2023-02-03 10:00:00+00:00</td>\n",
       "      <td>157.434</td>\n",
       "      <td>157.785</td>\n",
       "      <td>157.181</td>\n",
       "      <td>157.599</td>\n",
       "      <td>160.04878</td>\n",
       "      <td>159.693385</td>\n",
       "    </tr>\n",
       "    <tr>\n",
       "      <th>9</th>\n",
       "      <td>2023-02-03 14:00:00+00:00</td>\n",
       "      <td>157.598</td>\n",
       "      <td>158.756</td>\n",
       "      <td>157.512</td>\n",
       "      <td>158.241</td>\n",
       "      <td>160.00472</td>\n",
       "      <td>159.653365</td>\n",
       "    </tr>\n",
       "    <tr>\n",
       "      <th>10</th>\n",
       "      <td>2023-02-03 18:00:00+00:00</td>\n",
       "      <td>158.241</td>\n",
       "      <td>158.244</td>\n",
       "      <td>157.973</td>\n",
       "      <td>158.144</td>\n",
       "      <td>159.96096</td>\n",
       "      <td>159.612735</td>\n",
       "    </tr>\n",
       "    <tr>\n",
       "      <th>11</th>\n",
       "      <td>2023-02-05 22:00:00+00:00</td>\n",
       "      <td>159.321</td>\n",
       "      <td>159.330</td>\n",
       "      <td>158.537</td>\n",
       "      <td>159.294</td>\n",
       "      <td>159.94154</td>\n",
       "      <td>159.576230</td>\n",
       "    </tr>\n",
       "    <tr>\n",
       "      <th>12</th>\n",
       "      <td>2023-02-06 02:00:00+00:00</td>\n",
       "      <td>159.296</td>\n",
       "      <td>159.436</td>\n",
       "      <td>158.724</td>\n",
       "      <td>158.972</td>\n",
       "      <td>159.90776</td>\n",
       "      <td>159.539645</td>\n",
       "    </tr>\n",
       "    <tr>\n",
       "      <th>13</th>\n",
       "      <td>2023-02-06 06:00:00+00:00</td>\n",
       "      <td>158.972</td>\n",
       "      <td>159.141</td>\n",
       "      <td>158.762</td>\n",
       "      <td>158.822</td>\n",
       "      <td>159.87270</td>\n",
       "      <td>159.499545</td>\n",
       "    </tr>\n",
       "    <tr>\n",
       "      <th>14</th>\n",
       "      <td>2023-02-06 10:00:00+00:00</td>\n",
       "      <td>158.822</td>\n",
       "      <td>159.772</td>\n",
       "      <td>158.748</td>\n",
       "      <td>159.715</td>\n",
       "      <td>159.85236</td>\n",
       "      <td>159.492850</td>\n",
       "    </tr>\n",
       "    <tr>\n",
       "      <th>15</th>\n",
       "      <td>2023-02-06 14:00:00+00:00</td>\n",
       "      <td>159.713</td>\n",
       "      <td>159.956</td>\n",
       "      <td>159.354</td>\n",
       "      <td>159.490</td>\n",
       "      <td>159.84508</td>\n",
       "      <td>159.488015</td>\n",
       "    </tr>\n",
       "    <tr>\n",
       "      <th>16</th>\n",
       "      <td>2023-02-06 18:00:00+00:00</td>\n",
       "      <td>159.490</td>\n",
       "      <td>159.553</td>\n",
       "      <td>159.314</td>\n",
       "      <td>159.448</td>\n",
       "      <td>159.83300</td>\n",
       "      <td>159.482335</td>\n",
       "    </tr>\n",
       "    <tr>\n",
       "      <th>17</th>\n",
       "      <td>2023-02-06 22:00:00+00:00</td>\n",
       "      <td>159.497</td>\n",
       "      <td>159.580</td>\n",
       "      <td>159.290</td>\n",
       "      <td>159.450</td>\n",
       "      <td>159.81220</td>\n",
       "      <td>159.483295</td>\n",
       "    </tr>\n",
       "    <tr>\n",
       "      <th>18</th>\n",
       "      <td>2023-02-07 02:00:00+00:00</td>\n",
       "      <td>159.450</td>\n",
       "      <td>159.510</td>\n",
       "      <td>159.221</td>\n",
       "      <td>159.354</td>\n",
       "      <td>159.78560</td>\n",
       "      <td>159.477765</td>\n",
       "    </tr>\n",
       "    <tr>\n",
       "      <th>19</th>\n",
       "      <td>2023-02-07 06:00:00+00:00</td>\n",
       "      <td>159.350</td>\n",
       "      <td>159.354</td>\n",
       "      <td>158.236</td>\n",
       "      <td>158.238</td>\n",
       "      <td>159.74326</td>\n",
       "      <td>159.464865</td>\n",
       "    </tr>\n",
       "    <tr>\n",
       "      <th>20</th>\n",
       "      <td>2023-02-07 10:00:00+00:00</td>\n",
       "      <td>158.240</td>\n",
       "      <td>158.452</td>\n",
       "      <td>157.862</td>\n",
       "      <td>158.000</td>\n",
       "      <td>159.69552</td>\n",
       "      <td>159.450680</td>\n",
       "    </tr>\n",
       "    <tr>\n",
       "      <th>21</th>\n",
       "      <td>2023-02-07 14:00:00+00:00</td>\n",
       "      <td>158.002</td>\n",
       "      <td>158.176</td>\n",
       "      <td>157.538</td>\n",
       "      <td>157.788</td>\n",
       "      <td>159.63234</td>\n",
       "      <td>159.440520</td>\n",
       "    </tr>\n",
       "    <tr>\n",
       "      <th>22</th>\n",
       "      <td>2023-02-07 18:00:00+00:00</td>\n",
       "      <td>157.792</td>\n",
       "      <td>158.022</td>\n",
       "      <td>157.434</td>\n",
       "      <td>157.910</td>\n",
       "      <td>159.57160</td>\n",
       "      <td>159.426950</td>\n",
       "    </tr>\n",
       "    <tr>\n",
       "      <th>23</th>\n",
       "      <td>2023-02-07 22:00:00+00:00</td>\n",
       "      <td>157.901</td>\n",
       "      <td>158.108</td>\n",
       "      <td>157.616</td>\n",
       "      <td>158.064</td>\n",
       "      <td>159.50700</td>\n",
       "      <td>159.418690</td>\n",
       "    </tr>\n",
       "    <tr>\n",
       "      <th>24</th>\n",
       "      <td>2023-02-08 02:00:00+00:00</td>\n",
       "      <td>158.065</td>\n",
       "      <td>158.254</td>\n",
       "      <td>157.970</td>\n",
       "      <td>158.020</td>\n",
       "      <td>159.43430</td>\n",
       "      <td>159.408650</td>\n",
       "    </tr>\n",
       "    <tr>\n",
       "      <th>25</th>\n",
       "      <td>2023-02-08 06:00:00+00:00</td>\n",
       "      <td>158.018</td>\n",
       "      <td>158.433</td>\n",
       "      <td>157.938</td>\n",
       "      <td>158.187</td>\n",
       "      <td>159.38068</td>\n",
       "      <td>159.400975</td>\n",
       "    </tr>\n",
       "    <tr>\n",
       "      <th>26</th>\n",
       "      <td>2023-02-08 10:00:00+00:00</td>\n",
       "      <td>158.184</td>\n",
       "      <td>158.684</td>\n",
       "      <td>158.044</td>\n",
       "      <td>158.598</td>\n",
       "      <td>159.33392</td>\n",
       "      <td>159.394645</td>\n",
       "    </tr>\n",
       "    <tr>\n",
       "      <th>27</th>\n",
       "      <td>2023-02-08 14:00:00+00:00</td>\n",
       "      <td>158.600</td>\n",
       "      <td>158.836</td>\n",
       "      <td>158.421</td>\n",
       "      <td>158.616</td>\n",
       "      <td>159.29350</td>\n",
       "      <td>159.389305</td>\n",
       "    </tr>\n",
       "    <tr>\n",
       "      <th>28</th>\n",
       "      <td>2023-02-08 18:00:00+00:00</td>\n",
       "      <td>158.614</td>\n",
       "      <td>158.692</td>\n",
       "      <td>158.498</td>\n",
       "      <td>158.674</td>\n",
       "      <td>159.25774</td>\n",
       "      <td>159.386495</td>\n",
       "    </tr>\n",
       "    <tr>\n",
       "      <th>29</th>\n",
       "      <td>2023-02-08 22:00:00+00:00</td>\n",
       "      <td>158.608</td>\n",
       "      <td>159.014</td>\n",
       "      <td>158.428</td>\n",
       "      <td>158.824</td>\n",
       "      <td>159.21450</td>\n",
       "      <td>159.384865</td>\n",
       "    </tr>\n",
       "    <tr>\n",
       "      <th>30</th>\n",
       "      <td>2023-02-09 02:00:00+00:00</td>\n",
       "      <td>158.822</td>\n",
       "      <td>159.162</td>\n",
       "      <td>158.115</td>\n",
       "      <td>158.818</td>\n",
       "      <td>159.17340</td>\n",
       "      <td>159.382090</td>\n",
       "    </tr>\n",
       "    <tr>\n",
       "      <th>31</th>\n",
       "      <td>2023-02-09 06:00:00+00:00</td>\n",
       "      <td>158.820</td>\n",
       "      <td>158.960</td>\n",
       "      <td>158.472</td>\n",
       "      <td>158.858</td>\n",
       "      <td>159.12292</td>\n",
       "      <td>159.377680</td>\n",
       "    </tr>\n",
       "    <tr>\n",
       "      <th>32</th>\n",
       "      <td>2023-02-09 10:00:00+00:00</td>\n",
       "      <td>158.856</td>\n",
       "      <td>159.156</td>\n",
       "      <td>158.773</td>\n",
       "      <td>158.991</td>\n",
       "      <td>159.08854</td>\n",
       "      <td>159.374235</td>\n",
       "    </tr>\n",
       "    <tr>\n",
       "      <th>33</th>\n",
       "      <td>2023-02-09 14:00:00+00:00</td>\n",
       "      <td>158.990</td>\n",
       "      <td>159.419</td>\n",
       "      <td>158.930</td>\n",
       "      <td>159.248</td>\n",
       "      <td>159.05210</td>\n",
       "      <td>159.370720</td>\n",
       "    </tr>\n",
       "    <tr>\n",
       "      <th>34</th>\n",
       "      <td>2023-02-09 18:00:00+00:00</td>\n",
       "      <td>159.248</td>\n",
       "      <td>159.510</td>\n",
       "      <td>159.216</td>\n",
       "      <td>159.386</td>\n",
       "      <td>159.01894</td>\n",
       "      <td>159.368050</td>\n",
       "    </tr>\n",
       "    <tr>\n",
       "      <th>35</th>\n",
       "      <td>2023-02-09 22:00:00+00:00</td>\n",
       "      <td>159.466</td>\n",
       "      <td>159.638</td>\n",
       "      <td>159.227</td>\n",
       "      <td>159.397</td>\n",
       "      <td>158.98222</td>\n",
       "      <td>159.364435</td>\n",
       "    </tr>\n",
       "    <tr>\n",
       "      <th>36</th>\n",
       "      <td>2023-02-10 02:00:00+00:00</td>\n",
       "      <td>159.400</td>\n",
       "      <td>159.431</td>\n",
       "      <td>159.094</td>\n",
       "      <td>159.198</td>\n",
       "      <td>158.94402</td>\n",
       "      <td>159.360280</td>\n",
       "    </tr>\n",
       "    <tr>\n",
       "      <th>37</th>\n",
       "      <td>2023-02-10 06:00:00+00:00</td>\n",
       "      <td>159.196</td>\n",
       "      <td>159.346</td>\n",
       "      <td>157.539</td>\n",
       "      <td>158.436</td>\n",
       "      <td>158.89406</td>\n",
       "      <td>159.348710</td>\n",
       "    </tr>\n",
       "    <tr>\n",
       "      <th>38</th>\n",
       "      <td>2023-02-10 10:00:00+00:00</td>\n",
       "      <td>158.435</td>\n",
       "      <td>158.692</td>\n",
       "      <td>158.166</td>\n",
       "      <td>158.330</td>\n",
       "      <td>158.84798</td>\n",
       "      <td>159.337215</td>\n",
       "    </tr>\n",
       "    <tr>\n",
       "      <th>39</th>\n",
       "      <td>2023-02-10 14:00:00+00:00</td>\n",
       "      <td>158.330</td>\n",
       "      <td>158.960</td>\n",
       "      <td>158.260</td>\n",
       "      <td>158.442</td>\n",
       "      <td>158.80250</td>\n",
       "      <td>159.326235</td>\n",
       "    </tr>\n",
       "    <tr>\n",
       "      <th>40</th>\n",
       "      <td>2023-02-10 18:00:00+00:00</td>\n",
       "      <td>158.445</td>\n",
       "      <td>158.638</td>\n",
       "      <td>158.224</td>\n",
       "      <td>158.472</td>\n",
       "      <td>158.77088</td>\n",
       "      <td>159.316225</td>\n",
       "    </tr>\n",
       "    <tr>\n",
       "      <th>41</th>\n",
       "      <td>2023-02-12 22:00:00+00:00</td>\n",
       "      <td>158.472</td>\n",
       "      <td>158.805</td>\n",
       "      <td>158.415</td>\n",
       "      <td>158.654</td>\n",
       "      <td>158.73434</td>\n",
       "      <td>159.307630</td>\n",
       "    </tr>\n",
       "    <tr>\n",
       "      <th>42</th>\n",
       "      <td>2023-02-13 02:00:00+00:00</td>\n",
       "      <td>158.654</td>\n",
       "      <td>159.272</td>\n",
       "      <td>158.642</td>\n",
       "      <td>159.228</td>\n",
       "      <td>158.71342</td>\n",
       "      <td>159.300605</td>\n",
       "    </tr>\n",
       "    <tr>\n",
       "      <th>43</th>\n",
       "      <td>2023-02-13 06:00:00+00:00</td>\n",
       "      <td>159.230</td>\n",
       "      <td>159.884</td>\n",
       "      <td>159.168</td>\n",
       "      <td>159.728</td>\n",
       "      <td>158.70670</td>\n",
       "      <td>159.295200</td>\n",
       "    </tr>\n",
       "    <tr>\n",
       "      <th>44</th>\n",
       "      <td>2023-02-13 10:00:00+00:00</td>\n",
       "      <td>159.729</td>\n",
       "      <td>160.578</td>\n",
       "      <td>159.522</td>\n",
       "      <td>160.422</td>\n",
       "      <td>158.70594</td>\n",
       "      <td>159.291150</td>\n",
       "    </tr>\n",
       "    <tr>\n",
       "      <th>45</th>\n",
       "      <td>2023-02-13 14:00:00+00:00</td>\n",
       "      <td>160.424</td>\n",
       "      <td>161.196</td>\n",
       "      <td>160.344</td>\n",
       "      <td>160.888</td>\n",
       "      <td>158.72424</td>\n",
       "      <td>159.289385</td>\n",
       "    </tr>\n",
       "    <tr>\n",
       "      <th>46</th>\n",
       "      <td>2023-02-13 18:00:00+00:00</td>\n",
       "      <td>160.892</td>\n",
       "      <td>160.985</td>\n",
       "      <td>160.526</td>\n",
       "      <td>160.758</td>\n",
       "      <td>158.74636</td>\n",
       "      <td>159.284615</td>\n",
       "    </tr>\n",
       "    <tr>\n",
       "      <th>47</th>\n",
       "      <td>2023-02-13 22:00:00+00:00</td>\n",
       "      <td>160.740</td>\n",
       "      <td>160.824</td>\n",
       "      <td>160.278</td>\n",
       "      <td>160.328</td>\n",
       "      <td>158.77308</td>\n",
       "      <td>159.278230</td>\n",
       "    </tr>\n",
       "    <tr>\n",
       "      <th>48</th>\n",
       "      <td>2023-02-14 02:00:00+00:00</td>\n",
       "      <td>160.324</td>\n",
       "      <td>160.516</td>\n",
       "      <td>160.110</td>\n",
       "      <td>160.176</td>\n",
       "      <td>158.78648</td>\n",
       "      <td>159.270935</td>\n",
       "    </tr>\n",
       "    <tr>\n",
       "      <th>49</th>\n",
       "      <td>2023-02-14 06:00:00+00:00</td>\n",
       "      <td>160.182</td>\n",
       "      <td>160.915</td>\n",
       "      <td>160.118</td>\n",
       "      <td>160.910</td>\n",
       "      <td>158.82084</td>\n",
       "      <td>159.270355</td>\n",
       "    </tr>\n",
       "  </tbody>\n",
       "</table>\n",
       "</div>"
      ],
      "text/plain": [
       "                        time    mid_o    mid_h    mid_l    mid_c      MA_50  \\\n",
       "0  2023-02-02 02:00:00+00:00  159.192  159.374  159.123  159.351  160.62340   \n",
       "1  2023-02-02 06:00:00+00:00  159.345  159.622  158.988  159.152  160.59536   \n",
       "2  2023-02-02 10:00:00+00:00  159.152  159.375  157.552  157.976  160.53076   \n",
       "3  2023-02-02 14:00:00+00:00  157.976  158.082  157.208  157.321  160.45558   \n",
       "4  2023-02-02 18:00:00+00:00  157.324  157.582  157.187  157.351  160.38026   \n",
       "5  2023-02-02 22:00:00+00:00  157.332  157.402  156.974  157.258  160.29354   \n",
       "6  2023-02-03 02:00:00+00:00  157.255  157.262  156.829  157.082  160.19978   \n",
       "7  2023-02-03 06:00:00+00:00  157.084  157.510  156.734  157.435  160.12100   \n",
       "8  2023-02-03 10:00:00+00:00  157.434  157.785  157.181  157.599  160.04878   \n",
       "9  2023-02-03 14:00:00+00:00  157.598  158.756  157.512  158.241  160.00472   \n",
       "10 2023-02-03 18:00:00+00:00  158.241  158.244  157.973  158.144  159.96096   \n",
       "11 2023-02-05 22:00:00+00:00  159.321  159.330  158.537  159.294  159.94154   \n",
       "12 2023-02-06 02:00:00+00:00  159.296  159.436  158.724  158.972  159.90776   \n",
       "13 2023-02-06 06:00:00+00:00  158.972  159.141  158.762  158.822  159.87270   \n",
       "14 2023-02-06 10:00:00+00:00  158.822  159.772  158.748  159.715  159.85236   \n",
       "15 2023-02-06 14:00:00+00:00  159.713  159.956  159.354  159.490  159.84508   \n",
       "16 2023-02-06 18:00:00+00:00  159.490  159.553  159.314  159.448  159.83300   \n",
       "17 2023-02-06 22:00:00+00:00  159.497  159.580  159.290  159.450  159.81220   \n",
       "18 2023-02-07 02:00:00+00:00  159.450  159.510  159.221  159.354  159.78560   \n",
       "19 2023-02-07 06:00:00+00:00  159.350  159.354  158.236  158.238  159.74326   \n",
       "20 2023-02-07 10:00:00+00:00  158.240  158.452  157.862  158.000  159.69552   \n",
       "21 2023-02-07 14:00:00+00:00  158.002  158.176  157.538  157.788  159.63234   \n",
       "22 2023-02-07 18:00:00+00:00  157.792  158.022  157.434  157.910  159.57160   \n",
       "23 2023-02-07 22:00:00+00:00  157.901  158.108  157.616  158.064  159.50700   \n",
       "24 2023-02-08 02:00:00+00:00  158.065  158.254  157.970  158.020  159.43430   \n",
       "25 2023-02-08 06:00:00+00:00  158.018  158.433  157.938  158.187  159.38068   \n",
       "26 2023-02-08 10:00:00+00:00  158.184  158.684  158.044  158.598  159.33392   \n",
       "27 2023-02-08 14:00:00+00:00  158.600  158.836  158.421  158.616  159.29350   \n",
       "28 2023-02-08 18:00:00+00:00  158.614  158.692  158.498  158.674  159.25774   \n",
       "29 2023-02-08 22:00:00+00:00  158.608  159.014  158.428  158.824  159.21450   \n",
       "30 2023-02-09 02:00:00+00:00  158.822  159.162  158.115  158.818  159.17340   \n",
       "31 2023-02-09 06:00:00+00:00  158.820  158.960  158.472  158.858  159.12292   \n",
       "32 2023-02-09 10:00:00+00:00  158.856  159.156  158.773  158.991  159.08854   \n",
       "33 2023-02-09 14:00:00+00:00  158.990  159.419  158.930  159.248  159.05210   \n",
       "34 2023-02-09 18:00:00+00:00  159.248  159.510  159.216  159.386  159.01894   \n",
       "35 2023-02-09 22:00:00+00:00  159.466  159.638  159.227  159.397  158.98222   \n",
       "36 2023-02-10 02:00:00+00:00  159.400  159.431  159.094  159.198  158.94402   \n",
       "37 2023-02-10 06:00:00+00:00  159.196  159.346  157.539  158.436  158.89406   \n",
       "38 2023-02-10 10:00:00+00:00  158.435  158.692  158.166  158.330  158.84798   \n",
       "39 2023-02-10 14:00:00+00:00  158.330  158.960  158.260  158.442  158.80250   \n",
       "40 2023-02-10 18:00:00+00:00  158.445  158.638  158.224  158.472  158.77088   \n",
       "41 2023-02-12 22:00:00+00:00  158.472  158.805  158.415  158.654  158.73434   \n",
       "42 2023-02-13 02:00:00+00:00  158.654  159.272  158.642  159.228  158.71342   \n",
       "43 2023-02-13 06:00:00+00:00  159.230  159.884  159.168  159.728  158.70670   \n",
       "44 2023-02-13 10:00:00+00:00  159.729  160.578  159.522  160.422  158.70594   \n",
       "45 2023-02-13 14:00:00+00:00  160.424  161.196  160.344  160.888  158.72424   \n",
       "46 2023-02-13 18:00:00+00:00  160.892  160.985  160.526  160.758  158.74636   \n",
       "47 2023-02-13 22:00:00+00:00  160.740  160.824  160.278  160.328  158.77308   \n",
       "48 2023-02-14 02:00:00+00:00  160.324  160.516  160.110  160.176  158.78648   \n",
       "49 2023-02-14 06:00:00+00:00  160.182  160.915  160.118  160.910  158.82084   \n",
       "\n",
       "        MA_200  \n",
       "0   160.049875  \n",
       "1   160.007675  \n",
       "2   159.959300  \n",
       "3   159.912865  \n",
       "4   159.864420  \n",
       "5   159.819865  \n",
       "6   159.775585  \n",
       "7   159.734140  \n",
       "8   159.693385  \n",
       "9   159.653365  \n",
       "10  159.612735  \n",
       "11  159.576230  \n",
       "12  159.539645  \n",
       "13  159.499545  \n",
       "14  159.492850  \n",
       "15  159.488015  \n",
       "16  159.482335  \n",
       "17  159.483295  \n",
       "18  159.477765  \n",
       "19  159.464865  \n",
       "20  159.450680  \n",
       "21  159.440520  \n",
       "22  159.426950  \n",
       "23  159.418690  \n",
       "24  159.408650  \n",
       "25  159.400975  \n",
       "26  159.394645  \n",
       "27  159.389305  \n",
       "28  159.386495  \n",
       "29  159.384865  \n",
       "30  159.382090  \n",
       "31  159.377680  \n",
       "32  159.374235  \n",
       "33  159.370720  \n",
       "34  159.368050  \n",
       "35  159.364435  \n",
       "36  159.360280  \n",
       "37  159.348710  \n",
       "38  159.337215  \n",
       "39  159.326235  \n",
       "40  159.316225  \n",
       "41  159.307630  \n",
       "42  159.300605  \n",
       "43  159.295200  \n",
       "44  159.291150  \n",
       "45  159.289385  \n",
       "46  159.284615  \n",
       "47  159.278230  \n",
       "48  159.270935  \n",
       "49  159.270355  "
      ]
     },
     "execution_count": 77,
     "metadata": {},
     "output_type": "execute_result"
    }
   ],
   "source": [
    "df_an.head(50)"
   ]
  },
  {
   "cell_type": "code",
   "execution_count": 80,
   "id": "7780cb58",
   "metadata": {},
   "outputs": [],
   "source": [
    "df_an['DELTA'] = df_an.MA_50 - df_an.MA_200\n",
    "df_an['DELTA_PREV'] = df_an.DELTA.shift(1)"
   ]
  },
  {
   "cell_type": "code",
   "execution_count": 81,
   "id": "a569afb2",
   "metadata": {},
   "outputs": [],
   "source": [
    "def is_trade(row):\n",
    "    if row.DELTA >= 0 and row.DELTA_PREV < 0:\n",
    "        return BUY\n",
    "    if row.DELTA < 0 and row.DELTA_PREV >=0:\n",
    "        return SELL\n",
    "    return NONE"
   ]
  },
  {
   "cell_type": "code",
   "execution_count": 82,
   "id": "cea58d7d",
   "metadata": {},
   "outputs": [],
   "source": [
    "df_an['TRADE'] = df_an.apply(is_trade, axis=1)"
   ]
  },
  {
   "cell_type": "code",
   "execution_count": 83,
   "id": "97c9f7ce",
   "metadata": {},
   "outputs": [],
   "source": [
    "df_trades = df_an[df_an.TRADE != NONE]"
   ]
  },
  {
   "cell_type": "code",
   "execution_count": 84,
   "id": "cb25dca7",
   "metadata": {},
   "outputs": [
    {
     "data": {
      "text/plain": [
       "(18, 10)"
      ]
     },
     "execution_count": 84,
     "metadata": {},
     "output_type": "execute_result"
    }
   ],
   "source": [
    "df_trades.shape"
   ]
  },
  {
   "cell_type": "code",
   "execution_count": 85,
   "id": "81503714",
   "metadata": {},
   "outputs": [
    {
     "data": {
      "text/html": [
       "<div>\n",
       "<style scoped>\n",
       "    .dataframe tbody tr th:only-of-type {\n",
       "        vertical-align: middle;\n",
       "    }\n",
       "\n",
       "    .dataframe tbody tr th {\n",
       "        vertical-align: top;\n",
       "    }\n",
       "\n",
       "    .dataframe thead th {\n",
       "        text-align: right;\n",
       "    }\n",
       "</style>\n",
       "<table border=\"1\" class=\"dataframe\">\n",
       "  <thead>\n",
       "    <tr style=\"text-align: right;\">\n",
       "      <th></th>\n",
       "      <th>time</th>\n",
       "      <th>mid_o</th>\n",
       "      <th>mid_h</th>\n",
       "      <th>mid_l</th>\n",
       "      <th>mid_c</th>\n",
       "      <th>MA_50</th>\n",
       "      <th>MA_200</th>\n",
       "      <th>DELTA</th>\n",
       "      <th>DELTA_PREV</th>\n",
       "      <th>TRADE</th>\n",
       "    </tr>\n",
       "  </thead>\n",
       "  <tbody>\n",
       "    <tr>\n",
       "      <th>25</th>\n",
       "      <td>2023-02-08 06:00:00+00:00</td>\n",
       "      <td>158.018</td>\n",
       "      <td>158.433</td>\n",
       "      <td>157.938</td>\n",
       "      <td>158.187</td>\n",
       "      <td>159.38068</td>\n",
       "      <td>159.400975</td>\n",
       "      <td>-0.020295</td>\n",
       "      <td>0.025650</td>\n",
       "      <td>-1</td>\n",
       "    </tr>\n",
       "    <tr>\n",
       "      <th>56</th>\n",
       "      <td>2023-02-15 10:00:00+00:00</td>\n",
       "      <td>161.322</td>\n",
       "      <td>161.342</td>\n",
       "      <td>160.807</td>\n",
       "      <td>160.874</td>\n",
       "      <td>159.32708</td>\n",
       "      <td>159.310035</td>\n",
       "      <td>0.017045</td>\n",
       "      <td>-0.053115</td>\n",
       "      <td>1</td>\n",
       "    </tr>\n",
       "    <tr>\n",
       "      <th>209</th>\n",
       "      <td>2023-03-22 21:00:00+00:00</td>\n",
       "      <td>161.288</td>\n",
       "      <td>161.472</td>\n",
       "      <td>160.806</td>\n",
       "      <td>160.900</td>\n",
       "      <td>161.67648</td>\n",
       "      <td>161.694610</td>\n",
       "      <td>-0.018130</td>\n",
       "      <td>0.027045</td>\n",
       "      <td>-1</td>\n",
       "    </tr>\n",
       "    <tr>\n",
       "      <th>259</th>\n",
       "      <td>2023-04-04 05:00:00+00:00</td>\n",
       "      <td>164.750</td>\n",
       "      <td>165.810</td>\n",
       "      <td>164.632</td>\n",
       "      <td>165.803</td>\n",
       "      <td>162.49918</td>\n",
       "      <td>162.434870</td>\n",
       "      <td>0.064310</td>\n",
       "      <td>-0.010555</td>\n",
       "      <td>1</td>\n",
       "    </tr>\n",
       "    <tr>\n",
       "      <th>750</th>\n",
       "      <td>2023-07-27 01:00:00+00:00</td>\n",
       "      <td>181.621</td>\n",
       "      <td>181.666</td>\n",
       "      <td>180.819</td>\n",
       "      <td>181.472</td>\n",
       "      <td>181.22118</td>\n",
       "      <td>181.232550</td>\n",
       "      <td>-0.011370</td>\n",
       "      <td>0.024355</td>\n",
       "      <td>-1</td>\n",
       "    </tr>\n",
       "  </tbody>\n",
       "</table>\n",
       "</div>"
      ],
      "text/plain": [
       "                         time    mid_o    mid_h    mid_l    mid_c      MA_50  \\\n",
       "25  2023-02-08 06:00:00+00:00  158.018  158.433  157.938  158.187  159.38068   \n",
       "56  2023-02-15 10:00:00+00:00  161.322  161.342  160.807  160.874  159.32708   \n",
       "209 2023-03-22 21:00:00+00:00  161.288  161.472  160.806  160.900  161.67648   \n",
       "259 2023-04-04 05:00:00+00:00  164.750  165.810  164.632  165.803  162.49918   \n",
       "750 2023-07-27 01:00:00+00:00  181.621  181.666  180.819  181.472  181.22118   \n",
       "\n",
       "         MA_200     DELTA  DELTA_PREV  TRADE  \n",
       "25   159.400975 -0.020295    0.025650     -1  \n",
       "56   159.310035  0.017045   -0.053115      1  \n",
       "209  161.694610 -0.018130    0.027045     -1  \n",
       "259  162.434870  0.064310   -0.010555      1  \n",
       "750  181.232550 -0.011370    0.024355     -1  "
      ]
     },
     "execution_count": 85,
     "metadata": {},
     "output_type": "execute_result"
    }
   ],
   "source": [
    "df_trades.head()"
   ]
  },
  {
   "cell_type": "code",
   "execution_count": 86,
   "id": "0bfd8774",
   "metadata": {},
   "outputs": [
    {
     "data": {
      "application/vnd.plotly.v1+json": {
       "config": {
        "plotlyServerURL": "https://plot.ly"
       },
       "data": [
        {
         "close": {
          "bdata": "ukkMAiuzY0DByqFFtsdjQPhT46WbxGNAxSCwcmjpY0DJdr6fGt9jQPyp8dJN2mNAexSuR+H2Y0BI4XoUru9jQHWTGARW7mNAZmZmZmbuY0AX2c73U+tjQFYOLbKdx2NAAAAAAADAY0Dwp8ZLN7ljQIXrUbgevWNANV66SQzCY0BxPQrXo8BjQESLbOf7xWNAQmDl0CLTY0DByqFFttNjQCGwcmiR1WNA7nw/NV7aY0AZBFYOLdpjQPp+arx022NAwcqhRbbfY0AOLbKd7+djQDEIrBxa7GNAYhBYObTsY0B1kxgEVuZjQMuhRbbzzWNAw/UoXI/KY0CgGi/dJM5jQA==",
          "dtype": "f8"
         },
         "decreasing": {
          "fillcolor": "#CC2E3C",
          "line": {
           "color": "#FF3A4C"
          }
         },
         "high": {
          "bdata": "hetRuB65Y0DVeOkmMdhjQCuHFtnOx2NAw/UoXI/qY0DLoUW28+1jQI2XbhKD5GNAYhBYObT4Y0A730+Nl/5jQARWDi2y8WNAw/UoXI/yY0C4HoXrUfBjQBfZzvdT62NAWDm0yHbOY0ASg8DKocVjQGIQWDm0wGNA+n5qvHTDY0DjpZvEIMhjQGDl0CLbzWNA2c73U+PVY0CYbhKDwNpjQKAaL90k1mNAnMQgsHLgY0B3vp8aL+VjQB+F61G43mNAokW28/3kY0DFILByaO1jQLgehetR8GNAI9v5fmr0Y0BvEoPAyu1jQFCNl24S62NAoBov3STWY0AfhetRuN5jQA==",
          "dtype": "f8"
         },
         "increasing": {
          "fillcolor": "#24A06B",
          "line": {
           "color": "#2EC886"
          }
         },
         "line": {
          "width": 1
         },
         "low": {
          "bdata": "bxKDwMqlY0Cq8dJNYrBjQEJg5dAiv2NAd76fGi/RY0C6SQwCK9djQKrx0k1i2GNADi2yne/XY0AX2c73U+tjQDVeukkM6mNA4XoUrkfpY0BQjZduEudjQGQ730+Nx2NA3SQGgZW7Y0Dwp8ZLN7FjQNnO91PjrWNAwcqhRbazY0DXo3A9Cr9jQLx0kxgEvmNAxSCwcmjBY0C28/3UeM1jQA4tsp3vz2NABFYOLbLNY0BI4XoUrsNjQMl2vp8az2NA2/l+arzYY0D2KFyPwt1jQPT91Hjp5mNAJQaBlUPnY0BeukkMAuNjQGiR7Xw/sWNAWmQ730/FY0C4HoXrUchjQA==",
          "dtype": "f8"
         },
         "opacity": 1,
         "open": {
          "bdata": "2c73U+OtY0BCYOXQIrNjQMHKoUW2x2NAg8DKoUXqY0C28/3UeOljQMl2vp8a32NA/Knx0k3aY0CJQWDl0PZjQEjhehSu72NAlkOLbOfvY0BmZmZmZu5jQDMzMzMz62NASOF6FK7HY0Dy0k1iEMBjQNNNYhBYuWNARrbz/dS8Y0CuR+F6FMJjQH9qvHSTwGNA2c73U+PFY0AzMzMzM9NjQM/3U+Ol02NA+n5qvHTTY0D8qfHSTdpjQArXo3A92mNACKwcWmTbY0BI4XoUrt9jQA4tsp3v52NA9P3UeOnuY0DNzMzMzOxjQIPAyqFF5mNAUrgehevNY0DD9Shcj8pjQA==",
          "dtype": "f8"
         },
         "type": "candlestick",
         "x": [
          "s23-02-03 10:00",
          "s23-02-03 14:00",
          "s23-02-03 18:00",
          "s23-02-05 22:00",
          "s23-02-06 02:00",
          "s23-02-06 06:00",
          "s23-02-06 10:00",
          "s23-02-06 14:00",
          "s23-02-06 18:00",
          "s23-02-06 22:00",
          "s23-02-07 02:00",
          "s23-02-07 06:00",
          "s23-02-07 10:00",
          "s23-02-07 14:00",
          "s23-02-07 18:00",
          "s23-02-07 22:00",
          "s23-02-08 02:00",
          "s23-02-08 06:00",
          "s23-02-08 10:00",
          "s23-02-08 14:00",
          "s23-02-08 18:00",
          "s23-02-08 22:00",
          "s23-02-09 02:00",
          "s23-02-09 06:00",
          "s23-02-09 10:00",
          "s23-02-09 14:00",
          "s23-02-09 18:00",
          "s23-02-09 22:00",
          "s23-02-10 02:00",
          "s23-02-10 06:00",
          "s23-02-10 10:00",
          "s23-02-10 14:00"
         ]
        },
        {
         "line": {
          "shape": "spline",
          "width": 2
         },
         "name": "MA_50",
         "type": "scatter",
         "x": [
          "s23-02-03 10:00",
          "s23-02-03 14:00",
          "s23-02-03 18:00",
          "s23-02-05 22:00",
          "s23-02-06 02:00",
          "s23-02-06 06:00",
          "s23-02-06 10:00",
          "s23-02-06 14:00",
          "s23-02-06 18:00",
          "s23-02-06 22:00",
          "s23-02-07 02:00",
          "s23-02-07 06:00",
          "s23-02-07 10:00",
          "s23-02-07 14:00",
          "s23-02-07 18:00",
          "s23-02-07 22:00",
          "s23-02-08 02:00",
          "s23-02-08 06:00",
          "s23-02-08 10:00",
          "s23-02-08 14:00",
          "s23-02-08 18:00",
          "s23-02-08 22:00",
          "s23-02-09 02:00",
          "s23-02-09 06:00",
          "s23-02-09 10:00",
          "s23-02-09 14:00",
          "s23-02-09 18:00",
          "s23-02-09 22:00",
          "s23-02-10 02:00",
          "s23-02-10 06:00",
          "s23-02-10 10:00",
          "s23-02-10 14:00"
         ],
         "y": {
          "bdata": "XRYTm48BZEBjtI6qJgBkQHSYLy/A/mNABnx+GCH+Y0C+E7NeDP1jQATnjCjt+2NAZI16iEb7Y0AfUDblCvtjQC2yne+n+mNA9bnaiv35Y0Cad5yiI/ljQJoNMsnI92NA2LYos0H2Y0B8fhghPPRjQJhMFYxK8mNATWIQWDnwY0DkFB3J5e1jQLnH0ocu7GNAX+/+eK/qY0AIrBxaZOljQN/b9Gc/6GNAvp8aL93mY0AMJCh+jOVjQMeA7PXu42NAaYzWUdXiY0Dkg57NquFjQMMSDyib4GNARC+jWG7fY0CjWG5pNd5jQC2VtyOc3GNAMPXzpiLbY0BI4XoUrtljQA==",
          "dtype": "f8"
         }
        },
        {
         "line": {
          "shape": "spline",
          "width": 2
         },
         "name": "MA_200",
         "type": "scatter",
         "x": [
          "s23-02-03 10:00",
          "s23-02-03 14:00",
          "s23-02-03 18:00",
          "s23-02-05 22:00",
          "s23-02-06 02:00",
          "s23-02-06 06:00",
          "s23-02-06 10:00",
          "s23-02-06 14:00",
          "s23-02-06 18:00",
          "s23-02-06 22:00",
          "s23-02-07 02:00",
          "s23-02-07 06:00",
          "s23-02-07 10:00",
          "s23-02-07 14:00",
          "s23-02-07 18:00",
          "s23-02-07 22:00",
          "s23-02-08 02:00",
          "s23-02-08 06:00",
          "s23-02-08 10:00",
          "s23-02-08 14:00",
          "s23-02-08 18:00",
          "s23-02-08 22:00",
          "s23-02-09 02:00",
          "s23-02-09 06:00",
          "s23-02-09 10:00",
          "s23-02-09 14:00",
          "s23-02-09 18:00",
          "s23-02-09 22:00",
          "s23-02-10 02:00",
          "s23-02-10 06:00",
          "s23-02-10 10:00",
          "s23-02-10 14:00"
         ],
         "y": {
          "bdata": "L1G9NTD2Y0A8a7dd6PRjQKpDboab82NALJ/leXDyY0BmTpfFRPFjQCy8y0X872NArfpcbcXvY0CkHqLRne9jQOtWz0lv72NAQGoTJ3fvY0CNRdPZSe9jQMOBkCzg7mNAw552+GvuY0B8J2a9GO5jQN/gC5Op7WNAMSWS6GXtY0BVMCqpE+1jQG/whcnU7GNA9BCN7qDsY0BrZcIvdexjQCkiwype7GNAAIxn0FDsY0AdxM4UOuxjQE4LXvQV7GNAmMCtu/nrY0AkfzDw3OtjQF8pyxDH62NAkdCWc6nrY0DkLOxph+tjQDm536Eo62NAD5ccd8rqY0Dw+WGEcOpjQA==",
          "dtype": "f8"
         }
        }
       ],
       "layout": {
        "font": {
         "color": "#e1e1e1",
         "size": 8
        },
        "height": 400,
        "margin": {
         "b": 10,
         "l": 10,
         "r": 10,
         "t": 10
        },
        "paper_bgcolor": "#2c303c",
        "plot_bgcolor": "#2c303c",
        "template": {
         "data": {
          "bar": [
           {
            "error_x": {
             "color": "#2a3f5f"
            },
            "error_y": {
             "color": "#2a3f5f"
            },
            "marker": {
             "line": {
              "color": "#E5ECF6",
              "width": 0.5
             },
             "pattern": {
              "fillmode": "overlay",
              "size": 10,
              "solidity": 0.2
             }
            },
            "type": "bar"
           }
          ],
          "barpolar": [
           {
            "marker": {
             "line": {
              "color": "#E5ECF6",
              "width": 0.5
             },
             "pattern": {
              "fillmode": "overlay",
              "size": 10,
              "solidity": 0.2
             }
            },
            "type": "barpolar"
           }
          ],
          "carpet": [
           {
            "aaxis": {
             "endlinecolor": "#2a3f5f",
             "gridcolor": "white",
             "linecolor": "white",
             "minorgridcolor": "white",
             "startlinecolor": "#2a3f5f"
            },
            "baxis": {
             "endlinecolor": "#2a3f5f",
             "gridcolor": "white",
             "linecolor": "white",
             "minorgridcolor": "white",
             "startlinecolor": "#2a3f5f"
            },
            "type": "carpet"
           }
          ],
          "choropleth": [
           {
            "colorbar": {
             "outlinewidth": 0,
             "ticks": ""
            },
            "type": "choropleth"
           }
          ],
          "contour": [
           {
            "colorbar": {
             "outlinewidth": 0,
             "ticks": ""
            },
            "colorscale": [
             [
              0,
              "#0d0887"
             ],
             [
              0.1111111111111111,
              "#46039f"
             ],
             [
              0.2222222222222222,
              "#7201a8"
             ],
             [
              0.3333333333333333,
              "#9c179e"
             ],
             [
              0.4444444444444444,
              "#bd3786"
             ],
             [
              0.5555555555555556,
              "#d8576b"
             ],
             [
              0.6666666666666666,
              "#ed7953"
             ],
             [
              0.7777777777777778,
              "#fb9f3a"
             ],
             [
              0.8888888888888888,
              "#fdca26"
             ],
             [
              1,
              "#f0f921"
             ]
            ],
            "type": "contour"
           }
          ],
          "contourcarpet": [
           {
            "colorbar": {
             "outlinewidth": 0,
             "ticks": ""
            },
            "type": "contourcarpet"
           }
          ],
          "heatmap": [
           {
            "colorbar": {
             "outlinewidth": 0,
             "ticks": ""
            },
            "colorscale": [
             [
              0,
              "#0d0887"
             ],
             [
              0.1111111111111111,
              "#46039f"
             ],
             [
              0.2222222222222222,
              "#7201a8"
             ],
             [
              0.3333333333333333,
              "#9c179e"
             ],
             [
              0.4444444444444444,
              "#bd3786"
             ],
             [
              0.5555555555555556,
              "#d8576b"
             ],
             [
              0.6666666666666666,
              "#ed7953"
             ],
             [
              0.7777777777777778,
              "#fb9f3a"
             ],
             [
              0.8888888888888888,
              "#fdca26"
             ],
             [
              1,
              "#f0f921"
             ]
            ],
            "type": "heatmap"
           }
          ],
          "histogram": [
           {
            "marker": {
             "pattern": {
              "fillmode": "overlay",
              "size": 10,
              "solidity": 0.2
             }
            },
            "type": "histogram"
           }
          ],
          "histogram2d": [
           {
            "colorbar": {
             "outlinewidth": 0,
             "ticks": ""
            },
            "colorscale": [
             [
              0,
              "#0d0887"
             ],
             [
              0.1111111111111111,
              "#46039f"
             ],
             [
              0.2222222222222222,
              "#7201a8"
             ],
             [
              0.3333333333333333,
              "#9c179e"
             ],
             [
              0.4444444444444444,
              "#bd3786"
             ],
             [
              0.5555555555555556,
              "#d8576b"
             ],
             [
              0.6666666666666666,
              "#ed7953"
             ],
             [
              0.7777777777777778,
              "#fb9f3a"
             ],
             [
              0.8888888888888888,
              "#fdca26"
             ],
             [
              1,
              "#f0f921"
             ]
            ],
            "type": "histogram2d"
           }
          ],
          "histogram2dcontour": [
           {
            "colorbar": {
             "outlinewidth": 0,
             "ticks": ""
            },
            "colorscale": [
             [
              0,
              "#0d0887"
             ],
             [
              0.1111111111111111,
              "#46039f"
             ],
             [
              0.2222222222222222,
              "#7201a8"
             ],
             [
              0.3333333333333333,
              "#9c179e"
             ],
             [
              0.4444444444444444,
              "#bd3786"
             ],
             [
              0.5555555555555556,
              "#d8576b"
             ],
             [
              0.6666666666666666,
              "#ed7953"
             ],
             [
              0.7777777777777778,
              "#fb9f3a"
             ],
             [
              0.8888888888888888,
              "#fdca26"
             ],
             [
              1,
              "#f0f921"
             ]
            ],
            "type": "histogram2dcontour"
           }
          ],
          "mesh3d": [
           {
            "colorbar": {
             "outlinewidth": 0,
             "ticks": ""
            },
            "type": "mesh3d"
           }
          ],
          "parcoords": [
           {
            "line": {
             "colorbar": {
              "outlinewidth": 0,
              "ticks": ""
             }
            },
            "type": "parcoords"
           }
          ],
          "pie": [
           {
            "automargin": true,
            "type": "pie"
           }
          ],
          "scatter": [
           {
            "fillpattern": {
             "fillmode": "overlay",
             "size": 10,
             "solidity": 0.2
            },
            "type": "scatter"
           }
          ],
          "scatter3d": [
           {
            "line": {
             "colorbar": {
              "outlinewidth": 0,
              "ticks": ""
             }
            },
            "marker": {
             "colorbar": {
              "outlinewidth": 0,
              "ticks": ""
             }
            },
            "type": "scatter3d"
           }
          ],
          "scattercarpet": [
           {
            "marker": {
             "colorbar": {
              "outlinewidth": 0,
              "ticks": ""
             }
            },
            "type": "scattercarpet"
           }
          ],
          "scattergeo": [
           {
            "marker": {
             "colorbar": {
              "outlinewidth": 0,
              "ticks": ""
             }
            },
            "type": "scattergeo"
           }
          ],
          "scattergl": [
           {
            "marker": {
             "colorbar": {
              "outlinewidth": 0,
              "ticks": ""
             }
            },
            "type": "scattergl"
           }
          ],
          "scattermap": [
           {
            "marker": {
             "colorbar": {
              "outlinewidth": 0,
              "ticks": ""
             }
            },
            "type": "scattermap"
           }
          ],
          "scattermapbox": [
           {
            "marker": {
             "colorbar": {
              "outlinewidth": 0,
              "ticks": ""
             }
            },
            "type": "scattermapbox"
           }
          ],
          "scatterpolar": [
           {
            "marker": {
             "colorbar": {
              "outlinewidth": 0,
              "ticks": ""
             }
            },
            "type": "scatterpolar"
           }
          ],
          "scatterpolargl": [
           {
            "marker": {
             "colorbar": {
              "outlinewidth": 0,
              "ticks": ""
             }
            },
            "type": "scatterpolargl"
           }
          ],
          "scatterternary": [
           {
            "marker": {
             "colorbar": {
              "outlinewidth": 0,
              "ticks": ""
             }
            },
            "type": "scatterternary"
           }
          ],
          "surface": [
           {
            "colorbar": {
             "outlinewidth": 0,
             "ticks": ""
            },
            "colorscale": [
             [
              0,
              "#0d0887"
             ],
             [
              0.1111111111111111,
              "#46039f"
             ],
             [
              0.2222222222222222,
              "#7201a8"
             ],
             [
              0.3333333333333333,
              "#9c179e"
             ],
             [
              0.4444444444444444,
              "#bd3786"
             ],
             [
              0.5555555555555556,
              "#d8576b"
             ],
             [
              0.6666666666666666,
              "#ed7953"
             ],
             [
              0.7777777777777778,
              "#fb9f3a"
             ],
             [
              0.8888888888888888,
              "#fdca26"
             ],
             [
              1,
              "#f0f921"
             ]
            ],
            "type": "surface"
           }
          ],
          "table": [
           {
            "cells": {
             "fill": {
              "color": "#EBF0F8"
             },
             "line": {
              "color": "white"
             }
            },
            "header": {
             "fill": {
              "color": "#C8D4E3"
             },
             "line": {
              "color": "white"
             }
            },
            "type": "table"
           }
          ]
         },
         "layout": {
          "annotationdefaults": {
           "arrowcolor": "#2a3f5f",
           "arrowhead": 0,
           "arrowwidth": 1
          },
          "autotypenumbers": "strict",
          "coloraxis": {
           "colorbar": {
            "outlinewidth": 0,
            "ticks": ""
           }
          },
          "colorscale": {
           "diverging": [
            [
             0,
             "#8e0152"
            ],
            [
             0.1,
             "#c51b7d"
            ],
            [
             0.2,
             "#de77ae"
            ],
            [
             0.3,
             "#f1b6da"
            ],
            [
             0.4,
             "#fde0ef"
            ],
            [
             0.5,
             "#f7f7f7"
            ],
            [
             0.6,
             "#e6f5d0"
            ],
            [
             0.7,
             "#b8e186"
            ],
            [
             0.8,
             "#7fbc41"
            ],
            [
             0.9,
             "#4d9221"
            ],
            [
             1,
             "#276419"
            ]
           ],
           "sequential": [
            [
             0,
             "#0d0887"
            ],
            [
             0.1111111111111111,
             "#46039f"
            ],
            [
             0.2222222222222222,
             "#7201a8"
            ],
            [
             0.3333333333333333,
             "#9c179e"
            ],
            [
             0.4444444444444444,
             "#bd3786"
            ],
            [
             0.5555555555555556,
             "#d8576b"
            ],
            [
             0.6666666666666666,
             "#ed7953"
            ],
            [
             0.7777777777777778,
             "#fb9f3a"
            ],
            [
             0.8888888888888888,
             "#fdca26"
            ],
            [
             1,
             "#f0f921"
            ]
           ],
           "sequentialminus": [
            [
             0,
             "#0d0887"
            ],
            [
             0.1111111111111111,
             "#46039f"
            ],
            [
             0.2222222222222222,
             "#7201a8"
            ],
            [
             0.3333333333333333,
             "#9c179e"
            ],
            [
             0.4444444444444444,
             "#bd3786"
            ],
            [
             0.5555555555555556,
             "#d8576b"
            ],
            [
             0.6666666666666666,
             "#ed7953"
            ],
            [
             0.7777777777777778,
             "#fb9f3a"
            ],
            [
             0.8888888888888888,
             "#fdca26"
            ],
            [
             1,
             "#f0f921"
            ]
           ]
          },
          "colorway": [
           "#636efa",
           "#EF553B",
           "#00cc96",
           "#ab63fa",
           "#FFA15A",
           "#19d3f3",
           "#FF6692",
           "#B6E880",
           "#FF97FF",
           "#FECB52"
          ],
          "font": {
           "color": "#2a3f5f"
          },
          "geo": {
           "bgcolor": "white",
           "lakecolor": "white",
           "landcolor": "#E5ECF6",
           "showlakes": true,
           "showland": true,
           "subunitcolor": "white"
          },
          "hoverlabel": {
           "align": "left"
          },
          "hovermode": "closest",
          "mapbox": {
           "style": "light"
          },
          "paper_bgcolor": "white",
          "plot_bgcolor": "#E5ECF6",
          "polar": {
           "angularaxis": {
            "gridcolor": "white",
            "linecolor": "white",
            "ticks": ""
           },
           "bgcolor": "#E5ECF6",
           "radialaxis": {
            "gridcolor": "white",
            "linecolor": "white",
            "ticks": ""
           }
          },
          "scene": {
           "xaxis": {
            "backgroundcolor": "#E5ECF6",
            "gridcolor": "white",
            "gridwidth": 2,
            "linecolor": "white",
            "showbackground": true,
            "ticks": "",
            "zerolinecolor": "white"
           },
           "yaxis": {
            "backgroundcolor": "#E5ECF6",
            "gridcolor": "white",
            "gridwidth": 2,
            "linecolor": "white",
            "showbackground": true,
            "ticks": "",
            "zerolinecolor": "white"
           },
           "zaxis": {
            "backgroundcolor": "#E5ECF6",
            "gridcolor": "white",
            "gridwidth": 2,
            "linecolor": "white",
            "showbackground": true,
            "ticks": "",
            "zerolinecolor": "white"
           }
          },
          "shapedefaults": {
           "line": {
            "color": "#2a3f5f"
           }
          },
          "ternary": {
           "aaxis": {
            "gridcolor": "white",
            "linecolor": "white",
            "ticks": ""
           },
           "baxis": {
            "gridcolor": "white",
            "linecolor": "white",
            "ticks": ""
           },
           "bgcolor": "#E5ECF6",
           "caxis": {
            "gridcolor": "white",
            "linecolor": "white",
            "ticks": ""
           }
          },
          "title": {
           "x": 0.05
          },
          "xaxis": {
           "automargin": true,
           "gridcolor": "white",
           "linecolor": "white",
           "ticks": "",
           "title": {
            "standoff": 15
           },
           "zerolinecolor": "white",
           "zerolinewidth": 2
          },
          "yaxis": {
           "automargin": true,
           "gridcolor": "white",
           "linecolor": "white",
           "ticks": "",
           "title": {
            "standoff": 15
           },
           "zerolinecolor": "white",
           "zerolinewidth": 2
          }
         }
        },
        "width": 900,
        "xaxis": {
         "gridcolor": "#1f292f",
         "nticks": 5,
         "rangeslider": {
          "visible": false
         }
        },
        "yaxis": {
         "gridcolor": "#1f292f"
        }
       }
      }
     },
     "metadata": {},
     "output_type": "display_data"
    }
   ],
   "source": [
    "cp = CandlePlot(df_an.iloc[8:40])\n",
    "cp.show_plot(line_traces=[MA_S, MA_L])"
   ]
  },
  {
   "cell_type": "code",
   "execution_count": 87,
   "id": "40951b8b",
   "metadata": {},
   "outputs": [],
   "source": [
    "ic.LoadInstruments(\"../data\")"
   ]
  },
  {
   "cell_type": "code",
   "execution_count": 88,
   "id": "67f45e02",
   "metadata": {},
   "outputs": [],
   "source": [
    "ins_data = ic.instruments_dict[pair]"
   ]
  },
  {
   "cell_type": "code",
   "execution_count": 89,
   "id": "1dc0e364",
   "metadata": {},
   "outputs": [
    {
     "data": {
      "text/html": [
       "<div>\n",
       "<style scoped>\n",
       "    .dataframe tbody tr th:only-of-type {\n",
       "        vertical-align: middle;\n",
       "    }\n",
       "\n",
       "    .dataframe tbody tr th {\n",
       "        vertical-align: top;\n",
       "    }\n",
       "\n",
       "    .dataframe thead th {\n",
       "        text-align: right;\n",
       "    }\n",
       "</style>\n",
       "<table border=\"1\" class=\"dataframe\">\n",
       "  <thead>\n",
       "    <tr style=\"text-align: right;\">\n",
       "      <th></th>\n",
       "      <th>time</th>\n",
       "      <th>mid_o</th>\n",
       "      <th>mid_h</th>\n",
       "      <th>mid_l</th>\n",
       "      <th>mid_c</th>\n",
       "      <th>MA_50</th>\n",
       "      <th>MA_200</th>\n",
       "      <th>DELTA</th>\n",
       "      <th>DELTA_PREV</th>\n",
       "      <th>TRADE</th>\n",
       "    </tr>\n",
       "  </thead>\n",
       "  <tbody>\n",
       "    <tr>\n",
       "      <th>25</th>\n",
       "      <td>2023-02-08 06:00:00+00:00</td>\n",
       "      <td>158.018</td>\n",
       "      <td>158.433</td>\n",
       "      <td>157.938</td>\n",
       "      <td>158.187</td>\n",
       "      <td>159.38068</td>\n",
       "      <td>159.400975</td>\n",
       "      <td>-0.020295</td>\n",
       "      <td>0.025650</td>\n",
       "      <td>-1</td>\n",
       "    </tr>\n",
       "    <tr>\n",
       "      <th>56</th>\n",
       "      <td>2023-02-15 10:00:00+00:00</td>\n",
       "      <td>161.322</td>\n",
       "      <td>161.342</td>\n",
       "      <td>160.807</td>\n",
       "      <td>160.874</td>\n",
       "      <td>159.32708</td>\n",
       "      <td>159.310035</td>\n",
       "      <td>0.017045</td>\n",
       "      <td>-0.053115</td>\n",
       "      <td>1</td>\n",
       "    </tr>\n",
       "    <tr>\n",
       "      <th>209</th>\n",
       "      <td>2023-03-22 21:00:00+00:00</td>\n",
       "      <td>161.288</td>\n",
       "      <td>161.472</td>\n",
       "      <td>160.806</td>\n",
       "      <td>160.900</td>\n",
       "      <td>161.67648</td>\n",
       "      <td>161.694610</td>\n",
       "      <td>-0.018130</td>\n",
       "      <td>0.027045</td>\n",
       "      <td>-1</td>\n",
       "    </tr>\n",
       "    <tr>\n",
       "      <th>259</th>\n",
       "      <td>2023-04-04 05:00:00+00:00</td>\n",
       "      <td>164.750</td>\n",
       "      <td>165.810</td>\n",
       "      <td>164.632</td>\n",
       "      <td>165.803</td>\n",
       "      <td>162.49918</td>\n",
       "      <td>162.434870</td>\n",
       "      <td>0.064310</td>\n",
       "      <td>-0.010555</td>\n",
       "      <td>1</td>\n",
       "    </tr>\n",
       "    <tr>\n",
       "      <th>750</th>\n",
       "      <td>2023-07-27 01:00:00+00:00</td>\n",
       "      <td>181.621</td>\n",
       "      <td>181.666</td>\n",
       "      <td>180.819</td>\n",
       "      <td>181.472</td>\n",
       "      <td>181.22118</td>\n",
       "      <td>181.232550</td>\n",
       "      <td>-0.011370</td>\n",
       "      <td>0.024355</td>\n",
       "      <td>-1</td>\n",
       "    </tr>\n",
       "  </tbody>\n",
       "</table>\n",
       "</div>"
      ],
      "text/plain": [
       "                         time    mid_o    mid_h    mid_l    mid_c      MA_50  \\\n",
       "25  2023-02-08 06:00:00+00:00  158.018  158.433  157.938  158.187  159.38068   \n",
       "56  2023-02-15 10:00:00+00:00  161.322  161.342  160.807  160.874  159.32708   \n",
       "209 2023-03-22 21:00:00+00:00  161.288  161.472  160.806  160.900  161.67648   \n",
       "259 2023-04-04 05:00:00+00:00  164.750  165.810  164.632  165.803  162.49918   \n",
       "750 2023-07-27 01:00:00+00:00  181.621  181.666  180.819  181.472  181.22118   \n",
       "\n",
       "         MA_200     DELTA  DELTA_PREV  TRADE  \n",
       "25   159.400975 -0.020295    0.025650     -1  \n",
       "56   159.310035  0.017045   -0.053115      1  \n",
       "209  161.694610 -0.018130    0.027045     -1  \n",
       "259  162.434870  0.064310   -0.010555      1  \n",
       "750  181.232550 -0.011370    0.024355     -1  "
      ]
     },
     "execution_count": 89,
     "metadata": {},
     "output_type": "execute_result"
    }
   ],
   "source": [
    "df_trades.head()"
   ]
  },
  {
   "cell_type": "code",
   "execution_count": 90,
   "id": "fd4d3ace",
   "metadata": {},
   "outputs": [
    {
     "name": "stderr",
     "output_type": "stream",
     "text": [
      "/var/folders/gv/_rtdp3yj3j35v32k7qgb1bg80000gn/T/ipykernel_92293/2512427408.py:1: SettingWithCopyWarning:\n",
      "\n",
      "\n",
      "A value is trying to be set on a copy of a slice from a DataFrame.\n",
      "Try using .loc[row_indexer,col_indexer] = value instead\n",
      "\n",
      "See the caveats in the documentation: https://pandas.pydata.org/pandas-docs/stable/user_guide/indexing.html#returning-a-view-versus-a-copy\n",
      "\n",
      "/var/folders/gv/_rtdp3yj3j35v32k7qgb1bg80000gn/T/ipykernel_92293/2512427408.py:2: SettingWithCopyWarning:\n",
      "\n",
      "\n",
      "A value is trying to be set on a copy of a slice from a DataFrame\n",
      "\n",
      "See the caveats in the documentation: https://pandas.pydata.org/pandas-docs/stable/user_guide/indexing.html#returning-a-view-versus-a-copy\n",
      "\n"
     ]
    }
   ],
   "source": [
    "df_trades['DIFF'] = df_trades.mid_c.diff().shift(-1)\n",
    "df_trades.fillna(0, inplace=True)"
   ]
  },
  {
   "cell_type": "code",
   "execution_count": 91,
   "id": "673df3c6",
   "metadata": {},
   "outputs": [
    {
     "name": "stderr",
     "output_type": "stream",
     "text": [
      "/var/folders/gv/_rtdp3yj3j35v32k7qgb1bg80000gn/T/ipykernel_92293/754222696.py:1: SettingWithCopyWarning:\n",
      "\n",
      "\n",
      "A value is trying to be set on a copy of a slice from a DataFrame.\n",
      "Try using .loc[row_indexer,col_indexer] = value instead\n",
      "\n",
      "See the caveats in the documentation: https://pandas.pydata.org/pandas-docs/stable/user_guide/indexing.html#returning-a-view-versus-a-copy\n",
      "\n",
      "/var/folders/gv/_rtdp3yj3j35v32k7qgb1bg80000gn/T/ipykernel_92293/754222696.py:2: SettingWithCopyWarning:\n",
      "\n",
      "\n",
      "A value is trying to be set on a copy of a slice from a DataFrame.\n",
      "Try using .loc[row_indexer,col_indexer] = value instead\n",
      "\n",
      "See the caveats in the documentation: https://pandas.pydata.org/pandas-docs/stable/user_guide/indexing.html#returning-a-view-versus-a-copy\n",
      "\n"
     ]
    }
   ],
   "source": [
    "df_trades['GAIN'] = df_trades['DIFF'] / ins_data.pipLocation\n",
    "df_trades['GAIN'] = df_trades['GAIN'] * df_trades['TRADE']"
   ]
  },
  {
   "cell_type": "code",
   "execution_count": 92,
   "id": "2ba8b195",
   "metadata": {},
   "outputs": [
    {
     "data": {
      "text/plain": [
       "np.float64(105.30000000000837)"
      ]
     },
     "execution_count": 92,
     "metadata": {},
     "output_type": "execute_result"
    }
   ],
   "source": [
    "df_trades.GAIN.sum()"
   ]
  },
  {
   "cell_type": "code",
   "execution_count": 93,
   "id": "46a3b126",
   "metadata": {},
   "outputs": [
    {
     "name": "stderr",
     "output_type": "stream",
     "text": [
      "/var/folders/gv/_rtdp3yj3j35v32k7qgb1bg80000gn/T/ipykernel_92293/735232793.py:1: SettingWithCopyWarning:\n",
      "\n",
      "\n",
      "A value is trying to be set on a copy of a slice from a DataFrame.\n",
      "Try using .loc[row_indexer,col_indexer] = value instead\n",
      "\n",
      "See the caveats in the documentation: https://pandas.pydata.org/pandas-docs/stable/user_guide/indexing.html#returning-a-view-versus-a-copy\n",
      "\n"
     ]
    }
   ],
   "source": [
    "df_trades['GAIN_C'] = df_trades['GAIN'].cumsum()"
   ]
  },
  {
   "cell_type": "code",
   "execution_count": 94,
   "id": "98627338",
   "metadata": {},
   "outputs": [
    {
     "data": {
      "application/vnd.plotly.v1+json": {
       "config": {
        "plotlyServerURL": "https://plot.ly"
       },
       "data": [
        {
         "line": {
          "shape": "spline",
          "width": 2
         },
         "name": "GAIN_C",
         "type": "scatter",
         "x": [
          "s23-02-08 06:00",
          "s23-02-15 10:00",
          "s23-03-22 21:00",
          "s23-04-04 05:00",
          "s23-07-27 01:00",
          "s23-08-09 09:00",
          "s23-09-15 01:00",
          "s23-10-31 09:00",
          "s23-12-11 02:00",
          "s24-01-12 10:00",
          "s24-07-25 01:00",
          "s24-09-26 01:00",
          "s24-11-21 22:00",
          "s24-12-19 18:00",
          "s25-01-16 02:00",
          "s25-03-13 01:00",
          "s25-04-09 01:00",
          "s25-05-05 01:00"
         ],
         "y": {
          "bdata": "FjMzMzPLcMBqmZmZmaFwwBQzMzMzo4fAKAAAAABUiUChZmZmZv6FQNqZmZmZGYhAqWZmZmYih0BzMzMzMyOEQPiZmZmZAXtAfmZmZmaMmUAdAAAAAFSfQNzMzMzMuqBAu5mZmZmjnUAmAAAAAOqTQFozMzMzR5JAQwAAAADwg0BYNTMzM1NaQFg1MzMzU1pA",
          "dtype": "f8"
         }
        }
       ],
       "layout": {
        "font": {
         "color": "#e1e1e1",
         "size": 8
        },
        "height": 400,
        "margin": {
         "b": 10,
         "l": 10,
         "r": 10,
         "t": 10
        },
        "paper_bgcolor": "#2c303c",
        "plot_bgcolor": "#2c303c",
        "template": {
         "data": {
          "bar": [
           {
            "error_x": {
             "color": "#2a3f5f"
            },
            "error_y": {
             "color": "#2a3f5f"
            },
            "marker": {
             "line": {
              "color": "#E5ECF6",
              "width": 0.5
             },
             "pattern": {
              "fillmode": "overlay",
              "size": 10,
              "solidity": 0.2
             }
            },
            "type": "bar"
           }
          ],
          "barpolar": [
           {
            "marker": {
             "line": {
              "color": "#E5ECF6",
              "width": 0.5
             },
             "pattern": {
              "fillmode": "overlay",
              "size": 10,
              "solidity": 0.2
             }
            },
            "type": "barpolar"
           }
          ],
          "carpet": [
           {
            "aaxis": {
             "endlinecolor": "#2a3f5f",
             "gridcolor": "white",
             "linecolor": "white",
             "minorgridcolor": "white",
             "startlinecolor": "#2a3f5f"
            },
            "baxis": {
             "endlinecolor": "#2a3f5f",
             "gridcolor": "white",
             "linecolor": "white",
             "minorgridcolor": "white",
             "startlinecolor": "#2a3f5f"
            },
            "type": "carpet"
           }
          ],
          "choropleth": [
           {
            "colorbar": {
             "outlinewidth": 0,
             "ticks": ""
            },
            "type": "choropleth"
           }
          ],
          "contour": [
           {
            "colorbar": {
             "outlinewidth": 0,
             "ticks": ""
            },
            "colorscale": [
             [
              0,
              "#0d0887"
             ],
             [
              0.1111111111111111,
              "#46039f"
             ],
             [
              0.2222222222222222,
              "#7201a8"
             ],
             [
              0.3333333333333333,
              "#9c179e"
             ],
             [
              0.4444444444444444,
              "#bd3786"
             ],
             [
              0.5555555555555556,
              "#d8576b"
             ],
             [
              0.6666666666666666,
              "#ed7953"
             ],
             [
              0.7777777777777778,
              "#fb9f3a"
             ],
             [
              0.8888888888888888,
              "#fdca26"
             ],
             [
              1,
              "#f0f921"
             ]
            ],
            "type": "contour"
           }
          ],
          "contourcarpet": [
           {
            "colorbar": {
             "outlinewidth": 0,
             "ticks": ""
            },
            "type": "contourcarpet"
           }
          ],
          "heatmap": [
           {
            "colorbar": {
             "outlinewidth": 0,
             "ticks": ""
            },
            "colorscale": [
             [
              0,
              "#0d0887"
             ],
             [
              0.1111111111111111,
              "#46039f"
             ],
             [
              0.2222222222222222,
              "#7201a8"
             ],
             [
              0.3333333333333333,
              "#9c179e"
             ],
             [
              0.4444444444444444,
              "#bd3786"
             ],
             [
              0.5555555555555556,
              "#d8576b"
             ],
             [
              0.6666666666666666,
              "#ed7953"
             ],
             [
              0.7777777777777778,
              "#fb9f3a"
             ],
             [
              0.8888888888888888,
              "#fdca26"
             ],
             [
              1,
              "#f0f921"
             ]
            ],
            "type": "heatmap"
           }
          ],
          "histogram": [
           {
            "marker": {
             "pattern": {
              "fillmode": "overlay",
              "size": 10,
              "solidity": 0.2
             }
            },
            "type": "histogram"
           }
          ],
          "histogram2d": [
           {
            "colorbar": {
             "outlinewidth": 0,
             "ticks": ""
            },
            "colorscale": [
             [
              0,
              "#0d0887"
             ],
             [
              0.1111111111111111,
              "#46039f"
             ],
             [
              0.2222222222222222,
              "#7201a8"
             ],
             [
              0.3333333333333333,
              "#9c179e"
             ],
             [
              0.4444444444444444,
              "#bd3786"
             ],
             [
              0.5555555555555556,
              "#d8576b"
             ],
             [
              0.6666666666666666,
              "#ed7953"
             ],
             [
              0.7777777777777778,
              "#fb9f3a"
             ],
             [
              0.8888888888888888,
              "#fdca26"
             ],
             [
              1,
              "#f0f921"
             ]
            ],
            "type": "histogram2d"
           }
          ],
          "histogram2dcontour": [
           {
            "colorbar": {
             "outlinewidth": 0,
             "ticks": ""
            },
            "colorscale": [
             [
              0,
              "#0d0887"
             ],
             [
              0.1111111111111111,
              "#46039f"
             ],
             [
              0.2222222222222222,
              "#7201a8"
             ],
             [
              0.3333333333333333,
              "#9c179e"
             ],
             [
              0.4444444444444444,
              "#bd3786"
             ],
             [
              0.5555555555555556,
              "#d8576b"
             ],
             [
              0.6666666666666666,
              "#ed7953"
             ],
             [
              0.7777777777777778,
              "#fb9f3a"
             ],
             [
              0.8888888888888888,
              "#fdca26"
             ],
             [
              1,
              "#f0f921"
             ]
            ],
            "type": "histogram2dcontour"
           }
          ],
          "mesh3d": [
           {
            "colorbar": {
             "outlinewidth": 0,
             "ticks": ""
            },
            "type": "mesh3d"
           }
          ],
          "parcoords": [
           {
            "line": {
             "colorbar": {
              "outlinewidth": 0,
              "ticks": ""
             }
            },
            "type": "parcoords"
           }
          ],
          "pie": [
           {
            "automargin": true,
            "type": "pie"
           }
          ],
          "scatter": [
           {
            "fillpattern": {
             "fillmode": "overlay",
             "size": 10,
             "solidity": 0.2
            },
            "type": "scatter"
           }
          ],
          "scatter3d": [
           {
            "line": {
             "colorbar": {
              "outlinewidth": 0,
              "ticks": ""
             }
            },
            "marker": {
             "colorbar": {
              "outlinewidth": 0,
              "ticks": ""
             }
            },
            "type": "scatter3d"
           }
          ],
          "scattercarpet": [
           {
            "marker": {
             "colorbar": {
              "outlinewidth": 0,
              "ticks": ""
             }
            },
            "type": "scattercarpet"
           }
          ],
          "scattergeo": [
           {
            "marker": {
             "colorbar": {
              "outlinewidth": 0,
              "ticks": ""
             }
            },
            "type": "scattergeo"
           }
          ],
          "scattergl": [
           {
            "marker": {
             "colorbar": {
              "outlinewidth": 0,
              "ticks": ""
             }
            },
            "type": "scattergl"
           }
          ],
          "scattermap": [
           {
            "marker": {
             "colorbar": {
              "outlinewidth": 0,
              "ticks": ""
             }
            },
            "type": "scattermap"
           }
          ],
          "scattermapbox": [
           {
            "marker": {
             "colorbar": {
              "outlinewidth": 0,
              "ticks": ""
             }
            },
            "type": "scattermapbox"
           }
          ],
          "scatterpolar": [
           {
            "marker": {
             "colorbar": {
              "outlinewidth": 0,
              "ticks": ""
             }
            },
            "type": "scatterpolar"
           }
          ],
          "scatterpolargl": [
           {
            "marker": {
             "colorbar": {
              "outlinewidth": 0,
              "ticks": ""
             }
            },
            "type": "scatterpolargl"
           }
          ],
          "scatterternary": [
           {
            "marker": {
             "colorbar": {
              "outlinewidth": 0,
              "ticks": ""
             }
            },
            "type": "scatterternary"
           }
          ],
          "surface": [
           {
            "colorbar": {
             "outlinewidth": 0,
             "ticks": ""
            },
            "colorscale": [
             [
              0,
              "#0d0887"
             ],
             [
              0.1111111111111111,
              "#46039f"
             ],
             [
              0.2222222222222222,
              "#7201a8"
             ],
             [
              0.3333333333333333,
              "#9c179e"
             ],
             [
              0.4444444444444444,
              "#bd3786"
             ],
             [
              0.5555555555555556,
              "#d8576b"
             ],
             [
              0.6666666666666666,
              "#ed7953"
             ],
             [
              0.7777777777777778,
              "#fb9f3a"
             ],
             [
              0.8888888888888888,
              "#fdca26"
             ],
             [
              1,
              "#f0f921"
             ]
            ],
            "type": "surface"
           }
          ],
          "table": [
           {
            "cells": {
             "fill": {
              "color": "#EBF0F8"
             },
             "line": {
              "color": "white"
             }
            },
            "header": {
             "fill": {
              "color": "#C8D4E3"
             },
             "line": {
              "color": "white"
             }
            },
            "type": "table"
           }
          ]
         },
         "layout": {
          "annotationdefaults": {
           "arrowcolor": "#2a3f5f",
           "arrowhead": 0,
           "arrowwidth": 1
          },
          "autotypenumbers": "strict",
          "coloraxis": {
           "colorbar": {
            "outlinewidth": 0,
            "ticks": ""
           }
          },
          "colorscale": {
           "diverging": [
            [
             0,
             "#8e0152"
            ],
            [
             0.1,
             "#c51b7d"
            ],
            [
             0.2,
             "#de77ae"
            ],
            [
             0.3,
             "#f1b6da"
            ],
            [
             0.4,
             "#fde0ef"
            ],
            [
             0.5,
             "#f7f7f7"
            ],
            [
             0.6,
             "#e6f5d0"
            ],
            [
             0.7,
             "#b8e186"
            ],
            [
             0.8,
             "#7fbc41"
            ],
            [
             0.9,
             "#4d9221"
            ],
            [
             1,
             "#276419"
            ]
           ],
           "sequential": [
            [
             0,
             "#0d0887"
            ],
            [
             0.1111111111111111,
             "#46039f"
            ],
            [
             0.2222222222222222,
             "#7201a8"
            ],
            [
             0.3333333333333333,
             "#9c179e"
            ],
            [
             0.4444444444444444,
             "#bd3786"
            ],
            [
             0.5555555555555556,
             "#d8576b"
            ],
            [
             0.6666666666666666,
             "#ed7953"
            ],
            [
             0.7777777777777778,
             "#fb9f3a"
            ],
            [
             0.8888888888888888,
             "#fdca26"
            ],
            [
             1,
             "#f0f921"
            ]
           ],
           "sequentialminus": [
            [
             0,
             "#0d0887"
            ],
            [
             0.1111111111111111,
             "#46039f"
            ],
            [
             0.2222222222222222,
             "#7201a8"
            ],
            [
             0.3333333333333333,
             "#9c179e"
            ],
            [
             0.4444444444444444,
             "#bd3786"
            ],
            [
             0.5555555555555556,
             "#d8576b"
            ],
            [
             0.6666666666666666,
             "#ed7953"
            ],
            [
             0.7777777777777778,
             "#fb9f3a"
            ],
            [
             0.8888888888888888,
             "#fdca26"
            ],
            [
             1,
             "#f0f921"
            ]
           ]
          },
          "colorway": [
           "#636efa",
           "#EF553B",
           "#00cc96",
           "#ab63fa",
           "#FFA15A",
           "#19d3f3",
           "#FF6692",
           "#B6E880",
           "#FF97FF",
           "#FECB52"
          ],
          "font": {
           "color": "#2a3f5f"
          },
          "geo": {
           "bgcolor": "white",
           "lakecolor": "white",
           "landcolor": "#E5ECF6",
           "showlakes": true,
           "showland": true,
           "subunitcolor": "white"
          },
          "hoverlabel": {
           "align": "left"
          },
          "hovermode": "closest",
          "mapbox": {
           "style": "light"
          },
          "paper_bgcolor": "white",
          "plot_bgcolor": "#E5ECF6",
          "polar": {
           "angularaxis": {
            "gridcolor": "white",
            "linecolor": "white",
            "ticks": ""
           },
           "bgcolor": "#E5ECF6",
           "radialaxis": {
            "gridcolor": "white",
            "linecolor": "white",
            "ticks": ""
           }
          },
          "scene": {
           "xaxis": {
            "backgroundcolor": "#E5ECF6",
            "gridcolor": "white",
            "gridwidth": 2,
            "linecolor": "white",
            "showbackground": true,
            "ticks": "",
            "zerolinecolor": "white"
           },
           "yaxis": {
            "backgroundcolor": "#E5ECF6",
            "gridcolor": "white",
            "gridwidth": 2,
            "linecolor": "white",
            "showbackground": true,
            "ticks": "",
            "zerolinecolor": "white"
           },
           "zaxis": {
            "backgroundcolor": "#E5ECF6",
            "gridcolor": "white",
            "gridwidth": 2,
            "linecolor": "white",
            "showbackground": true,
            "ticks": "",
            "zerolinecolor": "white"
           }
          },
          "shapedefaults": {
           "line": {
            "color": "#2a3f5f"
           }
          },
          "ternary": {
           "aaxis": {
            "gridcolor": "white",
            "linecolor": "white",
            "ticks": ""
           },
           "baxis": {
            "gridcolor": "white",
            "linecolor": "white",
            "ticks": ""
           },
           "bgcolor": "#E5ECF6",
           "caxis": {
            "gridcolor": "white",
            "linecolor": "white",
            "ticks": ""
           }
          },
          "title": {
           "x": 0.05
          },
          "xaxis": {
           "automargin": true,
           "gridcolor": "white",
           "linecolor": "white",
           "ticks": "",
           "title": {
            "standoff": 15
           },
           "zerolinecolor": "white",
           "zerolinewidth": 2
          },
          "yaxis": {
           "automargin": true,
           "gridcolor": "white",
           "linecolor": "white",
           "ticks": "",
           "title": {
            "standoff": 15
           },
           "zerolinecolor": "white",
           "zerolinewidth": 2
          }
         }
        },
        "width": 900,
        "xaxis": {
         "gridcolor": "#1f292f",
         "nticks": 5,
         "rangeslider": {
          "visible": false
         }
        },
        "yaxis": {
         "gridcolor": "#1f292f"
        }
       }
      }
     },
     "metadata": {},
     "output_type": "display_data"
    }
   ],
   "source": [
    "cp = CandlePlot(df_trades, candles=False)\n",
    "cp.show_plot(line_traces=['GAIN_C'])"
   ]
  },
  {
   "cell_type": "code",
   "execution_count": null,
   "id": "7708f262",
   "metadata": {},
   "outputs": [],
   "source": []
  }
 ],
 "metadata": {
  "kernelspec": {
   "display_name": "default",
   "language": "python",
   "name": "python3"
  },
  "language_info": {
   "codemirror_mode": {
    "name": "ipython",
    "version": 3
   },
   "file_extension": ".py",
   "mimetype": "text/x-python",
   "name": "python",
   "nbconvert_exporter": "python",
   "pygments_lexer": "ipython3",
   "version": "3.13.5"
  }
 },
 "nbformat": 4,
 "nbformat_minor": 5
}
