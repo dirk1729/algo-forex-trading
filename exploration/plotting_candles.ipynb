{
 "cells": [
  {
   "cell_type": "code",
   "execution_count": 1,
   "id": "a4fd04d1-c31c-4f2f-ad98-e5bc061d4464",
   "metadata": {},
   "outputs": [],
   "source": [
    "import pandas as pd\n",
    "import plotly.graph_objects as go\n",
    "import datetime as dt\n",
    "from plotting import CandlePlot"
   ]
  },
  {
   "cell_type": "code",
   "execution_count": 4,
   "id": "6a9ee60d-307b-4457-9fe0-f973c274fa9a",
   "metadata": {},
   "outputs": [],
   "source": [
    "pair = \"EUR_USD\"\n",
    "granularity = \"H4\"\n",
    "df = pd.read_pickle(f\"../data/{pair}_{granularity}.pkl\")"
   ]
  },
  {
   "cell_type": "code",
   "execution_count": 5,
   "id": "ddbf5fe4",
   "metadata": {},
   "outputs": [],
   "source": [
    "df_plot = df.iloc[:100]"
   ]
  },
  {
   "cell_type": "code",
   "execution_count": 7,
   "id": "be2571e5",
   "metadata": {},
   "outputs": [],
   "source": [
    "cp = CandlePlot(df_plot)"
   ]
  },
  {
   "cell_type": "code",
   "execution_count": 8,
   "id": "77482cdd",
   "metadata": {},
   "outputs": [
    {
     "data": {
      "application/vnd.plotly.v1+json": {
       "config": {
        "plotlyServerURL": "https://plot.ly"
       },
       "data": [
        {
         "close": {
          "bdata": "gnNGlPYG8T8OT6+UZQjxP7QCQ1a3+vA/T135LM8D8T+dS3FV2ffwP3OFd7mI7/A/Rs7Cnnb48D+3ek563/jwP8zR4/c2/fA/f7xXrUz48D8AAAAAAADxPwzIXu/++PA/DhDM0eP38D9xVdl3RfDwP77Z5sb0BPE/saIG0zD88D8HCObo8fvwP5Gb4QZ8/vA/y6FFtvP98D8iN8MN+PzwP88xIHu9+/A//Z/DfHkB8T+gw3x5AfbwPw4QzNHj9/A/bkxPWOIB8T+Do+TVOQbxPw034PPDCPE/Jt9sc2P68D+scwzIXu/wP4asbvWc9PA/2IFzRpT28D/zyB8MPPfwP31cGyrG+fA/YhVvZB758D+Ss7CnHf7wP+p4zEBl/PA/7C+7Jw8L8T/qz36kiAzxPx8uOe6UDvE/jPM3oRAB8T/3r6w0KQXxP77BFyZTBfE/Zfz7jAsH8T9GJXUCmgjxPzCeQUP/BPE/LSY2H9cG8T+oOuRmuAHxPybHndLB+vA/N45Yi08B8T+OO6WD9f/wPwYv+grSDPE/PzVeukkM8T8sZRniWBfxP+Y/pN++DvE/Hy457pQO8T+6MT1hiQfxP1ysqME0DPE/ixpMw/AR8T9PO/w1WSPxP3Fyv0NRIPE/dQKaCBse8T/o9pLGaB3xP0ok0csoFvE/2V92Tx4W8T/mP6Tfvg7xP1a8kXnkD/E/dZMYBFYO8T9yM9yAzw/xPzgQkgVM4PA/oYSZtn/l8D9yFva0w9/wP3DOiNLe4PA/8SkAxjPo8D8MWd3qOenwP+4IpwUv+vA/CoDxDBr68D/U8ZiByvjwP4Hs9e6P9/A/rir7rgj+8D/uCKcFL/rwP+W4UzpY//A/iuWWVkPi8D8MAiuHFtnwP0vIBz2b1fA/uiwmNh/X8D+m1ZC4x9LwPznRrkLKz/A/A7LXuz/e8D/3r6w0KQXxPyveyDzyB/E/qcE0DB8R8T/ajxSRYRXxP6UxWkdVE/E/DOVEuwop8T8XvOgrSDPxPz/jwoGQLPE/y9b6IqEt8T8486s5QDDxP+FFX0GaMfE/D0WBPpEn8T8=",
          "dtype": "f8"
         },
         "decreasing": {
          "fillcolor": "#CC2E3C",
          "line": {
           "color": "#FF3A4C"
          }
         },
         "high": {
          "bdata": "DB8RUyIJ8T8Bh1ClZg/xPx3mywuwD/E/2QjE6/oF8T+ZKhiV1AnxPz6uDRXj/PA/Rs7Cnnb48D+XcymuKvvwP5M6AU2EDfE/wAmFCDgE8T8Yz6ChfwLxPzi+9sySAPE/QiYZOQv78D+zQSYZOQvxP4TTghd9BfE/uOnPfqQI8T891SE3ww3xP6g65Ga4AfE/xLEubqMB8T+OI9biUwDxPxMn9zsUBfE/nIpUGFsI8T9PdcjNcAPxP8uhRbbz/fA/NV66SQwC8T/SGK2jqgnxPzy9UpYhDvE/d/NUh9wM8T+T407pYP3wPxBAahMn9/A/nWNA9nr38D8JUFPL1vrwP8OBkCxgAvE/bOwS1VsD8T/7P4f58gLxPwEwnkFD//A/CHdn7bYL8T8fLjnulA7xP/32deCcEfE/GD4ipkQS8T88pYP1fw7xP1t8CoDxDPE/nIpUGFsI8T+30QDeAgnxP1ysqME0DPE/Pu3w12QN8T9OnNzvUBTxP/jfSnZsBPE/Eyf3OxQF8T+IY13cRgPxP3bDtkWZDfE/b9Of/UgR8T9eY5eo3hrxP2QjEK/rF/E//MbXnlkS8T8d5ssLsA/xP79gN2xbFPE/rthfdk8e8T+kiAyreCPxPzGUE+0qJPE/GJXUCWgi8T9V+3Q8ZiDxPwH20akrH/E/0T/BxYoa8T8P7s7abRfxP2oTJ/c7FPE/1edqK/YX8T8RHm0csRbxP4syG2SSEfE/tvP91Hjp8D9pNSTusfTwP2K+vAD76PA/RS+jWG7p8D93LSEf9OzwPzHO34RCBPE/xyk6ksv/8D+M22gAbwHxP0ImGTkL+/A/UaVmD7QC8T+Ss7CnHf7wP8SxLm6jAfE/43DmV3MA8T9/Tdaoh+jwPx8RUyKJ3vA/mfViKCfa8D9dp5GWytvwP32utmJ/2fA/j6UPXVDf8D+hSs0eaAXxPwwHQrKACfE/iLoPQGoT8T+Amlq21hfxPzv8NVmjHvE/XYqryr4r8T8rE36pnzfxP9ttF5rrNPE/yXa+nxov8T9wsaIG0zDxPzIDlfHvM/E/Ugq6vaQx8T8=",
          "dtype": "f8"
         },
         "increasing": {
          "fillcolor": "#24A06B",
          "line": {
           "color": "#2EC886"
          }
         },
         "line": {
          "width": 1
         },
         "low": {
          "bdata": "rOKNzCP/8D9KtU/HYwbxP0Ruhhvw+fA/RIZVvJH58D9NvtnmxvTwP3OFd7mI7/A/dc3km23u8D8u51JcVfbwP9dR1QRR9/A/aTUk7rH08D9d/kP67evwP4NMMnIW9vA/MEeP39v08D+wA+eMKO3wP+Z5cHfW7vA/weJw5lfz8D/a4a/JGvXwP9rJ4Ch59fA/QQ5KmGn78D8N4C2QoPjwP+8gdqbQ+fA/1jkGZK/38D9SflLt0/HwP8L6P4f58vA/nUtxVdn38D+OI9biUwDxP1Q1QdR9APE/88gfDDz38D91zeSbbe7wP9AKDFnd6vA/Vd6OcFrw8D/YgXNGlPbwPxUA4xk09PA/wcqhRbbz8D8012mkpfLwP5wzorQ3+PA/ipP7HYoC8T8VV5V9VwTxP4TTghd9BfE/BJDaxMn98D8KaCJsePrwP/jfSnZsBPE/AAAAAAAA8T8Xt9EA3gLxP3B87ZklAfE/i8OZX80B8T8KaCJsePrwP7iSHRuB+PA/C5jArbv58D89fm/Tn/3wP7UaEvdY+vA/UaVmD7QC8T8UP8bctQTxP1gczvxqDvE/lZo90AoM8T/XwFYJFgfxP2hcOBCSBfE/nIpUGFsI8T/L+PcZFw7xP+tunuqQG/E/Iy2VtyMc8T9i83FtqBjxP3Iz3IDPD/E/FK5H4XoU8T8mHlA25QrxP9HoDmJnCvE/7l9ZaVIK8T+vsUtUbw3xP0J4tHHE2vA/aW/whcnU8D/OUx1yM9zwP61M+KV+3vA/BOJ1/YLd8D9nfjUHCObwP2iu00hL5fA/wcqhRbbz8D9Zbmk1JO7wPzmX4qqy7/A/2ZlC5zX28D8RcAhVavbwP2/1nPS+8fA/GTkLe9rh8D9t5/up8dLwP/oK0oxF0/A/FCLgEKrU8D/FrBdDOdHwP88sCVBTy/A/oKaWrfXF8D/MtP0rK83wP25MT1jiAfE/9n8O8+UF8T/+JhQi4BDxP8rgKHl1DvE/Ap8fRggP8T+kiAyreCPxP0JD/wQXK/E/gSGrWz0n8T+693DJcSfxP9ZW7C+7J/E/TyMtlbcj8T8=",
          "dtype": "f8"
         },
         "opacity": 1,
         "open": {
          "bdata": "jNtoAG8B8T9l/PuMCwfxPyrG+ZtQCPE/Jsed0sH68D/AIVSp2QPxPyuHFtnO9/A/GsBbIEHx8D9jRQ2mYfjwP0a28/3U+PA/k+NO6WD98D9jRQ2mYfjwPwAAAAAAAPE/nDOitDf48D8OEMzR4/fwP1XejnBa8PA/TRWMSuoE8T9A3qtWJvzwPyR/MPDc+/A//89hvrwA8T/LoUW28/3wPyI3ww34/PA/XW3F/rL78D/hKHl1jgHxP4NMMnIW9vA/nDOitDf48D+Lw5lfzQHxP6AaL90kBvE/DTfg88MI8T9DVrd6TvrwPzqvsUtU7/A/+IiYEkn08D+7Cik/qfbwP/PIHww89/A/tkqwOJz58D9+jLlrCfnwP64q+64I/vA/hhvw+WEE8T/sL7snDwvxP7Hh6ZWyDPE/Hy457pQO8T8bL90kBgHxP4XrUbgeBfE/LT4FwHgG8T9l/PuMCwfxPymuKvuuCPE/MJ5BQ/8E8T+7YduizAbxP6g65Ga4AfE/Qj7o2az68D83jliLTwHxPwAAAAAAAPE/d/NUh9wM8T+Vgm4vaQzxPyxlGeJYF/E/kNrEyf0O8T/K4Ch5dQ7xPw+XHHdKB/E/XKyowTQM8T+nkZbK2xHxP4gRwqONI/E/rcCQ1a0e8T+u8C4X8R3xP67wLhfxHfE/9dbAVgkW8T/ZX3ZPHhbxP3R7SWO0DvE/xSCwcmgR8T+RCmMLQQ7xP3Iz3IDPD/E/qtTsgVbg8D8TSfQyiuXwPwBSmzi53/A/HJlH/mDg8D/xKQDGM+jwPwxZ3eo56fA/CoDxDBr68D8KgPEMGvrwP9TxmIHK+PA/SBYwgVv38D/LoUW28/3wP9GRXP5D+vA/rMq+K4L/8D9ubkxPWOLwPwwCK4cW2fA/E/JBz2bV8D+6LCY2H9fwP23n+6nx0vA/q5UJv9TP8D+R7Xw/Nd7wP/evrDQpBfE/gnNGlPYG8T/ir8ka9RDxP9qPFJFhFfE/+n5qvHQT8T/wbfqzHynxP/pEniRdM/E/lWBxOPMr8T+vX7Abti3xP8cuUb01MPE/4UVfQZox8T8=",
          "dtype": "f8"
         },
         "type": "candlestick",
         "x": [
          "s22-12-15 22:00",
          "s22-12-16 02:00",
          "s22-12-16 06:00",
          "s22-12-16 10:00",
          "s22-12-16 14:00",
          "s22-12-16 18:00",
          "s22-12-18 22:00",
          "s22-12-19 02:00",
          "s22-12-19 06:00",
          "s22-12-19 10:00",
          "s22-12-19 14:00",
          "s22-12-19 18:00",
          "s22-12-19 22:00",
          "s22-12-20 02:00",
          "s22-12-20 06:00",
          "s22-12-20 10:00",
          "s22-12-20 14:00",
          "s22-12-20 18:00",
          "s22-12-20 22:00",
          "s22-12-21 02:00",
          "s22-12-21 06:00",
          "s22-12-21 10:00",
          "s22-12-21 14:00",
          "s22-12-21 18:00",
          "s22-12-21 22:00",
          "s22-12-22 02:00",
          "s22-12-22 06:00",
          "s22-12-22 10:00",
          "s22-12-22 14:00",
          "s22-12-22 18:00",
          "s22-12-22 22:00",
          "s22-12-23 02:00",
          "s22-12-23 06:00",
          "s22-12-23 10:00",
          "s22-12-23 14:00",
          "s22-12-23 18:00",
          "s22-12-26 22:00",
          "s22-12-27 02:00",
          "s22-12-27 06:00",
          "s22-12-27 10:00",
          "s22-12-27 14:00",
          "s22-12-27 18:00",
          "s22-12-27 22:00",
          "s22-12-28 02:00",
          "s22-12-28 06:00",
          "s22-12-28 10:00",
          "s22-12-28 14:00",
          "s22-12-28 18:00",
          "s22-12-28 22:00",
          "s22-12-29 02:00",
          "s22-12-29 06:00",
          "s22-12-29 10:00",
          "s22-12-29 14:00",
          "s22-12-29 18:00",
          "s22-12-29 22:00",
          "s22-12-30 02:00",
          "s22-12-30 06:00",
          "s22-12-30 10:00",
          "s22-12-30 14:00",
          "s22-12-30 18:00",
          "s23-01-01 22:00",
          "s23-01-02 02:00",
          "s23-01-02 06:00",
          "s23-01-02 10:00",
          "s23-01-02 14:00",
          "s23-01-02 18:00",
          "s23-01-02 22:00",
          "s23-01-03 02:00",
          "s23-01-03 06:00",
          "s23-01-03 10:00",
          "s23-01-03 14:00",
          "s23-01-03 18:00",
          "s23-01-03 22:00",
          "s23-01-04 02:00",
          "s23-01-04 06:00",
          "s23-01-04 10:00",
          "s23-01-04 14:00",
          "s23-01-04 18:00",
          "s23-01-04 22:00",
          "s23-01-05 02:00",
          "s23-01-05 06:00",
          "s23-01-05 10:00",
          "s23-01-05 14:00",
          "s23-01-05 18:00",
          "s23-01-05 22:00",
          "s23-01-06 02:00",
          "s23-01-06 06:00",
          "s23-01-06 10:00",
          "s23-01-06 14:00",
          "s23-01-06 18:00",
          "s23-01-08 22:00",
          "s23-01-09 02:00",
          "s23-01-09 06:00",
          "s23-01-09 10:00",
          "s23-01-09 14:00",
          "s23-01-09 18:00",
          "s23-01-09 22:00",
          "s23-01-10 02:00",
          "s23-01-10 06:00",
          "s23-01-10 10:00"
         ]
        }
       ],
       "layout": {
        "font": {
         "color": "#e1e1e1",
         "size": 8
        },
        "height": 400,
        "margin": {
         "b": 10,
         "l": 10,
         "r": 10,
         "t": 10
        },
        "paper_bgcolor": "#2c303c",
        "plot_bgcolor": "#2c303c",
        "template": {
         "data": {
          "bar": [
           {
            "error_x": {
             "color": "#2a3f5f"
            },
            "error_y": {
             "color": "#2a3f5f"
            },
            "marker": {
             "line": {
              "color": "#E5ECF6",
              "width": 0.5
             },
             "pattern": {
              "fillmode": "overlay",
              "size": 10,
              "solidity": 0.2
             }
            },
            "type": "bar"
           }
          ],
          "barpolar": [
           {
            "marker": {
             "line": {
              "color": "#E5ECF6",
              "width": 0.5
             },
             "pattern": {
              "fillmode": "overlay",
              "size": 10,
              "solidity": 0.2
             }
            },
            "type": "barpolar"
           }
          ],
          "carpet": [
           {
            "aaxis": {
             "endlinecolor": "#2a3f5f",
             "gridcolor": "white",
             "linecolor": "white",
             "minorgridcolor": "white",
             "startlinecolor": "#2a3f5f"
            },
            "baxis": {
             "endlinecolor": "#2a3f5f",
             "gridcolor": "white",
             "linecolor": "white",
             "minorgridcolor": "white",
             "startlinecolor": "#2a3f5f"
            },
            "type": "carpet"
           }
          ],
          "choropleth": [
           {
            "colorbar": {
             "outlinewidth": 0,
             "ticks": ""
            },
            "type": "choropleth"
           }
          ],
          "contour": [
           {
            "colorbar": {
             "outlinewidth": 0,
             "ticks": ""
            },
            "colorscale": [
             [
              0,
              "#0d0887"
             ],
             [
              0.1111111111111111,
              "#46039f"
             ],
             [
              0.2222222222222222,
              "#7201a8"
             ],
             [
              0.3333333333333333,
              "#9c179e"
             ],
             [
              0.4444444444444444,
              "#bd3786"
             ],
             [
              0.5555555555555556,
              "#d8576b"
             ],
             [
              0.6666666666666666,
              "#ed7953"
             ],
             [
              0.7777777777777778,
              "#fb9f3a"
             ],
             [
              0.8888888888888888,
              "#fdca26"
             ],
             [
              1,
              "#f0f921"
             ]
            ],
            "type": "contour"
           }
          ],
          "contourcarpet": [
           {
            "colorbar": {
             "outlinewidth": 0,
             "ticks": ""
            },
            "type": "contourcarpet"
           }
          ],
          "heatmap": [
           {
            "colorbar": {
             "outlinewidth": 0,
             "ticks": ""
            },
            "colorscale": [
             [
              0,
              "#0d0887"
             ],
             [
              0.1111111111111111,
              "#46039f"
             ],
             [
              0.2222222222222222,
              "#7201a8"
             ],
             [
              0.3333333333333333,
              "#9c179e"
             ],
             [
              0.4444444444444444,
              "#bd3786"
             ],
             [
              0.5555555555555556,
              "#d8576b"
             ],
             [
              0.6666666666666666,
              "#ed7953"
             ],
             [
              0.7777777777777778,
              "#fb9f3a"
             ],
             [
              0.8888888888888888,
              "#fdca26"
             ],
             [
              1,
              "#f0f921"
             ]
            ],
            "type": "heatmap"
           }
          ],
          "histogram": [
           {
            "marker": {
             "pattern": {
              "fillmode": "overlay",
              "size": 10,
              "solidity": 0.2
             }
            },
            "type": "histogram"
           }
          ],
          "histogram2d": [
           {
            "colorbar": {
             "outlinewidth": 0,
             "ticks": ""
            },
            "colorscale": [
             [
              0,
              "#0d0887"
             ],
             [
              0.1111111111111111,
              "#46039f"
             ],
             [
              0.2222222222222222,
              "#7201a8"
             ],
             [
              0.3333333333333333,
              "#9c179e"
             ],
             [
              0.4444444444444444,
              "#bd3786"
             ],
             [
              0.5555555555555556,
              "#d8576b"
             ],
             [
              0.6666666666666666,
              "#ed7953"
             ],
             [
              0.7777777777777778,
              "#fb9f3a"
             ],
             [
              0.8888888888888888,
              "#fdca26"
             ],
             [
              1,
              "#f0f921"
             ]
            ],
            "type": "histogram2d"
           }
          ],
          "histogram2dcontour": [
           {
            "colorbar": {
             "outlinewidth": 0,
             "ticks": ""
            },
            "colorscale": [
             [
              0,
              "#0d0887"
             ],
             [
              0.1111111111111111,
              "#46039f"
             ],
             [
              0.2222222222222222,
              "#7201a8"
             ],
             [
              0.3333333333333333,
              "#9c179e"
             ],
             [
              0.4444444444444444,
              "#bd3786"
             ],
             [
              0.5555555555555556,
              "#d8576b"
             ],
             [
              0.6666666666666666,
              "#ed7953"
             ],
             [
              0.7777777777777778,
              "#fb9f3a"
             ],
             [
              0.8888888888888888,
              "#fdca26"
             ],
             [
              1,
              "#f0f921"
             ]
            ],
            "type": "histogram2dcontour"
           }
          ],
          "mesh3d": [
           {
            "colorbar": {
             "outlinewidth": 0,
             "ticks": ""
            },
            "type": "mesh3d"
           }
          ],
          "parcoords": [
           {
            "line": {
             "colorbar": {
              "outlinewidth": 0,
              "ticks": ""
             }
            },
            "type": "parcoords"
           }
          ],
          "pie": [
           {
            "automargin": true,
            "type": "pie"
           }
          ],
          "scatter": [
           {
            "fillpattern": {
             "fillmode": "overlay",
             "size": 10,
             "solidity": 0.2
            },
            "type": "scatter"
           }
          ],
          "scatter3d": [
           {
            "line": {
             "colorbar": {
              "outlinewidth": 0,
              "ticks": ""
             }
            },
            "marker": {
             "colorbar": {
              "outlinewidth": 0,
              "ticks": ""
             }
            },
            "type": "scatter3d"
           }
          ],
          "scattercarpet": [
           {
            "marker": {
             "colorbar": {
              "outlinewidth": 0,
              "ticks": ""
             }
            },
            "type": "scattercarpet"
           }
          ],
          "scattergeo": [
           {
            "marker": {
             "colorbar": {
              "outlinewidth": 0,
              "ticks": ""
             }
            },
            "type": "scattergeo"
           }
          ],
          "scattergl": [
           {
            "marker": {
             "colorbar": {
              "outlinewidth": 0,
              "ticks": ""
             }
            },
            "type": "scattergl"
           }
          ],
          "scattermap": [
           {
            "marker": {
             "colorbar": {
              "outlinewidth": 0,
              "ticks": ""
             }
            },
            "type": "scattermap"
           }
          ],
          "scattermapbox": [
           {
            "marker": {
             "colorbar": {
              "outlinewidth": 0,
              "ticks": ""
             }
            },
            "type": "scattermapbox"
           }
          ],
          "scatterpolar": [
           {
            "marker": {
             "colorbar": {
              "outlinewidth": 0,
              "ticks": ""
             }
            },
            "type": "scatterpolar"
           }
          ],
          "scatterpolargl": [
           {
            "marker": {
             "colorbar": {
              "outlinewidth": 0,
              "ticks": ""
             }
            },
            "type": "scatterpolargl"
           }
          ],
          "scatterternary": [
           {
            "marker": {
             "colorbar": {
              "outlinewidth": 0,
              "ticks": ""
             }
            },
            "type": "scatterternary"
           }
          ],
          "surface": [
           {
            "colorbar": {
             "outlinewidth": 0,
             "ticks": ""
            },
            "colorscale": [
             [
              0,
              "#0d0887"
             ],
             [
              0.1111111111111111,
              "#46039f"
             ],
             [
              0.2222222222222222,
              "#7201a8"
             ],
             [
              0.3333333333333333,
              "#9c179e"
             ],
             [
              0.4444444444444444,
              "#bd3786"
             ],
             [
              0.5555555555555556,
              "#d8576b"
             ],
             [
              0.6666666666666666,
              "#ed7953"
             ],
             [
              0.7777777777777778,
              "#fb9f3a"
             ],
             [
              0.8888888888888888,
              "#fdca26"
             ],
             [
              1,
              "#f0f921"
             ]
            ],
            "type": "surface"
           }
          ],
          "table": [
           {
            "cells": {
             "fill": {
              "color": "#EBF0F8"
             },
             "line": {
              "color": "white"
             }
            },
            "header": {
             "fill": {
              "color": "#C8D4E3"
             },
             "line": {
              "color": "white"
             }
            },
            "type": "table"
           }
          ]
         },
         "layout": {
          "annotationdefaults": {
           "arrowcolor": "#2a3f5f",
           "arrowhead": 0,
           "arrowwidth": 1
          },
          "autotypenumbers": "strict",
          "coloraxis": {
           "colorbar": {
            "outlinewidth": 0,
            "ticks": ""
           }
          },
          "colorscale": {
           "diverging": [
            [
             0,
             "#8e0152"
            ],
            [
             0.1,
             "#c51b7d"
            ],
            [
             0.2,
             "#de77ae"
            ],
            [
             0.3,
             "#f1b6da"
            ],
            [
             0.4,
             "#fde0ef"
            ],
            [
             0.5,
             "#f7f7f7"
            ],
            [
             0.6,
             "#e6f5d0"
            ],
            [
             0.7,
             "#b8e186"
            ],
            [
             0.8,
             "#7fbc41"
            ],
            [
             0.9,
             "#4d9221"
            ],
            [
             1,
             "#276419"
            ]
           ],
           "sequential": [
            [
             0,
             "#0d0887"
            ],
            [
             0.1111111111111111,
             "#46039f"
            ],
            [
             0.2222222222222222,
             "#7201a8"
            ],
            [
             0.3333333333333333,
             "#9c179e"
            ],
            [
             0.4444444444444444,
             "#bd3786"
            ],
            [
             0.5555555555555556,
             "#d8576b"
            ],
            [
             0.6666666666666666,
             "#ed7953"
            ],
            [
             0.7777777777777778,
             "#fb9f3a"
            ],
            [
             0.8888888888888888,
             "#fdca26"
            ],
            [
             1,
             "#f0f921"
            ]
           ],
           "sequentialminus": [
            [
             0,
             "#0d0887"
            ],
            [
             0.1111111111111111,
             "#46039f"
            ],
            [
             0.2222222222222222,
             "#7201a8"
            ],
            [
             0.3333333333333333,
             "#9c179e"
            ],
            [
             0.4444444444444444,
             "#bd3786"
            ],
            [
             0.5555555555555556,
             "#d8576b"
            ],
            [
             0.6666666666666666,
             "#ed7953"
            ],
            [
             0.7777777777777778,
             "#fb9f3a"
            ],
            [
             0.8888888888888888,
             "#fdca26"
            ],
            [
             1,
             "#f0f921"
            ]
           ]
          },
          "colorway": [
           "#636efa",
           "#EF553B",
           "#00cc96",
           "#ab63fa",
           "#FFA15A",
           "#19d3f3",
           "#FF6692",
           "#B6E880",
           "#FF97FF",
           "#FECB52"
          ],
          "font": {
           "color": "#2a3f5f"
          },
          "geo": {
           "bgcolor": "white",
           "lakecolor": "white",
           "landcolor": "#E5ECF6",
           "showlakes": true,
           "showland": true,
           "subunitcolor": "white"
          },
          "hoverlabel": {
           "align": "left"
          },
          "hovermode": "closest",
          "mapbox": {
           "style": "light"
          },
          "paper_bgcolor": "white",
          "plot_bgcolor": "#E5ECF6",
          "polar": {
           "angularaxis": {
            "gridcolor": "white",
            "linecolor": "white",
            "ticks": ""
           },
           "bgcolor": "#E5ECF6",
           "radialaxis": {
            "gridcolor": "white",
            "linecolor": "white",
            "ticks": ""
           }
          },
          "scene": {
           "xaxis": {
            "backgroundcolor": "#E5ECF6",
            "gridcolor": "white",
            "gridwidth": 2,
            "linecolor": "white",
            "showbackground": true,
            "ticks": "",
            "zerolinecolor": "white"
           },
           "yaxis": {
            "backgroundcolor": "#E5ECF6",
            "gridcolor": "white",
            "gridwidth": 2,
            "linecolor": "white",
            "showbackground": true,
            "ticks": "",
            "zerolinecolor": "white"
           },
           "zaxis": {
            "backgroundcolor": "#E5ECF6",
            "gridcolor": "white",
            "gridwidth": 2,
            "linecolor": "white",
            "showbackground": true,
            "ticks": "",
            "zerolinecolor": "white"
           }
          },
          "shapedefaults": {
           "line": {
            "color": "#2a3f5f"
           }
          },
          "ternary": {
           "aaxis": {
            "gridcolor": "white",
            "linecolor": "white",
            "ticks": ""
           },
           "baxis": {
            "gridcolor": "white",
            "linecolor": "white",
            "ticks": ""
           },
           "bgcolor": "#E5ECF6",
           "caxis": {
            "gridcolor": "white",
            "linecolor": "white",
            "ticks": ""
           }
          },
          "title": {
           "x": 0.05
          },
          "xaxis": {
           "automargin": true,
           "gridcolor": "white",
           "linecolor": "white",
           "ticks": "",
           "title": {
            "standoff": 15
           },
           "zerolinecolor": "white",
           "zerolinewidth": 2
          },
          "yaxis": {
           "automargin": true,
           "gridcolor": "white",
           "linecolor": "white",
           "ticks": "",
           "title": {
            "standoff": 15
           },
           "zerolinecolor": "white",
           "zerolinewidth": 2
          }
         }
        },
        "width": 900,
        "xaxis": {
         "gridcolor": "#1f292f",
         "nticks": 5,
         "rangeslider": {
          "visible": false
         }
        },
        "yaxis": {
         "gridcolor": "#1f292f"
        }
       }
      }
     },
     "metadata": {},
     "output_type": "display_data"
    }
   ],
   "source": [
    "cp.show_plot()"
   ]
  },
  {
   "cell_type": "code",
   "execution_count": null,
   "id": "f13d62fa",
   "metadata": {},
   "outputs": [],
   "source": []
  },
  {
   "cell_type": "code",
   "execution_count": null,
   "id": "0fd65896",
   "metadata": {},
   "outputs": [],
   "source": []
  },
  {
   "cell_type": "code",
   "execution_count": null,
   "id": "e4bfb4e6",
   "metadata": {},
   "outputs": [],
   "source": []
  }
 ],
 "metadata": {
  "kernelspec": {
   "display_name": "default",
   "language": "python",
   "name": "python3"
  },
  "language_info": {
   "codemirror_mode": {
    "name": "ipython",
    "version": 3
   },
   "file_extension": ".py",
   "mimetype": "text/x-python",
   "name": "python",
   "nbconvert_exporter": "python",
   "pygments_lexer": "ipython3",
   "version": "3.13.5"
  }
 },
 "nbformat": 4,
 "nbformat_minor": 5
}
