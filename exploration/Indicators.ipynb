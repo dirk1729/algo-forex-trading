{
 "cells": [
  {
   "cell_type": "code",
   "execution_count": 1,
   "id": "e41a9d2d",
   "metadata": {},
   "outputs": [],
   "source": [
    "import sys\n",
    "sys.path.append('../')\n",
    "import pandas as pd\n",
    "from plotting import CandlePlot"
   ]
  },
  {
   "cell_type": "code",
   "execution_count": 2,
   "id": "7e93861f",
   "metadata": {},
   "outputs": [],
   "source": [
    "from technicals.indicators import BollingerBands, ATR, KeltnerChannels, RSI, MACD"
   ]
  },
  {
   "cell_type": "code",
   "execution_count": 3,
   "id": "27822686",
   "metadata": {},
   "outputs": [],
   "source": [
    "df = pd.read_pickle(\"../data/AUD_CAD_H1.pkl\")"
   ]
  },
  {
   "cell_type": "code",
   "execution_count": 4,
   "id": "89e3278f",
   "metadata": {},
   "outputs": [],
   "source": [
    "df_an = df.copy()"
   ]
  },
  {
   "cell_type": "code",
   "execution_count": 5,
   "id": "d08ddbf6",
   "metadata": {},
   "outputs": [],
   "source": [
    "df_an = MACD(df_an)"
   ]
  },
  {
   "cell_type": "code",
   "execution_count": 10,
   "id": "d13751bf",
   "metadata": {},
   "outputs": [
    {
     "data": {
      "application/vnd.plotly.v1+json": {
       "config": {
        "plotlyServerURL": "https://plot.ly"
       },
       "data": [
        {
         "close": {
          "bdata": "JQaBlUOL7D9wlLw6x4DsP240gLdAguw//Yf029eB7D851sVtNIDsP8qJdhVSfuw/TwZHyatz7D8j+N9KdmzsP8ai6exkcOw/xEKtad5x7D/B4nDmV3PsP7wi+N9Kduw/O99PjZdu7D/5SbVPx2PsP4QNT6+UZew/0SLb+X5q7D8bgXhdv2DsP/W52or9Zew//Knx0k1i7D/VWwNbJVjsP7g7a7ddaOw/Uz9vKlJh7D91zeSbbW7sP7Abti3KbOw/xqLp7GRw7D9FL6NYbmnsP3ctIR/0bOw/B7Ezhc5r7D9Bn8iTpGvsP7g7a7ddaOw/s3vysFBr7D8lWBzO/GrsP1mGONbFbew/xEKtad5x7D9ZhjjWxW3sP737471qZew/PNo4Yi0+7D8v+grSjEXsPzuqmiDqPuw/L/oK0oxF7D/8+4wLB0LsPxhDOdGuQuw/VcGopE5A7D+rJoi6D0DsP6Cmlq31Rew/3PRnP1JE7D8MPPceLjnsPwCMZ9DQP+w/Q8pPqn067D+oxks3iUHsP9vEyf0ORew/7xtfe2ZJ7D9VGFsIclDsP6Cmlq31Rew/QZqxaDo77D98uOS4UzrsP1IKur2kMew/9+RhodY07D/7dDxmoDLsP0iKyLCKN+w/J4Oj5NU57D9uUWaDTDLsP6mfNxWpMOw/rP9zmC8v7D9oke18PzXsP+ik942vPew/3SQGgZVD7D9rSNxj6UPsP5vmHafoSOw/lialoNtL7D/qW+Z0WUzsP6btX1lpUuw/pu1fWWlS7D88iJ0pdF7sP6rU7IFWYOw/KGGm7V9Z7D9Of/YjRWTsP8vbEU4LXuw/6rKY2Hxc7D+fzarP1VbsP9obfGEyVew/Y3/ZPXlY7D8h6j4AqU3sP7ddaK7TSOw/CAPPvYdL7D/Wi6GcaFfsP5et9UVCW+w/WP/nMF9e7D8aUdobfGHsPwFqatlaX+w/f03WqIdo7D9sJt9sc2PsPzyInSl0Xuw/95LGaB1V7D9Y/+cwX17sP+dSXFX2Xew/f/YjRWRY7D/1udqK/WXsPwNDVrd6Tuw/xJRIopdR7D9i+IiYEknsPwPso1NXPuw/GqN1VDVB7D/bxMn9DkXsPyzxgLIpV+w/Rdjw9EpZ7D9oP1JEhlXsP/8JLlbUYOw/dEaU9gZf7D/HSzeJQWDsP+KS407pYOw/UN8yp8ti7D8+P4wQHm3sP3u9++O9auw/bw1slWBx7D9kBirj32fsP3u9++O9auw/JCh+jLlr7D84+MJkqmDsP0P/BBcrauw/w7tcxHdi7D8lWBzO/GrsP9DQP8HFiuw/eTvCacGL7D9QjZduEoPsP/n3GRcOhOw/eLRxxFp87D/59xkXDoTsP9tQMc7fhOw/yVnY0w5/7D8zFk1nJ4PsPxefAmA8g+w/Bwjm6PF77D/EQq1p3nHsP4kkehnFcuw/exSuR+F67D/ayeAoeXXsP94CCYofY+w/8SkAxjNo7D/Du1zEd2LsPy140VeQZuw/ke18PzVe7D+y9KEL6lvsPyBB8WPMXew/r5RliGNd7D89uDtrt13sP+YivhOzXuw/ke18PzVe7D/S+8bXnlnsP4B9dOrKZ+w/9Ik8Sbpm7D9Of/YjRWTsP+/Jw0Ktaew/MNgN2xZl7D9D/wQXK2rsP7JLVG8NbOw/XRYTm49r7D/5SbVPx2PsP87Cnnb4a+w/G9gqweJw7D8b2CrB4nDsP8HicOZXc+w/D9HoDmJn7D8b2CrB4nDsP5AUkWEVb+w/h8Q9lj507D/B4nDmV3PsP/hwyXGndOw/Wg2Jeyx97D9TliGOdXHsPysYldQJaOw/5fIf0m9f7D8AOsyXF2DsP+viNhrAW+w/e2ZJgJpa7D/sEtVbA1vsP0XY8PRKWew/nUZaKm9H7D/CNAwfEVPsP4EmwoanV+w/+yKhLedS7D/PFDqvsUvsP0BqEyf3O+w/wCZr1EM07D+JmBJJ9DLsP/NUh9wMN+w/2ZQrvMtF7D9tqBjnb0LsP0PKT6p9Ouw/8G36sx8p7D/1LXO6LCbsP5eo3hrYKuw/OiNKe4Mv7D+IaHQHsTPsP4Vf6udNRew/zLT9KytN7D8lehnFckvsPxyxFp8CYOw/xRuZR/5g7D/jwoGQLGDsP2wm32xzY+w/OPjCZKpg7D/GounsZHDsP4WUn1T7dOw/8rBQa5p37D8O+PwwQnjsP240gLdAguw/H7+36c9+7D9r1EM0uoPsP00tW+uLhOw/VtRgGoaP7D9QjZduEoPsPyUGgZVDi+w/OC140VeQ7D/fN772zJLsP1WkwthCkOw/LlbUYBqG7D9aDYl7LH3sPxMPKJtyhew/wmnBi76C7D9FDaZh+IjsP5WCbi9pjOw/xlBOtKuQ7D8nZr0YyonsPzoGZK93f+w/r0LKT6p97D+qglFJnYDsP57Swfo/h+w/0zB8REyJ7D+rCaLuA5DsP2xblNkgk+w/W5TZIJOM7D+PwvUoXI/sP85wAz4/jOw/W5TZIJOM7D8L73IR34nsP5yiI7n8h+w/0zB8REyJ7D/sF+yGbYvsPwdfmEwVjOw/fJv+7EeK7D/CacGLvoLsP7jpz36kiOw/Ol0WE5uP7D+9APvo1JXsPxgmUwWjkuw/DaZh+IiY7D9MVG8NbJXsP3rCEg8om+w/+64I/reS7D/Ut8zpspjsPyMtlbcjnOw/6j4AqU2c7D/QJ/Ik6ZrsP087/DVZo+w/t5c0Ruuo7D/+ZffkYaHsP9nO91Pjpew/2v6VlSal7D++h0uOO6XsP3/ZPXlYqOw/3o5wWvCi7D/mriXkg57sP197ZkmAmuw/lNkgk4yc7D+C4seYu5bsP2+70Fynkew/FJZ4QNmU7D9oy7kUV5XsP9FXkGYsmuw/RpT2Bl+Y7D9OtKuQ8pPsP8PwETElkuw/vjCZKhiV7D9uizIbZJLsP060q5Dyk+w/z/dT46Wb7D/MlxdgH53sP2CrBIvDmew/FcYWghyU7D/7rgj+t5LsP/8+48KBkOw/TFRvDWyV7D8TZtr+lZXsP0aU9gZfmOw/h6JAn8iT7D86XRYTm4/sP1uU2SCTjOw/igJ9Ik+S7D+qglFJnYDsP0mdgCbChuw/Ns07TtGR7D9J9DKK5ZbsPy4EOShhpuw/C0YldQKa7D/uztptF5rsP0jElEiil+w/Tgte9BWk7D8hzVg0nZ3sP7YQ5KCEmew/",
          "dtype": "f8"
         },
         "decreasing": {
          "fillcolor": "#CC2E3C",
          "line": {
           "color": "#FF3A4C"
          }
         },
         "high": {
          "bdata": "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",
          "dtype": "f8"
         },
         "increasing": {
          "fillcolor": "#24A06B",
          "line": {
           "color": "#2EC886"
          }
         },
         "line": {
          "width": 1
         },
         "low": {
          "bdata": "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",
          "dtype": "f8"
         },
         "opacity": 1,
         "open": {
          "bdata": "tAJDVrd67D/sF+yGbYvsPzemJyzxgOw/Ub01sFWC7D+nIhXGFoLsPznWxW00gOw/5wDBHD1+7D9PBkfJq3PsP7Abti3KbOw/nnsPlxx37D82H9eGinHsP08GR8mrc+w/gzRj0XR27D91zeSbbW7sPzI4Sl6dY+w/Sx+6oL5l7D/tmSUBamrsP1RvDWyVYOw/2UKQgxJm7D9uhhvw+WHsP5xtbkxPWOw/uDtrt11o7D+ndLD+z2HsP667eapDbuw/Pj+MEB5t7D8AkX77OnDsP7bbLjTXaew/Pj+MEB5t7D8HsTOFzmvsP0GfyJOka+w/KxiV1Alo7D9fRrHc0mrsP+xph78ma+w/Vyb8Uj9v7D8b2CrB4nDsPyCYo8fvbew/oYSZtn9l7D9ZUYNpGD7sPy/6CtKMRew/dJgvL8A+7D8Sg8DKoUXsP+CEQgQcQuw/ih9j7lpC7D/i5H6HokDsP3E486s5QOw/gy9MpgpG7D8V4/xNKETsP33ogvqWOew/qyaIug9A7D9fQZqxaDrsP2/YtiizQew/9zsUBfpE7D9i+IiYEknsP44G8BZIUOw/gy9MpgpG7D9eEfxvJTvsP0PKT6p9Ouw/WfrQBfUt7D+if4KLFTXsPzVj0XR2Muw/ZQETuHU37D8ng6Pk1TnsP25RZoNMMuw/jSjtDb4w7D+s/3OYLy/sP0wao3VUNew/BBxClZo97D/6m1CIgEPsP4e/JmvUQ+w/1NSytb5I7D8IA8+9h0vsP+pb5nRZTOw/NBE2PL1S7D9t/8pKk1LsP+YivhOzXuw/jV2iemtg7D/S+8bXnlnsP05/9iNFZOw/Pbg7a7dd7D/NO07RkVzsP0loy7kUV+w/SWjLuRRX7D9JaMu5FFfsP1rY0w5/Tew/1NSytb5I7D8IA8+9h0vsP7oUV5V9V+w/syRATS1b7D88iJ0pdF7sP+FiRQ2mYew/dEaU9gZf7D9/Tdaoh2jsP0+vlGWIY+w/WP/nMF9e7D++pDFaR1XsP1j/5zBfXuw/Pbg7a7dd7D9jf9k9eVjsP7zLRXwnZuw/A0NWt3pO7D/ElEiil1HsP35v05/9SOw/WVGDaRg+7D9TkQpjC0HsP/c7FAX6ROw/8wLso1NX7D8qkUQvo1jsPy9RvTWwVew/VG8NbJVg7D/Jq3MMyF7sPxyxFp8CYOw//wkuVtRg7D81mIbhI2LsP5J0zeSbbew/ChFwCFVq7D+p+wCkNnHsP530vvG1Z+w/mDRG66hq7D9Bn8iTpGvsPxuBeF2/YOw/ChFwCFVq7D/Du1zEd2LsP0LPZtXnauw/0NA/wcWK7D+zKVd4l4vsP1CNl24Sg+w/o5I6AU2E7D8G2EenrnzsPzLmriXkg+w/hetRuB6F7D86BmSvd3/sPzMWTWcng+w/F58CYDyD7D8kfzDw3HvsP+C593DJcew/34lZL4Zy7D9CJhk5C3vsPxO4dTdPdew/UN8yp8ti7D8rGJXUCWjsP8O7XMR3Yuw/ZmZmZmZm7D89uDtrt13sP7L0oQvqW+w/IEHxY8xd7D+vlGWIY13sP6+UZYhjXew/WP/nMF9e7D8EyqZc4V3sP0XY8PRKWew/gH106spn7D/0iTxJumbsP4dtizIbZOw/mpSCbi9p7D8TYcPTK2XsP9Ei2/l+auw/zsKedvhr7D8HsTOFzmvsP/lJtU/HY+w/zsKedvhr7D83T3XIzXDsP8VyS6shcew/TwZHyatz7D9Iv30dOGfsP+LplbIMcew/HThnRGlv7D+jO4idKXTsP8HicOZXc+w/v4I0Y9F07D9aDYl7LH3sPzYf14aKcew/nfS+8bVn7D8BamrZWl/sP+PCgZAsYOw/6+I2GsBb7D/RyyiWW1rsPwmKH2PuWuw/zeSbbW5M7D8Sg8DKoUXsP09Y4gFlU+w/gSbChqdX7D9PWOIBZVPsP5YmpaDbS+w/XeFdLuI77D/5FADjGTTsP/t0PGagMuw/81SH3Aw37D9nuAGfH0bsP6eWrfVFQuw/X0GasWg67D9iSiTRyyjsPxKlvcEXJuw/CFVq9kAr7D+OWItPATDsP6Tfvg6cM+w/hV/q501F7D+wPbMkQE3sP5YmpaDbS+w/HLEWnwJg7D//CS5W1GDsP6rU7IFWYOw/OPjCZKpg7D/FG5lH/mDsP1TGv8+4cOw/aR1VTRB17D+eew+XHHfsP9UJaCJseOw/NUbrqGqC7D9YrUz4pX7sP09d+SzPg+w/MbYQ5KCE7D9W1GAaho/sP96wbVFmg+w/XvQVpBmL7D9VpMLYQpDsPxgmUwWjkuw/qwmi7gOQ7D9LzR5oBYbsP1oNiXssfew/9pfdk4eF7D/CacGLvoLsP0UNpmH4iOw/znADPj+M7D/jx5i7lpDsP9IA3gIJiuw/0qkrn+V57D/oMF9egH3sP3CUvDrHgOw/SG3i5H6H7D9FDaZh+IjsPx3mywuwj+w/idLe4AuT7D/OcAM+P4zsP+Un1T4dj+w/lYJuL2mM7D8/HY8ZqIzsP+53KAr0iew/nKIjufyH7D+2uTE9YYnsP8+goX+Ci+w/znADPj+M7D/SAN4CCYrsP4l7LH3oguw/8ddkjXqI7D+PwvUoXI/sP6CJsOHplew/GCZTBaOS7D8qHaz/c5jsP4VCBBxClew/E2ba/pWV7D8UlnhA2ZTsPw2mYfiImOw/B7ZKsDic7D9cGyrG+ZvsP7Swpx3+muw/Fk1nJ4Oj7D/UDn9N1qjsP8R3YtaLoew/aCJseHql7D9N27+y0qTsP/d14JwRpew/1T4djxmo7D809E9wsaLsP8o329yYnuw/X3tmSYCa7D8Fhqxu9ZzsP7vQXKeRluw/b7vQXKeR7D++MJkqGJXsP74wmSoYlew/mGn7V1aa7D9GlPYGX5jsP4eiQJ/Ik+w/guLHmLuW7D/3Hi457pTsPxgmUwWjkuw/Mj1hiQeU7D8I5ujxe5vsPwWGrG71nOw/fSJPkq6Z7D+j6exkcJTsP4nS3uALk+w/48eYu5aQ7D8TZtr+lZXsP9l3RfC/lew/Kh2s/3OY7D9rK/aX3ZPsP+T3Nv3Zj+w/IqZEEr2M7D+KAn0iT5LsPxxfe2ZJgOw/LSY2H9eG7D82zTtO0ZHsP0n0Morlluw/EY3uIHam7D9ENLqD2JnsP9FXkGYsmuw/bxKDwMqh7D+DaRg+IqbsP8yXF2Afnew/",
          "dtype": "f8"
         },
         "type": "candlestick",
         "x": [
          "s25-06-11 12:00",
          "s25-06-11 13:00",
          "s25-06-11 14:00",
          "s25-06-11 15:00",
          "s25-06-11 16:00",
          "s25-06-11 17:00",
          "s25-06-11 18:00",
          "s25-06-11 19:00",
          "s25-06-11 20:00",
          "s25-06-11 21:00",
          "s25-06-11 22:00",
          "s25-06-11 23:00",
          "s25-06-12 00:00",
          "s25-06-12 01:00",
          "s25-06-12 02:00",
          "s25-06-12 03:00",
          "s25-06-12 04:00",
          "s25-06-12 05:00",
          "s25-06-12 06:00",
          "s25-06-12 07:00",
          "s25-06-12 08:00",
          "s25-06-12 09:00",
          "s25-06-12 10:00",
          "s25-06-12 11:00",
          "s25-06-12 12:00",
          "s25-06-12 13:00",
          "s25-06-12 14:00",
          "s25-06-12 15:00",
          "s25-06-12 16:00",
          "s25-06-12 17:00",
          "s25-06-12 18:00",
          "s25-06-12 19:00",
          "s25-06-12 20:00",
          "s25-06-12 21:00",
          "s25-06-12 22:00",
          "s25-06-12 23:00",
          "s25-06-13 00:00",
          "s25-06-13 01:00",
          "s25-06-13 02:00",
          "s25-06-13 03:00",
          "s25-06-13 04:00",
          "s25-06-13 05:00",
          "s25-06-13 06:00",
          "s25-06-13 07:00",
          "s25-06-13 08:00",
          "s25-06-13 09:00",
          "s25-06-13 10:00",
          "s25-06-13 11:00",
          "s25-06-13 12:00",
          "s25-06-13 13:00",
          "s25-06-13 14:00",
          "s25-06-13 15:00",
          "s25-06-13 16:00",
          "s25-06-13 17:00",
          "s25-06-13 18:00",
          "s25-06-13 19:00",
          "s25-06-13 20:00",
          "s25-06-15 21:00",
          "s25-06-15 22:00",
          "s25-06-15 23:00",
          "s25-06-16 00:00",
          "s25-06-16 01:00",
          "s25-06-16 02:00",
          "s25-06-16 03:00",
          "s25-06-16 04:00",
          "s25-06-16 05:00",
          "s25-06-16 06:00",
          "s25-06-16 07:00",
          "s25-06-16 08:00",
          "s25-06-16 09:00",
          "s25-06-16 10:00",
          "s25-06-16 11:00",
          "s25-06-16 12:00",
          "s25-06-16 13:00",
          "s25-06-16 14:00",
          "s25-06-16 15:00",
          "s25-06-16 16:00",
          "s25-06-16 17:00",
          "s25-06-16 18:00",
          "s25-06-16 19:00",
          "s25-06-16 20:00",
          "s25-06-16 21:00",
          "s25-06-16 22:00",
          "s25-06-16 23:00",
          "s25-06-17 00:00",
          "s25-06-17 01:00",
          "s25-06-17 02:00",
          "s25-06-17 03:00",
          "s25-06-17 04:00",
          "s25-06-17 05:00",
          "s25-06-17 06:00",
          "s25-06-17 07:00",
          "s25-06-17 08:00",
          "s25-06-17 09:00",
          "s25-06-17 10:00",
          "s25-06-17 11:00",
          "s25-06-17 12:00",
          "s25-06-17 13:00",
          "s25-06-17 14:00",
          "s25-06-17 15:00",
          "s25-06-17 16:00",
          "s25-06-17 17:00",
          "s25-06-17 18:00",
          "s25-06-17 19:00",
          "s25-06-17 20:00",
          "s25-06-17 21:00",
          "s25-06-17 22:00",
          "s25-06-17 23:00",
          "s25-06-18 00:00",
          "s25-06-18 01:00",
          "s25-06-18 02:00",
          "s25-06-18 03:00",
          "s25-06-18 04:00",
          "s25-06-18 05:00",
          "s25-06-18 06:00",
          "s25-06-18 07:00",
          "s25-06-18 08:00",
          "s25-06-18 09:00",
          "s25-06-18 10:00",
          "s25-06-18 11:00",
          "s25-06-18 12:00",
          "s25-06-18 13:00",
          "s25-06-18 14:00",
          "s25-06-18 15:00",
          "s25-06-18 16:00",
          "s25-06-18 17:00",
          "s25-06-18 18:00",
          "s25-06-18 19:00",
          "s25-06-18 20:00",
          "s25-06-18 21:00",
          "s25-06-18 22:00",
          "s25-06-18 23:00",
          "s25-06-19 00:00",
          "s25-06-19 01:00",
          "s25-06-19 02:00",
          "s25-06-19 03:00",
          "s25-06-19 04:00",
          "s25-06-19 05:00",
          "s25-06-19 06:00",
          "s25-06-19 07:00",
          "s25-06-19 08:00",
          "s25-06-19 09:00",
          "s25-06-19 10:00",
          "s25-06-19 11:00",
          "s25-06-19 12:00",
          "s25-06-19 13:00",
          "s25-06-19 14:00",
          "s25-06-19 15:00",
          "s25-06-19 16:00",
          "s25-06-19 17:00",
          "s25-06-19 18:00",
          "s25-06-19 19:00",
          "s25-06-19 20:00",
          "s25-06-19 21:00",
          "s25-06-19 22:00",
          "s25-06-19 23:00",
          "s25-06-20 00:00",
          "s25-06-20 01:00",
          "s25-06-20 02:00",
          "s25-06-20 03:00",
          "s25-06-20 04:00",
          "s25-06-20 05:00",
          "s25-06-20 06:00",
          "s25-06-20 07:00",
          "s25-06-20 08:00",
          "s25-06-20 09:00",
          "s25-06-20 10:00",
          "s25-06-20 11:00",
          "s25-06-20 12:00",
          "s25-06-20 13:00",
          "s25-06-20 14:00",
          "s25-06-20 15:00",
          "s25-06-20 16:00",
          "s25-06-20 17:00",
          "s25-06-20 18:00",
          "s25-06-20 19:00",
          "s25-06-20 20:00",
          "s25-06-22 21:00",
          "s25-06-22 22:00",
          "s25-06-22 23:00",
          "s25-06-23 00:00",
          "s25-06-23 01:00",
          "s25-06-23 02:00",
          "s25-06-23 03:00",
          "s25-06-23 04:00",
          "s25-06-23 05:00",
          "s25-06-23 06:00",
          "s25-06-23 07:00",
          "s25-06-23 08:00",
          "s25-06-23 09:00",
          "s25-06-23 10:00",
          "s25-06-23 11:00",
          "s25-06-23 12:00",
          "s25-06-23 13:00",
          "s25-06-23 14:00",
          "s25-06-23 15:00",
          "s25-06-23 16:00",
          "s25-06-23 17:00",
          "s25-06-23 18:00",
          "s25-06-23 19:00",
          "s25-06-23 20:00",
          "s25-06-23 21:00",
          "s25-06-23 22:00",
          "s25-06-23 23:00",
          "s25-06-24 00:00",
          "s25-06-24 01:00",
          "s25-06-24 02:00",
          "s25-06-24 03:00",
          "s25-06-24 04:00",
          "s25-06-24 05:00",
          "s25-06-24 06:00",
          "s25-06-24 07:00",
          "s25-06-24 08:00",
          "s25-06-24 09:00",
          "s25-06-24 10:00",
          "s25-06-24 11:00",
          "s25-06-24 12:00",
          "s25-06-24 13:00",
          "s25-06-24 14:00",
          "s25-06-24 15:00",
          "s25-06-24 16:00",
          "s25-06-24 17:00",
          "s25-06-24 18:00",
          "s25-06-24 19:00",
          "s25-06-24 20:00",
          "s25-06-24 21:00",
          "s25-06-24 22:00",
          "s25-06-24 23:00",
          "s25-06-25 00:00",
          "s25-06-25 01:00",
          "s25-06-25 02:00",
          "s25-06-25 03:00",
          "s25-06-25 04:00",
          "s25-06-25 05:00",
          "s25-06-25 06:00",
          "s25-06-25 07:00",
          "s25-06-25 08:00",
          "s25-06-25 09:00",
          "s25-06-25 10:00",
          "s25-06-25 11:00",
          "s25-06-25 12:00",
          "s25-06-25 13:00",
          "s25-06-25 14:00",
          "s25-06-25 15:00",
          "s25-06-25 16:00",
          "s25-06-25 17:00",
          "s25-06-25 18:00",
          "s25-06-25 19:00",
          "s25-06-25 20:00",
          "s25-06-25 21:00",
          "s25-06-25 22:00",
          "s25-06-25 23:00",
          "s25-06-26 00:00",
          "s25-06-26 01:00",
          "s25-06-26 02:00",
          "s25-06-26 03:00",
          "s25-06-26 04:00",
          "s25-06-26 05:00",
          "s25-06-26 06:00",
          "s25-06-26 07:00",
          "s25-06-26 08:00",
          "s25-06-26 09:00",
          "s25-06-26 10:00",
          "s25-06-26 11:00",
          "s25-06-26 12:00",
          "s25-06-26 13:00",
          "s25-06-26 14:00",
          "s25-06-26 15:00",
          "s25-06-26 16:00",
          "s25-06-26 17:00",
          "s25-06-26 18:00",
          "s25-06-26 19:00",
          "s25-06-26 20:00",
          "s25-06-26 21:00",
          "s25-06-26 22:00",
          "s25-06-26 23:00",
          "s25-06-27 00:00",
          "s25-06-27 01:00",
          "s25-06-27 02:00",
          "s25-06-27 03:00",
          "s25-06-27 04:00",
          "s25-06-27 05:00",
          "s25-06-27 06:00",
          "s25-06-27 07:00",
          "s25-06-27 08:00",
          "s25-06-27 09:00",
          "s25-06-27 10:00",
          "s25-06-27 11:00",
          "s25-06-27 12:00",
          "s25-06-27 13:00",
          "s25-06-27 14:00",
          "s25-06-27 15:00",
          "s25-06-27 16:00",
          "s25-06-27 17:00",
          "s25-06-27 18:00",
          "s25-06-27 19:00",
          "s25-06-27 20:00",
          "s25-06-29 21:00",
          "s25-06-29 22:00",
          "s25-06-29 23:00"
         ]
        }
       ],
       "layout": {
        "font": {
         "color": "#e1e1e1",
         "size": 8
        },
        "height": 400,
        "margin": {
         "b": 10,
         "l": 10,
         "r": 10,
         "t": 10
        },
        "paper_bgcolor": "#2c303c",
        "plot_bgcolor": "#2c303c",
        "template": {
         "data": {
          "bar": [
           {
            "error_x": {
             "color": "#2a3f5f"
            },
            "error_y": {
             "color": "#2a3f5f"
            },
            "marker": {
             "line": {
              "color": "#E5ECF6",
              "width": 0.5
             },
             "pattern": {
              "fillmode": "overlay",
              "size": 10,
              "solidity": 0.2
             }
            },
            "type": "bar"
           }
          ],
          "barpolar": [
           {
            "marker": {
             "line": {
              "color": "#E5ECF6",
              "width": 0.5
             },
             "pattern": {
              "fillmode": "overlay",
              "size": 10,
              "solidity": 0.2
             }
            },
            "type": "barpolar"
           }
          ],
          "carpet": [
           {
            "aaxis": {
             "endlinecolor": "#2a3f5f",
             "gridcolor": "white",
             "linecolor": "white",
             "minorgridcolor": "white",
             "startlinecolor": "#2a3f5f"
            },
            "baxis": {
             "endlinecolor": "#2a3f5f",
             "gridcolor": "white",
             "linecolor": "white",
             "minorgridcolor": "white",
             "startlinecolor": "#2a3f5f"
            },
            "type": "carpet"
           }
          ],
          "choropleth": [
           {
            "colorbar": {
             "outlinewidth": 0,
             "ticks": ""
            },
            "type": "choropleth"
           }
          ],
          "contour": [
           {
            "colorbar": {
             "outlinewidth": 0,
             "ticks": ""
            },
            "colorscale": [
             [
              0,
              "#0d0887"
             ],
             [
              0.1111111111111111,
              "#46039f"
             ],
             [
              0.2222222222222222,
              "#7201a8"
             ],
             [
              0.3333333333333333,
              "#9c179e"
             ],
             [
              0.4444444444444444,
              "#bd3786"
             ],
             [
              0.5555555555555556,
              "#d8576b"
             ],
             [
              0.6666666666666666,
              "#ed7953"
             ],
             [
              0.7777777777777778,
              "#fb9f3a"
             ],
             [
              0.8888888888888888,
              "#fdca26"
             ],
             [
              1,
              "#f0f921"
             ]
            ],
            "type": "contour"
           }
          ],
          "contourcarpet": [
           {
            "colorbar": {
             "outlinewidth": 0,
             "ticks": ""
            },
            "type": "contourcarpet"
           }
          ],
          "heatmap": [
           {
            "colorbar": {
             "outlinewidth": 0,
             "ticks": ""
            },
            "colorscale": [
             [
              0,
              "#0d0887"
             ],
             [
              0.1111111111111111,
              "#46039f"
             ],
             [
              0.2222222222222222,
              "#7201a8"
             ],
             [
              0.3333333333333333,
              "#9c179e"
             ],
             [
              0.4444444444444444,
              "#bd3786"
             ],
             [
              0.5555555555555556,
              "#d8576b"
             ],
             [
              0.6666666666666666,
              "#ed7953"
             ],
             [
              0.7777777777777778,
              "#fb9f3a"
             ],
             [
              0.8888888888888888,
              "#fdca26"
             ],
             [
              1,
              "#f0f921"
             ]
            ],
            "type": "heatmap"
           }
          ],
          "histogram": [
           {
            "marker": {
             "pattern": {
              "fillmode": "overlay",
              "size": 10,
              "solidity": 0.2
             }
            },
            "type": "histogram"
           }
          ],
          "histogram2d": [
           {
            "colorbar": {
             "outlinewidth": 0,
             "ticks": ""
            },
            "colorscale": [
             [
              0,
              "#0d0887"
             ],
             [
              0.1111111111111111,
              "#46039f"
             ],
             [
              0.2222222222222222,
              "#7201a8"
             ],
             [
              0.3333333333333333,
              "#9c179e"
             ],
             [
              0.4444444444444444,
              "#bd3786"
             ],
             [
              0.5555555555555556,
              "#d8576b"
             ],
             [
              0.6666666666666666,
              "#ed7953"
             ],
             [
              0.7777777777777778,
              "#fb9f3a"
             ],
             [
              0.8888888888888888,
              "#fdca26"
             ],
             [
              1,
              "#f0f921"
             ]
            ],
            "type": "histogram2d"
           }
          ],
          "histogram2dcontour": [
           {
            "colorbar": {
             "outlinewidth": 0,
             "ticks": ""
            },
            "colorscale": [
             [
              0,
              "#0d0887"
             ],
             [
              0.1111111111111111,
              "#46039f"
             ],
             [
              0.2222222222222222,
              "#7201a8"
             ],
             [
              0.3333333333333333,
              "#9c179e"
             ],
             [
              0.4444444444444444,
              "#bd3786"
             ],
             [
              0.5555555555555556,
              "#d8576b"
             ],
             [
              0.6666666666666666,
              "#ed7953"
             ],
             [
              0.7777777777777778,
              "#fb9f3a"
             ],
             [
              0.8888888888888888,
              "#fdca26"
             ],
             [
              1,
              "#f0f921"
             ]
            ],
            "type": "histogram2dcontour"
           }
          ],
          "mesh3d": [
           {
            "colorbar": {
             "outlinewidth": 0,
             "ticks": ""
            },
            "type": "mesh3d"
           }
          ],
          "parcoords": [
           {
            "line": {
             "colorbar": {
              "outlinewidth": 0,
              "ticks": ""
             }
            },
            "type": "parcoords"
           }
          ],
          "pie": [
           {
            "automargin": true,
            "type": "pie"
           }
          ],
          "scatter": [
           {
            "fillpattern": {
             "fillmode": "overlay",
             "size": 10,
             "solidity": 0.2
            },
            "type": "scatter"
           }
          ],
          "scatter3d": [
           {
            "line": {
             "colorbar": {
              "outlinewidth": 0,
              "ticks": ""
             }
            },
            "marker": {
             "colorbar": {
              "outlinewidth": 0,
              "ticks": ""
             }
            },
            "type": "scatter3d"
           }
          ],
          "scattercarpet": [
           {
            "marker": {
             "colorbar": {
              "outlinewidth": 0,
              "ticks": ""
             }
            },
            "type": "scattercarpet"
           }
          ],
          "scattergeo": [
           {
            "marker": {
             "colorbar": {
              "outlinewidth": 0,
              "ticks": ""
             }
            },
            "type": "scattergeo"
           }
          ],
          "scattergl": [
           {
            "marker": {
             "colorbar": {
              "outlinewidth": 0,
              "ticks": ""
             }
            },
            "type": "scattergl"
           }
          ],
          "scattermap": [
           {
            "marker": {
             "colorbar": {
              "outlinewidth": 0,
              "ticks": ""
             }
            },
            "type": "scattermap"
           }
          ],
          "scattermapbox": [
           {
            "marker": {
             "colorbar": {
              "outlinewidth": 0,
              "ticks": ""
             }
            },
            "type": "scattermapbox"
           }
          ],
          "scatterpolar": [
           {
            "marker": {
             "colorbar": {
              "outlinewidth": 0,
              "ticks": ""
             }
            },
            "type": "scatterpolar"
           }
          ],
          "scatterpolargl": [
           {
            "marker": {
             "colorbar": {
              "outlinewidth": 0,
              "ticks": ""
             }
            },
            "type": "scatterpolargl"
           }
          ],
          "scatterternary": [
           {
            "marker": {
             "colorbar": {
              "outlinewidth": 0,
              "ticks": ""
             }
            },
            "type": "scatterternary"
           }
          ],
          "surface": [
           {
            "colorbar": {
             "outlinewidth": 0,
             "ticks": ""
            },
            "colorscale": [
             [
              0,
              "#0d0887"
             ],
             [
              0.1111111111111111,
              "#46039f"
             ],
             [
              0.2222222222222222,
              "#7201a8"
             ],
             [
              0.3333333333333333,
              "#9c179e"
             ],
             [
              0.4444444444444444,
              "#bd3786"
             ],
             [
              0.5555555555555556,
              "#d8576b"
             ],
             [
              0.6666666666666666,
              "#ed7953"
             ],
             [
              0.7777777777777778,
              "#fb9f3a"
             ],
             [
              0.8888888888888888,
              "#fdca26"
             ],
             [
              1,
              "#f0f921"
             ]
            ],
            "type": "surface"
           }
          ],
          "table": [
           {
            "cells": {
             "fill": {
              "color": "#EBF0F8"
             },
             "line": {
              "color": "white"
             }
            },
            "header": {
             "fill": {
              "color": "#C8D4E3"
             },
             "line": {
              "color": "white"
             }
            },
            "type": "table"
           }
          ]
         },
         "layout": {
          "annotationdefaults": {
           "arrowcolor": "#2a3f5f",
           "arrowhead": 0,
           "arrowwidth": 1
          },
          "autotypenumbers": "strict",
          "coloraxis": {
           "colorbar": {
            "outlinewidth": 0,
            "ticks": ""
           }
          },
          "colorscale": {
           "diverging": [
            [
             0,
             "#8e0152"
            ],
            [
             0.1,
             "#c51b7d"
            ],
            [
             0.2,
             "#de77ae"
            ],
            [
             0.3,
             "#f1b6da"
            ],
            [
             0.4,
             "#fde0ef"
            ],
            [
             0.5,
             "#f7f7f7"
            ],
            [
             0.6,
             "#e6f5d0"
            ],
            [
             0.7,
             "#b8e186"
            ],
            [
             0.8,
             "#7fbc41"
            ],
            [
             0.9,
             "#4d9221"
            ],
            [
             1,
             "#276419"
            ]
           ],
           "sequential": [
            [
             0,
             "#0d0887"
            ],
            [
             0.1111111111111111,
             "#46039f"
            ],
            [
             0.2222222222222222,
             "#7201a8"
            ],
            [
             0.3333333333333333,
             "#9c179e"
            ],
            [
             0.4444444444444444,
             "#bd3786"
            ],
            [
             0.5555555555555556,
             "#d8576b"
            ],
            [
             0.6666666666666666,
             "#ed7953"
            ],
            [
             0.7777777777777778,
             "#fb9f3a"
            ],
            [
             0.8888888888888888,
             "#fdca26"
            ],
            [
             1,
             "#f0f921"
            ]
           ],
           "sequentialminus": [
            [
             0,
             "#0d0887"
            ],
            [
             0.1111111111111111,
             "#46039f"
            ],
            [
             0.2222222222222222,
             "#7201a8"
            ],
            [
             0.3333333333333333,
             "#9c179e"
            ],
            [
             0.4444444444444444,
             "#bd3786"
            ],
            [
             0.5555555555555556,
             "#d8576b"
            ],
            [
             0.6666666666666666,
             "#ed7953"
            ],
            [
             0.7777777777777778,
             "#fb9f3a"
            ],
            [
             0.8888888888888888,
             "#fdca26"
            ],
            [
             1,
             "#f0f921"
            ]
           ]
          },
          "colorway": [
           "#636efa",
           "#EF553B",
           "#00cc96",
           "#ab63fa",
           "#FFA15A",
           "#19d3f3",
           "#FF6692",
           "#B6E880",
           "#FF97FF",
           "#FECB52"
          ],
          "font": {
           "color": "#2a3f5f"
          },
          "geo": {
           "bgcolor": "white",
           "lakecolor": "white",
           "landcolor": "#E5ECF6",
           "showlakes": true,
           "showland": true,
           "subunitcolor": "white"
          },
          "hoverlabel": {
           "align": "left"
          },
          "hovermode": "closest",
          "mapbox": {
           "style": "light"
          },
          "paper_bgcolor": "white",
          "plot_bgcolor": "#E5ECF6",
          "polar": {
           "angularaxis": {
            "gridcolor": "white",
            "linecolor": "white",
            "ticks": ""
           },
           "bgcolor": "#E5ECF6",
           "radialaxis": {
            "gridcolor": "white",
            "linecolor": "white",
            "ticks": ""
           }
          },
          "scene": {
           "xaxis": {
            "backgroundcolor": "#E5ECF6",
            "gridcolor": "white",
            "gridwidth": 2,
            "linecolor": "white",
            "showbackground": true,
            "ticks": "",
            "zerolinecolor": "white"
           },
           "yaxis": {
            "backgroundcolor": "#E5ECF6",
            "gridcolor": "white",
            "gridwidth": 2,
            "linecolor": "white",
            "showbackground": true,
            "ticks": "",
            "zerolinecolor": "white"
           },
           "zaxis": {
            "backgroundcolor": "#E5ECF6",
            "gridcolor": "white",
            "gridwidth": 2,
            "linecolor": "white",
            "showbackground": true,
            "ticks": "",
            "zerolinecolor": "white"
           }
          },
          "shapedefaults": {
           "line": {
            "color": "#2a3f5f"
           }
          },
          "ternary": {
           "aaxis": {
            "gridcolor": "white",
            "linecolor": "white",
            "ticks": ""
           },
           "baxis": {
            "gridcolor": "white",
            "linecolor": "white",
            "ticks": ""
           },
           "bgcolor": "#E5ECF6",
           "caxis": {
            "gridcolor": "white",
            "linecolor": "white",
            "ticks": ""
           }
          },
          "title": {
           "x": 0.05
          },
          "xaxis": {
           "automargin": true,
           "gridcolor": "white",
           "linecolor": "white",
           "ticks": "",
           "title": {
            "standoff": 15
           },
           "zerolinecolor": "white",
           "zerolinewidth": 2
          },
          "yaxis": {
           "automargin": true,
           "gridcolor": "white",
           "linecolor": "white",
           "ticks": "",
           "title": {
            "standoff": 15
           },
           "zerolinecolor": "white",
           "zerolinewidth": 2
          }
         }
        },
        "width": 900,
        "xaxis": {
         "anchor": "y",
         "domain": [
          0,
          0.94
         ],
         "gridcolor": "#1f292f",
         "nticks": 5,
         "rangeslider": {
          "visible": false
         }
        },
        "yaxis": {
         "anchor": "x",
         "domain": [
          0,
          1
         ],
         "gridcolor": "#1f292f"
        },
        "yaxis2": {
         "anchor": "x",
         "gridcolor": "#1f292f",
         "overlaying": "y",
         "side": "right"
        }
       }
      }
     },
     "metadata": {},
     "output_type": "display_data"
    }
   ],
   "source": [
    "dfp = df_an.iloc[-300:]\n",
    "cp = CandlePlot(dfp, candles=True)\n",
    "cp.show_plot(line_traces=[])"
   ]
  },
  {
   "cell_type": "code",
   "execution_count": 11,
   "id": "ec21c7a5",
   "metadata": {},
   "outputs": [],
   "source": [
    "import plotly.graph_objects as go"
   ]
  },
  {
   "cell_type": "code",
   "execution_count": 12,
   "id": "cd8af0e2",
   "metadata": {},
   "outputs": [
    {
     "data": {
      "application/vnd.plotly.v1+json": {
       "config": {
        "plotlyServerURL": "https://plot.ly"
       },
       "data": [
        {
         "name": "HIST",
         "type": "bar",
         "x": [
          "s25-06-11 12:00",
          "s25-06-11 13:00",
          "s25-06-11 14:00",
          "s25-06-11 15:00",
          "s25-06-11 16:00",
          "s25-06-11 17:00",
          "s25-06-11 18:00",
          "s25-06-11 19:00",
          "s25-06-11 20:00",
          "s25-06-11 21:00",
          "s25-06-11 22:00",
          "s25-06-11 23:00",
          "s25-06-12 00:00",
          "s25-06-12 01:00",
          "s25-06-12 02:00",
          "s25-06-12 03:00",
          "s25-06-12 04:00",
          "s25-06-12 05:00",
          "s25-06-12 06:00",
          "s25-06-12 07:00",
          "s25-06-12 08:00",
          "s25-06-12 09:00",
          "s25-06-12 10:00",
          "s25-06-12 11:00",
          "s25-06-12 12:00",
          "s25-06-12 13:00",
          "s25-06-12 14:00",
          "s25-06-12 15:00",
          "s25-06-12 16:00",
          "s25-06-12 17:00",
          "s25-06-12 18:00",
          "s25-06-12 19:00",
          "s25-06-12 20:00",
          "s25-06-12 21:00",
          "s25-06-12 22:00",
          "s25-06-12 23:00",
          "s25-06-13 00:00",
          "s25-06-13 01:00",
          "s25-06-13 02:00",
          "s25-06-13 03:00",
          "s25-06-13 04:00",
          "s25-06-13 05:00",
          "s25-06-13 06:00",
          "s25-06-13 07:00",
          "s25-06-13 08:00",
          "s25-06-13 09:00",
          "s25-06-13 10:00",
          "s25-06-13 11:00",
          "s25-06-13 12:00",
          "s25-06-13 13:00",
          "s25-06-13 14:00",
          "s25-06-13 15:00",
          "s25-06-13 16:00",
          "s25-06-13 17:00",
          "s25-06-13 18:00",
          "s25-06-13 19:00",
          "s25-06-13 20:00",
          "s25-06-15 21:00",
          "s25-06-15 22:00",
          "s25-06-15 23:00",
          "s25-06-16 00:00",
          "s25-06-16 01:00",
          "s25-06-16 02:00",
          "s25-06-16 03:00",
          "s25-06-16 04:00",
          "s25-06-16 05:00",
          "s25-06-16 06:00",
          "s25-06-16 07:00",
          "s25-06-16 08:00",
          "s25-06-16 09:00",
          "s25-06-16 10:00",
          "s25-06-16 11:00",
          "s25-06-16 12:00",
          "s25-06-16 13:00",
          "s25-06-16 14:00",
          "s25-06-16 15:00",
          "s25-06-16 16:00",
          "s25-06-16 17:00",
          "s25-06-16 18:00",
          "s25-06-16 19:00",
          "s25-06-16 20:00",
          "s25-06-16 21:00",
          "s25-06-16 22:00",
          "s25-06-16 23:00",
          "s25-06-17 00:00",
          "s25-06-17 01:00",
          "s25-06-17 02:00",
          "s25-06-17 03:00",
          "s25-06-17 04:00",
          "s25-06-17 05:00",
          "s25-06-17 06:00",
          "s25-06-17 07:00",
          "s25-06-17 08:00",
          "s25-06-17 09:00",
          "s25-06-17 10:00",
          "s25-06-17 11:00",
          "s25-06-17 12:00",
          "s25-06-17 13:00",
          "s25-06-17 14:00",
          "s25-06-17 15:00",
          "s25-06-17 16:00",
          "s25-06-17 17:00",
          "s25-06-17 18:00",
          "s25-06-17 19:00",
          "s25-06-17 20:00",
          "s25-06-17 21:00",
          "s25-06-17 22:00",
          "s25-06-17 23:00",
          "s25-06-18 00:00",
          "s25-06-18 01:00",
          "s25-06-18 02:00",
          "s25-06-18 03:00",
          "s25-06-18 04:00",
          "s25-06-18 05:00",
          "s25-06-18 06:00",
          "s25-06-18 07:00",
          "s25-06-18 08:00",
          "s25-06-18 09:00",
          "s25-06-18 10:00",
          "s25-06-18 11:00",
          "s25-06-18 12:00",
          "s25-06-18 13:00",
          "s25-06-18 14:00",
          "s25-06-18 15:00",
          "s25-06-18 16:00",
          "s25-06-18 17:00",
          "s25-06-18 18:00",
          "s25-06-18 19:00",
          "s25-06-18 20:00",
          "s25-06-18 21:00",
          "s25-06-18 22:00",
          "s25-06-18 23:00",
          "s25-06-19 00:00",
          "s25-06-19 01:00",
          "s25-06-19 02:00",
          "s25-06-19 03:00",
          "s25-06-19 04:00",
          "s25-06-19 05:00",
          "s25-06-19 06:00",
          "s25-06-19 07:00",
          "s25-06-19 08:00",
          "s25-06-19 09:00",
          "s25-06-19 10:00",
          "s25-06-19 11:00",
          "s25-06-19 12:00",
          "s25-06-19 13:00",
          "s25-06-19 14:00",
          "s25-06-19 15:00",
          "s25-06-19 16:00",
          "s25-06-19 17:00",
          "s25-06-19 18:00",
          "s25-06-19 19:00",
          "s25-06-19 20:00",
          "s25-06-19 21:00",
          "s25-06-19 22:00",
          "s25-06-19 23:00",
          "s25-06-20 00:00",
          "s25-06-20 01:00",
          "s25-06-20 02:00",
          "s25-06-20 03:00",
          "s25-06-20 04:00",
          "s25-06-20 05:00",
          "s25-06-20 06:00",
          "s25-06-20 07:00",
          "s25-06-20 08:00",
          "s25-06-20 09:00",
          "s25-06-20 10:00",
          "s25-06-20 11:00",
          "s25-06-20 12:00",
          "s25-06-20 13:00",
          "s25-06-20 14:00",
          "s25-06-20 15:00",
          "s25-06-20 16:00",
          "s25-06-20 17:00",
          "s25-06-20 18:00",
          "s25-06-20 19:00",
          "s25-06-20 20:00",
          "s25-06-22 21:00",
          "s25-06-22 22:00",
          "s25-06-22 23:00",
          "s25-06-23 00:00",
          "s25-06-23 01:00",
          "s25-06-23 02:00",
          "s25-06-23 03:00",
          "s25-06-23 04:00",
          "s25-06-23 05:00",
          "s25-06-23 06:00",
          "s25-06-23 07:00",
          "s25-06-23 08:00",
          "s25-06-23 09:00",
          "s25-06-23 10:00",
          "s25-06-23 11:00",
          "s25-06-23 12:00",
          "s25-06-23 13:00",
          "s25-06-23 14:00",
          "s25-06-23 15:00",
          "s25-06-23 16:00",
          "s25-06-23 17:00",
          "s25-06-23 18:00",
          "s25-06-23 19:00",
          "s25-06-23 20:00",
          "s25-06-23 21:00",
          "s25-06-23 22:00",
          "s25-06-23 23:00",
          "s25-06-24 00:00",
          "s25-06-24 01:00",
          "s25-06-24 02:00",
          "s25-06-24 03:00",
          "s25-06-24 04:00",
          "s25-06-24 05:00",
          "s25-06-24 06:00",
          "s25-06-24 07:00",
          "s25-06-24 08:00",
          "s25-06-24 09:00",
          "s25-06-24 10:00",
          "s25-06-24 11:00",
          "s25-06-24 12:00",
          "s25-06-24 13:00",
          "s25-06-24 14:00",
          "s25-06-24 15:00",
          "s25-06-24 16:00",
          "s25-06-24 17:00",
          "s25-06-24 18:00",
          "s25-06-24 19:00",
          "s25-06-24 20:00",
          "s25-06-24 21:00",
          "s25-06-24 22:00",
          "s25-06-24 23:00",
          "s25-06-25 00:00",
          "s25-06-25 01:00",
          "s25-06-25 02:00",
          "s25-06-25 03:00",
          "s25-06-25 04:00",
          "s25-06-25 05:00",
          "s25-06-25 06:00",
          "s25-06-25 07:00",
          "s25-06-25 08:00",
          "s25-06-25 09:00",
          "s25-06-25 10:00",
          "s25-06-25 11:00",
          "s25-06-25 12:00",
          "s25-06-25 13:00",
          "s25-06-25 14:00",
          "s25-06-25 15:00",
          "s25-06-25 16:00",
          "s25-06-25 17:00",
          "s25-06-25 18:00",
          "s25-06-25 19:00",
          "s25-06-25 20:00",
          "s25-06-25 21:00",
          "s25-06-25 22:00",
          "s25-06-25 23:00",
          "s25-06-26 00:00",
          "s25-06-26 01:00",
          "s25-06-26 02:00",
          "s25-06-26 03:00",
          "s25-06-26 04:00",
          "s25-06-26 05:00",
          "s25-06-26 06:00",
          "s25-06-26 07:00",
          "s25-06-26 08:00",
          "s25-06-26 09:00",
          "s25-06-26 10:00",
          "s25-06-26 11:00",
          "s25-06-26 12:00",
          "s25-06-26 13:00",
          "s25-06-26 14:00",
          "s25-06-26 15:00",
          "s25-06-26 16:00",
          "s25-06-26 17:00",
          "s25-06-26 18:00",
          "s25-06-26 19:00",
          "s25-06-26 20:00",
          "s25-06-26 21:00",
          "s25-06-26 22:00",
          "s25-06-26 23:00",
          "s25-06-27 00:00",
          "s25-06-27 01:00",
          "s25-06-27 02:00",
          "s25-06-27 03:00",
          "s25-06-27 04:00",
          "s25-06-27 05:00",
          "s25-06-27 06:00",
          "s25-06-27 07:00",
          "s25-06-27 08:00",
          "s25-06-27 09:00",
          "s25-06-27 10:00",
          "s25-06-27 11:00",
          "s25-06-27 12:00",
          "s25-06-27 13:00",
          "s25-06-27 14:00",
          "s25-06-27 15:00",
          "s25-06-27 16:00",
          "s25-06-27 17:00",
          "s25-06-27 18:00",
          "s25-06-27 19:00",
          "s25-06-27 20:00",
          "s25-06-29 21:00",
          "s25-06-29 22:00",
          "s25-06-29 23:00"
         ],
         "y": {
          "bdata": "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",
          "dtype": "f8"
         }
        },
        {
         "line": {
          "shape": "spline",
          "width": 2
         },
         "name": "SIGNAL",
         "type": "scatter",
         "x": [
          "s25-06-11 12:00",
          "s25-06-11 13:00",
          "s25-06-11 14:00",
          "s25-06-11 15:00",
          "s25-06-11 16:00",
          "s25-06-11 17:00",
          "s25-06-11 18:00",
          "s25-06-11 19:00",
          "s25-06-11 20:00",
          "s25-06-11 21:00",
          "s25-06-11 22:00",
          "s25-06-11 23:00",
          "s25-06-12 00:00",
          "s25-06-12 01:00",
          "s25-06-12 02:00",
          "s25-06-12 03:00",
          "s25-06-12 04:00",
          "s25-06-12 05:00",
          "s25-06-12 06:00",
          "s25-06-12 07:00",
          "s25-06-12 08:00",
          "s25-06-12 09:00",
          "s25-06-12 10:00",
          "s25-06-12 11:00",
          "s25-06-12 12:00",
          "s25-06-12 13:00",
          "s25-06-12 14:00",
          "s25-06-12 15:00",
          "s25-06-12 16:00",
          "s25-06-12 17:00",
          "s25-06-12 18:00",
          "s25-06-12 19:00",
          "s25-06-12 20:00",
          "s25-06-12 21:00",
          "s25-06-12 22:00",
          "s25-06-12 23:00",
          "s25-06-13 00:00",
          "s25-06-13 01:00",
          "s25-06-13 02:00",
          "s25-06-13 03:00",
          "s25-06-13 04:00",
          "s25-06-13 05:00",
          "s25-06-13 06:00",
          "s25-06-13 07:00",
          "s25-06-13 08:00",
          "s25-06-13 09:00",
          "s25-06-13 10:00",
          "s25-06-13 11:00",
          "s25-06-13 12:00",
          "s25-06-13 13:00",
          "s25-06-13 14:00",
          "s25-06-13 15:00",
          "s25-06-13 16:00",
          "s25-06-13 17:00",
          "s25-06-13 18:00",
          "s25-06-13 19:00",
          "s25-06-13 20:00",
          "s25-06-15 21:00",
          "s25-06-15 22:00",
          "s25-06-15 23:00",
          "s25-06-16 00:00",
          "s25-06-16 01:00",
          "s25-06-16 02:00",
          "s25-06-16 03:00",
          "s25-06-16 04:00",
          "s25-06-16 05:00",
          "s25-06-16 06:00",
          "s25-06-16 07:00",
          "s25-06-16 08:00",
          "s25-06-16 09:00",
          "s25-06-16 10:00",
          "s25-06-16 11:00",
          "s25-06-16 12:00",
          "s25-06-16 13:00",
          "s25-06-16 14:00",
          "s25-06-16 15:00",
          "s25-06-16 16:00",
          "s25-06-16 17:00",
          "s25-06-16 18:00",
          "s25-06-16 19:00",
          "s25-06-16 20:00",
          "s25-06-16 21:00",
          "s25-06-16 22:00",
          "s25-06-16 23:00",
          "s25-06-17 00:00",
          "s25-06-17 01:00",
          "s25-06-17 02:00",
          "s25-06-17 03:00",
          "s25-06-17 04:00",
          "s25-06-17 05:00",
          "s25-06-17 06:00",
          "s25-06-17 07:00",
          "s25-06-17 08:00",
          "s25-06-17 09:00",
          "s25-06-17 10:00",
          "s25-06-17 11:00",
          "s25-06-17 12:00",
          "s25-06-17 13:00",
          "s25-06-17 14:00",
          "s25-06-17 15:00",
          "s25-06-17 16:00",
          "s25-06-17 17:00",
          "s25-06-17 18:00",
          "s25-06-17 19:00",
          "s25-06-17 20:00",
          "s25-06-17 21:00",
          "s25-06-17 22:00",
          "s25-06-17 23:00",
          "s25-06-18 00:00",
          "s25-06-18 01:00",
          "s25-06-18 02:00",
          "s25-06-18 03:00",
          "s25-06-18 04:00",
          "s25-06-18 05:00",
          "s25-06-18 06:00",
          "s25-06-18 07:00",
          "s25-06-18 08:00",
          "s25-06-18 09:00",
          "s25-06-18 10:00",
          "s25-06-18 11:00",
          "s25-06-18 12:00",
          "s25-06-18 13:00",
          "s25-06-18 14:00",
          "s25-06-18 15:00",
          "s25-06-18 16:00",
          "s25-06-18 17:00",
          "s25-06-18 18:00",
          "s25-06-18 19:00",
          "s25-06-18 20:00",
          "s25-06-18 21:00",
          "s25-06-18 22:00",
          "s25-06-18 23:00",
          "s25-06-19 00:00",
          "s25-06-19 01:00",
          "s25-06-19 02:00",
          "s25-06-19 03:00",
          "s25-06-19 04:00",
          "s25-06-19 05:00",
          "s25-06-19 06:00",
          "s25-06-19 07:00",
          "s25-06-19 08:00",
          "s25-06-19 09:00",
          "s25-06-19 10:00",
          "s25-06-19 11:00",
          "s25-06-19 12:00",
          "s25-06-19 13:00",
          "s25-06-19 14:00",
          "s25-06-19 15:00",
          "s25-06-19 16:00",
          "s25-06-19 17:00",
          "s25-06-19 18:00",
          "s25-06-19 19:00",
          "s25-06-19 20:00",
          "s25-06-19 21:00",
          "s25-06-19 22:00",
          "s25-06-19 23:00",
          "s25-06-20 00:00",
          "s25-06-20 01:00",
          "s25-06-20 02:00",
          "s25-06-20 03:00",
          "s25-06-20 04:00",
          "s25-06-20 05:00",
          "s25-06-20 06:00",
          "s25-06-20 07:00",
          "s25-06-20 08:00",
          "s25-06-20 09:00",
          "s25-06-20 10:00",
          "s25-06-20 11:00",
          "s25-06-20 12:00",
          "s25-06-20 13:00",
          "s25-06-20 14:00",
          "s25-06-20 15:00",
          "s25-06-20 16:00",
          "s25-06-20 17:00",
          "s25-06-20 18:00",
          "s25-06-20 19:00",
          "s25-06-20 20:00",
          "s25-06-22 21:00",
          "s25-06-22 22:00",
          "s25-06-22 23:00",
          "s25-06-23 00:00",
          "s25-06-23 01:00",
          "s25-06-23 02:00",
          "s25-06-23 03:00",
          "s25-06-23 04:00",
          "s25-06-23 05:00",
          "s25-06-23 06:00",
          "s25-06-23 07:00",
          "s25-06-23 08:00",
          "s25-06-23 09:00",
          "s25-06-23 10:00",
          "s25-06-23 11:00",
          "s25-06-23 12:00",
          "s25-06-23 13:00",
          "s25-06-23 14:00",
          "s25-06-23 15:00",
          "s25-06-23 16:00",
          "s25-06-23 17:00",
          "s25-06-23 18:00",
          "s25-06-23 19:00",
          "s25-06-23 20:00",
          "s25-06-23 21:00",
          "s25-06-23 22:00",
          "s25-06-23 23:00",
          "s25-06-24 00:00",
          "s25-06-24 01:00",
          "s25-06-24 02:00",
          "s25-06-24 03:00",
          "s25-06-24 04:00",
          "s25-06-24 05:00",
          "s25-06-24 06:00",
          "s25-06-24 07:00",
          "s25-06-24 08:00",
          "s25-06-24 09:00",
          "s25-06-24 10:00",
          "s25-06-24 11:00",
          "s25-06-24 12:00",
          "s25-06-24 13:00",
          "s25-06-24 14:00",
          "s25-06-24 15:00",
          "s25-06-24 16:00",
          "s25-06-24 17:00",
          "s25-06-24 18:00",
          "s25-06-24 19:00",
          "s25-06-24 20:00",
          "s25-06-24 21:00",
          "s25-06-24 22:00",
          "s25-06-24 23:00",
          "s25-06-25 00:00",
          "s25-06-25 01:00",
          "s25-06-25 02:00",
          "s25-06-25 03:00",
          "s25-06-25 04:00",
          "s25-06-25 05:00",
          "s25-06-25 06:00",
          "s25-06-25 07:00",
          "s25-06-25 08:00",
          "s25-06-25 09:00",
          "s25-06-25 10:00",
          "s25-06-25 11:00",
          "s25-06-25 12:00",
          "s25-06-25 13:00",
          "s25-06-25 14:00",
          "s25-06-25 15:00",
          "s25-06-25 16:00",
          "s25-06-25 17:00",
          "s25-06-25 18:00",
          "s25-06-25 19:00",
          "s25-06-25 20:00",
          "s25-06-25 21:00",
          "s25-06-25 22:00",
          "s25-06-25 23:00",
          "s25-06-26 00:00",
          "s25-06-26 01:00",
          "s25-06-26 02:00",
          "s25-06-26 03:00",
          "s25-06-26 04:00",
          "s25-06-26 05:00",
          "s25-06-26 06:00",
          "s25-06-26 07:00",
          "s25-06-26 08:00",
          "s25-06-26 09:00",
          "s25-06-26 10:00",
          "s25-06-26 11:00",
          "s25-06-26 12:00",
          "s25-06-26 13:00",
          "s25-06-26 14:00",
          "s25-06-26 15:00",
          "s25-06-26 16:00",
          "s25-06-26 17:00",
          "s25-06-26 18:00",
          "s25-06-26 19:00",
          "s25-06-26 20:00",
          "s25-06-26 21:00",
          "s25-06-26 22:00",
          "s25-06-26 23:00",
          "s25-06-27 00:00",
          "s25-06-27 01:00",
          "s25-06-27 02:00",
          "s25-06-27 03:00",
          "s25-06-27 04:00",
          "s25-06-27 05:00",
          "s25-06-27 06:00",
          "s25-06-27 07:00",
          "s25-06-27 08:00",
          "s25-06-27 09:00",
          "s25-06-27 10:00",
          "s25-06-27 11:00",
          "s25-06-27 12:00",
          "s25-06-27 13:00",
          "s25-06-27 14:00",
          "s25-06-27 15:00",
          "s25-06-27 16:00",
          "s25-06-27 17:00",
          "s25-06-27 18:00",
          "s25-06-27 19:00",
          "s25-06-27 20:00",
          "s25-06-29 21:00",
          "s25-06-29 22:00",
          "s25-06-29 23:00"
         ],
         "xaxis": "x",
         "y": {
          "bdata": "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",
          "dtype": "f8"
         },
         "yaxis": "y"
        },
        {
         "line": {
          "shape": "spline",
          "width": 2
         },
         "name": "MACD",
         "type": "scatter",
         "x": [
          "s25-06-11 12:00",
          "s25-06-11 13:00",
          "s25-06-11 14:00",
          "s25-06-11 15:00",
          "s25-06-11 16:00",
          "s25-06-11 17:00",
          "s25-06-11 18:00",
          "s25-06-11 19:00",
          "s25-06-11 20:00",
          "s25-06-11 21:00",
          "s25-06-11 22:00",
          "s25-06-11 23:00",
          "s25-06-12 00:00",
          "s25-06-12 01:00",
          "s25-06-12 02:00",
          "s25-06-12 03:00",
          "s25-06-12 04:00",
          "s25-06-12 05:00",
          "s25-06-12 06:00",
          "s25-06-12 07:00",
          "s25-06-12 08:00",
          "s25-06-12 09:00",
          "s25-06-12 10:00",
          "s25-06-12 11:00",
          "s25-06-12 12:00",
          "s25-06-12 13:00",
          "s25-06-12 14:00",
          "s25-06-12 15:00",
          "s25-06-12 16:00",
          "s25-06-12 17:00",
          "s25-06-12 18:00",
          "s25-06-12 19:00",
          "s25-06-12 20:00",
          "s25-06-12 21:00",
          "s25-06-12 22:00",
          "s25-06-12 23:00",
          "s25-06-13 00:00",
          "s25-06-13 01:00",
          "s25-06-13 02:00",
          "s25-06-13 03:00",
          "s25-06-13 04:00",
          "s25-06-13 05:00",
          "s25-06-13 06:00",
          "s25-06-13 07:00",
          "s25-06-13 08:00",
          "s25-06-13 09:00",
          "s25-06-13 10:00",
          "s25-06-13 11:00",
          "s25-06-13 12:00",
          "s25-06-13 13:00",
          "s25-06-13 14:00",
          "s25-06-13 15:00",
          "s25-06-13 16:00",
          "s25-06-13 17:00",
          "s25-06-13 18:00",
          "s25-06-13 19:00",
          "s25-06-13 20:00",
          "s25-06-15 21:00",
          "s25-06-15 22:00",
          "s25-06-15 23:00",
          "s25-06-16 00:00",
          "s25-06-16 01:00",
          "s25-06-16 02:00",
          "s25-06-16 03:00",
          "s25-06-16 04:00",
          "s25-06-16 05:00",
          "s25-06-16 06:00",
          "s25-06-16 07:00",
          "s25-06-16 08:00",
          "s25-06-16 09:00",
          "s25-06-16 10:00",
          "s25-06-16 11:00",
          "s25-06-16 12:00",
          "s25-06-16 13:00",
          "s25-06-16 14:00",
          "s25-06-16 15:00",
          "s25-06-16 16:00",
          "s25-06-16 17:00",
          "s25-06-16 18:00",
          "s25-06-16 19:00",
          "s25-06-16 20:00",
          "s25-06-16 21:00",
          "s25-06-16 22:00",
          "s25-06-16 23:00",
          "s25-06-17 00:00",
          "s25-06-17 01:00",
          "s25-06-17 02:00",
          "s25-06-17 03:00",
          "s25-06-17 04:00",
          "s25-06-17 05:00",
          "s25-06-17 06:00",
          "s25-06-17 07:00",
          "s25-06-17 08:00",
          "s25-06-17 09:00",
          "s25-06-17 10:00",
          "s25-06-17 11:00",
          "s25-06-17 12:00",
          "s25-06-17 13:00",
          "s25-06-17 14:00",
          "s25-06-17 15:00",
          "s25-06-17 16:00",
          "s25-06-17 17:00",
          "s25-06-17 18:00",
          "s25-06-17 19:00",
          "s25-06-17 20:00",
          "s25-06-17 21:00",
          "s25-06-17 22:00",
          "s25-06-17 23:00",
          "s25-06-18 00:00",
          "s25-06-18 01:00",
          "s25-06-18 02:00",
          "s25-06-18 03:00",
          "s25-06-18 04:00",
          "s25-06-18 05:00",
          "s25-06-18 06:00",
          "s25-06-18 07:00",
          "s25-06-18 08:00",
          "s25-06-18 09:00",
          "s25-06-18 10:00",
          "s25-06-18 11:00",
          "s25-06-18 12:00",
          "s25-06-18 13:00",
          "s25-06-18 14:00",
          "s25-06-18 15:00",
          "s25-06-18 16:00",
          "s25-06-18 17:00",
          "s25-06-18 18:00",
          "s25-06-18 19:00",
          "s25-06-18 20:00",
          "s25-06-18 21:00",
          "s25-06-18 22:00",
          "s25-06-18 23:00",
          "s25-06-19 00:00",
          "s25-06-19 01:00",
          "s25-06-19 02:00",
          "s25-06-19 03:00",
          "s25-06-19 04:00",
          "s25-06-19 05:00",
          "s25-06-19 06:00",
          "s25-06-19 07:00",
          "s25-06-19 08:00",
          "s25-06-19 09:00",
          "s25-06-19 10:00",
          "s25-06-19 11:00",
          "s25-06-19 12:00",
          "s25-06-19 13:00",
          "s25-06-19 14:00",
          "s25-06-19 15:00",
          "s25-06-19 16:00",
          "s25-06-19 17:00",
          "s25-06-19 18:00",
          "s25-06-19 19:00",
          "s25-06-19 20:00",
          "s25-06-19 21:00",
          "s25-06-19 22:00",
          "s25-06-19 23:00",
          "s25-06-20 00:00",
          "s25-06-20 01:00",
          "s25-06-20 02:00",
          "s25-06-20 03:00",
          "s25-06-20 04:00",
          "s25-06-20 05:00",
          "s25-06-20 06:00",
          "s25-06-20 07:00",
          "s25-06-20 08:00",
          "s25-06-20 09:00",
          "s25-06-20 10:00",
          "s25-06-20 11:00",
          "s25-06-20 12:00",
          "s25-06-20 13:00",
          "s25-06-20 14:00",
          "s25-06-20 15:00",
          "s25-06-20 16:00",
          "s25-06-20 17:00",
          "s25-06-20 18:00",
          "s25-06-20 19:00",
          "s25-06-20 20:00",
          "s25-06-22 21:00",
          "s25-06-22 22:00",
          "s25-06-22 23:00",
          "s25-06-23 00:00",
          "s25-06-23 01:00",
          "s25-06-23 02:00",
          "s25-06-23 03:00",
          "s25-06-23 04:00",
          "s25-06-23 05:00",
          "s25-06-23 06:00",
          "s25-06-23 07:00",
          "s25-06-23 08:00",
          "s25-06-23 09:00",
          "s25-06-23 10:00",
          "s25-06-23 11:00",
          "s25-06-23 12:00",
          "s25-06-23 13:00",
          "s25-06-23 14:00",
          "s25-06-23 15:00",
          "s25-06-23 16:00",
          "s25-06-23 17:00",
          "s25-06-23 18:00",
          "s25-06-23 19:00",
          "s25-06-23 20:00",
          "s25-06-23 21:00",
          "s25-06-23 22:00",
          "s25-06-23 23:00",
          "s25-06-24 00:00",
          "s25-06-24 01:00",
          "s25-06-24 02:00",
          "s25-06-24 03:00",
          "s25-06-24 04:00",
          "s25-06-24 05:00",
          "s25-06-24 06:00",
          "s25-06-24 07:00",
          "s25-06-24 08:00",
          "s25-06-24 09:00",
          "s25-06-24 10:00",
          "s25-06-24 11:00",
          "s25-06-24 12:00",
          "s25-06-24 13:00",
          "s25-06-24 14:00",
          "s25-06-24 15:00",
          "s25-06-24 16:00",
          "s25-06-24 17:00",
          "s25-06-24 18:00",
          "s25-06-24 19:00",
          "s25-06-24 20:00",
          "s25-06-24 21:00",
          "s25-06-24 22:00",
          "s25-06-24 23:00",
          "s25-06-25 00:00",
          "s25-06-25 01:00",
          "s25-06-25 02:00",
          "s25-06-25 03:00",
          "s25-06-25 04:00",
          "s25-06-25 05:00",
          "s25-06-25 06:00",
          "s25-06-25 07:00",
          "s25-06-25 08:00",
          "s25-06-25 09:00",
          "s25-06-25 10:00",
          "s25-06-25 11:00",
          "s25-06-25 12:00",
          "s25-06-25 13:00",
          "s25-06-25 14:00",
          "s25-06-25 15:00",
          "s25-06-25 16:00",
          "s25-06-25 17:00",
          "s25-06-25 18:00",
          "s25-06-25 19:00",
          "s25-06-25 20:00",
          "s25-06-25 21:00",
          "s25-06-25 22:00",
          "s25-06-25 23:00",
          "s25-06-26 00:00",
          "s25-06-26 01:00",
          "s25-06-26 02:00",
          "s25-06-26 03:00",
          "s25-06-26 04:00",
          "s25-06-26 05:00",
          "s25-06-26 06:00",
          "s25-06-26 07:00",
          "s25-06-26 08:00",
          "s25-06-26 09:00",
          "s25-06-26 10:00",
          "s25-06-26 11:00",
          "s25-06-26 12:00",
          "s25-06-26 13:00",
          "s25-06-26 14:00",
          "s25-06-26 15:00",
          "s25-06-26 16:00",
          "s25-06-26 17:00",
          "s25-06-26 18:00",
          "s25-06-26 19:00",
          "s25-06-26 20:00",
          "s25-06-26 21:00",
          "s25-06-26 22:00",
          "s25-06-26 23:00",
          "s25-06-27 00:00",
          "s25-06-27 01:00",
          "s25-06-27 02:00",
          "s25-06-27 03:00",
          "s25-06-27 04:00",
          "s25-06-27 05:00",
          "s25-06-27 06:00",
          "s25-06-27 07:00",
          "s25-06-27 08:00",
          "s25-06-27 09:00",
          "s25-06-27 10:00",
          "s25-06-27 11:00",
          "s25-06-27 12:00",
          "s25-06-27 13:00",
          "s25-06-27 14:00",
          "s25-06-27 15:00",
          "s25-06-27 16:00",
          "s25-06-27 17:00",
          "s25-06-27 18:00",
          "s25-06-27 19:00",
          "s25-06-27 20:00",
          "s25-06-29 21:00",
          "s25-06-29 22:00",
          "s25-06-29 23:00"
         ],
         "xaxis": "x",
         "y": {
          "bdata": "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",
          "dtype": "f8"
         },
         "yaxis": "y"
        }
       ],
       "layout": {
        "font": {
         "color": "#e1e1e1",
         "size": 8
        },
        "height": 400,
        "margin": {
         "b": 10,
         "l": 10,
         "r": 10,
         "t": 10
        },
        "paper_bgcolor": "#2c303c",
        "plot_bgcolor": "#2c303c",
        "template": {
         "data": {
          "bar": [
           {
            "error_x": {
             "color": "#2a3f5f"
            },
            "error_y": {
             "color": "#2a3f5f"
            },
            "marker": {
             "line": {
              "color": "#E5ECF6",
              "width": 0.5
             },
             "pattern": {
              "fillmode": "overlay",
              "size": 10,
              "solidity": 0.2
             }
            },
            "type": "bar"
           }
          ],
          "barpolar": [
           {
            "marker": {
             "line": {
              "color": "#E5ECF6",
              "width": 0.5
             },
             "pattern": {
              "fillmode": "overlay",
              "size": 10,
              "solidity": 0.2
             }
            },
            "type": "barpolar"
           }
          ],
          "carpet": [
           {
            "aaxis": {
             "endlinecolor": "#2a3f5f",
             "gridcolor": "white",
             "linecolor": "white",
             "minorgridcolor": "white",
             "startlinecolor": "#2a3f5f"
            },
            "baxis": {
             "endlinecolor": "#2a3f5f",
             "gridcolor": "white",
             "linecolor": "white",
             "minorgridcolor": "white",
             "startlinecolor": "#2a3f5f"
            },
            "type": "carpet"
           }
          ],
          "choropleth": [
           {
            "colorbar": {
             "outlinewidth": 0,
             "ticks": ""
            },
            "type": "choropleth"
           }
          ],
          "contour": [
           {
            "colorbar": {
             "outlinewidth": 0,
             "ticks": ""
            },
            "colorscale": [
             [
              0,
              "#0d0887"
             ],
             [
              0.1111111111111111,
              "#46039f"
             ],
             [
              0.2222222222222222,
              "#7201a8"
             ],
             [
              0.3333333333333333,
              "#9c179e"
             ],
             [
              0.4444444444444444,
              "#bd3786"
             ],
             [
              0.5555555555555556,
              "#d8576b"
             ],
             [
              0.6666666666666666,
              "#ed7953"
             ],
             [
              0.7777777777777778,
              "#fb9f3a"
             ],
             [
              0.8888888888888888,
              "#fdca26"
             ],
             [
              1,
              "#f0f921"
             ]
            ],
            "type": "contour"
           }
          ],
          "contourcarpet": [
           {
            "colorbar": {
             "outlinewidth": 0,
             "ticks": ""
            },
            "type": "contourcarpet"
           }
          ],
          "heatmap": [
           {
            "colorbar": {
             "outlinewidth": 0,
             "ticks": ""
            },
            "colorscale": [
             [
              0,
              "#0d0887"
             ],
             [
              0.1111111111111111,
              "#46039f"
             ],
             [
              0.2222222222222222,
              "#7201a8"
             ],
             [
              0.3333333333333333,
              "#9c179e"
             ],
             [
              0.4444444444444444,
              "#bd3786"
             ],
             [
              0.5555555555555556,
              "#d8576b"
             ],
             [
              0.6666666666666666,
              "#ed7953"
             ],
             [
              0.7777777777777778,
              "#fb9f3a"
             ],
             [
              0.8888888888888888,
              "#fdca26"
             ],
             [
              1,
              "#f0f921"
             ]
            ],
            "type": "heatmap"
           }
          ],
          "histogram": [
           {
            "marker": {
             "pattern": {
              "fillmode": "overlay",
              "size": 10,
              "solidity": 0.2
             }
            },
            "type": "histogram"
           }
          ],
          "histogram2d": [
           {
            "colorbar": {
             "outlinewidth": 0,
             "ticks": ""
            },
            "colorscale": [
             [
              0,
              "#0d0887"
             ],
             [
              0.1111111111111111,
              "#46039f"
             ],
             [
              0.2222222222222222,
              "#7201a8"
             ],
             [
              0.3333333333333333,
              "#9c179e"
             ],
             [
              0.4444444444444444,
              "#bd3786"
             ],
             [
              0.5555555555555556,
              "#d8576b"
             ],
             [
              0.6666666666666666,
              "#ed7953"
             ],
             [
              0.7777777777777778,
              "#fb9f3a"
             ],
             [
              0.8888888888888888,
              "#fdca26"
             ],
             [
              1,
              "#f0f921"
             ]
            ],
            "type": "histogram2d"
           }
          ],
          "histogram2dcontour": [
           {
            "colorbar": {
             "outlinewidth": 0,
             "ticks": ""
            },
            "colorscale": [
             [
              0,
              "#0d0887"
             ],
             [
              0.1111111111111111,
              "#46039f"
             ],
             [
              0.2222222222222222,
              "#7201a8"
             ],
             [
              0.3333333333333333,
              "#9c179e"
             ],
             [
              0.4444444444444444,
              "#bd3786"
             ],
             [
              0.5555555555555556,
              "#d8576b"
             ],
             [
              0.6666666666666666,
              "#ed7953"
             ],
             [
              0.7777777777777778,
              "#fb9f3a"
             ],
             [
              0.8888888888888888,
              "#fdca26"
             ],
             [
              1,
              "#f0f921"
             ]
            ],
            "type": "histogram2dcontour"
           }
          ],
          "mesh3d": [
           {
            "colorbar": {
             "outlinewidth": 0,
             "ticks": ""
            },
            "type": "mesh3d"
           }
          ],
          "parcoords": [
           {
            "line": {
             "colorbar": {
              "outlinewidth": 0,
              "ticks": ""
             }
            },
            "type": "parcoords"
           }
          ],
          "pie": [
           {
            "automargin": true,
            "type": "pie"
           }
          ],
          "scatter": [
           {
            "fillpattern": {
             "fillmode": "overlay",
             "size": 10,
             "solidity": 0.2
            },
            "type": "scatter"
           }
          ],
          "scatter3d": [
           {
            "line": {
             "colorbar": {
              "outlinewidth": 0,
              "ticks": ""
             }
            },
            "marker": {
             "colorbar": {
              "outlinewidth": 0,
              "ticks": ""
             }
            },
            "type": "scatter3d"
           }
          ],
          "scattercarpet": [
           {
            "marker": {
             "colorbar": {
              "outlinewidth": 0,
              "ticks": ""
             }
            },
            "type": "scattercarpet"
           }
          ],
          "scattergeo": [
           {
            "marker": {
             "colorbar": {
              "outlinewidth": 0,
              "ticks": ""
             }
            },
            "type": "scattergeo"
           }
          ],
          "scattergl": [
           {
            "marker": {
             "colorbar": {
              "outlinewidth": 0,
              "ticks": ""
             }
            },
            "type": "scattergl"
           }
          ],
          "scattermap": [
           {
            "marker": {
             "colorbar": {
              "outlinewidth": 0,
              "ticks": ""
             }
            },
            "type": "scattermap"
           }
          ],
          "scattermapbox": [
           {
            "marker": {
             "colorbar": {
              "outlinewidth": 0,
              "ticks": ""
             }
            },
            "type": "scattermapbox"
           }
          ],
          "scatterpolar": [
           {
            "marker": {
             "colorbar": {
              "outlinewidth": 0,
              "ticks": ""
             }
            },
            "type": "scatterpolar"
           }
          ],
          "scatterpolargl": [
           {
            "marker": {
             "colorbar": {
              "outlinewidth": 0,
              "ticks": ""
             }
            },
            "type": "scatterpolargl"
           }
          ],
          "scatterternary": [
           {
            "marker": {
             "colorbar": {
              "outlinewidth": 0,
              "ticks": ""
             }
            },
            "type": "scatterternary"
           }
          ],
          "surface": [
           {
            "colorbar": {
             "outlinewidth": 0,
             "ticks": ""
            },
            "colorscale": [
             [
              0,
              "#0d0887"
             ],
             [
              0.1111111111111111,
              "#46039f"
             ],
             [
              0.2222222222222222,
              "#7201a8"
             ],
             [
              0.3333333333333333,
              "#9c179e"
             ],
             [
              0.4444444444444444,
              "#bd3786"
             ],
             [
              0.5555555555555556,
              "#d8576b"
             ],
             [
              0.6666666666666666,
              "#ed7953"
             ],
             [
              0.7777777777777778,
              "#fb9f3a"
             ],
             [
              0.8888888888888888,
              "#fdca26"
             ],
             [
              1,
              "#f0f921"
             ]
            ],
            "type": "surface"
           }
          ],
          "table": [
           {
            "cells": {
             "fill": {
              "color": "#EBF0F8"
             },
             "line": {
              "color": "white"
             }
            },
            "header": {
             "fill": {
              "color": "#C8D4E3"
             },
             "line": {
              "color": "white"
             }
            },
            "type": "table"
           }
          ]
         },
         "layout": {
          "annotationdefaults": {
           "arrowcolor": "#2a3f5f",
           "arrowhead": 0,
           "arrowwidth": 1
          },
          "autotypenumbers": "strict",
          "coloraxis": {
           "colorbar": {
            "outlinewidth": 0,
            "ticks": ""
           }
          },
          "colorscale": {
           "diverging": [
            [
             0,
             "#8e0152"
            ],
            [
             0.1,
             "#c51b7d"
            ],
            [
             0.2,
             "#de77ae"
            ],
            [
             0.3,
             "#f1b6da"
            ],
            [
             0.4,
             "#fde0ef"
            ],
            [
             0.5,
             "#f7f7f7"
            ],
            [
             0.6,
             "#e6f5d0"
            ],
            [
             0.7,
             "#b8e186"
            ],
            [
             0.8,
             "#7fbc41"
            ],
            [
             0.9,
             "#4d9221"
            ],
            [
             1,
             "#276419"
            ]
           ],
           "sequential": [
            [
             0,
             "#0d0887"
            ],
            [
             0.1111111111111111,
             "#46039f"
            ],
            [
             0.2222222222222222,
             "#7201a8"
            ],
            [
             0.3333333333333333,
             "#9c179e"
            ],
            [
             0.4444444444444444,
             "#bd3786"
            ],
            [
             0.5555555555555556,
             "#d8576b"
            ],
            [
             0.6666666666666666,
             "#ed7953"
            ],
            [
             0.7777777777777778,
             "#fb9f3a"
            ],
            [
             0.8888888888888888,
             "#fdca26"
            ],
            [
             1,
             "#f0f921"
            ]
           ],
           "sequentialminus": [
            [
             0,
             "#0d0887"
            ],
            [
             0.1111111111111111,
             "#46039f"
            ],
            [
             0.2222222222222222,
             "#7201a8"
            ],
            [
             0.3333333333333333,
             "#9c179e"
            ],
            [
             0.4444444444444444,
             "#bd3786"
            ],
            [
             0.5555555555555556,
             "#d8576b"
            ],
            [
             0.6666666666666666,
             "#ed7953"
            ],
            [
             0.7777777777777778,
             "#fb9f3a"
            ],
            [
             0.8888888888888888,
             "#fdca26"
            ],
            [
             1,
             "#f0f921"
            ]
           ]
          },
          "colorway": [
           "#636efa",
           "#EF553B",
           "#00cc96",
           "#ab63fa",
           "#FFA15A",
           "#19d3f3",
           "#FF6692",
           "#B6E880",
           "#FF97FF",
           "#FECB52"
          ],
          "font": {
           "color": "#2a3f5f"
          },
          "geo": {
           "bgcolor": "white",
           "lakecolor": "white",
           "landcolor": "#E5ECF6",
           "showlakes": true,
           "showland": true,
           "subunitcolor": "white"
          },
          "hoverlabel": {
           "align": "left"
          },
          "hovermode": "closest",
          "mapbox": {
           "style": "light"
          },
          "paper_bgcolor": "white",
          "plot_bgcolor": "#E5ECF6",
          "polar": {
           "angularaxis": {
            "gridcolor": "white",
            "linecolor": "white",
            "ticks": ""
           },
           "bgcolor": "#E5ECF6",
           "radialaxis": {
            "gridcolor": "white",
            "linecolor": "white",
            "ticks": ""
           }
          },
          "scene": {
           "xaxis": {
            "backgroundcolor": "#E5ECF6",
            "gridcolor": "white",
            "gridwidth": 2,
            "linecolor": "white",
            "showbackground": true,
            "ticks": "",
            "zerolinecolor": "white"
           },
           "yaxis": {
            "backgroundcolor": "#E5ECF6",
            "gridcolor": "white",
            "gridwidth": 2,
            "linecolor": "white",
            "showbackground": true,
            "ticks": "",
            "zerolinecolor": "white"
           },
           "zaxis": {
            "backgroundcolor": "#E5ECF6",
            "gridcolor": "white",
            "gridwidth": 2,
            "linecolor": "white",
            "showbackground": true,
            "ticks": "",
            "zerolinecolor": "white"
           }
          },
          "shapedefaults": {
           "line": {
            "color": "#2a3f5f"
           }
          },
          "ternary": {
           "aaxis": {
            "gridcolor": "white",
            "linecolor": "white",
            "ticks": ""
           },
           "baxis": {
            "gridcolor": "white",
            "linecolor": "white",
            "ticks": ""
           },
           "bgcolor": "#E5ECF6",
           "caxis": {
            "gridcolor": "white",
            "linecolor": "white",
            "ticks": ""
           }
          },
          "title": {
           "x": 0.05
          },
          "xaxis": {
           "automargin": true,
           "gridcolor": "white",
           "linecolor": "white",
           "ticks": "",
           "title": {
            "standoff": 15
           },
           "zerolinecolor": "white",
           "zerolinewidth": 2
          },
          "yaxis": {
           "automargin": true,
           "gridcolor": "white",
           "linecolor": "white",
           "ticks": "",
           "title": {
            "standoff": 15
           },
           "zerolinecolor": "white",
           "zerolinewidth": 2
          }
         }
        },
        "width": 900,
        "xaxis": {
         "anchor": "y",
         "domain": [
          0,
          0.94
         ],
         "gridcolor": "#1f292f",
         "nticks": 5,
         "rangeslider": {
          "visible": false
         }
        },
        "yaxis": {
         "anchor": "x",
         "domain": [
          0,
          1
         ],
         "gridcolor": "#1f292f"
        },
        "yaxis2": {
         "anchor": "x",
         "gridcolor": "#1f292f",
         "overlaying": "y",
         "side": "right"
        }
       }
      }
     },
     "metadata": {},
     "output_type": "display_data"
    }
   ],
   "source": [
    "cp = CandlePlot(dfp, candles=False)\n",
    "cp.fig.add_trace(go.Bar(\n",
    "    x=cp.df_plot.sTime,\n",
    "    y=cp.df_plot.HIST,\n",
    "    name='HIST'\n",
    "))\n",
    "cp.show_plot(line_traces=['SIGNAL', 'MACD'])"
   ]
  },
  {
   "cell_type": "code",
   "execution_count": null,
   "id": "cc8990e3",
   "metadata": {},
   "outputs": [],
   "source": []
  }
 ],
 "metadata": {
  "kernelspec": {
   "display_name": "default",
   "language": "python",
   "name": "python3"
  },
  "language_info": {
   "codemirror_mode": {
    "name": "ipython",
    "version": 3
   },
   "file_extension": ".py",
   "mimetype": "text/x-python",
   "name": "python",
   "nbconvert_exporter": "python",
   "pygments_lexer": "ipython3",
   "version": "3.13.5"
  }
 },
 "nbformat": 4,
 "nbformat_minor": 5
}
