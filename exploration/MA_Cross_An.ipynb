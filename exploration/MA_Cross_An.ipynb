{
 "cells": [
  {
   "cell_type": "code",
   "execution_count": 40,
   "id": "716f7a6e",
   "metadata": {},
   "outputs": [],
   "source": [
    "import pandas as pd\n",
    "from plotting import CandlePlot\n",
    "pd.set_option(\"display.max_columns\", None)"
   ]
  },
  {
   "cell_type": "code",
   "execution_count": 41,
   "id": "5fa13c1e",
   "metadata": {},
   "outputs": [],
   "source": [
    "df_ma_res = pd.read_pickle(\"../data/ma_res.pkl\")\n",
    "df_ma_trades = pd.read_pickle(\"../data/ma_trades.pkl\")"
   ]
  },
  {
   "cell_type": "code",
   "execution_count": 42,
   "id": "509157aa",
   "metadata": {},
   "outputs": [
    {
     "data": {
      "text/html": [
       "<div>\n",
       "<style scoped>\n",
       "    .dataframe tbody tr th:only-of-type {\n",
       "        vertical-align: middle;\n",
       "    }\n",
       "\n",
       "    .dataframe tbody tr th {\n",
       "        vertical-align: top;\n",
       "    }\n",
       "\n",
       "    .dataframe thead th {\n",
       "        text-align: right;\n",
       "    }\n",
       "</style>\n",
       "<table border=\"1\" class=\"dataframe\">\n",
       "  <thead>\n",
       "    <tr style=\"text-align: right;\">\n",
       "      <th></th>\n",
       "      <th>time</th>\n",
       "      <th>volume</th>\n",
       "      <th>mid_o</th>\n",
       "      <th>mid_h</th>\n",
       "      <th>mid_l</th>\n",
       "      <th>mid_c</th>\n",
       "      <th>bid_o</th>\n",
       "      <th>bid_h</th>\n",
       "      <th>bid_l</th>\n",
       "      <th>bid_c</th>\n",
       "      <th>ask_o</th>\n",
       "      <th>ask_h</th>\n",
       "      <th>ask_l</th>\n",
       "      <th>ask_c</th>\n",
       "      <th>MA_40</th>\n",
       "      <th>MA_10</th>\n",
       "      <th>MA_80</th>\n",
       "      <th>MA_20</th>\n",
       "      <th>MA_150</th>\n",
       "      <th>MA_120</th>\n",
       "      <th>MA_30</th>\n",
       "      <th>DELTA</th>\n",
       "      <th>DELTA_PREV</th>\n",
       "      <th>TRADE</th>\n",
       "      <th>DIFF</th>\n",
       "      <th>GAIN</th>\n",
       "      <th>granularity</th>\n",
       "      <th>pair</th>\n",
       "      <th>GAIN_C</th>\n",
       "      <th>ma_l</th>\n",
       "      <th>ma_s</th>\n",
       "      <th>cross</th>\n",
       "    </tr>\n",
       "  </thead>\n",
       "  <tbody>\n",
       "    <tr>\n",
       "      <th>0</th>\n",
       "      <td>2024-11-28 19:00:00+00:00</td>\n",
       "      <td>528</td>\n",
       "      <td>1.05554</td>\n",
       "      <td>1.05572</td>\n",
       "      <td>1.05542</td>\n",
       "      <td>1.05568</td>\n",
       "      <td>1.05547</td>\n",
       "      <td>1.05564</td>\n",
       "      <td>1.05534</td>\n",
       "      <td>1.05560</td>\n",
       "      <td>1.05562</td>\n",
       "      <td>1.05579</td>\n",
       "      <td>1.05551</td>\n",
       "      <td>1.05577</td>\n",
       "      <td>1.054450</td>\n",
       "      <td>1.055009</td>\n",
       "      <td>1.051567</td>\n",
       "      <td>1.054953</td>\n",
       "      <td>1.050215</td>\n",
       "      <td>1.049554</td>\n",
       "      <td>1.055535</td>\n",
       "      <td>0.000056</td>\n",
       "      <td>-0.000218</td>\n",
       "      <td>1</td>\n",
       "      <td>-0.00102</td>\n",
       "      <td>-10.2</td>\n",
       "      <td>H1</td>\n",
       "      <td>EUR_USD</td>\n",
       "      <td>-10.2</td>\n",
       "      <td>MA_20</td>\n",
       "      <td>MA_10</td>\n",
       "      <td>MA_10_MA_20</td>\n",
       "    </tr>\n",
       "    <tr>\n",
       "      <th>1</th>\n",
       "      <td>2024-11-29 16:00:00+00:00</td>\n",
       "      <td>12363</td>\n",
       "      <td>1.05614</td>\n",
       "      <td>1.05630</td>\n",
       "      <td>1.05414</td>\n",
       "      <td>1.05466</td>\n",
       "      <td>1.05607</td>\n",
       "      <td>1.05623</td>\n",
       "      <td>1.05407</td>\n",
       "      <td>1.05459</td>\n",
       "      <td>1.05621</td>\n",
       "      <td>1.05638</td>\n",
       "      <td>1.05422</td>\n",
       "      <td>1.05474</td>\n",
       "      <td>1.055680</td>\n",
       "      <td>1.056234</td>\n",
       "      <td>1.053680</td>\n",
       "      <td>1.056391</td>\n",
       "      <td>1.050571</td>\n",
       "      <td>1.051555</td>\n",
       "      <td>1.055945</td>\n",
       "      <td>-0.000157</td>\n",
       "      <td>0.000136</td>\n",
       "      <td>-1</td>\n",
       "      <td>-0.00483</td>\n",
       "      <td>48.3</td>\n",
       "      <td>H1</td>\n",
       "      <td>EUR_USD</td>\n",
       "      <td>38.1</td>\n",
       "      <td>MA_20</td>\n",
       "      <td>MA_10</td>\n",
       "      <td>MA_10_MA_20</td>\n",
       "    </tr>\n",
       "    <tr>\n",
       "      <th>2</th>\n",
       "      <td>2024-12-03 07:00:00+00:00</td>\n",
       "      <td>8778</td>\n",
       "      <td>1.04880</td>\n",
       "      <td>1.05119</td>\n",
       "      <td>1.04864</td>\n",
       "      <td>1.04983</td>\n",
       "      <td>1.04872</td>\n",
       "      <td>1.05112</td>\n",
       "      <td>1.04856</td>\n",
       "      <td>1.04975</td>\n",
       "      <td>1.04887</td>\n",
       "      <td>1.05127</td>\n",
       "      <td>1.04872</td>\n",
       "      <td>1.04991</td>\n",
       "      <td>1.051542</td>\n",
       "      <td>1.049198</td>\n",
       "      <td>1.053617</td>\n",
       "      <td>1.049099</td>\n",
       "      <td>1.051957</td>\n",
       "      <td>1.052921</td>\n",
       "      <td>1.050036</td>\n",
       "      <td>0.000099</td>\n",
       "      <td>-0.000019</td>\n",
       "      <td>1</td>\n",
       "      <td>0.00078</td>\n",
       "      <td>7.8</td>\n",
       "      <td>H1</td>\n",
       "      <td>EUR_USD</td>\n",
       "      <td>45.9</td>\n",
       "      <td>MA_20</td>\n",
       "      <td>MA_10</td>\n",
       "      <td>MA_10_MA_20</td>\n",
       "    </tr>\n",
       "    <tr>\n",
       "      <th>3</th>\n",
       "      <td>2024-12-04 01:00:00+00:00</td>\n",
       "      <td>5779</td>\n",
       "      <td>1.04994</td>\n",
       "      <td>1.05127</td>\n",
       "      <td>1.04972</td>\n",
       "      <td>1.05061</td>\n",
       "      <td>1.04986</td>\n",
       "      <td>1.05120</td>\n",
       "      <td>1.04964</td>\n",
       "      <td>1.05053</td>\n",
       "      <td>1.05001</td>\n",
       "      <td>1.05135</td>\n",
       "      <td>1.04980</td>\n",
       "      <td>1.05069</td>\n",
       "      <td>1.050344</td>\n",
       "      <td>1.051218</td>\n",
       "      <td>1.052861</td>\n",
       "      <td>1.051296</td>\n",
       "      <td>1.052293</td>\n",
       "      <td>1.053271</td>\n",
       "      <td>1.050639</td>\n",
       "      <td>-0.000078</td>\n",
       "      <td>0.000100</td>\n",
       "      <td>-1</td>\n",
       "      <td>0.00101</td>\n",
       "      <td>-10.1</td>\n",
       "      <td>H1</td>\n",
       "      <td>EUR_USD</td>\n",
       "      <td>35.8</td>\n",
       "      <td>MA_20</td>\n",
       "      <td>MA_10</td>\n",
       "      <td>MA_10_MA_20</td>\n",
       "    </tr>\n",
       "    <tr>\n",
       "      <th>4</th>\n",
       "      <td>2024-12-04 18:00:00+00:00</td>\n",
       "      <td>5671</td>\n",
       "      <td>1.05373</td>\n",
       "      <td>1.05389</td>\n",
       "      <td>1.05153</td>\n",
       "      <td>1.05162</td>\n",
       "      <td>1.05366</td>\n",
       "      <td>1.05381</td>\n",
       "      <td>1.05145</td>\n",
       "      <td>1.05154</td>\n",
       "      <td>1.05380</td>\n",
       "      <td>1.05397</td>\n",
       "      <td>1.05161</td>\n",
       "      <td>1.05170</td>\n",
       "      <td>1.050892</td>\n",
       "      <td>1.050870</td>\n",
       "      <td>1.051656</td>\n",
       "      <td>1.050728</td>\n",
       "      <td>1.052571</td>\n",
       "      <td>1.053018</td>\n",
       "      <td>1.051042</td>\n",
       "      <td>0.000142</td>\n",
       "      <td>-0.000073</td>\n",
       "      <td>1</td>\n",
       "      <td>0.00610</td>\n",
       "      <td>61.0</td>\n",
       "      <td>H1</td>\n",
       "      <td>EUR_USD</td>\n",
       "      <td>96.8</td>\n",
       "      <td>MA_20</td>\n",
       "      <td>MA_10</td>\n",
       "      <td>MA_10_MA_20</td>\n",
       "    </tr>\n",
       "  </tbody>\n",
       "</table>\n",
       "</div>"
      ],
      "text/plain": [
       "                       time  volume    mid_o    mid_h    mid_l    mid_c  \\\n",
       "0 2024-11-28 19:00:00+00:00     528  1.05554  1.05572  1.05542  1.05568   \n",
       "1 2024-11-29 16:00:00+00:00   12363  1.05614  1.05630  1.05414  1.05466   \n",
       "2 2024-12-03 07:00:00+00:00    8778  1.04880  1.05119  1.04864  1.04983   \n",
       "3 2024-12-04 01:00:00+00:00    5779  1.04994  1.05127  1.04972  1.05061   \n",
       "4 2024-12-04 18:00:00+00:00    5671  1.05373  1.05389  1.05153  1.05162   \n",
       "\n",
       "     bid_o    bid_h    bid_l    bid_c    ask_o    ask_h    ask_l    ask_c  \\\n",
       "0  1.05547  1.05564  1.05534  1.05560  1.05562  1.05579  1.05551  1.05577   \n",
       "1  1.05607  1.05623  1.05407  1.05459  1.05621  1.05638  1.05422  1.05474   \n",
       "2  1.04872  1.05112  1.04856  1.04975  1.04887  1.05127  1.04872  1.04991   \n",
       "3  1.04986  1.05120  1.04964  1.05053  1.05001  1.05135  1.04980  1.05069   \n",
       "4  1.05366  1.05381  1.05145  1.05154  1.05380  1.05397  1.05161  1.05170   \n",
       "\n",
       "      MA_40     MA_10     MA_80     MA_20    MA_150    MA_120     MA_30  \\\n",
       "0  1.054450  1.055009  1.051567  1.054953  1.050215  1.049554  1.055535   \n",
       "1  1.055680  1.056234  1.053680  1.056391  1.050571  1.051555  1.055945   \n",
       "2  1.051542  1.049198  1.053617  1.049099  1.051957  1.052921  1.050036   \n",
       "3  1.050344  1.051218  1.052861  1.051296  1.052293  1.053271  1.050639   \n",
       "4  1.050892  1.050870  1.051656  1.050728  1.052571  1.053018  1.051042   \n",
       "\n",
       "      DELTA  DELTA_PREV  TRADE     DIFF  GAIN granularity     pair  GAIN_C  \\\n",
       "0  0.000056   -0.000218      1 -0.00102 -10.2          H1  EUR_USD   -10.2   \n",
       "1 -0.000157    0.000136     -1 -0.00483  48.3          H1  EUR_USD    38.1   \n",
       "2  0.000099   -0.000019      1  0.00078   7.8          H1  EUR_USD    45.9   \n",
       "3 -0.000078    0.000100     -1  0.00101 -10.1          H1  EUR_USD    35.8   \n",
       "4  0.000142   -0.000073      1  0.00610  61.0          H1  EUR_USD    96.8   \n",
       "\n",
       "    ma_l   ma_s        cross  \n",
       "0  MA_20  MA_10  MA_10_MA_20  \n",
       "1  MA_20  MA_10  MA_10_MA_20  \n",
       "2  MA_20  MA_10  MA_10_MA_20  \n",
       "3  MA_20  MA_10  MA_10_MA_20  \n",
       "4  MA_20  MA_10  MA_10_MA_20  "
      ]
     },
     "execution_count": 42,
     "metadata": {},
     "output_type": "execute_result"
    }
   ],
   "source": [
    "df_ma_trades.head()"
   ]
  },
  {
   "cell_type": "code",
   "execution_count": 43,
   "id": "4184f345",
   "metadata": {},
   "outputs": [
    {
     "name": "stdout",
     "output_type": "stream",
     "text": [
      "<class 'pandas.core.frame.DataFrame'>\n",
      "RangeIndex: 35384 entries, 0 to 35383\n",
      "Data columns (total 32 columns):\n",
      " #   Column       Non-Null Count  Dtype                  \n",
      "---  ------       --------------  -----                  \n",
      " 0   time         35384 non-null  datetime64[ns, tzutc()]\n",
      " 1   volume       35384 non-null  int64                  \n",
      " 2   mid_o        35384 non-null  float64                \n",
      " 3   mid_h        35384 non-null  float64                \n",
      " 4   mid_l        35384 non-null  float64                \n",
      " 5   mid_c        35384 non-null  float64                \n",
      " 6   bid_o        35384 non-null  float64                \n",
      " 7   bid_h        35384 non-null  float64                \n",
      " 8   bid_l        35384 non-null  float64                \n",
      " 9   bid_c        35384 non-null  float64                \n",
      " 10  ask_o        35384 non-null  float64                \n",
      " 11  ask_h        35384 non-null  float64                \n",
      " 12  ask_l        35384 non-null  float64                \n",
      " 13  ask_c        35384 non-null  float64                \n",
      " 14  MA_40        35384 non-null  float64                \n",
      " 15  MA_10        35384 non-null  float64                \n",
      " 16  MA_80        35384 non-null  float64                \n",
      " 17  MA_20        35384 non-null  float64                \n",
      " 18  MA_150       35384 non-null  float64                \n",
      " 19  MA_120       35384 non-null  float64                \n",
      " 20  MA_30        35384 non-null  float64                \n",
      " 21  DELTA        35384 non-null  float64                \n",
      " 22  DELTA_PREV   35384 non-null  float64                \n",
      " 23  TRADE        35384 non-null  int64                  \n",
      " 24  DIFF         35384 non-null  float64                \n",
      " 25  GAIN         35384 non-null  float64                \n",
      " 26  granularity  35384 non-null  object                 \n",
      " 27  pair         35384 non-null  object                 \n",
      " 28  GAIN_C       35384 non-null  float64                \n",
      " 29  ma_l         35384 non-null  object                 \n",
      " 30  ma_s         35384 non-null  object                 \n",
      " 31  cross        35384 non-null  object                 \n",
      "dtypes: datetime64[ns, tzutc()](1), float64(24), int64(2), object(5)\n",
      "memory usage: 8.6+ MB\n"
     ]
    }
   ],
   "source": [
    "df_ma_trades.info()"
   ]
  },
  {
   "cell_type": "code",
   "execution_count": 44,
   "id": "e185cbff",
   "metadata": {},
   "outputs": [
    {
     "data": {
      "text/plain": [
       "array(['H1', 'H4'], dtype=object)"
      ]
     },
     "execution_count": 44,
     "metadata": {},
     "output_type": "execute_result"
    }
   ],
   "source": [
    "df_ma_res.granularity.unique()"
   ]
  },
  {
   "cell_type": "code",
   "execution_count": 45,
   "id": "68221949",
   "metadata": {},
   "outputs": [],
   "source": [
    "df_ma_res_h1 = df_ma_res[df_ma_res.granularity == \"H1\"].copy()\n",
    "df_ma_trades_h1 = df_ma_trades[df_ma_trades.granularity == \"H1\"].copy()"
   ]
  },
  {
   "cell_type": "code",
   "execution_count": 46,
   "id": "bec71ccf",
   "metadata": {},
   "outputs": [
    {
     "data": {
      "text/plain": [
       "Index(['pair', 'num_trades', 'total_gain', 'mean_gain', 'min_gain', 'max_gain',\n",
       "       'ma_l', 'ma_s', 'cross', 'granularity'],\n",
       "      dtype='object')"
      ]
     },
     "execution_count": 46,
     "metadata": {},
     "output_type": "execute_result"
    }
   ],
   "source": [
    "df_ma_res_h1.columns"
   ]
  },
  {
   "cell_type": "code",
   "execution_count": 47,
   "id": "f8de6353",
   "metadata": {},
   "outputs": [],
   "source": [
    "df_cross_summary = df_ma_res_h1[['pair', 'num_trades', 'total_gain', 'cross']].copy()"
   ]
  },
  {
   "cell_type": "code",
   "execution_count": 48,
   "id": "af73caab",
   "metadata": {},
   "outputs": [
    {
     "data": {
      "text/html": [
       "<div>\n",
       "<style scoped>\n",
       "    .dataframe tbody tr th:only-of-type {\n",
       "        vertical-align: middle;\n",
       "    }\n",
       "\n",
       "    .dataframe tbody tr th {\n",
       "        vertical-align: top;\n",
       "    }\n",
       "\n",
       "    .dataframe thead th {\n",
       "        text-align: right;\n",
       "    }\n",
       "</style>\n",
       "<table border=\"1\" class=\"dataframe\">\n",
       "  <thead>\n",
       "    <tr style=\"text-align: right;\">\n",
       "      <th></th>\n",
       "      <th>pair</th>\n",
       "      <th>num_trades</th>\n",
       "      <th>total_gain</th>\n",
       "      <th>cross</th>\n",
       "    </tr>\n",
       "  </thead>\n",
       "  <tbody>\n",
       "    <tr>\n",
       "      <th>0</th>\n",
       "      <td>EUR_USD</td>\n",
       "      <td>225</td>\n",
       "      <td>196</td>\n",
       "      <td>MA_10_MA_20</td>\n",
       "    </tr>\n",
       "    <tr>\n",
       "      <th>1</th>\n",
       "      <td>EUR_USD</td>\n",
       "      <td>117</td>\n",
       "      <td>817</td>\n",
       "      <td>MA_10_MA_40</td>\n",
       "    </tr>\n",
       "    <tr>\n",
       "      <th>2</th>\n",
       "      <td>EUR_USD</td>\n",
       "      <td>103</td>\n",
       "      <td>-27</td>\n",
       "      <td>MA_20_MA_40</td>\n",
       "    </tr>\n",
       "    <tr>\n",
       "      <th>3</th>\n",
       "      <td>EUR_USD</td>\n",
       "      <td>132</td>\n",
       "      <td>246</td>\n",
       "      <td>MA_30_MA_40</td>\n",
       "    </tr>\n",
       "    <tr>\n",
       "      <th>4</th>\n",
       "      <td>EUR_USD</td>\n",
       "      <td>75</td>\n",
       "      <td>31</td>\n",
       "      <td>MA_10_MA_80</td>\n",
       "    </tr>\n",
       "    <tr>\n",
       "      <th>...</th>\n",
       "      <td>...</td>\n",
       "      <td>...</td>\n",
       "      <td>...</td>\n",
       "      <td>...</td>\n",
       "    </tr>\n",
       "    <tr>\n",
       "      <th>235</th>\n",
       "      <td>CAD_JPY</td>\n",
       "      <td>41</td>\n",
       "      <td>-1782</td>\n",
       "      <td>MA_40_MA_120</td>\n",
       "    </tr>\n",
       "    <tr>\n",
       "      <th>236</th>\n",
       "      <td>CAD_JPY</td>\n",
       "      <td>59</td>\n",
       "      <td>-1064</td>\n",
       "      <td>MA_10_MA_150</td>\n",
       "    </tr>\n",
       "    <tr>\n",
       "      <th>237</th>\n",
       "      <td>CAD_JPY</td>\n",
       "      <td>45</td>\n",
       "      <td>-1360</td>\n",
       "      <td>MA_20_MA_150</td>\n",
       "    </tr>\n",
       "    <tr>\n",
       "      <th>238</th>\n",
       "      <td>CAD_JPY</td>\n",
       "      <td>41</td>\n",
       "      <td>-1339</td>\n",
       "      <td>MA_30_MA_150</td>\n",
       "    </tr>\n",
       "    <tr>\n",
       "      <th>239</th>\n",
       "      <td>CAD_JPY</td>\n",
       "      <td>35</td>\n",
       "      <td>-698</td>\n",
       "      <td>MA_40_MA_150</td>\n",
       "    </tr>\n",
       "  </tbody>\n",
       "</table>\n",
       "<p>240 rows × 4 columns</p>\n",
       "</div>"
      ],
      "text/plain": [
       "        pair  num_trades  total_gain         cross\n",
       "0    EUR_USD         225         196   MA_10_MA_20\n",
       "1    EUR_USD         117         817   MA_10_MA_40\n",
       "2    EUR_USD         103         -27   MA_20_MA_40\n",
       "3    EUR_USD         132         246   MA_30_MA_40\n",
       "4    EUR_USD          75          31   MA_10_MA_80\n",
       "..       ...         ...         ...           ...\n",
       "235  CAD_JPY          41       -1782  MA_40_MA_120\n",
       "236  CAD_JPY          59       -1064  MA_10_MA_150\n",
       "237  CAD_JPY          45       -1360  MA_20_MA_150\n",
       "238  CAD_JPY          41       -1339  MA_30_MA_150\n",
       "239  CAD_JPY          35        -698  MA_40_MA_150\n",
       "\n",
       "[240 rows x 4 columns]"
      ]
     },
     "execution_count": 48,
     "metadata": {},
     "output_type": "execute_result"
    }
   ],
   "source": [
    "df_cross_summary"
   ]
  },
  {
   "cell_type": "code",
   "execution_count": 49,
   "id": "ce1cf9d9",
   "metadata": {},
   "outputs": [],
   "source": [
    "df_cross_gr = df_cross_summary.groupby(by=\"cross\", as_index=False).sum(numeric_only=True)\n",
    "df_cross_gr.sort_values(by=\"total_gain\", ascending=False, inplace=True)"
   ]
  },
  {
   "cell_type": "code",
   "execution_count": 50,
   "id": "b1609a9e",
   "metadata": {},
   "outputs": [
    {
     "data": {
      "text/html": [
       "<div>\n",
       "<style scoped>\n",
       "    .dataframe tbody tr th:only-of-type {\n",
       "        vertical-align: middle;\n",
       "    }\n",
       "\n",
       "    .dataframe tbody tr th {\n",
       "        vertical-align: top;\n",
       "    }\n",
       "\n",
       "    .dataframe thead th {\n",
       "        text-align: right;\n",
       "    }\n",
       "</style>\n",
       "<table border=\"1\" class=\"dataframe\">\n",
       "  <thead>\n",
       "    <tr style=\"text-align: right;\">\n",
       "      <th></th>\n",
       "      <th>cross</th>\n",
       "      <th>num_trades</th>\n",
       "      <th>total_gain</th>\n",
       "    </tr>\n",
       "  </thead>\n",
       "  <tbody>\n",
       "    <tr>\n",
       "      <th>14</th>\n",
       "      <td>MA_40_MA_150</td>\n",
       "      <td>492</td>\n",
       "      <td>-1782</td>\n",
       "    </tr>\n",
       "    <tr>\n",
       "      <th>13</th>\n",
       "      <td>MA_40_MA_120</td>\n",
       "      <td>567</td>\n",
       "      <td>-2742</td>\n",
       "    </tr>\n",
       "    <tr>\n",
       "      <th>15</th>\n",
       "      <td>MA_40_MA_80</td>\n",
       "      <td>807</td>\n",
       "      <td>-2797</td>\n",
       "    </tr>\n",
       "    <tr>\n",
       "      <th>9</th>\n",
       "      <td>MA_30_MA_120</td>\n",
       "      <td>631</td>\n",
       "      <td>-3808</td>\n",
       "    </tr>\n",
       "    <tr>\n",
       "      <th>12</th>\n",
       "      <td>MA_30_MA_80</td>\n",
       "      <td>828</td>\n",
       "      <td>-5332</td>\n",
       "    </tr>\n",
       "    <tr>\n",
       "      <th>2</th>\n",
       "      <td>MA_10_MA_20</td>\n",
       "      <td>3294</td>\n",
       "      <td>-5342</td>\n",
       "    </tr>\n",
       "    <tr>\n",
       "      <th>10</th>\n",
       "      <td>MA_30_MA_150</td>\n",
       "      <td>550</td>\n",
       "      <td>-5380</td>\n",
       "    </tr>\n",
       "    <tr>\n",
       "      <th>1</th>\n",
       "      <td>MA_10_MA_150</td>\n",
       "      <td>836</td>\n",
       "      <td>-5384</td>\n",
       "    </tr>\n",
       "    <tr>\n",
       "      <th>4</th>\n",
       "      <td>MA_10_MA_80</td>\n",
       "      <td>1176</td>\n",
       "      <td>-5724</td>\n",
       "    </tr>\n",
       "    <tr>\n",
       "      <th>6</th>\n",
       "      <td>MA_20_MA_150</td>\n",
       "      <td>637</td>\n",
       "      <td>-6250</td>\n",
       "    </tr>\n",
       "    <tr>\n",
       "      <th>8</th>\n",
       "      <td>MA_20_MA_80</td>\n",
       "      <td>923</td>\n",
       "      <td>-7311</td>\n",
       "    </tr>\n",
       "    <tr>\n",
       "      <th>11</th>\n",
       "      <td>MA_30_MA_40</td>\n",
       "      <td>1887</td>\n",
       "      <td>-7778</td>\n",
       "    </tr>\n",
       "    <tr>\n",
       "      <th>0</th>\n",
       "      <td>MA_10_MA_120</td>\n",
       "      <td>972</td>\n",
       "      <td>-8561</td>\n",
       "    </tr>\n",
       "    <tr>\n",
       "      <th>5</th>\n",
       "      <td>MA_20_MA_120</td>\n",
       "      <td>745</td>\n",
       "      <td>-8715</td>\n",
       "    </tr>\n",
       "    <tr>\n",
       "      <th>3</th>\n",
       "      <td>MA_10_MA_40</td>\n",
       "      <td>1842</td>\n",
       "      <td>-10085</td>\n",
       "    </tr>\n",
       "    <tr>\n",
       "      <th>7</th>\n",
       "      <td>MA_20_MA_40</td>\n",
       "      <td>1649</td>\n",
       "      <td>-13294</td>\n",
       "    </tr>\n",
       "  </tbody>\n",
       "</table>\n",
       "</div>"
      ],
      "text/plain": [
       "           cross  num_trades  total_gain\n",
       "14  MA_40_MA_150         492       -1782\n",
       "13  MA_40_MA_120         567       -2742\n",
       "15   MA_40_MA_80         807       -2797\n",
       "9   MA_30_MA_120         631       -3808\n",
       "12   MA_30_MA_80         828       -5332\n",
       "2    MA_10_MA_20        3294       -5342\n",
       "10  MA_30_MA_150         550       -5380\n",
       "1   MA_10_MA_150         836       -5384\n",
       "4    MA_10_MA_80        1176       -5724\n",
       "6   MA_20_MA_150         637       -6250\n",
       "8    MA_20_MA_80         923       -7311\n",
       "11   MA_30_MA_40        1887       -7778\n",
       "0   MA_10_MA_120         972       -8561\n",
       "5   MA_20_MA_120         745       -8715\n",
       "3    MA_10_MA_40        1842      -10085\n",
       "7    MA_20_MA_40        1649      -13294"
      ]
     },
     "execution_count": 50,
     "metadata": {},
     "output_type": "execute_result"
    }
   ],
   "source": [
    "df_cross_gr"
   ]
  },
  {
   "cell_type": "code",
   "execution_count": 51,
   "id": "f35b6833",
   "metadata": {},
   "outputs": [],
   "source": [
    "total_pairs = len(df_ma_res_h1.pair.unique())"
   ]
  },
  {
   "cell_type": "code",
   "execution_count": 52,
   "id": "8759a007",
   "metadata": {},
   "outputs": [],
   "source": [
    "temp = df_ma_res_h1[df_ma_res_h1.cross == \"MA_10_MA_40\"]"
   ]
  },
  {
   "cell_type": "code",
   "execution_count": 53,
   "id": "4be31a66",
   "metadata": {},
   "outputs": [
    {
     "data": {
      "text/html": [
       "<div>\n",
       "<style scoped>\n",
       "    .dataframe tbody tr th:only-of-type {\n",
       "        vertical-align: middle;\n",
       "    }\n",
       "\n",
       "    .dataframe tbody tr th {\n",
       "        vertical-align: top;\n",
       "    }\n",
       "\n",
       "    .dataframe thead th {\n",
       "        text-align: right;\n",
       "    }\n",
       "</style>\n",
       "<table border=\"1\" class=\"dataframe\">\n",
       "  <thead>\n",
       "    <tr style=\"text-align: right;\">\n",
       "      <th></th>\n",
       "      <th>pair</th>\n",
       "      <th>num_trades</th>\n",
       "      <th>total_gain</th>\n",
       "      <th>mean_gain</th>\n",
       "      <th>min_gain</th>\n",
       "      <th>max_gain</th>\n",
       "      <th>ma_l</th>\n",
       "      <th>ma_s</th>\n",
       "      <th>cross</th>\n",
       "      <th>granularity</th>\n",
       "    </tr>\n",
       "  </thead>\n",
       "  <tbody>\n",
       "    <tr>\n",
       "      <th>1</th>\n",
       "      <td>EUR_USD</td>\n",
       "      <td>117</td>\n",
       "      <td>817</td>\n",
       "      <td>6</td>\n",
       "      <td>-128</td>\n",
       "      <td>395</td>\n",
       "      <td>MA_40</td>\n",
       "      <td>MA_10</td>\n",
       "      <td>MA_10_MA_40</td>\n",
       "      <td>H1</td>\n",
       "    </tr>\n",
       "    <tr>\n",
       "      <th>17</th>\n",
       "      <td>EUR_JPY</td>\n",
       "      <td>115</td>\n",
       "      <td>-1849</td>\n",
       "      <td>-16</td>\n",
       "      <td>-269</td>\n",
       "      <td>243</td>\n",
       "      <td>MA_40</td>\n",
       "      <td>MA_10</td>\n",
       "      <td>MA_10_MA_40</td>\n",
       "      <td>H1</td>\n",
       "    </tr>\n",
       "    <tr>\n",
       "      <th>33</th>\n",
       "      <td>EUR_AUD</td>\n",
       "      <td>122</td>\n",
       "      <td>-581</td>\n",
       "      <td>-4</td>\n",
       "      <td>-545</td>\n",
       "      <td>870</td>\n",
       "      <td>MA_40</td>\n",
       "      <td>MA_10</td>\n",
       "      <td>MA_10_MA_40</td>\n",
       "      <td>H1</td>\n",
       "    </tr>\n",
       "    <tr>\n",
       "      <th>49</th>\n",
       "      <td>EUR_GBP</td>\n",
       "      <td>115</td>\n",
       "      <td>-110</td>\n",
       "      <td>0</td>\n",
       "      <td>-104</td>\n",
       "      <td>199</td>\n",
       "      <td>MA_40</td>\n",
       "      <td>MA_10</td>\n",
       "      <td>MA_10_MA_40</td>\n",
       "      <td>H1</td>\n",
       "    </tr>\n",
       "    <tr>\n",
       "      <th>65</th>\n",
       "      <td>EUR_CAD</td>\n",
       "      <td>123</td>\n",
       "      <td>-160</td>\n",
       "      <td>-1</td>\n",
       "      <td>-242</td>\n",
       "      <td>388</td>\n",
       "      <td>MA_40</td>\n",
       "      <td>MA_10</td>\n",
       "      <td>MA_10_MA_40</td>\n",
       "      <td>H1</td>\n",
       "    </tr>\n",
       "    <tr>\n",
       "      <th>81</th>\n",
       "      <td>USD_JPY</td>\n",
       "      <td>129</td>\n",
       "      <td>82</td>\n",
       "      <td>0</td>\n",
       "      <td>-272</td>\n",
       "      <td>250</td>\n",
       "      <td>MA_40</td>\n",
       "      <td>MA_10</td>\n",
       "      <td>MA_10_MA_40</td>\n",
       "      <td>H1</td>\n",
       "    </tr>\n",
       "    <tr>\n",
       "      <th>97</th>\n",
       "      <td>USD_CAD</td>\n",
       "      <td>122</td>\n",
       "      <td>-494</td>\n",
       "      <td>-4</td>\n",
       "      <td>-134</td>\n",
       "      <td>290</td>\n",
       "      <td>MA_40</td>\n",
       "      <td>MA_10</td>\n",
       "      <td>MA_10_MA_40</td>\n",
       "      <td>H1</td>\n",
       "    </tr>\n",
       "    <tr>\n",
       "      <th>113</th>\n",
       "      <td>AUD_USD</td>\n",
       "      <td>139</td>\n",
       "      <td>-1182</td>\n",
       "      <td>-8</td>\n",
       "      <td>-109</td>\n",
       "      <td>298</td>\n",
       "      <td>MA_40</td>\n",
       "      <td>MA_10</td>\n",
       "      <td>MA_10_MA_40</td>\n",
       "      <td>H1</td>\n",
       "    </tr>\n",
       "    <tr>\n",
       "      <th>129</th>\n",
       "      <td>AUD_JPY</td>\n",
       "      <td>124</td>\n",
       "      <td>-1575</td>\n",
       "      <td>-12</td>\n",
       "      <td>-357</td>\n",
       "      <td>410</td>\n",
       "      <td>MA_40</td>\n",
       "      <td>MA_10</td>\n",
       "      <td>MA_10_MA_40</td>\n",
       "      <td>H1</td>\n",
       "    </tr>\n",
       "    <tr>\n",
       "      <th>145</th>\n",
       "      <td>AUD_CAD</td>\n",
       "      <td>131</td>\n",
       "      <td>-657</td>\n",
       "      <td>-5</td>\n",
       "      <td>-104</td>\n",
       "      <td>324</td>\n",
       "      <td>MA_40</td>\n",
       "      <td>MA_10</td>\n",
       "      <td>MA_10_MA_40</td>\n",
       "      <td>H1</td>\n",
       "    </tr>\n",
       "    <tr>\n",
       "      <th>161</th>\n",
       "      <td>GBP_USD</td>\n",
       "      <td>123</td>\n",
       "      <td>550</td>\n",
       "      <td>4</td>\n",
       "      <td>-119</td>\n",
       "      <td>415</td>\n",
       "      <td>MA_40</td>\n",
       "      <td>MA_10</td>\n",
       "      <td>MA_10_MA_40</td>\n",
       "      <td>H1</td>\n",
       "    </tr>\n",
       "    <tr>\n",
       "      <th>177</th>\n",
       "      <td>GBP_JPY</td>\n",
       "      <td>121</td>\n",
       "      <td>-2479</td>\n",
       "      <td>-20</td>\n",
       "      <td>-245</td>\n",
       "      <td>481</td>\n",
       "      <td>MA_40</td>\n",
       "      <td>MA_10</td>\n",
       "      <td>MA_10_MA_40</td>\n",
       "      <td>H1</td>\n",
       "    </tr>\n",
       "    <tr>\n",
       "      <th>193</th>\n",
       "      <td>GBP_AUD</td>\n",
       "      <td>115</td>\n",
       "      <td>-182</td>\n",
       "      <td>-1</td>\n",
       "      <td>-198</td>\n",
       "      <td>605</td>\n",
       "      <td>MA_40</td>\n",
       "      <td>MA_10</td>\n",
       "      <td>MA_10_MA_40</td>\n",
       "      <td>H1</td>\n",
       "    </tr>\n",
       "    <tr>\n",
       "      <th>209</th>\n",
       "      <td>GBP_CAD</td>\n",
       "      <td>111</td>\n",
       "      <td>326</td>\n",
       "      <td>2</td>\n",
       "      <td>-149</td>\n",
       "      <td>359</td>\n",
       "      <td>MA_40</td>\n",
       "      <td>MA_10</td>\n",
       "      <td>MA_10_MA_40</td>\n",
       "      <td>H1</td>\n",
       "    </tr>\n",
       "    <tr>\n",
       "      <th>225</th>\n",
       "      <td>CAD_JPY</td>\n",
       "      <td>135</td>\n",
       "      <td>-2591</td>\n",
       "      <td>-19</td>\n",
       "      <td>-229</td>\n",
       "      <td>184</td>\n",
       "      <td>MA_40</td>\n",
       "      <td>MA_10</td>\n",
       "      <td>MA_10_MA_40</td>\n",
       "      <td>H1</td>\n",
       "    </tr>\n",
       "  </tbody>\n",
       "</table>\n",
       "</div>"
      ],
      "text/plain": [
       "        pair  num_trades  total_gain  mean_gain  min_gain  max_gain   ma_l  \\\n",
       "1    EUR_USD         117         817          6      -128       395  MA_40   \n",
       "17   EUR_JPY         115       -1849        -16      -269       243  MA_40   \n",
       "33   EUR_AUD         122        -581         -4      -545       870  MA_40   \n",
       "49   EUR_GBP         115        -110          0      -104       199  MA_40   \n",
       "65   EUR_CAD         123        -160         -1      -242       388  MA_40   \n",
       "81   USD_JPY         129          82          0      -272       250  MA_40   \n",
       "97   USD_CAD         122        -494         -4      -134       290  MA_40   \n",
       "113  AUD_USD         139       -1182         -8      -109       298  MA_40   \n",
       "129  AUD_JPY         124       -1575        -12      -357       410  MA_40   \n",
       "145  AUD_CAD         131        -657         -5      -104       324  MA_40   \n",
       "161  GBP_USD         123         550          4      -119       415  MA_40   \n",
       "177  GBP_JPY         121       -2479        -20      -245       481  MA_40   \n",
       "193  GBP_AUD         115        -182         -1      -198       605  MA_40   \n",
       "209  GBP_CAD         111         326          2      -149       359  MA_40   \n",
       "225  CAD_JPY         135       -2591        -19      -229       184  MA_40   \n",
       "\n",
       "      ma_s        cross granularity  \n",
       "1    MA_10  MA_10_MA_40          H1  \n",
       "17   MA_10  MA_10_MA_40          H1  \n",
       "33   MA_10  MA_10_MA_40          H1  \n",
       "49   MA_10  MA_10_MA_40          H1  \n",
       "65   MA_10  MA_10_MA_40          H1  \n",
       "81   MA_10  MA_10_MA_40          H1  \n",
       "97   MA_10  MA_10_MA_40          H1  \n",
       "113  MA_10  MA_10_MA_40          H1  \n",
       "129  MA_10  MA_10_MA_40          H1  \n",
       "145  MA_10  MA_10_MA_40          H1  \n",
       "161  MA_10  MA_10_MA_40          H1  \n",
       "177  MA_10  MA_10_MA_40          H1  \n",
       "193  MA_10  MA_10_MA_40          H1  \n",
       "209  MA_10  MA_10_MA_40          H1  \n",
       "225  MA_10  MA_10_MA_40          H1  "
      ]
     },
     "execution_count": 53,
     "metadata": {},
     "output_type": "execute_result"
    }
   ],
   "source": [
    "temp"
   ]
  },
  {
   "cell_type": "code",
   "execution_count": 54,
   "id": "6d069665",
   "metadata": {},
   "outputs": [
    {
     "data": {
      "text/plain": [
       "4"
      ]
     },
     "execution_count": 54,
     "metadata": {},
     "output_type": "execute_result"
    }
   ],
   "source": [
    "temp[temp.total_gain > 0].shape[0]"
   ]
  },
  {
   "cell_type": "code",
   "execution_count": 55,
   "id": "9bffcdf8",
   "metadata": {},
   "outputs": [
    {
     "name": "stdout",
     "output_type": "stream",
     "text": [
      "MA_10_MA_20 pg:4 percent gain:27%\n",
      "MA_10_MA_40 pg:4 percent gain:27%\n",
      "MA_20_MA_40 pg:1 percent gain:7%\n",
      "MA_30_MA_40 pg:4 percent gain:27%\n",
      "MA_10_MA_80 pg:3 percent gain:20%\n",
      "MA_20_MA_80 pg:1 percent gain:7%\n",
      "MA_30_MA_80 pg:3 percent gain:20%\n",
      "MA_40_MA_80 pg:6 percent gain:40%\n",
      "MA_10_MA_120 pg:3 percent gain:20%\n",
      "MA_20_MA_120 pg:4 percent gain:27%\n",
      "MA_30_MA_120 pg:5 percent gain:33%\n",
      "MA_40_MA_120 pg:5 percent gain:33%\n",
      "MA_10_MA_150 pg:3 percent gain:20%\n",
      "MA_20_MA_150 pg:5 percent gain:33%\n",
      "MA_30_MA_150 pg:4 percent gain:27%\n",
      "MA_40_MA_150 pg:7 percent gain:47%\n"
     ]
    }
   ],
   "source": [
    "for c in df_ma_res_h1.cross.unique():\n",
    "    temp = df_ma_res_h1[df_ma_res_h1.cross == c]\n",
    "    pg = temp[temp.total_gain > 0].shape[0]\n",
    "    print(f\"{c} pg:{pg} percent gain:{(pg / total_pairs) * 100:.0f}%\")"
   ]
  },
  {
   "cell_type": "code",
   "execution_count": 56,
   "id": "6d93f016",
   "metadata": {},
   "outputs": [],
   "source": [
    "cross = \"MA_40_MA_80\"\n",
    "df_MA_40_MA_80 = df_ma_res_h1[df_ma_res_h1.cross == cross].copy()\n",
    "df_MA_40_MA_80.sort_values(by=\"total_gain\", ascending=False, inplace=True)"
   ]
  },
  {
   "cell_type": "code",
   "execution_count": 57,
   "id": "201749ef",
   "metadata": {},
   "outputs": [
    {
     "data": {
      "text/html": [
       "<div>\n",
       "<style scoped>\n",
       "    .dataframe tbody tr th:only-of-type {\n",
       "        vertical-align: middle;\n",
       "    }\n",
       "\n",
       "    .dataframe tbody tr th {\n",
       "        vertical-align: top;\n",
       "    }\n",
       "\n",
       "    .dataframe thead th {\n",
       "        text-align: right;\n",
       "    }\n",
       "</style>\n",
       "<table border=\"1\" class=\"dataframe\">\n",
       "  <thead>\n",
       "    <tr style=\"text-align: right;\">\n",
       "      <th></th>\n",
       "      <th>pair</th>\n",
       "      <th>num_trades</th>\n",
       "      <th>total_gain</th>\n",
       "      <th>mean_gain</th>\n",
       "      <th>min_gain</th>\n",
       "      <th>max_gain</th>\n",
       "      <th>ma_l</th>\n",
       "      <th>ma_s</th>\n",
       "      <th>cross</th>\n",
       "      <th>granularity</th>\n",
       "    </tr>\n",
       "  </thead>\n",
       "  <tbody>\n",
       "    <tr>\n",
       "      <th>215</th>\n",
       "      <td>GBP_CAD</td>\n",
       "      <td>45</td>\n",
       "      <td>1296</td>\n",
       "      <td>28</td>\n",
       "      <td>-153</td>\n",
       "      <td>901</td>\n",
       "      <td>MA_80</td>\n",
       "      <td>MA_40</td>\n",
       "      <td>MA_40_MA_80</td>\n",
       "      <td>H1</td>\n",
       "    </tr>\n",
       "    <tr>\n",
       "      <th>199</th>\n",
       "      <td>GBP_AUD</td>\n",
       "      <td>47</td>\n",
       "      <td>1043</td>\n",
       "      <td>22</td>\n",
       "      <td>-152</td>\n",
       "      <td>600</td>\n",
       "      <td>MA_80</td>\n",
       "      <td>MA_40</td>\n",
       "      <td>MA_40_MA_80</td>\n",
       "      <td>H1</td>\n",
       "    </tr>\n",
       "    <tr>\n",
       "      <th>39</th>\n",
       "      <td>EUR_AUD</td>\n",
       "      <td>51</td>\n",
       "      <td>278</td>\n",
       "      <td>5</td>\n",
       "      <td>-279</td>\n",
       "      <td>806</td>\n",
       "      <td>MA_80</td>\n",
       "      <td>MA_40</td>\n",
       "      <td>MA_40_MA_80</td>\n",
       "      <td>H1</td>\n",
       "    </tr>\n",
       "    <tr>\n",
       "      <th>7</th>\n",
       "      <td>EUR_USD</td>\n",
       "      <td>53</td>\n",
       "      <td>223</td>\n",
       "      <td>4</td>\n",
       "      <td>-169</td>\n",
       "      <td>372</td>\n",
       "      <td>MA_80</td>\n",
       "      <td>MA_40</td>\n",
       "      <td>MA_40_MA_80</td>\n",
       "      <td>H1</td>\n",
       "    </tr>\n",
       "    <tr>\n",
       "      <th>55</th>\n",
       "      <td>EUR_GBP</td>\n",
       "      <td>53</td>\n",
       "      <td>194</td>\n",
       "      <td>3</td>\n",
       "      <td>-61</td>\n",
       "      <td>147</td>\n",
       "      <td>MA_80</td>\n",
       "      <td>MA_40</td>\n",
       "      <td>MA_40_MA_80</td>\n",
       "      <td>H1</td>\n",
       "    </tr>\n",
       "    <tr>\n",
       "      <th>103</th>\n",
       "      <td>USD_CAD</td>\n",
       "      <td>62</td>\n",
       "      <td>1</td>\n",
       "      <td>0</td>\n",
       "      <td>-114</td>\n",
       "      <td>254</td>\n",
       "      <td>MA_80</td>\n",
       "      <td>MA_40</td>\n",
       "      <td>MA_40_MA_80</td>\n",
       "      <td>H1</td>\n",
       "    </tr>\n",
       "    <tr>\n",
       "      <th>119</th>\n",
       "      <td>AUD_USD</td>\n",
       "      <td>53</td>\n",
       "      <td>-140</td>\n",
       "      <td>-2</td>\n",
       "      <td>-217</td>\n",
       "      <td>230</td>\n",
       "      <td>MA_80</td>\n",
       "      <td>MA_40</td>\n",
       "      <td>MA_40_MA_80</td>\n",
       "      <td>H1</td>\n",
       "    </tr>\n",
       "    <tr>\n",
       "      <th>167</th>\n",
       "      <td>GBP_USD</td>\n",
       "      <td>57</td>\n",
       "      <td>-198</td>\n",
       "      <td>-3</td>\n",
       "      <td>-160</td>\n",
       "      <td>415</td>\n",
       "      <td>MA_80</td>\n",
       "      <td>MA_40</td>\n",
       "      <td>MA_40_MA_80</td>\n",
       "      <td>H1</td>\n",
       "    </tr>\n",
       "    <tr>\n",
       "      <th>87</th>\n",
       "      <td>USD_JPY</td>\n",
       "      <td>49</td>\n",
       "      <td>-477</td>\n",
       "      <td>-9</td>\n",
       "      <td>-267</td>\n",
       "      <td>260</td>\n",
       "      <td>MA_80</td>\n",
       "      <td>MA_40</td>\n",
       "      <td>MA_40_MA_80</td>\n",
       "      <td>H1</td>\n",
       "    </tr>\n",
       "    <tr>\n",
       "      <th>71</th>\n",
       "      <td>EUR_CAD</td>\n",
       "      <td>63</td>\n",
       "      <td>-484</td>\n",
       "      <td>-7</td>\n",
       "      <td>-200</td>\n",
       "      <td>518</td>\n",
       "      <td>MA_80</td>\n",
       "      <td>MA_40</td>\n",
       "      <td>MA_40_MA_80</td>\n",
       "      <td>H1</td>\n",
       "    </tr>\n",
       "    <tr>\n",
       "      <th>151</th>\n",
       "      <td>AUD_CAD</td>\n",
       "      <td>65</td>\n",
       "      <td>-654</td>\n",
       "      <td>-10</td>\n",
       "      <td>-106</td>\n",
       "      <td>267</td>\n",
       "      <td>MA_80</td>\n",
       "      <td>MA_40</td>\n",
       "      <td>MA_40_MA_80</td>\n",
       "      <td>H1</td>\n",
       "    </tr>\n",
       "    <tr>\n",
       "      <th>135</th>\n",
       "      <td>AUD_JPY</td>\n",
       "      <td>49</td>\n",
       "      <td>-738</td>\n",
       "      <td>-15</td>\n",
       "      <td>-174</td>\n",
       "      <td>278</td>\n",
       "      <td>MA_80</td>\n",
       "      <td>MA_40</td>\n",
       "      <td>MA_40_MA_80</td>\n",
       "      <td>H1</td>\n",
       "    </tr>\n",
       "    <tr>\n",
       "      <th>23</th>\n",
       "      <td>EUR_JPY</td>\n",
       "      <td>53</td>\n",
       "      <td>-871</td>\n",
       "      <td>-16</td>\n",
       "      <td>-236</td>\n",
       "      <td>347</td>\n",
       "      <td>MA_80</td>\n",
       "      <td>MA_40</td>\n",
       "      <td>MA_40_MA_80</td>\n",
       "      <td>H1</td>\n",
       "    </tr>\n",
       "    <tr>\n",
       "      <th>231</th>\n",
       "      <td>CAD_JPY</td>\n",
       "      <td>51</td>\n",
       "      <td>-1106</td>\n",
       "      <td>-21</td>\n",
       "      <td>-242</td>\n",
       "      <td>234</td>\n",
       "      <td>MA_80</td>\n",
       "      <td>MA_40</td>\n",
       "      <td>MA_40_MA_80</td>\n",
       "      <td>H1</td>\n",
       "    </tr>\n",
       "    <tr>\n",
       "      <th>183</th>\n",
       "      <td>GBP_JPY</td>\n",
       "      <td>56</td>\n",
       "      <td>-1164</td>\n",
       "      <td>-20</td>\n",
       "      <td>-245</td>\n",
       "      <td>489</td>\n",
       "      <td>MA_80</td>\n",
       "      <td>MA_40</td>\n",
       "      <td>MA_40_MA_80</td>\n",
       "      <td>H1</td>\n",
       "    </tr>\n",
       "  </tbody>\n",
       "</table>\n",
       "</div>"
      ],
      "text/plain": [
       "        pair  num_trades  total_gain  mean_gain  min_gain  max_gain   ma_l  \\\n",
       "215  GBP_CAD          45        1296         28      -153       901  MA_80   \n",
       "199  GBP_AUD          47        1043         22      -152       600  MA_80   \n",
       "39   EUR_AUD          51         278          5      -279       806  MA_80   \n",
       "7    EUR_USD          53         223          4      -169       372  MA_80   \n",
       "55   EUR_GBP          53         194          3       -61       147  MA_80   \n",
       "103  USD_CAD          62           1          0      -114       254  MA_80   \n",
       "119  AUD_USD          53        -140         -2      -217       230  MA_80   \n",
       "167  GBP_USD          57        -198         -3      -160       415  MA_80   \n",
       "87   USD_JPY          49        -477         -9      -267       260  MA_80   \n",
       "71   EUR_CAD          63        -484         -7      -200       518  MA_80   \n",
       "151  AUD_CAD          65        -654        -10      -106       267  MA_80   \n",
       "135  AUD_JPY          49        -738        -15      -174       278  MA_80   \n",
       "23   EUR_JPY          53        -871        -16      -236       347  MA_80   \n",
       "231  CAD_JPY          51       -1106        -21      -242       234  MA_80   \n",
       "183  GBP_JPY          56       -1164        -20      -245       489  MA_80   \n",
       "\n",
       "      ma_s        cross granularity  \n",
       "215  MA_40  MA_40_MA_80          H1  \n",
       "199  MA_40  MA_40_MA_80          H1  \n",
       "39   MA_40  MA_40_MA_80          H1  \n",
       "7    MA_40  MA_40_MA_80          H1  \n",
       "55   MA_40  MA_40_MA_80          H1  \n",
       "103  MA_40  MA_40_MA_80          H1  \n",
       "119  MA_40  MA_40_MA_80          H1  \n",
       "167  MA_40  MA_40_MA_80          H1  \n",
       "87   MA_40  MA_40_MA_80          H1  \n",
       "71   MA_40  MA_40_MA_80          H1  \n",
       "151  MA_40  MA_40_MA_80          H1  \n",
       "135  MA_40  MA_40_MA_80          H1  \n",
       "23   MA_40  MA_40_MA_80          H1  \n",
       "231  MA_40  MA_40_MA_80          H1  \n",
       "183  MA_40  MA_40_MA_80          H1  "
      ]
     },
     "execution_count": 57,
     "metadata": {},
     "output_type": "execute_result"
    }
   ],
   "source": [
    "df_MA_40_MA_80"
   ]
  },
  {
   "cell_type": "code",
   "execution_count": 58,
   "id": "855b7d74",
   "metadata": {},
   "outputs": [],
   "source": [
    "df_gains = df_ma_trades_h1[(df_ma_trades_h1.cross==cross)*(df_ma_trades_h1.pair == \"GBP_CAD\")].copy()"
   ]
  },
  {
   "cell_type": "code",
   "execution_count": 60,
   "id": "382f9fb9",
   "metadata": {},
   "outputs": [
    {
     "data": {
      "text/html": [
       "<div>\n",
       "<style scoped>\n",
       "    .dataframe tbody tr th:only-of-type {\n",
       "        vertical-align: middle;\n",
       "    }\n",
       "\n",
       "    .dataframe tbody tr th {\n",
       "        vertical-align: top;\n",
       "    }\n",
       "\n",
       "    .dataframe thead th {\n",
       "        text-align: right;\n",
       "    }\n",
       "</style>\n",
       "<table border=\"1\" class=\"dataframe\">\n",
       "  <thead>\n",
       "    <tr style=\"text-align: right;\">\n",
       "      <th></th>\n",
       "      <th>time</th>\n",
       "      <th>volume</th>\n",
       "      <th>mid_o</th>\n",
       "      <th>mid_h</th>\n",
       "      <th>mid_l</th>\n",
       "      <th>mid_c</th>\n",
       "      <th>bid_o</th>\n",
       "      <th>bid_h</th>\n",
       "      <th>bid_l</th>\n",
       "      <th>bid_c</th>\n",
       "      <th>ask_o</th>\n",
       "      <th>ask_h</th>\n",
       "      <th>ask_l</th>\n",
       "      <th>ask_c</th>\n",
       "      <th>MA_40</th>\n",
       "      <th>MA_10</th>\n",
       "      <th>MA_80</th>\n",
       "      <th>MA_20</th>\n",
       "      <th>MA_150</th>\n",
       "      <th>MA_120</th>\n",
       "      <th>MA_30</th>\n",
       "      <th>DELTA</th>\n",
       "      <th>DELTA_PREV</th>\n",
       "      <th>TRADE</th>\n",
       "      <th>DIFF</th>\n",
       "      <th>GAIN</th>\n",
       "      <th>granularity</th>\n",
       "      <th>pair</th>\n",
       "      <th>GAIN_C</th>\n",
       "      <th>ma_l</th>\n",
       "      <th>ma_s</th>\n",
       "      <th>cross</th>\n",
       "    </tr>\n",
       "  </thead>\n",
       "  <tbody>\n",
       "    <tr>\n",
       "      <th>16262</th>\n",
       "      <td>2024-12-03 19:00:00+00:00</td>\n",
       "      <td>5257</td>\n",
       "      <td>1.78405</td>\n",
       "      <td>1.78442</td>\n",
       "      <td>1.78182</td>\n",
       "      <td>1.78228</td>\n",
       "      <td>1.78392</td>\n",
       "      <td>1.78430</td>\n",
       "      <td>1.78168</td>\n",
       "      <td>1.78217</td>\n",
       "      <td>1.78418</td>\n",
       "      <td>1.78455</td>\n",
       "      <td>1.78194</td>\n",
       "      <td>1.78239</td>\n",
       "      <td>1.779029</td>\n",
       "      <td>1.780169</td>\n",
       "      <td>1.779041</td>\n",
       "      <td>1.778655</td>\n",
       "      <td>1.774934</td>\n",
       "      <td>1.777125</td>\n",
       "      <td>1.778245</td>\n",
       "      <td>-0.000012</td>\n",
       "      <td>5.087500e-05</td>\n",
       "      <td>-1</td>\n",
       "      <td>-0.00018</td>\n",
       "      <td>1.8</td>\n",
       "      <td>H1</td>\n",
       "      <td>GBP_CAD</td>\n",
       "      <td>1.8</td>\n",
       "      <td>MA_80</td>\n",
       "      <td>MA_40</td>\n",
       "      <td>MA_40_MA_80</td>\n",
       "    </tr>\n",
       "    <tr>\n",
       "      <th>16263</th>\n",
       "      <td>2024-12-04 11:00:00+00:00</td>\n",
       "      <td>7549</td>\n",
       "      <td>1.78162</td>\n",
       "      <td>1.78295</td>\n",
       "      <td>1.78114</td>\n",
       "      <td>1.78210</td>\n",
       "      <td>1.78150</td>\n",
       "      <td>1.78281</td>\n",
       "      <td>1.78100</td>\n",
       "      <td>1.78196</td>\n",
       "      <td>1.78175</td>\n",
       "      <td>1.78309</td>\n",
       "      <td>1.78127</td>\n",
       "      <td>1.78223</td>\n",
       "      <td>1.780259</td>\n",
       "      <td>1.783148</td>\n",
       "      <td>1.780177</td>\n",
       "      <td>1.782990</td>\n",
       "      <td>1.777081</td>\n",
       "      <td>1.779008</td>\n",
       "      <td>1.781298</td>\n",
       "      <td>0.000083</td>\n",
       "      <td>-5.000000e-07</td>\n",
       "      <td>1</td>\n",
       "      <td>0.02134</td>\n",
       "      <td>213.4</td>\n",
       "      <td>H1</td>\n",
       "      <td>GBP_CAD</td>\n",
       "      <td>215.2</td>\n",
       "      <td>MA_80</td>\n",
       "      <td>MA_40</td>\n",
       "      <td>MA_40_MA_80</td>\n",
       "    </tr>\n",
       "    <tr>\n",
       "      <th>16264</th>\n",
       "      <td>2024-12-12 13:00:00+00:00</td>\n",
       "      <td>13336</td>\n",
       "      <td>1.80266</td>\n",
       "      <td>1.80504</td>\n",
       "      <td>1.80194</td>\n",
       "      <td>1.80344</td>\n",
       "      <td>1.80254</td>\n",
       "      <td>1.80493</td>\n",
       "      <td>1.80183</td>\n",
       "      <td>1.80332</td>\n",
       "      <td>1.80277</td>\n",
       "      <td>1.80535</td>\n",
       "      <td>1.80206</td>\n",
       "      <td>1.80356</td>\n",
       "      <td>1.806060</td>\n",
       "      <td>1.804161</td>\n",
       "      <td>1.806241</td>\n",
       "      <td>1.804802</td>\n",
       "      <td>1.799464</td>\n",
       "      <td>1.802665</td>\n",
       "      <td>1.804946</td>\n",
       "      <td>-0.000181</td>\n",
       "      <td>2.650000e-05</td>\n",
       "      <td>-1</td>\n",
       "      <td>0.00902</td>\n",
       "      <td>-90.2</td>\n",
       "      <td>H1</td>\n",
       "      <td>GBP_CAD</td>\n",
       "      <td>125.0</td>\n",
       "      <td>MA_80</td>\n",
       "      <td>MA_40</td>\n",
       "      <td>MA_40_MA_80</td>\n",
       "    </tr>\n",
       "    <tr>\n",
       "      <th>16265</th>\n",
       "      <td>2024-12-17 08:00:00+00:00</td>\n",
       "      <td>8257</td>\n",
       "      <td>1.81188</td>\n",
       "      <td>1.81434</td>\n",
       "      <td>1.81188</td>\n",
       "      <td>1.81246</td>\n",
       "      <td>1.81175</td>\n",
       "      <td>1.81421</td>\n",
       "      <td>1.81175</td>\n",
       "      <td>1.81233</td>\n",
       "      <td>1.81200</td>\n",
       "      <td>1.81450</td>\n",
       "      <td>1.81200</td>\n",
       "      <td>1.81259</td>\n",
       "      <td>1.802262</td>\n",
       "      <td>1.808350</td>\n",
       "      <td>1.802063</td>\n",
       "      <td>1.806895</td>\n",
       "      <td>1.804072</td>\n",
       "      <td>1.803702</td>\n",
       "      <td>1.804281</td>\n",
       "      <td>0.000199</td>\n",
       "      <td>-7.662500e-05</td>\n",
       "      <td>1</td>\n",
       "      <td>-0.01156</td>\n",
       "      <td>-115.6</td>\n",
       "      <td>H1</td>\n",
       "      <td>GBP_CAD</td>\n",
       "      <td>9.4</td>\n",
       "      <td>MA_80</td>\n",
       "      <td>MA_40</td>\n",
       "      <td>MA_40_MA_80</td>\n",
       "    </tr>\n",
       "    <tr>\n",
       "      <th>16266</th>\n",
       "      <td>2024-12-20 00:00:00+00:00</td>\n",
       "      <td>5142</td>\n",
       "      <td>1.79993</td>\n",
       "      <td>1.80110</td>\n",
       "      <td>1.79968</td>\n",
       "      <td>1.80090</td>\n",
       "      <td>1.79975</td>\n",
       "      <td>1.80092</td>\n",
       "      <td>1.79953</td>\n",
       "      <td>1.80074</td>\n",
       "      <td>1.80011</td>\n",
       "      <td>1.80129</td>\n",
       "      <td>1.79982</td>\n",
       "      <td>1.80106</td>\n",
       "      <td>1.813040</td>\n",
       "      <td>1.800110</td>\n",
       "      <td>1.813366</td>\n",
       "      <td>1.808121</td>\n",
       "      <td>1.807643</td>\n",
       "      <td>1.808629</td>\n",
       "      <td>1.810956</td>\n",
       "      <td>-0.000326</td>\n",
       "      <td>1.812500e-05</td>\n",
       "      <td>-1</td>\n",
       "      <td>0.00050</td>\n",
       "      <td>-5.0</td>\n",
       "      <td>H1</td>\n",
       "      <td>GBP_CAD</td>\n",
       "      <td>4.4</td>\n",
       "      <td>MA_80</td>\n",
       "      <td>MA_40</td>\n",
       "      <td>MA_40_MA_80</td>\n",
       "    </tr>\n",
       "  </tbody>\n",
       "</table>\n",
       "</div>"
      ],
      "text/plain": [
       "                           time  volume    mid_o    mid_h    mid_l    mid_c  \\\n",
       "16262 2024-12-03 19:00:00+00:00    5257  1.78405  1.78442  1.78182  1.78228   \n",
       "16263 2024-12-04 11:00:00+00:00    7549  1.78162  1.78295  1.78114  1.78210   \n",
       "16264 2024-12-12 13:00:00+00:00   13336  1.80266  1.80504  1.80194  1.80344   \n",
       "16265 2024-12-17 08:00:00+00:00    8257  1.81188  1.81434  1.81188  1.81246   \n",
       "16266 2024-12-20 00:00:00+00:00    5142  1.79993  1.80110  1.79968  1.80090   \n",
       "\n",
       "         bid_o    bid_h    bid_l    bid_c    ask_o    ask_h    ask_l    ask_c  \\\n",
       "16262  1.78392  1.78430  1.78168  1.78217  1.78418  1.78455  1.78194  1.78239   \n",
       "16263  1.78150  1.78281  1.78100  1.78196  1.78175  1.78309  1.78127  1.78223   \n",
       "16264  1.80254  1.80493  1.80183  1.80332  1.80277  1.80535  1.80206  1.80356   \n",
       "16265  1.81175  1.81421  1.81175  1.81233  1.81200  1.81450  1.81200  1.81259   \n",
       "16266  1.79975  1.80092  1.79953  1.80074  1.80011  1.80129  1.79982  1.80106   \n",
       "\n",
       "          MA_40     MA_10     MA_80     MA_20    MA_150    MA_120     MA_30  \\\n",
       "16262  1.779029  1.780169  1.779041  1.778655  1.774934  1.777125  1.778245   \n",
       "16263  1.780259  1.783148  1.780177  1.782990  1.777081  1.779008  1.781298   \n",
       "16264  1.806060  1.804161  1.806241  1.804802  1.799464  1.802665  1.804946   \n",
       "16265  1.802262  1.808350  1.802063  1.806895  1.804072  1.803702  1.804281   \n",
       "16266  1.813040  1.800110  1.813366  1.808121  1.807643  1.808629  1.810956   \n",
       "\n",
       "          DELTA    DELTA_PREV  TRADE     DIFF   GAIN granularity     pair  \\\n",
       "16262 -0.000012  5.087500e-05     -1 -0.00018    1.8          H1  GBP_CAD   \n",
       "16263  0.000083 -5.000000e-07      1  0.02134  213.4          H1  GBP_CAD   \n",
       "16264 -0.000181  2.650000e-05     -1  0.00902  -90.2          H1  GBP_CAD   \n",
       "16265  0.000199 -7.662500e-05      1 -0.01156 -115.6          H1  GBP_CAD   \n",
       "16266 -0.000326  1.812500e-05     -1  0.00050   -5.0          H1  GBP_CAD   \n",
       "\n",
       "       GAIN_C   ma_l   ma_s        cross  \n",
       "16262     1.8  MA_80  MA_40  MA_40_MA_80  \n",
       "16263   215.2  MA_80  MA_40  MA_40_MA_80  \n",
       "16264   125.0  MA_80  MA_40  MA_40_MA_80  \n",
       "16265     9.4  MA_80  MA_40  MA_40_MA_80  \n",
       "16266     4.4  MA_80  MA_40  MA_40_MA_80  "
      ]
     },
     "execution_count": 60,
     "metadata": {},
     "output_type": "execute_result"
    }
   ],
   "source": [
    "df_gains.head()"
   ]
  },
  {
   "cell_type": "code",
   "execution_count": 61,
   "id": "7c820491",
   "metadata": {},
   "outputs": [
    {
     "data": {
      "application/vnd.plotly.v1+json": {
       "config": {
        "plotlyServerURL": "https://plot.ly"
       },
       "data": [
        {
         "line": {
          "shape": "spline",
          "width": 2
         },
         "name": "GAIN_C",
         "type": "scatter",
         "x": [
          "s24-12-03 19:00",
          "s24-12-04 11:00",
          "s24-12-12 13:00",
          "s24-12-17 08:00",
          "s24-12-20 00:00",
          "s24-12-24 16:00",
          "s24-12-26 00:00",
          "s24-12-27 13:00",
          "s24-12-31 13:00",
          "s25-01-06 23:00",
          "s25-01-08 13:00",
          "s25-01-16 07:00",
          "s25-01-29 21:00",
          "s25-01-30 05:00",
          "s25-02-04 19:00",
          "s25-02-12 16:00",
          "s25-03-14 01:00",
          "s25-03-19 20:00",
          "s25-03-21 15:00",
          "s25-03-28 06:00",
          "s25-04-02 06:00",
          "s25-04-13 22:00",
          "s25-04-17 22:00",
          "s25-04-21 07:00",
          "s25-04-23 13:00",
          "s25-04-25 09:00",
          "s25-04-30 21:00",
          "s25-05-06 14:00",
          "s25-05-13 10:00",
          "s25-05-14 01:00",
          "s25-05-22 01:00",
          "s25-05-26 16:00",
          "s25-05-29 14:00",
          "s25-06-04 05:00",
          "s25-06-05 04:00",
          "s25-06-09 23:00",
          "s25-06-10 15:00",
          "s25-06-12 20:00",
          "s25-06-13 20:00",
          "s25-06-19 19:00",
          "s25-06-30 15:00",
          "s25-07-07 13:00",
          "s25-07-09 19:00",
          "s25-07-10 03:00",
          "s25-07-11 04:00"
         ],
         "y": {
          "bdata": "8NjMzMzM/D9gZmZmZuZqQOD/////P19AgMvMzMzMIkBsmZmZmZkRQNDz/////wPAcDIzMzNzV8C8MjMzM3NiwCLLzMzMzEXAUMzMzMysaMDsNTMzM/NIQLxmZmZm9nxAcjMzMzPzfED9zMzMzNx2QLyZmZmZmXtAn5mZmZn9lEA0MzMzM9OVQPv//////5NAKjMzMzOjk0ArMzMzM6uSQCgzMzMzoZdAwMzMzMy4mkAqMzMzM1eYQFpmZmZmqpZAvMzMzMx8lUBYZmZmZgyUQCUzMzMzH5NAHzMzMzN5k0BRZmZmZjqSQIqZmZmZHZNAKjMzMzOrkkD5/////3eSQCozMzMzm5NAjJmZmZlhk0CImZmZmbuSQE9mZmZmXpFA4f/////hkECAzMzMzEyPQAtmZmZm5o5ANGZmZmYuk0D+MjMzM7eUQJHMzMzMAJVAu//////xlEDqMjMzM0GUQOoyMzMzQZRA",
          "dtype": "f8"
         }
        }
       ],
       "layout": {
        "font": {
         "color": "#e1e1e1",
         "size": 8
        },
        "height": 400,
        "margin": {
         "b": 10,
         "l": 10,
         "r": 10,
         "t": 10
        },
        "paper_bgcolor": "#2c303c",
        "plot_bgcolor": "#2c303c",
        "template": {
         "data": {
          "bar": [
           {
            "error_x": {
             "color": "#2a3f5f"
            },
            "error_y": {
             "color": "#2a3f5f"
            },
            "marker": {
             "line": {
              "color": "#E5ECF6",
              "width": 0.5
             },
             "pattern": {
              "fillmode": "overlay",
              "size": 10,
              "solidity": 0.2
             }
            },
            "type": "bar"
           }
          ],
          "barpolar": [
           {
            "marker": {
             "line": {
              "color": "#E5ECF6",
              "width": 0.5
             },
             "pattern": {
              "fillmode": "overlay",
              "size": 10,
              "solidity": 0.2
             }
            },
            "type": "barpolar"
           }
          ],
          "carpet": [
           {
            "aaxis": {
             "endlinecolor": "#2a3f5f",
             "gridcolor": "white",
             "linecolor": "white",
             "minorgridcolor": "white",
             "startlinecolor": "#2a3f5f"
            },
            "baxis": {
             "endlinecolor": "#2a3f5f",
             "gridcolor": "white",
             "linecolor": "white",
             "minorgridcolor": "white",
             "startlinecolor": "#2a3f5f"
            },
            "type": "carpet"
           }
          ],
          "choropleth": [
           {
            "colorbar": {
             "outlinewidth": 0,
             "ticks": ""
            },
            "type": "choropleth"
           }
          ],
          "contour": [
           {
            "colorbar": {
             "outlinewidth": 0,
             "ticks": ""
            },
            "colorscale": [
             [
              0,
              "#0d0887"
             ],
             [
              0.1111111111111111,
              "#46039f"
             ],
             [
              0.2222222222222222,
              "#7201a8"
             ],
             [
              0.3333333333333333,
              "#9c179e"
             ],
             [
              0.4444444444444444,
              "#bd3786"
             ],
             [
              0.5555555555555556,
              "#d8576b"
             ],
             [
              0.6666666666666666,
              "#ed7953"
             ],
             [
              0.7777777777777778,
              "#fb9f3a"
             ],
             [
              0.8888888888888888,
              "#fdca26"
             ],
             [
              1,
              "#f0f921"
             ]
            ],
            "type": "contour"
           }
          ],
          "contourcarpet": [
           {
            "colorbar": {
             "outlinewidth": 0,
             "ticks": ""
            },
            "type": "contourcarpet"
           }
          ],
          "heatmap": [
           {
            "colorbar": {
             "outlinewidth": 0,
             "ticks": ""
            },
            "colorscale": [
             [
              0,
              "#0d0887"
             ],
             [
              0.1111111111111111,
              "#46039f"
             ],
             [
              0.2222222222222222,
              "#7201a8"
             ],
             [
              0.3333333333333333,
              "#9c179e"
             ],
             [
              0.4444444444444444,
              "#bd3786"
             ],
             [
              0.5555555555555556,
              "#d8576b"
             ],
             [
              0.6666666666666666,
              "#ed7953"
             ],
             [
              0.7777777777777778,
              "#fb9f3a"
             ],
             [
              0.8888888888888888,
              "#fdca26"
             ],
             [
              1,
              "#f0f921"
             ]
            ],
            "type": "heatmap"
           }
          ],
          "histogram": [
           {
            "marker": {
             "pattern": {
              "fillmode": "overlay",
              "size": 10,
              "solidity": 0.2
             }
            },
            "type": "histogram"
           }
          ],
          "histogram2d": [
           {
            "colorbar": {
             "outlinewidth": 0,
             "ticks": ""
            },
            "colorscale": [
             [
              0,
              "#0d0887"
             ],
             [
              0.1111111111111111,
              "#46039f"
             ],
             [
              0.2222222222222222,
              "#7201a8"
             ],
             [
              0.3333333333333333,
              "#9c179e"
             ],
             [
              0.4444444444444444,
              "#bd3786"
             ],
             [
              0.5555555555555556,
              "#d8576b"
             ],
             [
              0.6666666666666666,
              "#ed7953"
             ],
             [
              0.7777777777777778,
              "#fb9f3a"
             ],
             [
              0.8888888888888888,
              "#fdca26"
             ],
             [
              1,
              "#f0f921"
             ]
            ],
            "type": "histogram2d"
           }
          ],
          "histogram2dcontour": [
           {
            "colorbar": {
             "outlinewidth": 0,
             "ticks": ""
            },
            "colorscale": [
             [
              0,
              "#0d0887"
             ],
             [
              0.1111111111111111,
              "#46039f"
             ],
             [
              0.2222222222222222,
              "#7201a8"
             ],
             [
              0.3333333333333333,
              "#9c179e"
             ],
             [
              0.4444444444444444,
              "#bd3786"
             ],
             [
              0.5555555555555556,
              "#d8576b"
             ],
             [
              0.6666666666666666,
              "#ed7953"
             ],
             [
              0.7777777777777778,
              "#fb9f3a"
             ],
             [
              0.8888888888888888,
              "#fdca26"
             ],
             [
              1,
              "#f0f921"
             ]
            ],
            "type": "histogram2dcontour"
           }
          ],
          "mesh3d": [
           {
            "colorbar": {
             "outlinewidth": 0,
             "ticks": ""
            },
            "type": "mesh3d"
           }
          ],
          "parcoords": [
           {
            "line": {
             "colorbar": {
              "outlinewidth": 0,
              "ticks": ""
             }
            },
            "type": "parcoords"
           }
          ],
          "pie": [
           {
            "automargin": true,
            "type": "pie"
           }
          ],
          "scatter": [
           {
            "fillpattern": {
             "fillmode": "overlay",
             "size": 10,
             "solidity": 0.2
            },
            "type": "scatter"
           }
          ],
          "scatter3d": [
           {
            "line": {
             "colorbar": {
              "outlinewidth": 0,
              "ticks": ""
             }
            },
            "marker": {
             "colorbar": {
              "outlinewidth": 0,
              "ticks": ""
             }
            },
            "type": "scatter3d"
           }
          ],
          "scattercarpet": [
           {
            "marker": {
             "colorbar": {
              "outlinewidth": 0,
              "ticks": ""
             }
            },
            "type": "scattercarpet"
           }
          ],
          "scattergeo": [
           {
            "marker": {
             "colorbar": {
              "outlinewidth": 0,
              "ticks": ""
             }
            },
            "type": "scattergeo"
           }
          ],
          "scattergl": [
           {
            "marker": {
             "colorbar": {
              "outlinewidth": 0,
              "ticks": ""
             }
            },
            "type": "scattergl"
           }
          ],
          "scattermap": [
           {
            "marker": {
             "colorbar": {
              "outlinewidth": 0,
              "ticks": ""
             }
            },
            "type": "scattermap"
           }
          ],
          "scattermapbox": [
           {
            "marker": {
             "colorbar": {
              "outlinewidth": 0,
              "ticks": ""
             }
            },
            "type": "scattermapbox"
           }
          ],
          "scatterpolar": [
           {
            "marker": {
             "colorbar": {
              "outlinewidth": 0,
              "ticks": ""
             }
            },
            "type": "scatterpolar"
           }
          ],
          "scatterpolargl": [
           {
            "marker": {
             "colorbar": {
              "outlinewidth": 0,
              "ticks": ""
             }
            },
            "type": "scatterpolargl"
           }
          ],
          "scatterternary": [
           {
            "marker": {
             "colorbar": {
              "outlinewidth": 0,
              "ticks": ""
             }
            },
            "type": "scatterternary"
           }
          ],
          "surface": [
           {
            "colorbar": {
             "outlinewidth": 0,
             "ticks": ""
            },
            "colorscale": [
             [
              0,
              "#0d0887"
             ],
             [
              0.1111111111111111,
              "#46039f"
             ],
             [
              0.2222222222222222,
              "#7201a8"
             ],
             [
              0.3333333333333333,
              "#9c179e"
             ],
             [
              0.4444444444444444,
              "#bd3786"
             ],
             [
              0.5555555555555556,
              "#d8576b"
             ],
             [
              0.6666666666666666,
              "#ed7953"
             ],
             [
              0.7777777777777778,
              "#fb9f3a"
             ],
             [
              0.8888888888888888,
              "#fdca26"
             ],
             [
              1,
              "#f0f921"
             ]
            ],
            "type": "surface"
           }
          ],
          "table": [
           {
            "cells": {
             "fill": {
              "color": "#EBF0F8"
             },
             "line": {
              "color": "white"
             }
            },
            "header": {
             "fill": {
              "color": "#C8D4E3"
             },
             "line": {
              "color": "white"
             }
            },
            "type": "table"
           }
          ]
         },
         "layout": {
          "annotationdefaults": {
           "arrowcolor": "#2a3f5f",
           "arrowhead": 0,
           "arrowwidth": 1
          },
          "autotypenumbers": "strict",
          "coloraxis": {
           "colorbar": {
            "outlinewidth": 0,
            "ticks": ""
           }
          },
          "colorscale": {
           "diverging": [
            [
             0,
             "#8e0152"
            ],
            [
             0.1,
             "#c51b7d"
            ],
            [
             0.2,
             "#de77ae"
            ],
            [
             0.3,
             "#f1b6da"
            ],
            [
             0.4,
             "#fde0ef"
            ],
            [
             0.5,
             "#f7f7f7"
            ],
            [
             0.6,
             "#e6f5d0"
            ],
            [
             0.7,
             "#b8e186"
            ],
            [
             0.8,
             "#7fbc41"
            ],
            [
             0.9,
             "#4d9221"
            ],
            [
             1,
             "#276419"
            ]
           ],
           "sequential": [
            [
             0,
             "#0d0887"
            ],
            [
             0.1111111111111111,
             "#46039f"
            ],
            [
             0.2222222222222222,
             "#7201a8"
            ],
            [
             0.3333333333333333,
             "#9c179e"
            ],
            [
             0.4444444444444444,
             "#bd3786"
            ],
            [
             0.5555555555555556,
             "#d8576b"
            ],
            [
             0.6666666666666666,
             "#ed7953"
            ],
            [
             0.7777777777777778,
             "#fb9f3a"
            ],
            [
             0.8888888888888888,
             "#fdca26"
            ],
            [
             1,
             "#f0f921"
            ]
           ],
           "sequentialminus": [
            [
             0,
             "#0d0887"
            ],
            [
             0.1111111111111111,
             "#46039f"
            ],
            [
             0.2222222222222222,
             "#7201a8"
            ],
            [
             0.3333333333333333,
             "#9c179e"
            ],
            [
             0.4444444444444444,
             "#bd3786"
            ],
            [
             0.5555555555555556,
             "#d8576b"
            ],
            [
             0.6666666666666666,
             "#ed7953"
            ],
            [
             0.7777777777777778,
             "#fb9f3a"
            ],
            [
             0.8888888888888888,
             "#fdca26"
            ],
            [
             1,
             "#f0f921"
            ]
           ]
          },
          "colorway": [
           "#636efa",
           "#EF553B",
           "#00cc96",
           "#ab63fa",
           "#FFA15A",
           "#19d3f3",
           "#FF6692",
           "#B6E880",
           "#FF97FF",
           "#FECB52"
          ],
          "font": {
           "color": "#2a3f5f"
          },
          "geo": {
           "bgcolor": "white",
           "lakecolor": "white",
           "landcolor": "#E5ECF6",
           "showlakes": true,
           "showland": true,
           "subunitcolor": "white"
          },
          "hoverlabel": {
           "align": "left"
          },
          "hovermode": "closest",
          "mapbox": {
           "style": "light"
          },
          "paper_bgcolor": "white",
          "plot_bgcolor": "#E5ECF6",
          "polar": {
           "angularaxis": {
            "gridcolor": "white",
            "linecolor": "white",
            "ticks": ""
           },
           "bgcolor": "#E5ECF6",
           "radialaxis": {
            "gridcolor": "white",
            "linecolor": "white",
            "ticks": ""
           }
          },
          "scene": {
           "xaxis": {
            "backgroundcolor": "#E5ECF6",
            "gridcolor": "white",
            "gridwidth": 2,
            "linecolor": "white",
            "showbackground": true,
            "ticks": "",
            "zerolinecolor": "white"
           },
           "yaxis": {
            "backgroundcolor": "#E5ECF6",
            "gridcolor": "white",
            "gridwidth": 2,
            "linecolor": "white",
            "showbackground": true,
            "ticks": "",
            "zerolinecolor": "white"
           },
           "zaxis": {
            "backgroundcolor": "#E5ECF6",
            "gridcolor": "white",
            "gridwidth": 2,
            "linecolor": "white",
            "showbackground": true,
            "ticks": "",
            "zerolinecolor": "white"
           }
          },
          "shapedefaults": {
           "line": {
            "color": "#2a3f5f"
           }
          },
          "ternary": {
           "aaxis": {
            "gridcolor": "white",
            "linecolor": "white",
            "ticks": ""
           },
           "baxis": {
            "gridcolor": "white",
            "linecolor": "white",
            "ticks": ""
           },
           "bgcolor": "#E5ECF6",
           "caxis": {
            "gridcolor": "white",
            "linecolor": "white",
            "ticks": ""
           }
          },
          "title": {
           "x": 0.05
          },
          "xaxis": {
           "automargin": true,
           "gridcolor": "white",
           "linecolor": "white",
           "ticks": "",
           "title": {
            "standoff": 15
           },
           "zerolinecolor": "white",
           "zerolinewidth": 2
          },
          "yaxis": {
           "automargin": true,
           "gridcolor": "white",
           "linecolor": "white",
           "ticks": "",
           "title": {
            "standoff": 15
           },
           "zerolinecolor": "white",
           "zerolinewidth": 2
          }
         }
        },
        "width": 900,
        "xaxis": {
         "gridcolor": "#1f292f",
         "nticks": 5,
         "rangeslider": {
          "visible": false
         }
        },
        "yaxis": {
         "gridcolor": "#1f292f"
        }
       }
      }
     },
     "metadata": {},
     "output_type": "display_data"
    }
   ],
   "source": [
    "cp = CandlePlot(df_gains, candles=False)\n",
    "cp.show_plot(line_traces=['GAIN_C'])"
   ]
  },
  {
   "cell_type": "code",
   "execution_count": 64,
   "id": "e8a4861e",
   "metadata": {},
   "outputs": [
    {
     "name": "stdout",
     "output_type": "stream",
     "text": [
      "GBP_CAD 1296\n"
     ]
    },
    {
     "data": {
      "application/vnd.plotly.v1+json": {
       "config": {
        "plotlyServerURL": "https://plot.ly"
       },
       "data": [
        {
         "line": {
          "shape": "spline",
          "width": 2
         },
         "name": "GAIN_C",
         "type": "scatter",
         "x": [
          "s24-12-03 19:00",
          "s24-12-04 11:00",
          "s24-12-12 13:00",
          "s24-12-17 08:00",
          "s24-12-20 00:00",
          "s24-12-24 16:00",
          "s24-12-26 00:00",
          "s24-12-27 13:00",
          "s24-12-31 13:00",
          "s25-01-06 23:00",
          "s25-01-08 13:00",
          "s25-01-16 07:00",
          "s25-01-29 21:00",
          "s25-01-30 05:00",
          "s25-02-04 19:00",
          "s25-02-12 16:00",
          "s25-03-14 01:00",
          "s25-03-19 20:00",
          "s25-03-21 15:00",
          "s25-03-28 06:00",
          "s25-04-02 06:00",
          "s25-04-13 22:00",
          "s25-04-17 22:00",
          "s25-04-21 07:00",
          "s25-04-23 13:00",
          "s25-04-25 09:00",
          "s25-04-30 21:00",
          "s25-05-06 14:00",
          "s25-05-13 10:00",
          "s25-05-14 01:00",
          "s25-05-22 01:00",
          "s25-05-26 16:00",
          "s25-05-29 14:00",
          "s25-06-04 05:00",
          "s25-06-05 04:00",
          "s25-06-09 23:00",
          "s25-06-10 15:00",
          "s25-06-12 20:00",
          "s25-06-13 20:00",
          "s25-06-19 19:00",
          "s25-06-30 15:00",
          "s25-07-07 13:00",
          "s25-07-09 19:00",
          "s25-07-10 03:00",
          "s25-07-11 04:00"
         ],
         "y": {
          "bdata": "8NjMzMzM/D9gZmZmZuZqQOD/////P19AgMvMzMzMIkBsmZmZmZkRQNDz/////wPAcDIzMzNzV8C8MjMzM3NiwCLLzMzMzEXAUMzMzMysaMDsNTMzM/NIQLxmZmZm9nxAcjMzMzPzfED9zMzMzNx2QLyZmZmZmXtAn5mZmZn9lEA0MzMzM9OVQPv//////5NAKjMzMzOjk0ArMzMzM6uSQCgzMzMzoZdAwMzMzMy4mkAqMzMzM1eYQFpmZmZmqpZAvMzMzMx8lUBYZmZmZgyUQCUzMzMzH5NAHzMzMzN5k0BRZmZmZjqSQIqZmZmZHZNAKjMzMzOrkkD5/////3eSQCozMzMzm5NAjJmZmZlhk0CImZmZmbuSQE9mZmZmXpFA4f/////hkECAzMzMzEyPQAtmZmZm5o5ANGZmZmYuk0D+MjMzM7eUQJHMzMzMAJVAu//////xlEDqMjMzM0GUQOoyMzMzQZRA",
          "dtype": "f8"
         }
        }
       ],
       "layout": {
        "font": {
         "color": "#e1e1e1",
         "size": 8
        },
        "height": 400,
        "margin": {
         "b": 10,
         "l": 10,
         "r": 10,
         "t": 10
        },
        "paper_bgcolor": "#2c303c",
        "plot_bgcolor": "#2c303c",
        "template": {
         "data": {
          "bar": [
           {
            "error_x": {
             "color": "#2a3f5f"
            },
            "error_y": {
             "color": "#2a3f5f"
            },
            "marker": {
             "line": {
              "color": "#E5ECF6",
              "width": 0.5
             },
             "pattern": {
              "fillmode": "overlay",
              "size": 10,
              "solidity": 0.2
             }
            },
            "type": "bar"
           }
          ],
          "barpolar": [
           {
            "marker": {
             "line": {
              "color": "#E5ECF6",
              "width": 0.5
             },
             "pattern": {
              "fillmode": "overlay",
              "size": 10,
              "solidity": 0.2
             }
            },
            "type": "barpolar"
           }
          ],
          "carpet": [
           {
            "aaxis": {
             "endlinecolor": "#2a3f5f",
             "gridcolor": "white",
             "linecolor": "white",
             "minorgridcolor": "white",
             "startlinecolor": "#2a3f5f"
            },
            "baxis": {
             "endlinecolor": "#2a3f5f",
             "gridcolor": "white",
             "linecolor": "white",
             "minorgridcolor": "white",
             "startlinecolor": "#2a3f5f"
            },
            "type": "carpet"
           }
          ],
          "choropleth": [
           {
            "colorbar": {
             "outlinewidth": 0,
             "ticks": ""
            },
            "type": "choropleth"
           }
          ],
          "contour": [
           {
            "colorbar": {
             "outlinewidth": 0,
             "ticks": ""
            },
            "colorscale": [
             [
              0,
              "#0d0887"
             ],
             [
              0.1111111111111111,
              "#46039f"
             ],
             [
              0.2222222222222222,
              "#7201a8"
             ],
             [
              0.3333333333333333,
              "#9c179e"
             ],
             [
              0.4444444444444444,
              "#bd3786"
             ],
             [
              0.5555555555555556,
              "#d8576b"
             ],
             [
              0.6666666666666666,
              "#ed7953"
             ],
             [
              0.7777777777777778,
              "#fb9f3a"
             ],
             [
              0.8888888888888888,
              "#fdca26"
             ],
             [
              1,
              "#f0f921"
             ]
            ],
            "type": "contour"
           }
          ],
          "contourcarpet": [
           {
            "colorbar": {
             "outlinewidth": 0,
             "ticks": ""
            },
            "type": "contourcarpet"
           }
          ],
          "heatmap": [
           {
            "colorbar": {
             "outlinewidth": 0,
             "ticks": ""
            },
            "colorscale": [
             [
              0,
              "#0d0887"
             ],
             [
              0.1111111111111111,
              "#46039f"
             ],
             [
              0.2222222222222222,
              "#7201a8"
             ],
             [
              0.3333333333333333,
              "#9c179e"
             ],
             [
              0.4444444444444444,
              "#bd3786"
             ],
             [
              0.5555555555555556,
              "#d8576b"
             ],
             [
              0.6666666666666666,
              "#ed7953"
             ],
             [
              0.7777777777777778,
              "#fb9f3a"
             ],
             [
              0.8888888888888888,
              "#fdca26"
             ],
             [
              1,
              "#f0f921"
             ]
            ],
            "type": "heatmap"
           }
          ],
          "histogram": [
           {
            "marker": {
             "pattern": {
              "fillmode": "overlay",
              "size": 10,
              "solidity": 0.2
             }
            },
            "type": "histogram"
           }
          ],
          "histogram2d": [
           {
            "colorbar": {
             "outlinewidth": 0,
             "ticks": ""
            },
            "colorscale": [
             [
              0,
              "#0d0887"
             ],
             [
              0.1111111111111111,
              "#46039f"
             ],
             [
              0.2222222222222222,
              "#7201a8"
             ],
             [
              0.3333333333333333,
              "#9c179e"
             ],
             [
              0.4444444444444444,
              "#bd3786"
             ],
             [
              0.5555555555555556,
              "#d8576b"
             ],
             [
              0.6666666666666666,
              "#ed7953"
             ],
             [
              0.7777777777777778,
              "#fb9f3a"
             ],
             [
              0.8888888888888888,
              "#fdca26"
             ],
             [
              1,
              "#f0f921"
             ]
            ],
            "type": "histogram2d"
           }
          ],
          "histogram2dcontour": [
           {
            "colorbar": {
             "outlinewidth": 0,
             "ticks": ""
            },
            "colorscale": [
             [
              0,
              "#0d0887"
             ],
             [
              0.1111111111111111,
              "#46039f"
             ],
             [
              0.2222222222222222,
              "#7201a8"
             ],
             [
              0.3333333333333333,
              "#9c179e"
             ],
             [
              0.4444444444444444,
              "#bd3786"
             ],
             [
              0.5555555555555556,
              "#d8576b"
             ],
             [
              0.6666666666666666,
              "#ed7953"
             ],
             [
              0.7777777777777778,
              "#fb9f3a"
             ],
             [
              0.8888888888888888,
              "#fdca26"
             ],
             [
              1,
              "#f0f921"
             ]
            ],
            "type": "histogram2dcontour"
           }
          ],
          "mesh3d": [
           {
            "colorbar": {
             "outlinewidth": 0,
             "ticks": ""
            },
            "type": "mesh3d"
           }
          ],
          "parcoords": [
           {
            "line": {
             "colorbar": {
              "outlinewidth": 0,
              "ticks": ""
             }
            },
            "type": "parcoords"
           }
          ],
          "pie": [
           {
            "automargin": true,
            "type": "pie"
           }
          ],
          "scatter": [
           {
            "fillpattern": {
             "fillmode": "overlay",
             "size": 10,
             "solidity": 0.2
            },
            "type": "scatter"
           }
          ],
          "scatter3d": [
           {
            "line": {
             "colorbar": {
              "outlinewidth": 0,
              "ticks": ""
             }
            },
            "marker": {
             "colorbar": {
              "outlinewidth": 0,
              "ticks": ""
             }
            },
            "type": "scatter3d"
           }
          ],
          "scattercarpet": [
           {
            "marker": {
             "colorbar": {
              "outlinewidth": 0,
              "ticks": ""
             }
            },
            "type": "scattercarpet"
           }
          ],
          "scattergeo": [
           {
            "marker": {
             "colorbar": {
              "outlinewidth": 0,
              "ticks": ""
             }
            },
            "type": "scattergeo"
           }
          ],
          "scattergl": [
           {
            "marker": {
             "colorbar": {
              "outlinewidth": 0,
              "ticks": ""
             }
            },
            "type": "scattergl"
           }
          ],
          "scattermap": [
           {
            "marker": {
             "colorbar": {
              "outlinewidth": 0,
              "ticks": ""
             }
            },
            "type": "scattermap"
           }
          ],
          "scattermapbox": [
           {
            "marker": {
             "colorbar": {
              "outlinewidth": 0,
              "ticks": ""
             }
            },
            "type": "scattermapbox"
           }
          ],
          "scatterpolar": [
           {
            "marker": {
             "colorbar": {
              "outlinewidth": 0,
              "ticks": ""
             }
            },
            "type": "scatterpolar"
           }
          ],
          "scatterpolargl": [
           {
            "marker": {
             "colorbar": {
              "outlinewidth": 0,
              "ticks": ""
             }
            },
            "type": "scatterpolargl"
           }
          ],
          "scatterternary": [
           {
            "marker": {
             "colorbar": {
              "outlinewidth": 0,
              "ticks": ""
             }
            },
            "type": "scatterternary"
           }
          ],
          "surface": [
           {
            "colorbar": {
             "outlinewidth": 0,
             "ticks": ""
            },
            "colorscale": [
             [
              0,
              "#0d0887"
             ],
             [
              0.1111111111111111,
              "#46039f"
             ],
             [
              0.2222222222222222,
              "#7201a8"
             ],
             [
              0.3333333333333333,
              "#9c179e"
             ],
             [
              0.4444444444444444,
              "#bd3786"
             ],
             [
              0.5555555555555556,
              "#d8576b"
             ],
             [
              0.6666666666666666,
              "#ed7953"
             ],
             [
              0.7777777777777778,
              "#fb9f3a"
             ],
             [
              0.8888888888888888,
              "#fdca26"
             ],
             [
              1,
              "#f0f921"
             ]
            ],
            "type": "surface"
           }
          ],
          "table": [
           {
            "cells": {
             "fill": {
              "color": "#EBF0F8"
             },
             "line": {
              "color": "white"
             }
            },
            "header": {
             "fill": {
              "color": "#C8D4E3"
             },
             "line": {
              "color": "white"
             }
            },
            "type": "table"
           }
          ]
         },
         "layout": {
          "annotationdefaults": {
           "arrowcolor": "#2a3f5f",
           "arrowhead": 0,
           "arrowwidth": 1
          },
          "autotypenumbers": "strict",
          "coloraxis": {
           "colorbar": {
            "outlinewidth": 0,
            "ticks": ""
           }
          },
          "colorscale": {
           "diverging": [
            [
             0,
             "#8e0152"
            ],
            [
             0.1,
             "#c51b7d"
            ],
            [
             0.2,
             "#de77ae"
            ],
            [
             0.3,
             "#f1b6da"
            ],
            [
             0.4,
             "#fde0ef"
            ],
            [
             0.5,
             "#f7f7f7"
            ],
            [
             0.6,
             "#e6f5d0"
            ],
            [
             0.7,
             "#b8e186"
            ],
            [
             0.8,
             "#7fbc41"
            ],
            [
             0.9,
             "#4d9221"
            ],
            [
             1,
             "#276419"
            ]
           ],
           "sequential": [
            [
             0,
             "#0d0887"
            ],
            [
             0.1111111111111111,
             "#46039f"
            ],
            [
             0.2222222222222222,
             "#7201a8"
            ],
            [
             0.3333333333333333,
             "#9c179e"
            ],
            [
             0.4444444444444444,
             "#bd3786"
            ],
            [
             0.5555555555555556,
             "#d8576b"
            ],
            [
             0.6666666666666666,
             "#ed7953"
            ],
            [
             0.7777777777777778,
             "#fb9f3a"
            ],
            [
             0.8888888888888888,
             "#fdca26"
            ],
            [
             1,
             "#f0f921"
            ]
           ],
           "sequentialminus": [
            [
             0,
             "#0d0887"
            ],
            [
             0.1111111111111111,
             "#46039f"
            ],
            [
             0.2222222222222222,
             "#7201a8"
            ],
            [
             0.3333333333333333,
             "#9c179e"
            ],
            [
             0.4444444444444444,
             "#bd3786"
            ],
            [
             0.5555555555555556,
             "#d8576b"
            ],
            [
             0.6666666666666666,
             "#ed7953"
            ],
            [
             0.7777777777777778,
             "#fb9f3a"
            ],
            [
             0.8888888888888888,
             "#fdca26"
            ],
            [
             1,
             "#f0f921"
            ]
           ]
          },
          "colorway": [
           "#636efa",
           "#EF553B",
           "#00cc96",
           "#ab63fa",
           "#FFA15A",
           "#19d3f3",
           "#FF6692",
           "#B6E880",
           "#FF97FF",
           "#FECB52"
          ],
          "font": {
           "color": "#2a3f5f"
          },
          "geo": {
           "bgcolor": "white",
           "lakecolor": "white",
           "landcolor": "#E5ECF6",
           "showlakes": true,
           "showland": true,
           "subunitcolor": "white"
          },
          "hoverlabel": {
           "align": "left"
          },
          "hovermode": "closest",
          "mapbox": {
           "style": "light"
          },
          "paper_bgcolor": "white",
          "plot_bgcolor": "#E5ECF6",
          "polar": {
           "angularaxis": {
            "gridcolor": "white",
            "linecolor": "white",
            "ticks": ""
           },
           "bgcolor": "#E5ECF6",
           "radialaxis": {
            "gridcolor": "white",
            "linecolor": "white",
            "ticks": ""
           }
          },
          "scene": {
           "xaxis": {
            "backgroundcolor": "#E5ECF6",
            "gridcolor": "white",
            "gridwidth": 2,
            "linecolor": "white",
            "showbackground": true,
            "ticks": "",
            "zerolinecolor": "white"
           },
           "yaxis": {
            "backgroundcolor": "#E5ECF6",
            "gridcolor": "white",
            "gridwidth": 2,
            "linecolor": "white",
            "showbackground": true,
            "ticks": "",
            "zerolinecolor": "white"
           },
           "zaxis": {
            "backgroundcolor": "#E5ECF6",
            "gridcolor": "white",
            "gridwidth": 2,
            "linecolor": "white",
            "showbackground": true,
            "ticks": "",
            "zerolinecolor": "white"
           }
          },
          "shapedefaults": {
           "line": {
            "color": "#2a3f5f"
           }
          },
          "ternary": {
           "aaxis": {
            "gridcolor": "white",
            "linecolor": "white",
            "ticks": ""
           },
           "baxis": {
            "gridcolor": "white",
            "linecolor": "white",
            "ticks": ""
           },
           "bgcolor": "#E5ECF6",
           "caxis": {
            "gridcolor": "white",
            "linecolor": "white",
            "ticks": ""
           }
          },
          "title": {
           "x": 0.05
          },
          "xaxis": {
           "automargin": true,
           "gridcolor": "white",
           "linecolor": "white",
           "ticks": "",
           "title": {
            "standoff": 15
           },
           "zerolinecolor": "white",
           "zerolinewidth": 2
          },
          "yaxis": {
           "automargin": true,
           "gridcolor": "white",
           "linecolor": "white",
           "ticks": "",
           "title": {
            "standoff": 15
           },
           "zerolinecolor": "white",
           "zerolinewidth": 2
          }
         }
        },
        "width": 900,
        "xaxis": {
         "gridcolor": "#1f292f",
         "nticks": 5,
         "rangeslider": {
          "visible": false
         }
        },
        "yaxis": {
         "gridcolor": "#1f292f"
        }
       }
      }
     },
     "metadata": {},
     "output_type": "display_data"
    },
    {
     "name": "stdout",
     "output_type": "stream",
     "text": [
      "GBP_AUD 1043\n"
     ]
    },
    {
     "data": {
      "application/vnd.plotly.v1+json": {
       "config": {
        "plotlyServerURL": "https://plot.ly"
       },
       "data": [
        {
         "line": {
          "shape": "spline",
          "width": 2
         },
         "name": "GAIN_C",
         "type": "scatter",
         "x": [
          "s24-12-13 01:00",
          "s24-12-17 08:00",
          "s24-12-20 18:00",
          "s24-12-24 15:00",
          "s25-01-02 10:00",
          "s25-01-07 09:00",
          "s25-01-08 19:00",
          "s25-01-21 23:00",
          "s25-01-23 09:00",
          "s25-01-24 20:00",
          "s25-02-05 06:00",
          "s25-02-12 18:00",
          "s25-02-17 09:00",
          "s25-02-19 01:00",
          "s25-02-20 10:00",
          "s25-02-24 06:00",
          "s25-03-06 10:00",
          "s25-03-07 21:00",
          "s25-03-14 08:00",
          "s25-03-19 16:00",
          "s25-03-25 08:00",
          "s25-03-28 05:00",
          "s25-04-02 08:00",
          "s25-04-03 16:00",
          "s25-04-09 10:00",
          "s25-04-16 22:00",
          "s25-04-17 01:00",
          "s25-04-17 04:00",
          "s25-04-17 14:00",
          "s25-04-21 07:00",
          "s25-04-23 12:00",
          "s25-04-28 09:00",
          "s25-05-01 08:00",
          "s25-05-07 10:00",
          "s25-05-12 17:00",
          "s25-05-15 14:00",
          "s25-05-26 15:00",
          "s25-05-27 12:00",
          "s25-05-29 18:00",
          "s25-06-04 14:00",
          "s25-06-05 06:00",
          "s25-06-12 08:00",
          "s25-06-16 22:00",
          "s25-06-20 07:00",
          "s25-06-30 15:00",
          "s25-07-07 01:00",
          "s25-07-09 06:00"
         ],
         "y": {
          "bdata": "5czMzMzsWMDwl5mZmZkdQKz//////ybAUMzMzMysWMD0lpmZmdlGwKqYmZmZiWHAvJ2ZmZlZS0BsqZmZmZkqQFIxMzMzE1nAjAEAAACAUUA8mpmZmUlrQBqamZmZmWhAujMzMzPzW0BcMzMzMzM/QArNzMzMDEXAMTMzMzPre0AYAAAAAMhyQGszMzMzI3NATzMzMzNrc0Di/////wd3QP8yMzMzu3RA92VmZmYWbUCOMjMzMxNUQFZmZmZmQoVAJjMzMzMFkkBZZmZmZk6SQFtmZmZmcJFAlJmZmZmVkEAzMzMzMz+PQKSZmZmZsYtARjMzMzO3h0CEZmZmZs6HQNGZmZmZ6Y9AvJmZmZmnkUDzzMzMzDCRQC4AAAAAbpNAMAAAAAB+kUCMZmZmZjSQQPDMzMzM1pBAjmZmZmZwkED6zMzMzFiQQKMzMzMzb49AdDMzMzNxkEBJAAAAAO6RQFMAAAAAxJFAw2ZmZmZMkEDDZmZmZkyQQA==",
          "dtype": "f8"
         }
        }
       ],
       "layout": {
        "font": {
         "color": "#e1e1e1",
         "size": 8
        },
        "height": 400,
        "margin": {
         "b": 10,
         "l": 10,
         "r": 10,
         "t": 10
        },
        "paper_bgcolor": "#2c303c",
        "plot_bgcolor": "#2c303c",
        "template": {
         "data": {
          "bar": [
           {
            "error_x": {
             "color": "#2a3f5f"
            },
            "error_y": {
             "color": "#2a3f5f"
            },
            "marker": {
             "line": {
              "color": "#E5ECF6",
              "width": 0.5
             },
             "pattern": {
              "fillmode": "overlay",
              "size": 10,
              "solidity": 0.2
             }
            },
            "type": "bar"
           }
          ],
          "barpolar": [
           {
            "marker": {
             "line": {
              "color": "#E5ECF6",
              "width": 0.5
             },
             "pattern": {
              "fillmode": "overlay",
              "size": 10,
              "solidity": 0.2
             }
            },
            "type": "barpolar"
           }
          ],
          "carpet": [
           {
            "aaxis": {
             "endlinecolor": "#2a3f5f",
             "gridcolor": "white",
             "linecolor": "white",
             "minorgridcolor": "white",
             "startlinecolor": "#2a3f5f"
            },
            "baxis": {
             "endlinecolor": "#2a3f5f",
             "gridcolor": "white",
             "linecolor": "white",
             "minorgridcolor": "white",
             "startlinecolor": "#2a3f5f"
            },
            "type": "carpet"
           }
          ],
          "choropleth": [
           {
            "colorbar": {
             "outlinewidth": 0,
             "ticks": ""
            },
            "type": "choropleth"
           }
          ],
          "contour": [
           {
            "colorbar": {
             "outlinewidth": 0,
             "ticks": ""
            },
            "colorscale": [
             [
              0,
              "#0d0887"
             ],
             [
              0.1111111111111111,
              "#46039f"
             ],
             [
              0.2222222222222222,
              "#7201a8"
             ],
             [
              0.3333333333333333,
              "#9c179e"
             ],
             [
              0.4444444444444444,
              "#bd3786"
             ],
             [
              0.5555555555555556,
              "#d8576b"
             ],
             [
              0.6666666666666666,
              "#ed7953"
             ],
             [
              0.7777777777777778,
              "#fb9f3a"
             ],
             [
              0.8888888888888888,
              "#fdca26"
             ],
             [
              1,
              "#f0f921"
             ]
            ],
            "type": "contour"
           }
          ],
          "contourcarpet": [
           {
            "colorbar": {
             "outlinewidth": 0,
             "ticks": ""
            },
            "type": "contourcarpet"
           }
          ],
          "heatmap": [
           {
            "colorbar": {
             "outlinewidth": 0,
             "ticks": ""
            },
            "colorscale": [
             [
              0,
              "#0d0887"
             ],
             [
              0.1111111111111111,
              "#46039f"
             ],
             [
              0.2222222222222222,
              "#7201a8"
             ],
             [
              0.3333333333333333,
              "#9c179e"
             ],
             [
              0.4444444444444444,
              "#bd3786"
             ],
             [
              0.5555555555555556,
              "#d8576b"
             ],
             [
              0.6666666666666666,
              "#ed7953"
             ],
             [
              0.7777777777777778,
              "#fb9f3a"
             ],
             [
              0.8888888888888888,
              "#fdca26"
             ],
             [
              1,
              "#f0f921"
             ]
            ],
            "type": "heatmap"
           }
          ],
          "histogram": [
           {
            "marker": {
             "pattern": {
              "fillmode": "overlay",
              "size": 10,
              "solidity": 0.2
             }
            },
            "type": "histogram"
           }
          ],
          "histogram2d": [
           {
            "colorbar": {
             "outlinewidth": 0,
             "ticks": ""
            },
            "colorscale": [
             [
              0,
              "#0d0887"
             ],
             [
              0.1111111111111111,
              "#46039f"
             ],
             [
              0.2222222222222222,
              "#7201a8"
             ],
             [
              0.3333333333333333,
              "#9c179e"
             ],
             [
              0.4444444444444444,
              "#bd3786"
             ],
             [
              0.5555555555555556,
              "#d8576b"
             ],
             [
              0.6666666666666666,
              "#ed7953"
             ],
             [
              0.7777777777777778,
              "#fb9f3a"
             ],
             [
              0.8888888888888888,
              "#fdca26"
             ],
             [
              1,
              "#f0f921"
             ]
            ],
            "type": "histogram2d"
           }
          ],
          "histogram2dcontour": [
           {
            "colorbar": {
             "outlinewidth": 0,
             "ticks": ""
            },
            "colorscale": [
             [
              0,
              "#0d0887"
             ],
             [
              0.1111111111111111,
              "#46039f"
             ],
             [
              0.2222222222222222,
              "#7201a8"
             ],
             [
              0.3333333333333333,
              "#9c179e"
             ],
             [
              0.4444444444444444,
              "#bd3786"
             ],
             [
              0.5555555555555556,
              "#d8576b"
             ],
             [
              0.6666666666666666,
              "#ed7953"
             ],
             [
              0.7777777777777778,
              "#fb9f3a"
             ],
             [
              0.8888888888888888,
              "#fdca26"
             ],
             [
              1,
              "#f0f921"
             ]
            ],
            "type": "histogram2dcontour"
           }
          ],
          "mesh3d": [
           {
            "colorbar": {
             "outlinewidth": 0,
             "ticks": ""
            },
            "type": "mesh3d"
           }
          ],
          "parcoords": [
           {
            "line": {
             "colorbar": {
              "outlinewidth": 0,
              "ticks": ""
             }
            },
            "type": "parcoords"
           }
          ],
          "pie": [
           {
            "automargin": true,
            "type": "pie"
           }
          ],
          "scatter": [
           {
            "fillpattern": {
             "fillmode": "overlay",
             "size": 10,
             "solidity": 0.2
            },
            "type": "scatter"
           }
          ],
          "scatter3d": [
           {
            "line": {
             "colorbar": {
              "outlinewidth": 0,
              "ticks": ""
             }
            },
            "marker": {
             "colorbar": {
              "outlinewidth": 0,
              "ticks": ""
             }
            },
            "type": "scatter3d"
           }
          ],
          "scattercarpet": [
           {
            "marker": {
             "colorbar": {
              "outlinewidth": 0,
              "ticks": ""
             }
            },
            "type": "scattercarpet"
           }
          ],
          "scattergeo": [
           {
            "marker": {
             "colorbar": {
              "outlinewidth": 0,
              "ticks": ""
             }
            },
            "type": "scattergeo"
           }
          ],
          "scattergl": [
           {
            "marker": {
             "colorbar": {
              "outlinewidth": 0,
              "ticks": ""
             }
            },
            "type": "scattergl"
           }
          ],
          "scattermap": [
           {
            "marker": {
             "colorbar": {
              "outlinewidth": 0,
              "ticks": ""
             }
            },
            "type": "scattermap"
           }
          ],
          "scattermapbox": [
           {
            "marker": {
             "colorbar": {
              "outlinewidth": 0,
              "ticks": ""
             }
            },
            "type": "scattermapbox"
           }
          ],
          "scatterpolar": [
           {
            "marker": {
             "colorbar": {
              "outlinewidth": 0,
              "ticks": ""
             }
            },
            "type": "scatterpolar"
           }
          ],
          "scatterpolargl": [
           {
            "marker": {
             "colorbar": {
              "outlinewidth": 0,
              "ticks": ""
             }
            },
            "type": "scatterpolargl"
           }
          ],
          "scatterternary": [
           {
            "marker": {
             "colorbar": {
              "outlinewidth": 0,
              "ticks": ""
             }
            },
            "type": "scatterternary"
           }
          ],
          "surface": [
           {
            "colorbar": {
             "outlinewidth": 0,
             "ticks": ""
            },
            "colorscale": [
             [
              0,
              "#0d0887"
             ],
             [
              0.1111111111111111,
              "#46039f"
             ],
             [
              0.2222222222222222,
              "#7201a8"
             ],
             [
              0.3333333333333333,
              "#9c179e"
             ],
             [
              0.4444444444444444,
              "#bd3786"
             ],
             [
              0.5555555555555556,
              "#d8576b"
             ],
             [
              0.6666666666666666,
              "#ed7953"
             ],
             [
              0.7777777777777778,
              "#fb9f3a"
             ],
             [
              0.8888888888888888,
              "#fdca26"
             ],
             [
              1,
              "#f0f921"
             ]
            ],
            "type": "surface"
           }
          ],
          "table": [
           {
            "cells": {
             "fill": {
              "color": "#EBF0F8"
             },
             "line": {
              "color": "white"
             }
            },
            "header": {
             "fill": {
              "color": "#C8D4E3"
             },
             "line": {
              "color": "white"
             }
            },
            "type": "table"
           }
          ]
         },
         "layout": {
          "annotationdefaults": {
           "arrowcolor": "#2a3f5f",
           "arrowhead": 0,
           "arrowwidth": 1
          },
          "autotypenumbers": "strict",
          "coloraxis": {
           "colorbar": {
            "outlinewidth": 0,
            "ticks": ""
           }
          },
          "colorscale": {
           "diverging": [
            [
             0,
             "#8e0152"
            ],
            [
             0.1,
             "#c51b7d"
            ],
            [
             0.2,
             "#de77ae"
            ],
            [
             0.3,
             "#f1b6da"
            ],
            [
             0.4,
             "#fde0ef"
            ],
            [
             0.5,
             "#f7f7f7"
            ],
            [
             0.6,
             "#e6f5d0"
            ],
            [
             0.7,
             "#b8e186"
            ],
            [
             0.8,
             "#7fbc41"
            ],
            [
             0.9,
             "#4d9221"
            ],
            [
             1,
             "#276419"
            ]
           ],
           "sequential": [
            [
             0,
             "#0d0887"
            ],
            [
             0.1111111111111111,
             "#46039f"
            ],
            [
             0.2222222222222222,
             "#7201a8"
            ],
            [
             0.3333333333333333,
             "#9c179e"
            ],
            [
             0.4444444444444444,
             "#bd3786"
            ],
            [
             0.5555555555555556,
             "#d8576b"
            ],
            [
             0.6666666666666666,
             "#ed7953"
            ],
            [
             0.7777777777777778,
             "#fb9f3a"
            ],
            [
             0.8888888888888888,
             "#fdca26"
            ],
            [
             1,
             "#f0f921"
            ]
           ],
           "sequentialminus": [
            [
             0,
             "#0d0887"
            ],
            [
             0.1111111111111111,
             "#46039f"
            ],
            [
             0.2222222222222222,
             "#7201a8"
            ],
            [
             0.3333333333333333,
             "#9c179e"
            ],
            [
             0.4444444444444444,
             "#bd3786"
            ],
            [
             0.5555555555555556,
             "#d8576b"
            ],
            [
             0.6666666666666666,
             "#ed7953"
            ],
            [
             0.7777777777777778,
             "#fb9f3a"
            ],
            [
             0.8888888888888888,
             "#fdca26"
            ],
            [
             1,
             "#f0f921"
            ]
           ]
          },
          "colorway": [
           "#636efa",
           "#EF553B",
           "#00cc96",
           "#ab63fa",
           "#FFA15A",
           "#19d3f3",
           "#FF6692",
           "#B6E880",
           "#FF97FF",
           "#FECB52"
          ],
          "font": {
           "color": "#2a3f5f"
          },
          "geo": {
           "bgcolor": "white",
           "lakecolor": "white",
           "landcolor": "#E5ECF6",
           "showlakes": true,
           "showland": true,
           "subunitcolor": "white"
          },
          "hoverlabel": {
           "align": "left"
          },
          "hovermode": "closest",
          "mapbox": {
           "style": "light"
          },
          "paper_bgcolor": "white",
          "plot_bgcolor": "#E5ECF6",
          "polar": {
           "angularaxis": {
            "gridcolor": "white",
            "linecolor": "white",
            "ticks": ""
           },
           "bgcolor": "#E5ECF6",
           "radialaxis": {
            "gridcolor": "white",
            "linecolor": "white",
            "ticks": ""
           }
          },
          "scene": {
           "xaxis": {
            "backgroundcolor": "#E5ECF6",
            "gridcolor": "white",
            "gridwidth": 2,
            "linecolor": "white",
            "showbackground": true,
            "ticks": "",
            "zerolinecolor": "white"
           },
           "yaxis": {
            "backgroundcolor": "#E5ECF6",
            "gridcolor": "white",
            "gridwidth": 2,
            "linecolor": "white",
            "showbackground": true,
            "ticks": "",
            "zerolinecolor": "white"
           },
           "zaxis": {
            "backgroundcolor": "#E5ECF6",
            "gridcolor": "white",
            "gridwidth": 2,
            "linecolor": "white",
            "showbackground": true,
            "ticks": "",
            "zerolinecolor": "white"
           }
          },
          "shapedefaults": {
           "line": {
            "color": "#2a3f5f"
           }
          },
          "ternary": {
           "aaxis": {
            "gridcolor": "white",
            "linecolor": "white",
            "ticks": ""
           },
           "baxis": {
            "gridcolor": "white",
            "linecolor": "white",
            "ticks": ""
           },
           "bgcolor": "#E5ECF6",
           "caxis": {
            "gridcolor": "white",
            "linecolor": "white",
            "ticks": ""
           }
          },
          "title": {
           "x": 0.05
          },
          "xaxis": {
           "automargin": true,
           "gridcolor": "white",
           "linecolor": "white",
           "ticks": "",
           "title": {
            "standoff": 15
           },
           "zerolinecolor": "white",
           "zerolinewidth": 2
          },
          "yaxis": {
           "automargin": true,
           "gridcolor": "white",
           "linecolor": "white",
           "ticks": "",
           "title": {
            "standoff": 15
           },
           "zerolinecolor": "white",
           "zerolinewidth": 2
          }
         }
        },
        "width": 900,
        "xaxis": {
         "gridcolor": "#1f292f",
         "nticks": 5,
         "rangeslider": {
          "visible": false
         }
        },
        "yaxis": {
         "gridcolor": "#1f292f"
        }
       }
      }
     },
     "metadata": {},
     "output_type": "display_data"
    },
    {
     "name": "stdout",
     "output_type": "stream",
     "text": [
      "EUR_AUD 278\n"
     ]
    },
    {
     "data": {
      "application/vnd.plotly.v1+json": {
       "config": {
        "plotlyServerURL": "https://plot.ly"
       },
       "data": [
        {
         "line": {
          "shape": "spline",
          "width": 2
         },
         "name": "GAIN_C",
         "type": "scatter",
         "x": [
          "s24-11-29 20:00",
          "s24-12-04 01:00",
          "s24-12-10 14:00",
          "s24-12-11 08:00",
          "s24-12-12 19:00",
          "s24-12-16 04:00",
          "s24-12-31 09:00",
          "s25-01-07 06:00",
          "s25-01-14 00:00",
          "s25-01-20 03:00",
          "s25-01-23 05:00",
          "s25-01-27 09:00",
          "s25-01-31 19:00",
          "s25-02-12 15:00",
          "s25-02-17 05:00",
          "s25-02-24 04:00",
          "s25-03-13 16:00",
          "s25-03-19 15:00",
          "s25-03-25 04:00",
          "s25-03-28 12:00",
          "s25-04-02 11:00",
          "s25-04-03 15:00",
          "s25-04-10 04:00",
          "s25-04-14 06:00",
          "s25-04-15 04:00",
          "s25-04-18 02:00",
          "s25-04-18 20:00",
          "s25-04-21 08:00",
          "s25-04-23 09:00",
          "s25-04-29 18:00",
          "s25-05-01 06:00",
          "s25-05-07 18:00",
          "s25-05-12 02:00",
          "s25-05-15 12:00",
          "s25-05-20 04:00",
          "s25-05-20 06:00",
          "s25-05-23 18:00",
          "s25-05-27 19:00",
          "s25-05-29 14:00",
          "s25-05-30 09:00",
          "s25-06-03 15:00",
          "s25-06-11 17:00",
          "s25-06-17 03:00",
          "s25-06-20 03:00",
          "s25-06-25 11:00",
          "s25-06-26 17:00",
          "s25-07-02 18:00",
          "s25-07-02 22:00",
          "s25-07-03 21:00",
          "s25-07-06 23:00",
          "s25-07-09 04:00"
         ],
         "y": {
          "bdata": "q8zMzMxMTcCVZmZmZqZhQARnZmZmJlhAvJyZmZmZPkDI8/////8TwOfMzMzMDHBApZmZmZnZeUDXzMzMzBx4QAgAAAAAsHdASDMzMzOreECJZmZmZu5zQLCZmZmZuXVAmpmZmZnhf0CZmZmZmSF8QGtmZmZm1ntANjMzMzOPk0BtZmZmZiaVQAMAAAAALpVAMjMzMzM7lkD//////2uWQGhmZmZmKpJApJmZmZmxl0ComZmZmVOTQNzMzMzMHJBAvZmZmZlxj0DBmZmZmfGPQI5mZmZmpoxAUzMzMzMbh0BOMzMzM0+GQCAAAAAAUIFAvpmZmZldhEC6mZmZmamBQOnMzMzM7IFA7szMzMy4gkDwzMzMzBSBQOOZmZmZSX5AcjMzMzMTeEBhMzMzM+N5QGMzMzMz63dA7szMzMz8dEB2ZmZmZsZyQBIAAAAA2HZADQAAAAA4c0B1ZmZmZhZ5QO/MzMzMFHhALwAAAACQe0CqZmZmZmZ8QPKZmZmZOXtAhjMzMzN7dUANzczMzGxxQA3NzMzMbHFA",
          "dtype": "f8"
         }
        }
       ],
       "layout": {
        "font": {
         "color": "#e1e1e1",
         "size": 8
        },
        "height": 400,
        "margin": {
         "b": 10,
         "l": 10,
         "r": 10,
         "t": 10
        },
        "paper_bgcolor": "#2c303c",
        "plot_bgcolor": "#2c303c",
        "template": {
         "data": {
          "bar": [
           {
            "error_x": {
             "color": "#2a3f5f"
            },
            "error_y": {
             "color": "#2a3f5f"
            },
            "marker": {
             "line": {
              "color": "#E5ECF6",
              "width": 0.5
             },
             "pattern": {
              "fillmode": "overlay",
              "size": 10,
              "solidity": 0.2
             }
            },
            "type": "bar"
           }
          ],
          "barpolar": [
           {
            "marker": {
             "line": {
              "color": "#E5ECF6",
              "width": 0.5
             },
             "pattern": {
              "fillmode": "overlay",
              "size": 10,
              "solidity": 0.2
             }
            },
            "type": "barpolar"
           }
          ],
          "carpet": [
           {
            "aaxis": {
             "endlinecolor": "#2a3f5f",
             "gridcolor": "white",
             "linecolor": "white",
             "minorgridcolor": "white",
             "startlinecolor": "#2a3f5f"
            },
            "baxis": {
             "endlinecolor": "#2a3f5f",
             "gridcolor": "white",
             "linecolor": "white",
             "minorgridcolor": "white",
             "startlinecolor": "#2a3f5f"
            },
            "type": "carpet"
           }
          ],
          "choropleth": [
           {
            "colorbar": {
             "outlinewidth": 0,
             "ticks": ""
            },
            "type": "choropleth"
           }
          ],
          "contour": [
           {
            "colorbar": {
             "outlinewidth": 0,
             "ticks": ""
            },
            "colorscale": [
             [
              0,
              "#0d0887"
             ],
             [
              0.1111111111111111,
              "#46039f"
             ],
             [
              0.2222222222222222,
              "#7201a8"
             ],
             [
              0.3333333333333333,
              "#9c179e"
             ],
             [
              0.4444444444444444,
              "#bd3786"
             ],
             [
              0.5555555555555556,
              "#d8576b"
             ],
             [
              0.6666666666666666,
              "#ed7953"
             ],
             [
              0.7777777777777778,
              "#fb9f3a"
             ],
             [
              0.8888888888888888,
              "#fdca26"
             ],
             [
              1,
              "#f0f921"
             ]
            ],
            "type": "contour"
           }
          ],
          "contourcarpet": [
           {
            "colorbar": {
             "outlinewidth": 0,
             "ticks": ""
            },
            "type": "contourcarpet"
           }
          ],
          "heatmap": [
           {
            "colorbar": {
             "outlinewidth": 0,
             "ticks": ""
            },
            "colorscale": [
             [
              0,
              "#0d0887"
             ],
             [
              0.1111111111111111,
              "#46039f"
             ],
             [
              0.2222222222222222,
              "#7201a8"
             ],
             [
              0.3333333333333333,
              "#9c179e"
             ],
             [
              0.4444444444444444,
              "#bd3786"
             ],
             [
              0.5555555555555556,
              "#d8576b"
             ],
             [
              0.6666666666666666,
              "#ed7953"
             ],
             [
              0.7777777777777778,
              "#fb9f3a"
             ],
             [
              0.8888888888888888,
              "#fdca26"
             ],
             [
              1,
              "#f0f921"
             ]
            ],
            "type": "heatmap"
           }
          ],
          "histogram": [
           {
            "marker": {
             "pattern": {
              "fillmode": "overlay",
              "size": 10,
              "solidity": 0.2
             }
            },
            "type": "histogram"
           }
          ],
          "histogram2d": [
           {
            "colorbar": {
             "outlinewidth": 0,
             "ticks": ""
            },
            "colorscale": [
             [
              0,
              "#0d0887"
             ],
             [
              0.1111111111111111,
              "#46039f"
             ],
             [
              0.2222222222222222,
              "#7201a8"
             ],
             [
              0.3333333333333333,
              "#9c179e"
             ],
             [
              0.4444444444444444,
              "#bd3786"
             ],
             [
              0.5555555555555556,
              "#d8576b"
             ],
             [
              0.6666666666666666,
              "#ed7953"
             ],
             [
              0.7777777777777778,
              "#fb9f3a"
             ],
             [
              0.8888888888888888,
              "#fdca26"
             ],
             [
              1,
              "#f0f921"
             ]
            ],
            "type": "histogram2d"
           }
          ],
          "histogram2dcontour": [
           {
            "colorbar": {
             "outlinewidth": 0,
             "ticks": ""
            },
            "colorscale": [
             [
              0,
              "#0d0887"
             ],
             [
              0.1111111111111111,
              "#46039f"
             ],
             [
              0.2222222222222222,
              "#7201a8"
             ],
             [
              0.3333333333333333,
              "#9c179e"
             ],
             [
              0.4444444444444444,
              "#bd3786"
             ],
             [
              0.5555555555555556,
              "#d8576b"
             ],
             [
              0.6666666666666666,
              "#ed7953"
             ],
             [
              0.7777777777777778,
              "#fb9f3a"
             ],
             [
              0.8888888888888888,
              "#fdca26"
             ],
             [
              1,
              "#f0f921"
             ]
            ],
            "type": "histogram2dcontour"
           }
          ],
          "mesh3d": [
           {
            "colorbar": {
             "outlinewidth": 0,
             "ticks": ""
            },
            "type": "mesh3d"
           }
          ],
          "parcoords": [
           {
            "line": {
             "colorbar": {
              "outlinewidth": 0,
              "ticks": ""
             }
            },
            "type": "parcoords"
           }
          ],
          "pie": [
           {
            "automargin": true,
            "type": "pie"
           }
          ],
          "scatter": [
           {
            "fillpattern": {
             "fillmode": "overlay",
             "size": 10,
             "solidity": 0.2
            },
            "type": "scatter"
           }
          ],
          "scatter3d": [
           {
            "line": {
             "colorbar": {
              "outlinewidth": 0,
              "ticks": ""
             }
            },
            "marker": {
             "colorbar": {
              "outlinewidth": 0,
              "ticks": ""
             }
            },
            "type": "scatter3d"
           }
          ],
          "scattercarpet": [
           {
            "marker": {
             "colorbar": {
              "outlinewidth": 0,
              "ticks": ""
             }
            },
            "type": "scattercarpet"
           }
          ],
          "scattergeo": [
           {
            "marker": {
             "colorbar": {
              "outlinewidth": 0,
              "ticks": ""
             }
            },
            "type": "scattergeo"
           }
          ],
          "scattergl": [
           {
            "marker": {
             "colorbar": {
              "outlinewidth": 0,
              "ticks": ""
             }
            },
            "type": "scattergl"
           }
          ],
          "scattermap": [
           {
            "marker": {
             "colorbar": {
              "outlinewidth": 0,
              "ticks": ""
             }
            },
            "type": "scattermap"
           }
          ],
          "scattermapbox": [
           {
            "marker": {
             "colorbar": {
              "outlinewidth": 0,
              "ticks": ""
             }
            },
            "type": "scattermapbox"
           }
          ],
          "scatterpolar": [
           {
            "marker": {
             "colorbar": {
              "outlinewidth": 0,
              "ticks": ""
             }
            },
            "type": "scatterpolar"
           }
          ],
          "scatterpolargl": [
           {
            "marker": {
             "colorbar": {
              "outlinewidth": 0,
              "ticks": ""
             }
            },
            "type": "scatterpolargl"
           }
          ],
          "scatterternary": [
           {
            "marker": {
             "colorbar": {
              "outlinewidth": 0,
              "ticks": ""
             }
            },
            "type": "scatterternary"
           }
          ],
          "surface": [
           {
            "colorbar": {
             "outlinewidth": 0,
             "ticks": ""
            },
            "colorscale": [
             [
              0,
              "#0d0887"
             ],
             [
              0.1111111111111111,
              "#46039f"
             ],
             [
              0.2222222222222222,
              "#7201a8"
             ],
             [
              0.3333333333333333,
              "#9c179e"
             ],
             [
              0.4444444444444444,
              "#bd3786"
             ],
             [
              0.5555555555555556,
              "#d8576b"
             ],
             [
              0.6666666666666666,
              "#ed7953"
             ],
             [
              0.7777777777777778,
              "#fb9f3a"
             ],
             [
              0.8888888888888888,
              "#fdca26"
             ],
             [
              1,
              "#f0f921"
             ]
            ],
            "type": "surface"
           }
          ],
          "table": [
           {
            "cells": {
             "fill": {
              "color": "#EBF0F8"
             },
             "line": {
              "color": "white"
             }
            },
            "header": {
             "fill": {
              "color": "#C8D4E3"
             },
             "line": {
              "color": "white"
             }
            },
            "type": "table"
           }
          ]
         },
         "layout": {
          "annotationdefaults": {
           "arrowcolor": "#2a3f5f",
           "arrowhead": 0,
           "arrowwidth": 1
          },
          "autotypenumbers": "strict",
          "coloraxis": {
           "colorbar": {
            "outlinewidth": 0,
            "ticks": ""
           }
          },
          "colorscale": {
           "diverging": [
            [
             0,
             "#8e0152"
            ],
            [
             0.1,
             "#c51b7d"
            ],
            [
             0.2,
             "#de77ae"
            ],
            [
             0.3,
             "#f1b6da"
            ],
            [
             0.4,
             "#fde0ef"
            ],
            [
             0.5,
             "#f7f7f7"
            ],
            [
             0.6,
             "#e6f5d0"
            ],
            [
             0.7,
             "#b8e186"
            ],
            [
             0.8,
             "#7fbc41"
            ],
            [
             0.9,
             "#4d9221"
            ],
            [
             1,
             "#276419"
            ]
           ],
           "sequential": [
            [
             0,
             "#0d0887"
            ],
            [
             0.1111111111111111,
             "#46039f"
            ],
            [
             0.2222222222222222,
             "#7201a8"
            ],
            [
             0.3333333333333333,
             "#9c179e"
            ],
            [
             0.4444444444444444,
             "#bd3786"
            ],
            [
             0.5555555555555556,
             "#d8576b"
            ],
            [
             0.6666666666666666,
             "#ed7953"
            ],
            [
             0.7777777777777778,
             "#fb9f3a"
            ],
            [
             0.8888888888888888,
             "#fdca26"
            ],
            [
             1,
             "#f0f921"
            ]
           ],
           "sequentialminus": [
            [
             0,
             "#0d0887"
            ],
            [
             0.1111111111111111,
             "#46039f"
            ],
            [
             0.2222222222222222,
             "#7201a8"
            ],
            [
             0.3333333333333333,
             "#9c179e"
            ],
            [
             0.4444444444444444,
             "#bd3786"
            ],
            [
             0.5555555555555556,
             "#d8576b"
            ],
            [
             0.6666666666666666,
             "#ed7953"
            ],
            [
             0.7777777777777778,
             "#fb9f3a"
            ],
            [
             0.8888888888888888,
             "#fdca26"
            ],
            [
             1,
             "#f0f921"
            ]
           ]
          },
          "colorway": [
           "#636efa",
           "#EF553B",
           "#00cc96",
           "#ab63fa",
           "#FFA15A",
           "#19d3f3",
           "#FF6692",
           "#B6E880",
           "#FF97FF",
           "#FECB52"
          ],
          "font": {
           "color": "#2a3f5f"
          },
          "geo": {
           "bgcolor": "white",
           "lakecolor": "white",
           "landcolor": "#E5ECF6",
           "showlakes": true,
           "showland": true,
           "subunitcolor": "white"
          },
          "hoverlabel": {
           "align": "left"
          },
          "hovermode": "closest",
          "mapbox": {
           "style": "light"
          },
          "paper_bgcolor": "white",
          "plot_bgcolor": "#E5ECF6",
          "polar": {
           "angularaxis": {
            "gridcolor": "white",
            "linecolor": "white",
            "ticks": ""
           },
           "bgcolor": "#E5ECF6",
           "radialaxis": {
            "gridcolor": "white",
            "linecolor": "white",
            "ticks": ""
           }
          },
          "scene": {
           "xaxis": {
            "backgroundcolor": "#E5ECF6",
            "gridcolor": "white",
            "gridwidth": 2,
            "linecolor": "white",
            "showbackground": true,
            "ticks": "",
            "zerolinecolor": "white"
           },
           "yaxis": {
            "backgroundcolor": "#E5ECF6",
            "gridcolor": "white",
            "gridwidth": 2,
            "linecolor": "white",
            "showbackground": true,
            "ticks": "",
            "zerolinecolor": "white"
           },
           "zaxis": {
            "backgroundcolor": "#E5ECF6",
            "gridcolor": "white",
            "gridwidth": 2,
            "linecolor": "white",
            "showbackground": true,
            "ticks": "",
            "zerolinecolor": "white"
           }
          },
          "shapedefaults": {
           "line": {
            "color": "#2a3f5f"
           }
          },
          "ternary": {
           "aaxis": {
            "gridcolor": "white",
            "linecolor": "white",
            "ticks": ""
           },
           "baxis": {
            "gridcolor": "white",
            "linecolor": "white",
            "ticks": ""
           },
           "bgcolor": "#E5ECF6",
           "caxis": {
            "gridcolor": "white",
            "linecolor": "white",
            "ticks": ""
           }
          },
          "title": {
           "x": 0.05
          },
          "xaxis": {
           "automargin": true,
           "gridcolor": "white",
           "linecolor": "white",
           "ticks": "",
           "title": {
            "standoff": 15
           },
           "zerolinecolor": "white",
           "zerolinewidth": 2
          },
          "yaxis": {
           "automargin": true,
           "gridcolor": "white",
           "linecolor": "white",
           "ticks": "",
           "title": {
            "standoff": 15
           },
           "zerolinecolor": "white",
           "zerolinewidth": 2
          }
         }
        },
        "width": 900,
        "xaxis": {
         "gridcolor": "#1f292f",
         "nticks": 5,
         "rangeslider": {
          "visible": false
         }
        },
        "yaxis": {
         "gridcolor": "#1f292f"
        }
       }
      }
     },
     "metadata": {},
     "output_type": "display_data"
    },
    {
     "name": "stdout",
     "output_type": "stream",
     "text": [
      "EUR_USD 223\n"
     ]
    },
    {
     "data": {
      "application/vnd.plotly.v1+json": {
       "config": {
        "plotlyServerURL": "https://plot.ly"
       },
       "data": [
        {
         "line": {
          "shape": "spline",
          "width": 2
         },
         "name": "GAIN_C",
         "type": "scatter",
         "x": [
          "s24-12-02 14:00",
          "s24-12-05 03:00",
          "s24-12-10 06:00",
          "s24-12-16 18:00",
          "s24-12-18 14:00",
          "s24-12-23 16:00",
          "s24-12-26 00:00",
          "s24-12-27 08:00",
          "s24-12-31 12:00",
          "s25-01-06 20:00",
          "s25-01-08 21:00",
          "s25-01-15 04:00",
          "s25-01-17 17:00",
          "s25-01-20 10:00",
          "s25-01-28 20:00",
          "s25-02-05 04:00",
          "s25-02-07 13:00",
          "s25-02-12 11:00",
          "s25-02-18 20:00",
          "s25-02-21 05:00",
          "s25-02-25 20:00",
          "s25-02-26 03:00",
          "s25-02-27 16:00",
          "s25-03-04 02:00",
          "s25-03-13 21:00",
          "s25-03-17 16:00",
          "s25-03-20 09:00",
          "s25-03-28 16:00",
          "s25-04-01 23:00",
          "s25-04-03 03:00",
          "s25-04-07 20:00",
          "s25-04-09 12:00",
          "s25-04-16 02:00",
          "s25-04-17 08:00",
          "s25-04-23 11:00",
          "s25-04-28 18:00",
          "s25-04-30 21:00",
          "s25-05-05 14:00",
          "s25-05-08 13:00",
          "s25-05-14 18:00",
          "s25-05-16 19:00",
          "s25-05-19 12:00",
          "s25-05-25 21:00",
          "s25-05-26 00:00",
          "s25-05-28 05:00",
          "s25-05-30 14:00",
          "s25-06-04 19:00",
          "s25-06-05 16:00",
          "s25-06-09 12:00",
          "s25-06-11 04:00",
          "s25-06-18 00:00",
          "s25-06-20 18:00",
          "s25-07-03 18:00"
         ],
         "y": {
          "bdata": "9GZmZmamSMA4AgAAAAAWwNxmZmZmZkRAgWhmZmbmMEC+ZmZmZmZaQFYzMzMzk1dANjMzMzOTU0CcmJmZmVlNQGgxMzMz809AYHpmZmZmFMCejJmZmZkmQNxAMzMzMyTAmdDMzMwMRsAc/v///x9SQMKXmZmZWV9ABjEzMzOTW0B8yszMzKxYQICYmZmZaWVAmGRmZmaGX0Ac/////69iQO7+////L2RARpeZmZm5UUAg7zIzMzMPQPNlZmZmfndAlP////83c0BJ/////89tQKT/////z3BAhGVmZmY2bkC+ZGZmZkZeQEbLzMzMLFxANGpmZmYmTMBMZWZmZnZoQHKYmZmZGWJAtMvMzMwsZkDly8zMzNxlQOyXmZmZeVZAnZeZmZn5U0B3yMzMzMxHQAb/////72VA3svMzMxMYkAqlpmZmVlDQIwyMzMzw2JAEv////9fXkAgZWZmZqZDQEBXZmZmZv4/wTIzMzPzTkAwl5mZmRk6QHwDAAAAgDXAejUzMzNzQsAqyszMzMxDQMBnmZmZmQlANv/////va0A2/////+9rQA==",
          "dtype": "f8"
         }
        }
       ],
       "layout": {
        "font": {
         "color": "#e1e1e1",
         "size": 8
        },
        "height": 400,
        "margin": {
         "b": 10,
         "l": 10,
         "r": 10,
         "t": 10
        },
        "paper_bgcolor": "#2c303c",
        "plot_bgcolor": "#2c303c",
        "template": {
         "data": {
          "bar": [
           {
            "error_x": {
             "color": "#2a3f5f"
            },
            "error_y": {
             "color": "#2a3f5f"
            },
            "marker": {
             "line": {
              "color": "#E5ECF6",
              "width": 0.5
             },
             "pattern": {
              "fillmode": "overlay",
              "size": 10,
              "solidity": 0.2
             }
            },
            "type": "bar"
           }
          ],
          "barpolar": [
           {
            "marker": {
             "line": {
              "color": "#E5ECF6",
              "width": 0.5
             },
             "pattern": {
              "fillmode": "overlay",
              "size": 10,
              "solidity": 0.2
             }
            },
            "type": "barpolar"
           }
          ],
          "carpet": [
           {
            "aaxis": {
             "endlinecolor": "#2a3f5f",
             "gridcolor": "white",
             "linecolor": "white",
             "minorgridcolor": "white",
             "startlinecolor": "#2a3f5f"
            },
            "baxis": {
             "endlinecolor": "#2a3f5f",
             "gridcolor": "white",
             "linecolor": "white",
             "minorgridcolor": "white",
             "startlinecolor": "#2a3f5f"
            },
            "type": "carpet"
           }
          ],
          "choropleth": [
           {
            "colorbar": {
             "outlinewidth": 0,
             "ticks": ""
            },
            "type": "choropleth"
           }
          ],
          "contour": [
           {
            "colorbar": {
             "outlinewidth": 0,
             "ticks": ""
            },
            "colorscale": [
             [
              0,
              "#0d0887"
             ],
             [
              0.1111111111111111,
              "#46039f"
             ],
             [
              0.2222222222222222,
              "#7201a8"
             ],
             [
              0.3333333333333333,
              "#9c179e"
             ],
             [
              0.4444444444444444,
              "#bd3786"
             ],
             [
              0.5555555555555556,
              "#d8576b"
             ],
             [
              0.6666666666666666,
              "#ed7953"
             ],
             [
              0.7777777777777778,
              "#fb9f3a"
             ],
             [
              0.8888888888888888,
              "#fdca26"
             ],
             [
              1,
              "#f0f921"
             ]
            ],
            "type": "contour"
           }
          ],
          "contourcarpet": [
           {
            "colorbar": {
             "outlinewidth": 0,
             "ticks": ""
            },
            "type": "contourcarpet"
           }
          ],
          "heatmap": [
           {
            "colorbar": {
             "outlinewidth": 0,
             "ticks": ""
            },
            "colorscale": [
             [
              0,
              "#0d0887"
             ],
             [
              0.1111111111111111,
              "#46039f"
             ],
             [
              0.2222222222222222,
              "#7201a8"
             ],
             [
              0.3333333333333333,
              "#9c179e"
             ],
             [
              0.4444444444444444,
              "#bd3786"
             ],
             [
              0.5555555555555556,
              "#d8576b"
             ],
             [
              0.6666666666666666,
              "#ed7953"
             ],
             [
              0.7777777777777778,
              "#fb9f3a"
             ],
             [
              0.8888888888888888,
              "#fdca26"
             ],
             [
              1,
              "#f0f921"
             ]
            ],
            "type": "heatmap"
           }
          ],
          "histogram": [
           {
            "marker": {
             "pattern": {
              "fillmode": "overlay",
              "size": 10,
              "solidity": 0.2
             }
            },
            "type": "histogram"
           }
          ],
          "histogram2d": [
           {
            "colorbar": {
             "outlinewidth": 0,
             "ticks": ""
            },
            "colorscale": [
             [
              0,
              "#0d0887"
             ],
             [
              0.1111111111111111,
              "#46039f"
             ],
             [
              0.2222222222222222,
              "#7201a8"
             ],
             [
              0.3333333333333333,
              "#9c179e"
             ],
             [
              0.4444444444444444,
              "#bd3786"
             ],
             [
              0.5555555555555556,
              "#d8576b"
             ],
             [
              0.6666666666666666,
              "#ed7953"
             ],
             [
              0.7777777777777778,
              "#fb9f3a"
             ],
             [
              0.8888888888888888,
              "#fdca26"
             ],
             [
              1,
              "#f0f921"
             ]
            ],
            "type": "histogram2d"
           }
          ],
          "histogram2dcontour": [
           {
            "colorbar": {
             "outlinewidth": 0,
             "ticks": ""
            },
            "colorscale": [
             [
              0,
              "#0d0887"
             ],
             [
              0.1111111111111111,
              "#46039f"
             ],
             [
              0.2222222222222222,
              "#7201a8"
             ],
             [
              0.3333333333333333,
              "#9c179e"
             ],
             [
              0.4444444444444444,
              "#bd3786"
             ],
             [
              0.5555555555555556,
              "#d8576b"
             ],
             [
              0.6666666666666666,
              "#ed7953"
             ],
             [
              0.7777777777777778,
              "#fb9f3a"
             ],
             [
              0.8888888888888888,
              "#fdca26"
             ],
             [
              1,
              "#f0f921"
             ]
            ],
            "type": "histogram2dcontour"
           }
          ],
          "mesh3d": [
           {
            "colorbar": {
             "outlinewidth": 0,
             "ticks": ""
            },
            "type": "mesh3d"
           }
          ],
          "parcoords": [
           {
            "line": {
             "colorbar": {
              "outlinewidth": 0,
              "ticks": ""
             }
            },
            "type": "parcoords"
           }
          ],
          "pie": [
           {
            "automargin": true,
            "type": "pie"
           }
          ],
          "scatter": [
           {
            "fillpattern": {
             "fillmode": "overlay",
             "size": 10,
             "solidity": 0.2
            },
            "type": "scatter"
           }
          ],
          "scatter3d": [
           {
            "line": {
             "colorbar": {
              "outlinewidth": 0,
              "ticks": ""
             }
            },
            "marker": {
             "colorbar": {
              "outlinewidth": 0,
              "ticks": ""
             }
            },
            "type": "scatter3d"
           }
          ],
          "scattercarpet": [
           {
            "marker": {
             "colorbar": {
              "outlinewidth": 0,
              "ticks": ""
             }
            },
            "type": "scattercarpet"
           }
          ],
          "scattergeo": [
           {
            "marker": {
             "colorbar": {
              "outlinewidth": 0,
              "ticks": ""
             }
            },
            "type": "scattergeo"
           }
          ],
          "scattergl": [
           {
            "marker": {
             "colorbar": {
              "outlinewidth": 0,
              "ticks": ""
             }
            },
            "type": "scattergl"
           }
          ],
          "scattermap": [
           {
            "marker": {
             "colorbar": {
              "outlinewidth": 0,
              "ticks": ""
             }
            },
            "type": "scattermap"
           }
          ],
          "scattermapbox": [
           {
            "marker": {
             "colorbar": {
              "outlinewidth": 0,
              "ticks": ""
             }
            },
            "type": "scattermapbox"
           }
          ],
          "scatterpolar": [
           {
            "marker": {
             "colorbar": {
              "outlinewidth": 0,
              "ticks": ""
             }
            },
            "type": "scatterpolar"
           }
          ],
          "scatterpolargl": [
           {
            "marker": {
             "colorbar": {
              "outlinewidth": 0,
              "ticks": ""
             }
            },
            "type": "scatterpolargl"
           }
          ],
          "scatterternary": [
           {
            "marker": {
             "colorbar": {
              "outlinewidth": 0,
              "ticks": ""
             }
            },
            "type": "scatterternary"
           }
          ],
          "surface": [
           {
            "colorbar": {
             "outlinewidth": 0,
             "ticks": ""
            },
            "colorscale": [
             [
              0,
              "#0d0887"
             ],
             [
              0.1111111111111111,
              "#46039f"
             ],
             [
              0.2222222222222222,
              "#7201a8"
             ],
             [
              0.3333333333333333,
              "#9c179e"
             ],
             [
              0.4444444444444444,
              "#bd3786"
             ],
             [
              0.5555555555555556,
              "#d8576b"
             ],
             [
              0.6666666666666666,
              "#ed7953"
             ],
             [
              0.7777777777777778,
              "#fb9f3a"
             ],
             [
              0.8888888888888888,
              "#fdca26"
             ],
             [
              1,
              "#f0f921"
             ]
            ],
            "type": "surface"
           }
          ],
          "table": [
           {
            "cells": {
             "fill": {
              "color": "#EBF0F8"
             },
             "line": {
              "color": "white"
             }
            },
            "header": {
             "fill": {
              "color": "#C8D4E3"
             },
             "line": {
              "color": "white"
             }
            },
            "type": "table"
           }
          ]
         },
         "layout": {
          "annotationdefaults": {
           "arrowcolor": "#2a3f5f",
           "arrowhead": 0,
           "arrowwidth": 1
          },
          "autotypenumbers": "strict",
          "coloraxis": {
           "colorbar": {
            "outlinewidth": 0,
            "ticks": ""
           }
          },
          "colorscale": {
           "diverging": [
            [
             0,
             "#8e0152"
            ],
            [
             0.1,
             "#c51b7d"
            ],
            [
             0.2,
             "#de77ae"
            ],
            [
             0.3,
             "#f1b6da"
            ],
            [
             0.4,
             "#fde0ef"
            ],
            [
             0.5,
             "#f7f7f7"
            ],
            [
             0.6,
             "#e6f5d0"
            ],
            [
             0.7,
             "#b8e186"
            ],
            [
             0.8,
             "#7fbc41"
            ],
            [
             0.9,
             "#4d9221"
            ],
            [
             1,
             "#276419"
            ]
           ],
           "sequential": [
            [
             0,
             "#0d0887"
            ],
            [
             0.1111111111111111,
             "#46039f"
            ],
            [
             0.2222222222222222,
             "#7201a8"
            ],
            [
             0.3333333333333333,
             "#9c179e"
            ],
            [
             0.4444444444444444,
             "#bd3786"
            ],
            [
             0.5555555555555556,
             "#d8576b"
            ],
            [
             0.6666666666666666,
             "#ed7953"
            ],
            [
             0.7777777777777778,
             "#fb9f3a"
            ],
            [
             0.8888888888888888,
             "#fdca26"
            ],
            [
             1,
             "#f0f921"
            ]
           ],
           "sequentialminus": [
            [
             0,
             "#0d0887"
            ],
            [
             0.1111111111111111,
             "#46039f"
            ],
            [
             0.2222222222222222,
             "#7201a8"
            ],
            [
             0.3333333333333333,
             "#9c179e"
            ],
            [
             0.4444444444444444,
             "#bd3786"
            ],
            [
             0.5555555555555556,
             "#d8576b"
            ],
            [
             0.6666666666666666,
             "#ed7953"
            ],
            [
             0.7777777777777778,
             "#fb9f3a"
            ],
            [
             0.8888888888888888,
             "#fdca26"
            ],
            [
             1,
             "#f0f921"
            ]
           ]
          },
          "colorway": [
           "#636efa",
           "#EF553B",
           "#00cc96",
           "#ab63fa",
           "#FFA15A",
           "#19d3f3",
           "#FF6692",
           "#B6E880",
           "#FF97FF",
           "#FECB52"
          ],
          "font": {
           "color": "#2a3f5f"
          },
          "geo": {
           "bgcolor": "white",
           "lakecolor": "white",
           "landcolor": "#E5ECF6",
           "showlakes": true,
           "showland": true,
           "subunitcolor": "white"
          },
          "hoverlabel": {
           "align": "left"
          },
          "hovermode": "closest",
          "mapbox": {
           "style": "light"
          },
          "paper_bgcolor": "white",
          "plot_bgcolor": "#E5ECF6",
          "polar": {
           "angularaxis": {
            "gridcolor": "white",
            "linecolor": "white",
            "ticks": ""
           },
           "bgcolor": "#E5ECF6",
           "radialaxis": {
            "gridcolor": "white",
            "linecolor": "white",
            "ticks": ""
           }
          },
          "scene": {
           "xaxis": {
            "backgroundcolor": "#E5ECF6",
            "gridcolor": "white",
            "gridwidth": 2,
            "linecolor": "white",
            "showbackground": true,
            "ticks": "",
            "zerolinecolor": "white"
           },
           "yaxis": {
            "backgroundcolor": "#E5ECF6",
            "gridcolor": "white",
            "gridwidth": 2,
            "linecolor": "white",
            "showbackground": true,
            "ticks": "",
            "zerolinecolor": "white"
           },
           "zaxis": {
            "backgroundcolor": "#E5ECF6",
            "gridcolor": "white",
            "gridwidth": 2,
            "linecolor": "white",
            "showbackground": true,
            "ticks": "",
            "zerolinecolor": "white"
           }
          },
          "shapedefaults": {
           "line": {
            "color": "#2a3f5f"
           }
          },
          "ternary": {
           "aaxis": {
            "gridcolor": "white",
            "linecolor": "white",
            "ticks": ""
           },
           "baxis": {
            "gridcolor": "white",
            "linecolor": "white",
            "ticks": ""
           },
           "bgcolor": "#E5ECF6",
           "caxis": {
            "gridcolor": "white",
            "linecolor": "white",
            "ticks": ""
           }
          },
          "title": {
           "x": 0.05
          },
          "xaxis": {
           "automargin": true,
           "gridcolor": "white",
           "linecolor": "white",
           "ticks": "",
           "title": {
            "standoff": 15
           },
           "zerolinecolor": "white",
           "zerolinewidth": 2
          },
          "yaxis": {
           "automargin": true,
           "gridcolor": "white",
           "linecolor": "white",
           "ticks": "",
           "title": {
            "standoff": 15
           },
           "zerolinecolor": "white",
           "zerolinewidth": 2
          }
         }
        },
        "width": 900,
        "xaxis": {
         "gridcolor": "#1f292f",
         "nticks": 5,
         "rangeslider": {
          "visible": false
         }
        },
        "yaxis": {
         "gridcolor": "#1f292f"
        }
       }
      }
     },
     "metadata": {},
     "output_type": "display_data"
    },
    {
     "name": "stdout",
     "output_type": "stream",
     "text": [
      "EUR_GBP 194\n"
     ]
    },
    {
     "data": {
      "application/vnd.plotly.v1+json": {
       "config": {
        "plotlyServerURL": "https://plot.ly"
       },
       "data": [
        {
         "line": {
          "shape": "spline",
          "width": 2
         },
         "name": "GAIN_C",
         "type": "scatter",
         "x": [
          "s24-12-06 18:00",
          "s24-12-09 20:00",
          "s24-12-13 10:00",
          "s24-12-17 19:00",
          "s24-12-20 09:00",
          "s24-12-25 23:00",
          "s24-12-26 19:00",
          "s24-12-30 15:00",
          "s25-01-03 12:00",
          "s25-01-08 07:00",
          "s25-01-08 13:00",
          "s25-01-17 01:00",
          "s25-01-17 17:00",
          "s25-01-22 23:00",
          "s25-02-06 03:00",
          "s25-02-10 15:00",
          "s25-02-12 06:00",
          "s25-02-14 12:00",
          "s25-02-24 00:00",
          "s25-02-27 02:00",
          "s25-03-04 10:00",
          "s25-03-13 10:00",
          "s25-03-17 13:00",
          "s25-03-19 18:00",
          "s25-03-31 06:00",
          "s25-04-02 16:00",
          "s25-04-03 15:00",
          "s25-04-15 08:00",
          "s25-04-17 16:00",
          "s25-04-21 01:00",
          "s25-04-21 12:00",
          "s25-04-23 05:00",
          "s25-05-01 12:00",
          "s25-05-06 17:00",
          "s25-05-15 10:00",
          "s25-05-16 19:00",
          "s25-05-20 16:00",
          "s25-05-23 05:00",
          "s25-05-29 19:00",
          "s25-06-04 10:00",
          "s25-06-06 06:00",
          "s25-06-09 18:00",
          "s25-06-10 09:00",
          "s25-06-20 11:00",
          "s25-06-23 09:00",
          "s25-06-24 21:00",
          "s25-06-27 20:00",
          "s25-07-07 02:00",
          "s25-07-08 14:00",
          "s25-07-08 17:00",
          "s25-07-09 18:00",
          "s25-07-10 20:00",
          "s25-07-11 13:00"
         ],
         "y": {
          "bdata": "I5uZmZmZJ8BKmpmZmZk+wFwzMzMzU1LAv2ZmZmZmX8CcZmZmZmZhwMyZmZmZyWTAx5mZmZl5Z8BOMzMzM9NnwNnMzMzMTGnAQjMzMzPDb8AKAAAAABBlwJeZmZmZuWfAZmZmZmbmZsDYmZmZmRlIwDPNzMzMzEPArgAAAACAQ8BHZ2ZmZuZFwCA1MzMzMzDA383MzMxMQ8DfNTMzMzM+wDD/////X1hAhWVmZmZmVUBAMjMzM3NRQMHLzMzMTFhAFDIzMzNzWkD2/f////9FQPplZmZm9mdAn//////faUCO/////y9uQJ8yMzMzQ2xAkDIzMzMzZUDCZWZmZkZsQI0yMzMz02xAGmZmZmYec0C9/////09xQE+ZmZmZCXBAFczMzMysb0B6MjMzM7NuQCjMzMzMzG1AWP/////fakA+/////y9pQC3/////r2RA/MvMzMzsbUA0/////39pQKZlZmZmVmRAHczMzMzMYkDzmJmZmVluQMZlZmZmpm5AApmZmZnZbUDKZWZmZoZuQP+YmZmZ+W1ANszMzMxMaEA2zMzMzExoQA==",
          "dtype": "f8"
         }
        }
       ],
       "layout": {
        "font": {
         "color": "#e1e1e1",
         "size": 8
        },
        "height": 400,
        "margin": {
         "b": 10,
         "l": 10,
         "r": 10,
         "t": 10
        },
        "paper_bgcolor": "#2c303c",
        "plot_bgcolor": "#2c303c",
        "template": {
         "data": {
          "bar": [
           {
            "error_x": {
             "color": "#2a3f5f"
            },
            "error_y": {
             "color": "#2a3f5f"
            },
            "marker": {
             "line": {
              "color": "#E5ECF6",
              "width": 0.5
             },
             "pattern": {
              "fillmode": "overlay",
              "size": 10,
              "solidity": 0.2
             }
            },
            "type": "bar"
           }
          ],
          "barpolar": [
           {
            "marker": {
             "line": {
              "color": "#E5ECF6",
              "width": 0.5
             },
             "pattern": {
              "fillmode": "overlay",
              "size": 10,
              "solidity": 0.2
             }
            },
            "type": "barpolar"
           }
          ],
          "carpet": [
           {
            "aaxis": {
             "endlinecolor": "#2a3f5f",
             "gridcolor": "white",
             "linecolor": "white",
             "minorgridcolor": "white",
             "startlinecolor": "#2a3f5f"
            },
            "baxis": {
             "endlinecolor": "#2a3f5f",
             "gridcolor": "white",
             "linecolor": "white",
             "minorgridcolor": "white",
             "startlinecolor": "#2a3f5f"
            },
            "type": "carpet"
           }
          ],
          "choropleth": [
           {
            "colorbar": {
             "outlinewidth": 0,
             "ticks": ""
            },
            "type": "choropleth"
           }
          ],
          "contour": [
           {
            "colorbar": {
             "outlinewidth": 0,
             "ticks": ""
            },
            "colorscale": [
             [
              0,
              "#0d0887"
             ],
             [
              0.1111111111111111,
              "#46039f"
             ],
             [
              0.2222222222222222,
              "#7201a8"
             ],
             [
              0.3333333333333333,
              "#9c179e"
             ],
             [
              0.4444444444444444,
              "#bd3786"
             ],
             [
              0.5555555555555556,
              "#d8576b"
             ],
             [
              0.6666666666666666,
              "#ed7953"
             ],
             [
              0.7777777777777778,
              "#fb9f3a"
             ],
             [
              0.8888888888888888,
              "#fdca26"
             ],
             [
              1,
              "#f0f921"
             ]
            ],
            "type": "contour"
           }
          ],
          "contourcarpet": [
           {
            "colorbar": {
             "outlinewidth": 0,
             "ticks": ""
            },
            "type": "contourcarpet"
           }
          ],
          "heatmap": [
           {
            "colorbar": {
             "outlinewidth": 0,
             "ticks": ""
            },
            "colorscale": [
             [
              0,
              "#0d0887"
             ],
             [
              0.1111111111111111,
              "#46039f"
             ],
             [
              0.2222222222222222,
              "#7201a8"
             ],
             [
              0.3333333333333333,
              "#9c179e"
             ],
             [
              0.4444444444444444,
              "#bd3786"
             ],
             [
              0.5555555555555556,
              "#d8576b"
             ],
             [
              0.6666666666666666,
              "#ed7953"
             ],
             [
              0.7777777777777778,
              "#fb9f3a"
             ],
             [
              0.8888888888888888,
              "#fdca26"
             ],
             [
              1,
              "#f0f921"
             ]
            ],
            "type": "heatmap"
           }
          ],
          "histogram": [
           {
            "marker": {
             "pattern": {
              "fillmode": "overlay",
              "size": 10,
              "solidity": 0.2
             }
            },
            "type": "histogram"
           }
          ],
          "histogram2d": [
           {
            "colorbar": {
             "outlinewidth": 0,
             "ticks": ""
            },
            "colorscale": [
             [
              0,
              "#0d0887"
             ],
             [
              0.1111111111111111,
              "#46039f"
             ],
             [
              0.2222222222222222,
              "#7201a8"
             ],
             [
              0.3333333333333333,
              "#9c179e"
             ],
             [
              0.4444444444444444,
              "#bd3786"
             ],
             [
              0.5555555555555556,
              "#d8576b"
             ],
             [
              0.6666666666666666,
              "#ed7953"
             ],
             [
              0.7777777777777778,
              "#fb9f3a"
             ],
             [
              0.8888888888888888,
              "#fdca26"
             ],
             [
              1,
              "#f0f921"
             ]
            ],
            "type": "histogram2d"
           }
          ],
          "histogram2dcontour": [
           {
            "colorbar": {
             "outlinewidth": 0,
             "ticks": ""
            },
            "colorscale": [
             [
              0,
              "#0d0887"
             ],
             [
              0.1111111111111111,
              "#46039f"
             ],
             [
              0.2222222222222222,
              "#7201a8"
             ],
             [
              0.3333333333333333,
              "#9c179e"
             ],
             [
              0.4444444444444444,
              "#bd3786"
             ],
             [
              0.5555555555555556,
              "#d8576b"
             ],
             [
              0.6666666666666666,
              "#ed7953"
             ],
             [
              0.7777777777777778,
              "#fb9f3a"
             ],
             [
              0.8888888888888888,
              "#fdca26"
             ],
             [
              1,
              "#f0f921"
             ]
            ],
            "type": "histogram2dcontour"
           }
          ],
          "mesh3d": [
           {
            "colorbar": {
             "outlinewidth": 0,
             "ticks": ""
            },
            "type": "mesh3d"
           }
          ],
          "parcoords": [
           {
            "line": {
             "colorbar": {
              "outlinewidth": 0,
              "ticks": ""
             }
            },
            "type": "parcoords"
           }
          ],
          "pie": [
           {
            "automargin": true,
            "type": "pie"
           }
          ],
          "scatter": [
           {
            "fillpattern": {
             "fillmode": "overlay",
             "size": 10,
             "solidity": 0.2
            },
            "type": "scatter"
           }
          ],
          "scatter3d": [
           {
            "line": {
             "colorbar": {
              "outlinewidth": 0,
              "ticks": ""
             }
            },
            "marker": {
             "colorbar": {
              "outlinewidth": 0,
              "ticks": ""
             }
            },
            "type": "scatter3d"
           }
          ],
          "scattercarpet": [
           {
            "marker": {
             "colorbar": {
              "outlinewidth": 0,
              "ticks": ""
             }
            },
            "type": "scattercarpet"
           }
          ],
          "scattergeo": [
           {
            "marker": {
             "colorbar": {
              "outlinewidth": 0,
              "ticks": ""
             }
            },
            "type": "scattergeo"
           }
          ],
          "scattergl": [
           {
            "marker": {
             "colorbar": {
              "outlinewidth": 0,
              "ticks": ""
             }
            },
            "type": "scattergl"
           }
          ],
          "scattermap": [
           {
            "marker": {
             "colorbar": {
              "outlinewidth": 0,
              "ticks": ""
             }
            },
            "type": "scattermap"
           }
          ],
          "scattermapbox": [
           {
            "marker": {
             "colorbar": {
              "outlinewidth": 0,
              "ticks": ""
             }
            },
            "type": "scattermapbox"
           }
          ],
          "scatterpolar": [
           {
            "marker": {
             "colorbar": {
              "outlinewidth": 0,
              "ticks": ""
             }
            },
            "type": "scatterpolar"
           }
          ],
          "scatterpolargl": [
           {
            "marker": {
             "colorbar": {
              "outlinewidth": 0,
              "ticks": ""
             }
            },
            "type": "scatterpolargl"
           }
          ],
          "scatterternary": [
           {
            "marker": {
             "colorbar": {
              "outlinewidth": 0,
              "ticks": ""
             }
            },
            "type": "scatterternary"
           }
          ],
          "surface": [
           {
            "colorbar": {
             "outlinewidth": 0,
             "ticks": ""
            },
            "colorscale": [
             [
              0,
              "#0d0887"
             ],
             [
              0.1111111111111111,
              "#46039f"
             ],
             [
              0.2222222222222222,
              "#7201a8"
             ],
             [
              0.3333333333333333,
              "#9c179e"
             ],
             [
              0.4444444444444444,
              "#bd3786"
             ],
             [
              0.5555555555555556,
              "#d8576b"
             ],
             [
              0.6666666666666666,
              "#ed7953"
             ],
             [
              0.7777777777777778,
              "#fb9f3a"
             ],
             [
              0.8888888888888888,
              "#fdca26"
             ],
             [
              1,
              "#f0f921"
             ]
            ],
            "type": "surface"
           }
          ],
          "table": [
           {
            "cells": {
             "fill": {
              "color": "#EBF0F8"
             },
             "line": {
              "color": "white"
             }
            },
            "header": {
             "fill": {
              "color": "#C8D4E3"
             },
             "line": {
              "color": "white"
             }
            },
            "type": "table"
           }
          ]
         },
         "layout": {
          "annotationdefaults": {
           "arrowcolor": "#2a3f5f",
           "arrowhead": 0,
           "arrowwidth": 1
          },
          "autotypenumbers": "strict",
          "coloraxis": {
           "colorbar": {
            "outlinewidth": 0,
            "ticks": ""
           }
          },
          "colorscale": {
           "diverging": [
            [
             0,
             "#8e0152"
            ],
            [
             0.1,
             "#c51b7d"
            ],
            [
             0.2,
             "#de77ae"
            ],
            [
             0.3,
             "#f1b6da"
            ],
            [
             0.4,
             "#fde0ef"
            ],
            [
             0.5,
             "#f7f7f7"
            ],
            [
             0.6,
             "#e6f5d0"
            ],
            [
             0.7,
             "#b8e186"
            ],
            [
             0.8,
             "#7fbc41"
            ],
            [
             0.9,
             "#4d9221"
            ],
            [
             1,
             "#276419"
            ]
           ],
           "sequential": [
            [
             0,
             "#0d0887"
            ],
            [
             0.1111111111111111,
             "#46039f"
            ],
            [
             0.2222222222222222,
             "#7201a8"
            ],
            [
             0.3333333333333333,
             "#9c179e"
            ],
            [
             0.4444444444444444,
             "#bd3786"
            ],
            [
             0.5555555555555556,
             "#d8576b"
            ],
            [
             0.6666666666666666,
             "#ed7953"
            ],
            [
             0.7777777777777778,
             "#fb9f3a"
            ],
            [
             0.8888888888888888,
             "#fdca26"
            ],
            [
             1,
             "#f0f921"
            ]
           ],
           "sequentialminus": [
            [
             0,
             "#0d0887"
            ],
            [
             0.1111111111111111,
             "#46039f"
            ],
            [
             0.2222222222222222,
             "#7201a8"
            ],
            [
             0.3333333333333333,
             "#9c179e"
            ],
            [
             0.4444444444444444,
             "#bd3786"
            ],
            [
             0.5555555555555556,
             "#d8576b"
            ],
            [
             0.6666666666666666,
             "#ed7953"
            ],
            [
             0.7777777777777778,
             "#fb9f3a"
            ],
            [
             0.8888888888888888,
             "#fdca26"
            ],
            [
             1,
             "#f0f921"
            ]
           ]
          },
          "colorway": [
           "#636efa",
           "#EF553B",
           "#00cc96",
           "#ab63fa",
           "#FFA15A",
           "#19d3f3",
           "#FF6692",
           "#B6E880",
           "#FF97FF",
           "#FECB52"
          ],
          "font": {
           "color": "#2a3f5f"
          },
          "geo": {
           "bgcolor": "white",
           "lakecolor": "white",
           "landcolor": "#E5ECF6",
           "showlakes": true,
           "showland": true,
           "subunitcolor": "white"
          },
          "hoverlabel": {
           "align": "left"
          },
          "hovermode": "closest",
          "mapbox": {
           "style": "light"
          },
          "paper_bgcolor": "white",
          "plot_bgcolor": "#E5ECF6",
          "polar": {
           "angularaxis": {
            "gridcolor": "white",
            "linecolor": "white",
            "ticks": ""
           },
           "bgcolor": "#E5ECF6",
           "radialaxis": {
            "gridcolor": "white",
            "linecolor": "white",
            "ticks": ""
           }
          },
          "scene": {
           "xaxis": {
            "backgroundcolor": "#E5ECF6",
            "gridcolor": "white",
            "gridwidth": 2,
            "linecolor": "white",
            "showbackground": true,
            "ticks": "",
            "zerolinecolor": "white"
           },
           "yaxis": {
            "backgroundcolor": "#E5ECF6",
            "gridcolor": "white",
            "gridwidth": 2,
            "linecolor": "white",
            "showbackground": true,
            "ticks": "",
            "zerolinecolor": "white"
           },
           "zaxis": {
            "backgroundcolor": "#E5ECF6",
            "gridcolor": "white",
            "gridwidth": 2,
            "linecolor": "white",
            "showbackground": true,
            "ticks": "",
            "zerolinecolor": "white"
           }
          },
          "shapedefaults": {
           "line": {
            "color": "#2a3f5f"
           }
          },
          "ternary": {
           "aaxis": {
            "gridcolor": "white",
            "linecolor": "white",
            "ticks": ""
           },
           "baxis": {
            "gridcolor": "white",
            "linecolor": "white",
            "ticks": ""
           },
           "bgcolor": "#E5ECF6",
           "caxis": {
            "gridcolor": "white",
            "linecolor": "white",
            "ticks": ""
           }
          },
          "title": {
           "x": 0.05
          },
          "xaxis": {
           "automargin": true,
           "gridcolor": "white",
           "linecolor": "white",
           "ticks": "",
           "title": {
            "standoff": 15
           },
           "zerolinecolor": "white",
           "zerolinewidth": 2
          },
          "yaxis": {
           "automargin": true,
           "gridcolor": "white",
           "linecolor": "white",
           "ticks": "",
           "title": {
            "standoff": 15
           },
           "zerolinecolor": "white",
           "zerolinewidth": 2
          }
         }
        },
        "width": 900,
        "xaxis": {
         "gridcolor": "#1f292f",
         "nticks": 5,
         "rangeslider": {
          "visible": false
         }
        },
        "yaxis": {
         "gridcolor": "#1f292f"
        }
       }
      }
     },
     "metadata": {},
     "output_type": "display_data"
    },
    {
     "name": "stdout",
     "output_type": "stream",
     "text": [
      "USD_CAD 1\n"
     ]
    },
    {
     "data": {
      "application/vnd.plotly.v1+json": {
       "config": {
        "plotlyServerURL": "https://plot.ly"
       },
       "data": [
        {
         "line": {
          "shape": "spline",
          "width": 2
         },
         "name": "GAIN_C",
         "type": "scatter",
         "x": [
          "s24-11-28 11:00",
          "s24-12-02 17:00",
          "s24-12-06 02:00",
          "s24-12-08 23:00",
          "s24-12-12 14:00",
          "s24-12-12 20:00",
          "s24-12-12 21:00",
          "s24-12-13 05:00",
          "s24-12-23 16:00",
          "s24-12-24 17:00",
          "s24-12-26 02:00",
          "s24-12-26 13:00",
          "s24-12-31 02:00",
          "s25-01-02 19:00",
          "s25-01-06 18:00",
          "s25-01-09 02:00",
          "s25-01-14 13:00",
          "s25-01-17 05:00",
          "s25-01-21 15:00",
          "s25-01-23 20:00",
          "s25-01-24 07:00",
          "s25-01-24 08:00",
          "s25-01-27 00:00",
          "s25-01-28 04:00",
          "s25-02-04 20:00",
          "s25-02-07 17:00",
          "s25-02-10 01:00",
          "s25-02-10 12:00",
          "s25-02-10 21:00",
          "s25-02-11 06:00",
          "s25-02-12 02:00",
          "s25-02-18 20:00",
          "s25-02-21 14:00",
          "s25-02-24 21:00",
          "s25-03-05 16:00",
          "s25-03-10 13:00",
          "s25-03-13 07:00",
          "s25-03-17 03:00",
          "s25-03-17 09:00",
          "s25-03-20 07:00",
          "s25-03-24 20:00",
          "s25-03-28 04:00",
          "s25-04-02 15:00",
          "s25-04-07 16:00",
          "s25-04-09 11:00",
          "s25-04-16 02:00",
          "s25-04-17 15:00",
          "s25-04-23 16:00",
          "s25-04-28 19:00",
          "s25-05-02 20:00",
          "s25-05-05 10:00",
          "s25-05-08 10:00",
          "s25-05-14 16:00",
          "s25-05-15 21:00",
          "s25-05-19 09:00",
          "s25-05-28 04:00",
          "s25-05-30 17:00",
          "s25-06-09 11:00",
          "s25-06-11 15:00",
          "s25-06-18 05:00",
          "s25-06-25 03:00",
          "s25-07-07 11:00"
         ],
         "y": {
          "bdata": "b2ZmZmbmR8C+mZmZmXlRwEAzMzMzA2fADwAAAADwZMANAAAAAJBswERmZmZmFm3AM2ZmZmbmbsAmZmZmZsZXwFqZmZmZuVTAxzIzMzOzWcD5MjMzM8NhwOkyMzMzk2jAMWZmZmYWccDH/////xd0wNb/////P3TAFTMzMzO7csDS/////x9zwMv/////n3TAm8zMzMxkdMBjmZmZmVF2wOwyMzMzW3XAmv////9vcsCa/////69zwHzMzMzMjHjATpmZmZkBd8AiZmZmZn5zwDdmZmZmznLAoczMzMw0dMA+ZmZmZh51wFpmZmZm/nfALjMzMzP7ccBYZmZmZmZywNv/////R3fAGpmZmZmpb8BSmZmZmXlywF+ZmZmZ8XPAr8zMzMyEcsA3MzMzM5NzwCAAAAAAiHLAimZmZmbuc8AmAAAAAJhzwCIAAAAAuHPAamZmZmYmbcDNzMzMzERwwKA5MzMzMxXA7TMzMzPTV8DeZmZmZpZgwDbNzMzMHGrAOs3MzMz8acBCmpmZmVlswDzNzMzM9HLA4M3MzMycacB6Z2ZmZhZowNTNzMzM/GnA1mhmZmYmWMA3AQAAAPBnwAQBAAAAwGDAU2dmZmYGY8DazczMzDxiwFgCAAAAYFLAgCrMzMzM9D+AKszMzMz0Pw==",
          "dtype": "f8"
         }
        }
       ],
       "layout": {
        "font": {
         "color": "#e1e1e1",
         "size": 8
        },
        "height": 400,
        "margin": {
         "b": 10,
         "l": 10,
         "r": 10,
         "t": 10
        },
        "paper_bgcolor": "#2c303c",
        "plot_bgcolor": "#2c303c",
        "template": {
         "data": {
          "bar": [
           {
            "error_x": {
             "color": "#2a3f5f"
            },
            "error_y": {
             "color": "#2a3f5f"
            },
            "marker": {
             "line": {
              "color": "#E5ECF6",
              "width": 0.5
             },
             "pattern": {
              "fillmode": "overlay",
              "size": 10,
              "solidity": 0.2
             }
            },
            "type": "bar"
           }
          ],
          "barpolar": [
           {
            "marker": {
             "line": {
              "color": "#E5ECF6",
              "width": 0.5
             },
             "pattern": {
              "fillmode": "overlay",
              "size": 10,
              "solidity": 0.2
             }
            },
            "type": "barpolar"
           }
          ],
          "carpet": [
           {
            "aaxis": {
             "endlinecolor": "#2a3f5f",
             "gridcolor": "white",
             "linecolor": "white",
             "minorgridcolor": "white",
             "startlinecolor": "#2a3f5f"
            },
            "baxis": {
             "endlinecolor": "#2a3f5f",
             "gridcolor": "white",
             "linecolor": "white",
             "minorgridcolor": "white",
             "startlinecolor": "#2a3f5f"
            },
            "type": "carpet"
           }
          ],
          "choropleth": [
           {
            "colorbar": {
             "outlinewidth": 0,
             "ticks": ""
            },
            "type": "choropleth"
           }
          ],
          "contour": [
           {
            "colorbar": {
             "outlinewidth": 0,
             "ticks": ""
            },
            "colorscale": [
             [
              0,
              "#0d0887"
             ],
             [
              0.1111111111111111,
              "#46039f"
             ],
             [
              0.2222222222222222,
              "#7201a8"
             ],
             [
              0.3333333333333333,
              "#9c179e"
             ],
             [
              0.4444444444444444,
              "#bd3786"
             ],
             [
              0.5555555555555556,
              "#d8576b"
             ],
             [
              0.6666666666666666,
              "#ed7953"
             ],
             [
              0.7777777777777778,
              "#fb9f3a"
             ],
             [
              0.8888888888888888,
              "#fdca26"
             ],
             [
              1,
              "#f0f921"
             ]
            ],
            "type": "contour"
           }
          ],
          "contourcarpet": [
           {
            "colorbar": {
             "outlinewidth": 0,
             "ticks": ""
            },
            "type": "contourcarpet"
           }
          ],
          "heatmap": [
           {
            "colorbar": {
             "outlinewidth": 0,
             "ticks": ""
            },
            "colorscale": [
             [
              0,
              "#0d0887"
             ],
             [
              0.1111111111111111,
              "#46039f"
             ],
             [
              0.2222222222222222,
              "#7201a8"
             ],
             [
              0.3333333333333333,
              "#9c179e"
             ],
             [
              0.4444444444444444,
              "#bd3786"
             ],
             [
              0.5555555555555556,
              "#d8576b"
             ],
             [
              0.6666666666666666,
              "#ed7953"
             ],
             [
              0.7777777777777778,
              "#fb9f3a"
             ],
             [
              0.8888888888888888,
              "#fdca26"
             ],
             [
              1,
              "#f0f921"
             ]
            ],
            "type": "heatmap"
           }
          ],
          "histogram": [
           {
            "marker": {
             "pattern": {
              "fillmode": "overlay",
              "size": 10,
              "solidity": 0.2
             }
            },
            "type": "histogram"
           }
          ],
          "histogram2d": [
           {
            "colorbar": {
             "outlinewidth": 0,
             "ticks": ""
            },
            "colorscale": [
             [
              0,
              "#0d0887"
             ],
             [
              0.1111111111111111,
              "#46039f"
             ],
             [
              0.2222222222222222,
              "#7201a8"
             ],
             [
              0.3333333333333333,
              "#9c179e"
             ],
             [
              0.4444444444444444,
              "#bd3786"
             ],
             [
              0.5555555555555556,
              "#d8576b"
             ],
             [
              0.6666666666666666,
              "#ed7953"
             ],
             [
              0.7777777777777778,
              "#fb9f3a"
             ],
             [
              0.8888888888888888,
              "#fdca26"
             ],
             [
              1,
              "#f0f921"
             ]
            ],
            "type": "histogram2d"
           }
          ],
          "histogram2dcontour": [
           {
            "colorbar": {
             "outlinewidth": 0,
             "ticks": ""
            },
            "colorscale": [
             [
              0,
              "#0d0887"
             ],
             [
              0.1111111111111111,
              "#46039f"
             ],
             [
              0.2222222222222222,
              "#7201a8"
             ],
             [
              0.3333333333333333,
              "#9c179e"
             ],
             [
              0.4444444444444444,
              "#bd3786"
             ],
             [
              0.5555555555555556,
              "#d8576b"
             ],
             [
              0.6666666666666666,
              "#ed7953"
             ],
             [
              0.7777777777777778,
              "#fb9f3a"
             ],
             [
              0.8888888888888888,
              "#fdca26"
             ],
             [
              1,
              "#f0f921"
             ]
            ],
            "type": "histogram2dcontour"
           }
          ],
          "mesh3d": [
           {
            "colorbar": {
             "outlinewidth": 0,
             "ticks": ""
            },
            "type": "mesh3d"
           }
          ],
          "parcoords": [
           {
            "line": {
             "colorbar": {
              "outlinewidth": 0,
              "ticks": ""
             }
            },
            "type": "parcoords"
           }
          ],
          "pie": [
           {
            "automargin": true,
            "type": "pie"
           }
          ],
          "scatter": [
           {
            "fillpattern": {
             "fillmode": "overlay",
             "size": 10,
             "solidity": 0.2
            },
            "type": "scatter"
           }
          ],
          "scatter3d": [
           {
            "line": {
             "colorbar": {
              "outlinewidth": 0,
              "ticks": ""
             }
            },
            "marker": {
             "colorbar": {
              "outlinewidth": 0,
              "ticks": ""
             }
            },
            "type": "scatter3d"
           }
          ],
          "scattercarpet": [
           {
            "marker": {
             "colorbar": {
              "outlinewidth": 0,
              "ticks": ""
             }
            },
            "type": "scattercarpet"
           }
          ],
          "scattergeo": [
           {
            "marker": {
             "colorbar": {
              "outlinewidth": 0,
              "ticks": ""
             }
            },
            "type": "scattergeo"
           }
          ],
          "scattergl": [
           {
            "marker": {
             "colorbar": {
              "outlinewidth": 0,
              "ticks": ""
             }
            },
            "type": "scattergl"
           }
          ],
          "scattermap": [
           {
            "marker": {
             "colorbar": {
              "outlinewidth": 0,
              "ticks": ""
             }
            },
            "type": "scattermap"
           }
          ],
          "scattermapbox": [
           {
            "marker": {
             "colorbar": {
              "outlinewidth": 0,
              "ticks": ""
             }
            },
            "type": "scattermapbox"
           }
          ],
          "scatterpolar": [
           {
            "marker": {
             "colorbar": {
              "outlinewidth": 0,
              "ticks": ""
             }
            },
            "type": "scatterpolar"
           }
          ],
          "scatterpolargl": [
           {
            "marker": {
             "colorbar": {
              "outlinewidth": 0,
              "ticks": ""
             }
            },
            "type": "scatterpolargl"
           }
          ],
          "scatterternary": [
           {
            "marker": {
             "colorbar": {
              "outlinewidth": 0,
              "ticks": ""
             }
            },
            "type": "scatterternary"
           }
          ],
          "surface": [
           {
            "colorbar": {
             "outlinewidth": 0,
             "ticks": ""
            },
            "colorscale": [
             [
              0,
              "#0d0887"
             ],
             [
              0.1111111111111111,
              "#46039f"
             ],
             [
              0.2222222222222222,
              "#7201a8"
             ],
             [
              0.3333333333333333,
              "#9c179e"
             ],
             [
              0.4444444444444444,
              "#bd3786"
             ],
             [
              0.5555555555555556,
              "#d8576b"
             ],
             [
              0.6666666666666666,
              "#ed7953"
             ],
             [
              0.7777777777777778,
              "#fb9f3a"
             ],
             [
              0.8888888888888888,
              "#fdca26"
             ],
             [
              1,
              "#f0f921"
             ]
            ],
            "type": "surface"
           }
          ],
          "table": [
           {
            "cells": {
             "fill": {
              "color": "#EBF0F8"
             },
             "line": {
              "color": "white"
             }
            },
            "header": {
             "fill": {
              "color": "#C8D4E3"
             },
             "line": {
              "color": "white"
             }
            },
            "type": "table"
           }
          ]
         },
         "layout": {
          "annotationdefaults": {
           "arrowcolor": "#2a3f5f",
           "arrowhead": 0,
           "arrowwidth": 1
          },
          "autotypenumbers": "strict",
          "coloraxis": {
           "colorbar": {
            "outlinewidth": 0,
            "ticks": ""
           }
          },
          "colorscale": {
           "diverging": [
            [
             0,
             "#8e0152"
            ],
            [
             0.1,
             "#c51b7d"
            ],
            [
             0.2,
             "#de77ae"
            ],
            [
             0.3,
             "#f1b6da"
            ],
            [
             0.4,
             "#fde0ef"
            ],
            [
             0.5,
             "#f7f7f7"
            ],
            [
             0.6,
             "#e6f5d0"
            ],
            [
             0.7,
             "#b8e186"
            ],
            [
             0.8,
             "#7fbc41"
            ],
            [
             0.9,
             "#4d9221"
            ],
            [
             1,
             "#276419"
            ]
           ],
           "sequential": [
            [
             0,
             "#0d0887"
            ],
            [
             0.1111111111111111,
             "#46039f"
            ],
            [
             0.2222222222222222,
             "#7201a8"
            ],
            [
             0.3333333333333333,
             "#9c179e"
            ],
            [
             0.4444444444444444,
             "#bd3786"
            ],
            [
             0.5555555555555556,
             "#d8576b"
            ],
            [
             0.6666666666666666,
             "#ed7953"
            ],
            [
             0.7777777777777778,
             "#fb9f3a"
            ],
            [
             0.8888888888888888,
             "#fdca26"
            ],
            [
             1,
             "#f0f921"
            ]
           ],
           "sequentialminus": [
            [
             0,
             "#0d0887"
            ],
            [
             0.1111111111111111,
             "#46039f"
            ],
            [
             0.2222222222222222,
             "#7201a8"
            ],
            [
             0.3333333333333333,
             "#9c179e"
            ],
            [
             0.4444444444444444,
             "#bd3786"
            ],
            [
             0.5555555555555556,
             "#d8576b"
            ],
            [
             0.6666666666666666,
             "#ed7953"
            ],
            [
             0.7777777777777778,
             "#fb9f3a"
            ],
            [
             0.8888888888888888,
             "#fdca26"
            ],
            [
             1,
             "#f0f921"
            ]
           ]
          },
          "colorway": [
           "#636efa",
           "#EF553B",
           "#00cc96",
           "#ab63fa",
           "#FFA15A",
           "#19d3f3",
           "#FF6692",
           "#B6E880",
           "#FF97FF",
           "#FECB52"
          ],
          "font": {
           "color": "#2a3f5f"
          },
          "geo": {
           "bgcolor": "white",
           "lakecolor": "white",
           "landcolor": "#E5ECF6",
           "showlakes": true,
           "showland": true,
           "subunitcolor": "white"
          },
          "hoverlabel": {
           "align": "left"
          },
          "hovermode": "closest",
          "mapbox": {
           "style": "light"
          },
          "paper_bgcolor": "white",
          "plot_bgcolor": "#E5ECF6",
          "polar": {
           "angularaxis": {
            "gridcolor": "white",
            "linecolor": "white",
            "ticks": ""
           },
           "bgcolor": "#E5ECF6",
           "radialaxis": {
            "gridcolor": "white",
            "linecolor": "white",
            "ticks": ""
           }
          },
          "scene": {
           "xaxis": {
            "backgroundcolor": "#E5ECF6",
            "gridcolor": "white",
            "gridwidth": 2,
            "linecolor": "white",
            "showbackground": true,
            "ticks": "",
            "zerolinecolor": "white"
           },
           "yaxis": {
            "backgroundcolor": "#E5ECF6",
            "gridcolor": "white",
            "gridwidth": 2,
            "linecolor": "white",
            "showbackground": true,
            "ticks": "",
            "zerolinecolor": "white"
           },
           "zaxis": {
            "backgroundcolor": "#E5ECF6",
            "gridcolor": "white",
            "gridwidth": 2,
            "linecolor": "white",
            "showbackground": true,
            "ticks": "",
            "zerolinecolor": "white"
           }
          },
          "shapedefaults": {
           "line": {
            "color": "#2a3f5f"
           }
          },
          "ternary": {
           "aaxis": {
            "gridcolor": "white",
            "linecolor": "white",
            "ticks": ""
           },
           "baxis": {
            "gridcolor": "white",
            "linecolor": "white",
            "ticks": ""
           },
           "bgcolor": "#E5ECF6",
           "caxis": {
            "gridcolor": "white",
            "linecolor": "white",
            "ticks": ""
           }
          },
          "title": {
           "x": 0.05
          },
          "xaxis": {
           "automargin": true,
           "gridcolor": "white",
           "linecolor": "white",
           "ticks": "",
           "title": {
            "standoff": 15
           },
           "zerolinecolor": "white",
           "zerolinewidth": 2
          },
          "yaxis": {
           "automargin": true,
           "gridcolor": "white",
           "linecolor": "white",
           "ticks": "",
           "title": {
            "standoff": 15
           },
           "zerolinecolor": "white",
           "zerolinewidth": 2
          }
         }
        },
        "width": 900,
        "xaxis": {
         "gridcolor": "#1f292f",
         "nticks": 5,
         "rangeslider": {
          "visible": false
         }
        },
        "yaxis": {
         "gridcolor": "#1f292f"
        }
       }
      }
     },
     "metadata": {},
     "output_type": "display_data"
    }
   ],
   "source": [
    "for curr in df_MA_40_MA_80[df_MA_40_MA_80.total_gain > 0].pair.unique():\n",
    "    temp_gains = df_ma_trades_h1[(df_ma_trades_h1.cross==cross)*(df_ma_trades_h1.pair == curr)].copy()\n",
    "    print(curr, int(temp_gains.GAIN.sum()))\n",
    "    cp = CandlePlot(temp_gains, candles=False)\n",
    "    cp.show_plot(line_traces=[\"GAIN_C\"])"
   ]
  },
  {
   "cell_type": "code",
   "execution_count": null,
   "id": "5933c286",
   "metadata": {},
   "outputs": [],
   "source": []
  }
 ],
 "metadata": {
  "kernelspec": {
   "display_name": "default",
   "language": "python",
   "name": "python3"
  },
  "language_info": {
   "codemirror_mode": {
    "name": "ipython",
    "version": 3
   },
   "file_extension": ".py",
   "mimetype": "text/x-python",
   "name": "python",
   "nbconvert_exporter": "python",
   "pygments_lexer": "ipython3",
   "version": "3.13.5"
  }
 },
 "nbformat": 4,
 "nbformat_minor": 5
}
