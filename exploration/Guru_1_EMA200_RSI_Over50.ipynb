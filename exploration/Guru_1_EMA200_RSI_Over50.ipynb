{
 "cells": [
  {
   "cell_type": "code",
   "execution_count": 4,
   "id": "21e4f1e0",
   "metadata": {},
   "outputs": [],
   "source": [
    "import sys\n",
    "sys.path.append('../')\n",
    "import pandas as pd\n",
    "import plotly.graph_objects as go\n",
    "from technicals.indicators import RSI\n",
    "from technicals.patterns import apply_patterns\n",
    "from plotting import CandlePlot"
   ]
  },
  {
   "cell_type": "code",
   "execution_count": 5,
   "id": "15f83ff7",
   "metadata": {},
   "outputs": [],
   "source": [
    "df_raw = pd.read_pickle(\"../data/GBP_JPY_H1.pkl\")"
   ]
  },
  {
   "cell_type": "code",
   "execution_count": 7,
   "id": "7d4f448f",
   "metadata": {},
   "outputs": [
    {
     "data": {
      "text/plain": [
       "(68406, 14)"
      ]
     },
     "execution_count": 7,
     "metadata": {},
     "output_type": "execute_result"
    }
   ],
   "source": [
    "df_raw.shape"
   ]
  },
  {
   "cell_type": "code",
   "execution_count": 11,
   "id": "d9723bef",
   "metadata": {},
   "outputs": [],
   "source": [
    "df_an = df_raw.iloc[-6000:].copy()\n",
    "df_an.reset_index(drop=True, inplace=True)"
   ]
  },
  {
   "cell_type": "code",
   "execution_count": 12,
   "id": "f208f0fb",
   "metadata": {},
   "outputs": [],
   "source": [
    "df_an = RSI(df_an)"
   ]
  },
  {
   "cell_type": "code",
   "execution_count": 15,
   "id": "ad4718ba",
   "metadata": {},
   "outputs": [],
   "source": [
    "df_an = apply_patterns(df_an)"
   ]
  },
  {
   "cell_type": "code",
   "execution_count": 16,
   "id": "3c97393b",
   "metadata": {},
   "outputs": [],
   "source": [
    "df_an['EMA_200'] = df_an.mid_c.ewm(span=200, min_periods=200).mean()"
   ]
  },
  {
   "cell_type": "code",
   "execution_count": 17,
   "id": "17494969",
   "metadata": {},
   "outputs": [
    {
     "data": {
      "text/plain": [
       "Index(['time', 'volume', 'mid_o', 'mid_h', 'mid_l', 'mid_c', 'bid_o', 'bid_h',\n",
       "       'bid_l', 'bid_c', 'ask_o', 'ask_h', 'ask_l', 'ask_c', 'RSI_14',\n",
       "       'body_lower', 'body_upper', 'body_bottom_perc', 'body_top_perc',\n",
       "       'body_perc', 'direction', 'body_size', 'low_change', 'high_change',\n",
       "       'body_size_change', 'mid_point', 'mid_point_prev_2', 'body_size_prev',\n",
       "       'direction_prev', 'direction_prev_2', 'body_perc_prev',\n",
       "       'body_perc_prev_2', 'HANGING_MAN', 'SHOOTING_STAR', 'SPINNING_TOP',\n",
       "       'MARUBOZU', 'ENGULFING', 'TWEEZER_TOP', 'TWEEZER_BOTTOM',\n",
       "       'MORNING_STAR', 'EVENING_STAR', 'EMA_200'],\n",
       "      dtype='object')"
      ]
     },
     "execution_count": 17,
     "metadata": {},
     "output_type": "execute_result"
    }
   ],
   "source": [
    "df_an.columns"
   ]
  },
  {
   "cell_type": "code",
   "execution_count": null,
   "id": "2a16548c",
   "metadata": {},
   "outputs": [],
   "source": [
    "our_cols = ['time', 'mid_o', 'mid_h', 'mid_l', 'mid_c', 'ask_c', 'bid_c', 'direction', 'ENGULFING', 'EMA_200', 'RSI_14']"
   ]
  },
  {
   "cell_type": "code",
   "execution_count": 26,
   "id": "7a6a4e6f",
   "metadata": {},
   "outputs": [],
   "source": [
    "df_slim = df_an[our_cols].copy()\n",
    "df_slim.dropna(inplace=True)\n",
    "df_slim.reset_index(drop=True, inplace=True)"
   ]
  },
  {
   "cell_type": "code",
   "execution_count": 27,
   "id": "891c3556",
   "metadata": {},
   "outputs": [
    {
     "data": {
      "text/html": [
       "<div>\n",
       "<style scoped>\n",
       "    .dataframe tbody tr th:only-of-type {\n",
       "        vertical-align: middle;\n",
       "    }\n",
       "\n",
       "    .dataframe tbody tr th {\n",
       "        vertical-align: top;\n",
       "    }\n",
       "\n",
       "    .dataframe thead th {\n",
       "        text-align: right;\n",
       "    }\n",
       "</style>\n",
       "<table border=\"1\" class=\"dataframe\">\n",
       "  <thead>\n",
       "    <tr style=\"text-align: right;\">\n",
       "      <th></th>\n",
       "      <th>time</th>\n",
       "      <th>mid_o</th>\n",
       "      <th>mid_h</th>\n",
       "      <th>mid_l</th>\n",
       "      <th>mid_c</th>\n",
       "      <th>ask_c</th>\n",
       "      <th>bid_c</th>\n",
       "      <th>direction</th>\n",
       "      <th>ENGULFING</th>\n",
       "      <th>EMA_200</th>\n",
       "      <th>RSI_14</th>\n",
       "    </tr>\n",
       "  </thead>\n",
       "  <tbody>\n",
       "    <tr>\n",
       "      <th>5796</th>\n",
       "      <td>2025-06-27 19:00:00+00:00</td>\n",
       "      <td>198.193</td>\n",
       "      <td>198.428</td>\n",
       "      <td>198.180</td>\n",
       "      <td>198.412</td>\n",
       "      <td>198.429</td>\n",
       "      <td>198.395</td>\n",
       "      <td>1</td>\n",
       "      <td>False</td>\n",
       "      <td>197.233094</td>\n",
       "      <td>51.435464</td>\n",
       "    </tr>\n",
       "    <tr>\n",
       "      <th>5797</th>\n",
       "      <td>2025-06-27 20:00:00+00:00</td>\n",
       "      <td>198.410</td>\n",
       "      <td>198.506</td>\n",
       "      <td>198.344</td>\n",
       "      <td>198.467</td>\n",
       "      <td>198.514</td>\n",
       "      <td>198.420</td>\n",
       "      <td>1</td>\n",
       "      <td>False</td>\n",
       "      <td>197.245371</td>\n",
       "      <td>53.058522</td>\n",
       "    </tr>\n",
       "    <tr>\n",
       "      <th>5798</th>\n",
       "      <td>2025-06-29 21:00:00+00:00</td>\n",
       "      <td>197.921</td>\n",
       "      <td>198.294</td>\n",
       "      <td>197.916</td>\n",
       "      <td>198.206</td>\n",
       "      <td>198.431</td>\n",
       "      <td>197.981</td>\n",
       "      <td>1</td>\n",
       "      <td>False</td>\n",
       "      <td>197.254930</td>\n",
       "      <td>45.318336</td>\n",
       "    </tr>\n",
       "    <tr>\n",
       "      <th>5799</th>\n",
       "      <td>2025-06-29 22:00:00+00:00</td>\n",
       "      <td>198.167</td>\n",
       "      <td>198.466</td>\n",
       "      <td>198.167</td>\n",
       "      <td>198.298</td>\n",
       "      <td>198.319</td>\n",
       "      <td>198.278</td>\n",
       "      <td>1</td>\n",
       "      <td>False</td>\n",
       "      <td>197.265309</td>\n",
       "      <td>48.187547</td>\n",
       "    </tr>\n",
       "    <tr>\n",
       "      <th>5800</th>\n",
       "      <td>2025-06-29 23:00:00+00:00</td>\n",
       "      <td>198.291</td>\n",
       "      <td>198.319</td>\n",
       "      <td>198.188</td>\n",
       "      <td>198.240</td>\n",
       "      <td>198.262</td>\n",
       "      <td>198.218</td>\n",
       "      <td>-1</td>\n",
       "      <td>False</td>\n",
       "      <td>197.275007</td>\n",
       "      <td>46.529953</td>\n",
       "    </tr>\n",
       "  </tbody>\n",
       "</table>\n",
       "</div>"
      ],
      "text/plain": [
       "                          time    mid_o    mid_h    mid_l    mid_c    ask_c  \\\n",
       "5796 2025-06-27 19:00:00+00:00  198.193  198.428  198.180  198.412  198.429   \n",
       "5797 2025-06-27 20:00:00+00:00  198.410  198.506  198.344  198.467  198.514   \n",
       "5798 2025-06-29 21:00:00+00:00  197.921  198.294  197.916  198.206  198.431   \n",
       "5799 2025-06-29 22:00:00+00:00  198.167  198.466  198.167  198.298  198.319   \n",
       "5800 2025-06-29 23:00:00+00:00  198.291  198.319  198.188  198.240  198.262   \n",
       "\n",
       "        bid_c  direction  ENGULFING     EMA_200     RSI_14  \n",
       "5796  198.395          1      False  197.233094  51.435464  \n",
       "5797  198.420          1      False  197.245371  53.058522  \n",
       "5798  197.981          1      False  197.254930  45.318336  \n",
       "5799  198.278          1      False  197.265309  48.187547  \n",
       "5800  198.218         -1      False  197.275007  46.529953  "
      ]
     },
     "execution_count": 27,
     "metadata": {},
     "output_type": "execute_result"
    }
   ],
   "source": [
    "df_slim.tail()"
   ]
  },
  {
   "cell_type": "code",
   "execution_count": 28,
   "id": "8b09ee1d",
   "metadata": {},
   "outputs": [],
   "source": [
    "BUY = 1\n",
    "SELL = -1\n",
    "NONE = 0\n",
    "RSI_LIMIT = 50.0\n",
    "\n",
    "def apply_signal(row):\n",
    "    if row.ENGULFING == True:\n",
    "        if row.direction == BUY and row.mid_l > row.EMA_200:\n",
    "            if row.RSI_14 > RSI_LIMIT:\n",
    "                return BUY\n",
    "        if row.direction == SELL and row.mid_h > row.EMA_200:\n",
    "            if row.RSI_14 < RSI_LIMIT:\n",
    "                return SELL\n",
    "    return NONE\n",
    "            "
   ]
  },
  {
   "cell_type": "code",
   "execution_count": 29,
   "id": "f0bc9091",
   "metadata": {},
   "outputs": [],
   "source": [
    "df_slim['SIGNAL'] = df_slim.apply(apply_signal, axis=1)"
   ]
  },
  {
   "cell_type": "code",
   "execution_count": 30,
   "id": "89c6572d",
   "metadata": {},
   "outputs": [
    {
     "data": {
      "text/plain": [
       "SIGNAL\n",
       " 0    5348\n",
       " 1     284\n",
       "-1     169\n",
       "Name: count, dtype: int64"
      ]
     },
     "execution_count": 30,
     "metadata": {},
     "output_type": "execute_result"
    }
   ],
   "source": [
    "df_slim['SIGNAL'].value_counts()"
   ]
  },
  {
   "cell_type": "code",
   "execution_count": 31,
   "id": "39b6a300",
   "metadata": {},
   "outputs": [],
   "source": [
    "LOSS_FACTOR = -1.0\n",
    "PROFIT_FACTOR = 1.5\n",
    "\n",
    "def apply_take_profit(row):\n",
    "    if row.SIGNAL != NONE:\n",
    "        return (row.mid_c - row.mid_o) * PROFIT_FACTOR + row.mid_c\n",
    "    else:\n",
    "        return 0.0\n",
    "def apply_stop_loss(row):\n",
    "    if row.SIGNAL != NONE:\n",
    "        return row.mid_o\n",
    "    else:\n",
    "        return 0.0"
   ]
  },
  {
   "cell_type": "code",
   "execution_count": 32,
   "id": "5850b9b2",
   "metadata": {},
   "outputs": [],
   "source": [
    "df_slim['TP'] = df_slim.apply(apply_take_profit, axis=1)\n",
    "df_slim['SL'] = df_slim.apply(apply_stop_loss, axis=1)"
   ]
  },
  {
   "cell_type": "code",
   "execution_count": 35,
   "id": "2b9d4d18",
   "metadata": {},
   "outputs": [
    {
     "data": {
      "text/html": [
       "<div>\n",
       "<style scoped>\n",
       "    .dataframe tbody tr th:only-of-type {\n",
       "        vertical-align: middle;\n",
       "    }\n",
       "\n",
       "    .dataframe tbody tr th {\n",
       "        vertical-align: top;\n",
       "    }\n",
       "\n",
       "    .dataframe thead th {\n",
       "        text-align: right;\n",
       "    }\n",
       "</style>\n",
       "<table border=\"1\" class=\"dataframe\">\n",
       "  <thead>\n",
       "    <tr style=\"text-align: right;\">\n",
       "      <th></th>\n",
       "      <th>time</th>\n",
       "      <th>mid_o</th>\n",
       "      <th>mid_h</th>\n",
       "      <th>mid_l</th>\n",
       "      <th>mid_c</th>\n",
       "      <th>ask_c</th>\n",
       "      <th>bid_c</th>\n",
       "      <th>direction</th>\n",
       "      <th>ENGULFING</th>\n",
       "      <th>EMA_200</th>\n",
       "      <th>RSI_14</th>\n",
       "      <th>SIGNAL</th>\n",
       "      <th>TP</th>\n",
       "      <th>SL</th>\n",
       "    </tr>\n",
       "  </thead>\n",
       "  <tbody>\n",
       "    <tr>\n",
       "      <th>359</th>\n",
       "      <td>2024-08-13 06:00:00+00:00</td>\n",
       "      <td>188.734</td>\n",
       "      <td>189.508</td>\n",
       "      <td>188.734</td>\n",
       "      <td>189.354</td>\n",
       "      <td>189.370</td>\n",
       "      <td>189.339</td>\n",
       "      <td>1</td>\n",
       "      <td>True</td>\n",
       "      <td>188.620034</td>\n",
       "      <td>72.444544</td>\n",
       "      <td>1</td>\n",
       "      <td>190.2840</td>\n",
       "      <td>188.734</td>\n",
       "    </tr>\n",
       "    <tr>\n",
       "      <th>384</th>\n",
       "      <td>2024-08-14 07:00:00+00:00</td>\n",
       "      <td>188.918</td>\n",
       "      <td>189.278</td>\n",
       "      <td>188.864</td>\n",
       "      <td>189.255</td>\n",
       "      <td>189.268</td>\n",
       "      <td>189.242</td>\n",
       "      <td>1</td>\n",
       "      <td>True</td>\n",
       "      <td>188.672254</td>\n",
       "      <td>58.523445</td>\n",
       "      <td>1</td>\n",
       "      <td>189.7605</td>\n",
       "      <td>188.918</td>\n",
       "    </tr>\n",
       "    <tr>\n",
       "      <th>399</th>\n",
       "      <td>2024-08-14 22:00:00+00:00</td>\n",
       "      <td>188.926</td>\n",
       "      <td>188.970</td>\n",
       "      <td>188.768</td>\n",
       "      <td>188.943</td>\n",
       "      <td>188.961</td>\n",
       "      <td>188.925</td>\n",
       "      <td>1</td>\n",
       "      <td>True</td>\n",
       "      <td>188.699381</td>\n",
       "      <td>52.452323</td>\n",
       "      <td>1</td>\n",
       "      <td>188.9685</td>\n",
       "      <td>188.926</td>\n",
       "    </tr>\n",
       "    <tr>\n",
       "      <th>402</th>\n",
       "      <td>2024-08-15 01:00:00+00:00</td>\n",
       "      <td>188.854</td>\n",
       "      <td>189.319</td>\n",
       "      <td>188.803</td>\n",
       "      <td>189.236</td>\n",
       "      <td>189.252</td>\n",
       "      <td>189.221</td>\n",
       "      <td>1</td>\n",
       "      <td>True</td>\n",
       "      <td>188.708007</td>\n",
       "      <td>58.707240</td>\n",
       "      <td>1</td>\n",
       "      <td>189.8090</td>\n",
       "      <td>188.854</td>\n",
       "    </tr>\n",
       "    <tr>\n",
       "      <th>407</th>\n",
       "      <td>2024-08-15 06:00:00+00:00</td>\n",
       "      <td>188.977</td>\n",
       "      <td>189.293</td>\n",
       "      <td>188.928</td>\n",
       "      <td>189.150</td>\n",
       "      <td>189.166</td>\n",
       "      <td>189.133</td>\n",
       "      <td>1</td>\n",
       "      <td>True</td>\n",
       "      <td>188.728002</td>\n",
       "      <td>55.591381</td>\n",
       "      <td>1</td>\n",
       "      <td>189.4095</td>\n",
       "      <td>188.977</td>\n",
       "    </tr>\n",
       "  </tbody>\n",
       "</table>\n",
       "</div>"
      ],
      "text/plain": [
       "                         time    mid_o    mid_h    mid_l    mid_c    ask_c  \\\n",
       "359 2024-08-13 06:00:00+00:00  188.734  189.508  188.734  189.354  189.370   \n",
       "384 2024-08-14 07:00:00+00:00  188.918  189.278  188.864  189.255  189.268   \n",
       "399 2024-08-14 22:00:00+00:00  188.926  188.970  188.768  188.943  188.961   \n",
       "402 2024-08-15 01:00:00+00:00  188.854  189.319  188.803  189.236  189.252   \n",
       "407 2024-08-15 06:00:00+00:00  188.977  189.293  188.928  189.150  189.166   \n",
       "\n",
       "       bid_c  direction  ENGULFING     EMA_200     RSI_14  SIGNAL        TP  \\\n",
       "359  189.339          1       True  188.620034  72.444544       1  190.2840   \n",
       "384  189.242          1       True  188.672254  58.523445       1  189.7605   \n",
       "399  188.925          1       True  188.699381  52.452323       1  188.9685   \n",
       "402  189.221          1       True  188.708007  58.707240       1  189.8090   \n",
       "407  189.133          1       True  188.728002  55.591381       1  189.4095   \n",
       "\n",
       "          SL  \n",
       "359  188.734  \n",
       "384  188.918  \n",
       "399  188.926  \n",
       "402  188.854  \n",
       "407  188.977  "
      ]
     },
     "execution_count": 35,
     "metadata": {},
     "output_type": "execute_result"
    }
   ],
   "source": [
    "df_slim[df_slim.SIGNAL == BUY].head()"
   ]
  },
  {
   "cell_type": "code",
   "execution_count": 53,
   "id": "ff517f0b",
   "metadata": {},
   "outputs": [
    {
     "data": {
      "application/vnd.plotly.v1+json": {
       "config": {
        "plotlyServerURL": "https://plot.ly"
       },
       "data": [
        {
         "close": {
          "bdata": "5dAi2/mmaEB56SYxCKxoQPT91HjplmhAPQrXo3CZaEBI4XoUrotoQEw3iUFgjWhAHVpkO9+PaEBcj8L1KJBoQGq8dJMYlGhATDeJQWCVaEDn+6nx0pFoQI2XbhKDkGhA",
          "dtype": "f8"
         },
         "decreasing": {
          "fillcolor": "#CC2E3C",
          "line": {
           "color": "#FF3A4C"
          }
         },
         "high": {
          "bdata": "K4cW2c6vaECwcmiR7axoQI2XbhKDrGhAPzVeukmcaECDwMqhRZ5oQDMzMzMzk2hArBxaZDuTaED+1HjpJpFoQC/dJAaBlWhAJQaBlUOXaEA730+Nl5ZoQF66SQwCk2hA",
          "dtype": "f8"
         },
         "increasing": {
          "fillcolor": "#24A06B",
          "line": {
           "color": "#2EC886"
          }
         },
         "line": {
          "width": 1
         },
         "low": {
          "bdata": "AiuHFtmmaEBiEFg5tKRoQB+F61G4jmhAppvEILCGaECWQ4ts54NoQFg5tMh2hmhASOF6FK6LaEAIrBxaZItoQFYOLbKdj2hAKVyPwvWQaED4U+Olm5BoQKJFtvP9jGhA",
          "dtype": "f8"
         },
         "opacity": 1,
         "open": {
          "bdata": "AiuHFtmqaEDl0CLb+aZoQPLSTWIQrGhAAiuHFtmWaEAv3SQGgZloQM/3U+Oli2hAWmQ730+NaEDjpZvEIJBoQNV46SYxkGhAx0s3iUGUaEC8dJMYBJZoQEw3iUFgkWhA",
          "dtype": "f8"
         },
         "type": "candlestick",
         "x": [
          "s24-11-20 12:00",
          "s24-11-20 13:00",
          "s24-11-20 14:00",
          "s24-11-20 15:00",
          "s24-11-20 16:00",
          "s24-11-20 17:00",
          "s24-11-20 18:00",
          "s24-11-20 19:00",
          "s24-11-20 20:00",
          "s24-11-20 21:00",
          "s24-11-20 22:00",
          "s24-11-20 23:00"
         ]
        },
        {
         "marker": {
          "color": "#0000FF",
          "size": 12
         },
         "mode": "markers",
         "type": "scatter",
         "x": [
          "s24-11-20 13:00",
          "s24-11-20 16:00"
         ],
         "y": {
          "bdata": "eekmMQisaEBI4XoUrotoQA==",
          "dtype": "f8"
         }
        },
        {
         "marker": {
          "color": "#00FF00",
          "size": 12
         },
         "mode": "markers",
         "type": "scatter",
         "x": [
          "s24-11-20 13:00",
          "s24-11-20 16:00"
         ],
         "y": {
          "bdata": "Vw4tsp2zaEBu5/up8XZoQA==",
          "dtype": "f8"
         }
        },
        {
         "marker": {
          "color": "#FF0000",
          "size": 12
         },
         "mode": "markers",
         "type": "scatter",
         "x": [
          "s24-11-20 13:00",
          "s24-11-20 16:00"
         ],
         "y": {
          "bdata": "5dAi2/mmaEAv3SQGgZloQA==",
          "dtype": "f8"
         }
        },
        {
         "line": {
          "shape": "spline",
          "width": 2
         },
         "name": "EMA_200",
         "type": "scatter",
         "x": [
          "s24-11-20 12:00",
          "s24-11-20 13:00",
          "s24-11-20 14:00",
          "s24-11-20 15:00",
          "s24-11-20 16:00",
          "s24-11-20 17:00",
          "s24-11-20 18:00",
          "s24-11-20 19:00",
          "s24-11-20 20:00",
          "s24-11-20 21:00",
          "s24-11-20 22:00",
          "s24-11-20 23:00"
         ],
         "xaxis": "x",
         "y": {
          "bdata": "BxF/2gWYaEAZdHHSOJhoQFvbN3w1mGhAmyAAnziYaEA44OesGJhoQHlXJV79l2hATgyWsOiXaEDM1oDz1JdoQI4OXW/Ll2hA47omRsWXaEBhE2AgtpdoQNssocmjl2hA",
          "dtype": "f8"
         },
         "yaxis": "y"
        },
        {
         "line": {
          "shape": "spline",
          "width": 2
         },
         "name": "RSI_14",
         "type": "scatter",
         "x": [
          "s24-11-20 12:00",
          "s24-11-20 13:00",
          "s24-11-20 14:00",
          "s24-11-20 15:00",
          "s24-11-20 16:00",
          "s24-11-20 17:00",
          "s24-11-20 18:00",
          "s24-11-20 19:00",
          "s24-11-20 20:00",
          "s24-11-20 21:00",
          "s24-11-20 22:00",
          "s24-11-20 23:00"
         ],
         "xaxis": "x",
         "y": {
          "bdata": "f3f1qwmCT0Ac9wJWNkFQQPr/pOwBJEpAn25PZnS6SkBOues2LFtHQMY+AcGEy0dATJ2oIzB2SEAVbp1zyopIQMphiOOqq0lA/Q2NEeAKSkD/4xxBn+dIQGYST3K4ekhA",
          "dtype": "f8"
         },
         "yaxis": "y2"
        }
       ],
       "layout": {
        "font": {
         "color": "#e1e1e1",
         "size": 8
        },
        "height": 400,
        "margin": {
         "b": 10,
         "l": 10,
         "r": 10,
         "t": 10
        },
        "paper_bgcolor": "#2c303c",
        "plot_bgcolor": "#2c303c",
        "template": {
         "data": {
          "bar": [
           {
            "error_x": {
             "color": "#2a3f5f"
            },
            "error_y": {
             "color": "#2a3f5f"
            },
            "marker": {
             "line": {
              "color": "#E5ECF6",
              "width": 0.5
             },
             "pattern": {
              "fillmode": "overlay",
              "size": 10,
              "solidity": 0.2
             }
            },
            "type": "bar"
           }
          ],
          "barpolar": [
           {
            "marker": {
             "line": {
              "color": "#E5ECF6",
              "width": 0.5
             },
             "pattern": {
              "fillmode": "overlay",
              "size": 10,
              "solidity": 0.2
             }
            },
            "type": "barpolar"
           }
          ],
          "carpet": [
           {
            "aaxis": {
             "endlinecolor": "#2a3f5f",
             "gridcolor": "white",
             "linecolor": "white",
             "minorgridcolor": "white",
             "startlinecolor": "#2a3f5f"
            },
            "baxis": {
             "endlinecolor": "#2a3f5f",
             "gridcolor": "white",
             "linecolor": "white",
             "minorgridcolor": "white",
             "startlinecolor": "#2a3f5f"
            },
            "type": "carpet"
           }
          ],
          "choropleth": [
           {
            "colorbar": {
             "outlinewidth": 0,
             "ticks": ""
            },
            "type": "choropleth"
           }
          ],
          "contour": [
           {
            "colorbar": {
             "outlinewidth": 0,
             "ticks": ""
            },
            "colorscale": [
             [
              0,
              "#0d0887"
             ],
             [
              0.1111111111111111,
              "#46039f"
             ],
             [
              0.2222222222222222,
              "#7201a8"
             ],
             [
              0.3333333333333333,
              "#9c179e"
             ],
             [
              0.4444444444444444,
              "#bd3786"
             ],
             [
              0.5555555555555556,
              "#d8576b"
             ],
             [
              0.6666666666666666,
              "#ed7953"
             ],
             [
              0.7777777777777778,
              "#fb9f3a"
             ],
             [
              0.8888888888888888,
              "#fdca26"
             ],
             [
              1,
              "#f0f921"
             ]
            ],
            "type": "contour"
           }
          ],
          "contourcarpet": [
           {
            "colorbar": {
             "outlinewidth": 0,
             "ticks": ""
            },
            "type": "contourcarpet"
           }
          ],
          "heatmap": [
           {
            "colorbar": {
             "outlinewidth": 0,
             "ticks": ""
            },
            "colorscale": [
             [
              0,
              "#0d0887"
             ],
             [
              0.1111111111111111,
              "#46039f"
             ],
             [
              0.2222222222222222,
              "#7201a8"
             ],
             [
              0.3333333333333333,
              "#9c179e"
             ],
             [
              0.4444444444444444,
              "#bd3786"
             ],
             [
              0.5555555555555556,
              "#d8576b"
             ],
             [
              0.6666666666666666,
              "#ed7953"
             ],
             [
              0.7777777777777778,
              "#fb9f3a"
             ],
             [
              0.8888888888888888,
              "#fdca26"
             ],
             [
              1,
              "#f0f921"
             ]
            ],
            "type": "heatmap"
           }
          ],
          "histogram": [
           {
            "marker": {
             "pattern": {
              "fillmode": "overlay",
              "size": 10,
              "solidity": 0.2
             }
            },
            "type": "histogram"
           }
          ],
          "histogram2d": [
           {
            "colorbar": {
             "outlinewidth": 0,
             "ticks": ""
            },
            "colorscale": [
             [
              0,
              "#0d0887"
             ],
             [
              0.1111111111111111,
              "#46039f"
             ],
             [
              0.2222222222222222,
              "#7201a8"
             ],
             [
              0.3333333333333333,
              "#9c179e"
             ],
             [
              0.4444444444444444,
              "#bd3786"
             ],
             [
              0.5555555555555556,
              "#d8576b"
             ],
             [
              0.6666666666666666,
              "#ed7953"
             ],
             [
              0.7777777777777778,
              "#fb9f3a"
             ],
             [
              0.8888888888888888,
              "#fdca26"
             ],
             [
              1,
              "#f0f921"
             ]
            ],
            "type": "histogram2d"
           }
          ],
          "histogram2dcontour": [
           {
            "colorbar": {
             "outlinewidth": 0,
             "ticks": ""
            },
            "colorscale": [
             [
              0,
              "#0d0887"
             ],
             [
              0.1111111111111111,
              "#46039f"
             ],
             [
              0.2222222222222222,
              "#7201a8"
             ],
             [
              0.3333333333333333,
              "#9c179e"
             ],
             [
              0.4444444444444444,
              "#bd3786"
             ],
             [
              0.5555555555555556,
              "#d8576b"
             ],
             [
              0.6666666666666666,
              "#ed7953"
             ],
             [
              0.7777777777777778,
              "#fb9f3a"
             ],
             [
              0.8888888888888888,
              "#fdca26"
             ],
             [
              1,
              "#f0f921"
             ]
            ],
            "type": "histogram2dcontour"
           }
          ],
          "mesh3d": [
           {
            "colorbar": {
             "outlinewidth": 0,
             "ticks": ""
            },
            "type": "mesh3d"
           }
          ],
          "parcoords": [
           {
            "line": {
             "colorbar": {
              "outlinewidth": 0,
              "ticks": ""
             }
            },
            "type": "parcoords"
           }
          ],
          "pie": [
           {
            "automargin": true,
            "type": "pie"
           }
          ],
          "scatter": [
           {
            "fillpattern": {
             "fillmode": "overlay",
             "size": 10,
             "solidity": 0.2
            },
            "type": "scatter"
           }
          ],
          "scatter3d": [
           {
            "line": {
             "colorbar": {
              "outlinewidth": 0,
              "ticks": ""
             }
            },
            "marker": {
             "colorbar": {
              "outlinewidth": 0,
              "ticks": ""
             }
            },
            "type": "scatter3d"
           }
          ],
          "scattercarpet": [
           {
            "marker": {
             "colorbar": {
              "outlinewidth": 0,
              "ticks": ""
             }
            },
            "type": "scattercarpet"
           }
          ],
          "scattergeo": [
           {
            "marker": {
             "colorbar": {
              "outlinewidth": 0,
              "ticks": ""
             }
            },
            "type": "scattergeo"
           }
          ],
          "scattergl": [
           {
            "marker": {
             "colorbar": {
              "outlinewidth": 0,
              "ticks": ""
             }
            },
            "type": "scattergl"
           }
          ],
          "scattermap": [
           {
            "marker": {
             "colorbar": {
              "outlinewidth": 0,
              "ticks": ""
             }
            },
            "type": "scattermap"
           }
          ],
          "scattermapbox": [
           {
            "marker": {
             "colorbar": {
              "outlinewidth": 0,
              "ticks": ""
             }
            },
            "type": "scattermapbox"
           }
          ],
          "scatterpolar": [
           {
            "marker": {
             "colorbar": {
              "outlinewidth": 0,
              "ticks": ""
             }
            },
            "type": "scatterpolar"
           }
          ],
          "scatterpolargl": [
           {
            "marker": {
             "colorbar": {
              "outlinewidth": 0,
              "ticks": ""
             }
            },
            "type": "scatterpolargl"
           }
          ],
          "scatterternary": [
           {
            "marker": {
             "colorbar": {
              "outlinewidth": 0,
              "ticks": ""
             }
            },
            "type": "scatterternary"
           }
          ],
          "surface": [
           {
            "colorbar": {
             "outlinewidth": 0,
             "ticks": ""
            },
            "colorscale": [
             [
              0,
              "#0d0887"
             ],
             [
              0.1111111111111111,
              "#46039f"
             ],
             [
              0.2222222222222222,
              "#7201a8"
             ],
             [
              0.3333333333333333,
              "#9c179e"
             ],
             [
              0.4444444444444444,
              "#bd3786"
             ],
             [
              0.5555555555555556,
              "#d8576b"
             ],
             [
              0.6666666666666666,
              "#ed7953"
             ],
             [
              0.7777777777777778,
              "#fb9f3a"
             ],
             [
              0.8888888888888888,
              "#fdca26"
             ],
             [
              1,
              "#f0f921"
             ]
            ],
            "type": "surface"
           }
          ],
          "table": [
           {
            "cells": {
             "fill": {
              "color": "#EBF0F8"
             },
             "line": {
              "color": "white"
             }
            },
            "header": {
             "fill": {
              "color": "#C8D4E3"
             },
             "line": {
              "color": "white"
             }
            },
            "type": "table"
           }
          ]
         },
         "layout": {
          "annotationdefaults": {
           "arrowcolor": "#2a3f5f",
           "arrowhead": 0,
           "arrowwidth": 1
          },
          "autotypenumbers": "strict",
          "coloraxis": {
           "colorbar": {
            "outlinewidth": 0,
            "ticks": ""
           }
          },
          "colorscale": {
           "diverging": [
            [
             0,
             "#8e0152"
            ],
            [
             0.1,
             "#c51b7d"
            ],
            [
             0.2,
             "#de77ae"
            ],
            [
             0.3,
             "#f1b6da"
            ],
            [
             0.4,
             "#fde0ef"
            ],
            [
             0.5,
             "#f7f7f7"
            ],
            [
             0.6,
             "#e6f5d0"
            ],
            [
             0.7,
             "#b8e186"
            ],
            [
             0.8,
             "#7fbc41"
            ],
            [
             0.9,
             "#4d9221"
            ],
            [
             1,
             "#276419"
            ]
           ],
           "sequential": [
            [
             0,
             "#0d0887"
            ],
            [
             0.1111111111111111,
             "#46039f"
            ],
            [
             0.2222222222222222,
             "#7201a8"
            ],
            [
             0.3333333333333333,
             "#9c179e"
            ],
            [
             0.4444444444444444,
             "#bd3786"
            ],
            [
             0.5555555555555556,
             "#d8576b"
            ],
            [
             0.6666666666666666,
             "#ed7953"
            ],
            [
             0.7777777777777778,
             "#fb9f3a"
            ],
            [
             0.8888888888888888,
             "#fdca26"
            ],
            [
             1,
             "#f0f921"
            ]
           ],
           "sequentialminus": [
            [
             0,
             "#0d0887"
            ],
            [
             0.1111111111111111,
             "#46039f"
            ],
            [
             0.2222222222222222,
             "#7201a8"
            ],
            [
             0.3333333333333333,
             "#9c179e"
            ],
            [
             0.4444444444444444,
             "#bd3786"
            ],
            [
             0.5555555555555556,
             "#d8576b"
            ],
            [
             0.6666666666666666,
             "#ed7953"
            ],
            [
             0.7777777777777778,
             "#fb9f3a"
            ],
            [
             0.8888888888888888,
             "#fdca26"
            ],
            [
             1,
             "#f0f921"
            ]
           ]
          },
          "colorway": [
           "#636efa",
           "#EF553B",
           "#00cc96",
           "#ab63fa",
           "#FFA15A",
           "#19d3f3",
           "#FF6692",
           "#B6E880",
           "#FF97FF",
           "#FECB52"
          ],
          "font": {
           "color": "#2a3f5f"
          },
          "geo": {
           "bgcolor": "white",
           "lakecolor": "white",
           "landcolor": "#E5ECF6",
           "showlakes": true,
           "showland": true,
           "subunitcolor": "white"
          },
          "hoverlabel": {
           "align": "left"
          },
          "hovermode": "closest",
          "mapbox": {
           "style": "light"
          },
          "paper_bgcolor": "white",
          "plot_bgcolor": "#E5ECF6",
          "polar": {
           "angularaxis": {
            "gridcolor": "white",
            "linecolor": "white",
            "ticks": ""
           },
           "bgcolor": "#E5ECF6",
           "radialaxis": {
            "gridcolor": "white",
            "linecolor": "white",
            "ticks": ""
           }
          },
          "scene": {
           "xaxis": {
            "backgroundcolor": "#E5ECF6",
            "gridcolor": "white",
            "gridwidth": 2,
            "linecolor": "white",
            "showbackground": true,
            "ticks": "",
            "zerolinecolor": "white"
           },
           "yaxis": {
            "backgroundcolor": "#E5ECF6",
            "gridcolor": "white",
            "gridwidth": 2,
            "linecolor": "white",
            "showbackground": true,
            "ticks": "",
            "zerolinecolor": "white"
           },
           "zaxis": {
            "backgroundcolor": "#E5ECF6",
            "gridcolor": "white",
            "gridwidth": 2,
            "linecolor": "white",
            "showbackground": true,
            "ticks": "",
            "zerolinecolor": "white"
           }
          },
          "shapedefaults": {
           "line": {
            "color": "#2a3f5f"
           }
          },
          "ternary": {
           "aaxis": {
            "gridcolor": "white",
            "linecolor": "white",
            "ticks": ""
           },
           "baxis": {
            "gridcolor": "white",
            "linecolor": "white",
            "ticks": ""
           },
           "bgcolor": "#E5ECF6",
           "caxis": {
            "gridcolor": "white",
            "linecolor": "white",
            "ticks": ""
           }
          },
          "title": {
           "x": 0.05
          },
          "xaxis": {
           "automargin": true,
           "gridcolor": "white",
           "linecolor": "white",
           "ticks": "",
           "title": {
            "standoff": 15
           },
           "zerolinecolor": "white",
           "zerolinewidth": 2
          },
          "yaxis": {
           "automargin": true,
           "gridcolor": "white",
           "linecolor": "white",
           "ticks": "",
           "title": {
            "standoff": 15
           },
           "zerolinecolor": "white",
           "zerolinewidth": 2
          }
         }
        },
        "width": 900,
        "xaxis": {
         "anchor": "y",
         "domain": [
          0,
          0.94
         ],
         "gridcolor": "#1f292f",
         "nticks": 5,
         "rangeslider": {
          "visible": false
         }
        },
        "yaxis": {
         "anchor": "x",
         "domain": [
          0,
          1
         ],
         "gridcolor": "#1f292f"
        },
        "yaxis2": {
         "anchor": "x",
         "gridcolor": "#1f292f",
         "overlaying": "y",
         "side": "right"
        }
       }
      }
     },
     "metadata": {},
     "output_type": "display_data"
    }
   ],
   "source": [
    "df_plot = df_slim.iloc[2068:2080]\n",
    "cp = CandlePlot(df_plot, candles=True)\n",
    "\n",
    "trades = cp.df_plot[cp.df_plot.SIGNAL != NONE]\n",
    "markers = ['mid_c', 'TP', 'SL']\n",
    "marker_colors = [\"#0000FF\", \"#00FF00\", \"#FF0000\"]\n",
    "for i in range(3):\n",
    "    cp.fig.add_trace(go.Scatter(\n",
    "        x = trades.sTime,\n",
    "        y = trades[markers[i]],\n",
    "        mode = 'markers',\n",
    "        marker = dict(color=marker_colors[i], size=12)\n",
    "    ))\n",
    "cp.show_plot(line_traces=[\"EMA_200\"], sec_traces=['RSI_14'])"
   ]
  },
  {
   "cell_type": "code",
   "execution_count": null,
   "id": "9ba362bf",
   "metadata": {},
   "outputs": [],
   "source": [
    "open_trades = []\n",
    "for index, row in df_slim.iterrows():\n",
    "    "
   ]
  },
  {
   "cell_type": "code",
   "execution_count": 54,
   "id": "7ee49ce8",
   "metadata": {},
   "outputs": [
    {
     "ename": "AttributeError",
     "evalue": "'DataFrame' object has no attribute 'arl'",
     "output_type": "error",
     "traceback": [
      "\u001b[31m---------------------------------------------------------------------------\u001b[39m",
      "\u001b[31mAttributeError\u001b[39m                            Traceback (most recent call last)",
      "\u001b[32m/var/folders/gv/_rtdp3yj3j35v32k7qgb1bg80000gn/T/ipykernel_89778/738626030.py\u001b[39m in \u001b[36m?\u001b[39m\u001b[34m()\u001b[39m\n\u001b[32m----> \u001b[39m\u001b[32m1\u001b[39m df_raw.arl()\n",
      "\u001b[32m~/Desktop/trading/algo-forex-trading/.pixi/envs/default/lib/python3.13/site-packages/pandas/core/generic.py\u001b[39m in \u001b[36m?\u001b[39m\u001b[34m(self, name)\u001b[39m\n\u001b[32m   6314\u001b[39m             \u001b[38;5;28;01mand\u001b[39;00m name \u001b[38;5;28;01mnot\u001b[39;00m \u001b[38;5;28;01min\u001b[39;00m self._accessors\n\u001b[32m   6315\u001b[39m             \u001b[38;5;28;01mand\u001b[39;00m self._info_axis._can_hold_identifiers_and_holds_name(name)\n\u001b[32m   6316\u001b[39m         ):\n\u001b[32m   6317\u001b[39m             \u001b[38;5;28;01mreturn\u001b[39;00m self[name]\n\u001b[32m-> \u001b[39m\u001b[32m6318\u001b[39m         \u001b[38;5;28;01mreturn\u001b[39;00m object.__getattribute__(self, name)\n",
      "\u001b[31mAttributeError\u001b[39m: 'DataFrame' object has no attribute 'arl'"
     ]
    }
   ],
   "source": [
    "df_raw.arl()"
   ]
  },
  {
   "cell_type": "code",
   "execution_count": null,
   "id": "793c98bc",
   "metadata": {},
   "outputs": [],
   "source": []
  }
 ],
 "metadata": {
  "kernelspec": {
   "display_name": "default",
   "language": "python",
   "name": "python3"
  },
  "language_info": {
   "codemirror_mode": {
    "name": "ipython",
    "version": 3
   },
   "file_extension": ".py",
   "mimetype": "text/x-python",
   "name": "python",
   "nbconvert_exporter": "python",
   "pygments_lexer": "ipython3",
   "version": "3.13.5"
  }
 },
 "nbformat": 4,
 "nbformat_minor": 5
}
